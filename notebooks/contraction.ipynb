{
 "cells": [
  {
   "cell_type": "code",
   "execution_count": 3,
   "id": "2862ff33-9c10-417c-aa27-6fbb10ca265c",
   "metadata": {},
   "outputs": [],
   "source": [
    "from sympy import *\n",
    "from sympy.printing import print_ccode\n",
    "from sympy.combinatorics.permutations import Permutation\n",
    "init_printing()\n",
    "import numpy as np\n",
    "from copy import deepcopy\n",
    "import itertools\n",
    "\n",
    "\n",
    "def gamma5(a,b):\n",
    "    G5=np.array([np.array([1,0,0,0]),  \n",
    "                np.array([0,1,0,0]),  \n",
    "                np.array([0,0,-1,0]),   \n",
    "                np.array([0,0,0,-1])\n",
    "               ])\n",
    "    return G5[a][b]\n",
    "\n",
    "\n",
    "anti={}\n",
    "anti['s']='sb'\n",
    "anti['sb']='s'\n",
    "anti['u']='ub'\n",
    "anti['ub']='u'\n",
    "anti['d']='db'\n",
    "anti['db']='d'\n",
    "anti['c']='cb'\n",
    "anti['cb']='c'\n",
    "\n",
    "latex={}\n",
    "latex['s']='s'\n",
    "latex['sb']='\\overline{s}'\n",
    "latex['u']='u'\n",
    "latex['ub']='\\overline{u}'\n",
    "latex['d']='d'\n",
    "latex['db']='\\overline{d}'\n",
    "\n",
    "def find(array,value):\n",
    "    for i,a in enumerate(array):\n",
    "        if a==value:\n",
    "            return i\n",
    "    return -1\n",
    "\n",
    "def color_permutation(C1,C2,color1,color2):\n",
    "    \n",
    "    \n",
    "    COLOR1=[]\n",
    "    pos1=[]\n",
    "    for ic1,c1 in enumerate(C1):\n",
    "        if c1 in color1:\n",
    "            COLOR1.append(c1)\n",
    "            pos1.append(ic1)\n",
    "    \n",
    "    index1=np.argsort(COLOR1)\n",
    "    new_pos1=np.array(pos1)[index1]\n",
    "    perm1=Permutation(index1)\n",
    "    sign1=perm1.signature()\n",
    "    \n",
    "    COLOR2=[]\n",
    "    pos2=[]\n",
    "    for ic2,c2 in enumerate(C2):\n",
    "        if c2 in color2:\n",
    "            COLOR2.append(c2)\n",
    "            pos2.append(ic2)\n",
    "    \n",
    "    index2=np.argsort(COLOR2)\n",
    "    new_pos2=np.array(pos2)[index2]\n",
    "    perm2=Permutation(index2)\n",
    "    sign2=perm2.signature()\n",
    "    \n",
    "    #print(index1,index2)\n",
    "    CC1=deepcopy(C1)\n",
    "    CC2=deepcopy(C2)\n",
    "    for p1,n1 in zip(pos1,new_pos1):\n",
    "        CC1[p1]=C1[n1]\n",
    "    for p2,n2 in zip(pos2,new_pos2):\n",
    "        CC2[p2]=C2[n2]\n",
    "    \n",
    "    #print(C1, CC1)\n",
    "    #print(C2, CC2)\n",
    "    color3=[]\n",
    "    for c1,c2 in zip(CC1,CC2):\n",
    "        color3.append(c1)\n",
    "        color3.append(c2)\n",
    "    \n",
    "    return sign1*sign2, color3\n",
    "            \n",
    "    \n",
    "def contraction(quark,i,output,OUTPUT):\n",
    "    #print(quark)\n",
    "    #all quark are contracted\n",
    "    FLAG=True\n",
    "    for q in quark:\n",
    "        if q in anti:\n",
    "            FLAG=False\n",
    "            break\n",
    "    if FLAG==True:\n",
    "        output2=deepcopy(output)\n",
    "        OUTPUT.append(output2)\n",
    "        return 0\n",
    "    if quark[i] not in anti:\n",
    "        contraction(quark,i+1,output,OUTPUT)\n",
    "    for k,q in enumerate(quark):\n",
    "        if q not in anti: continue\n",
    "        if quark[i]==anti[q]:\n",
    "            output.append([i,k])\n",
    "            quark[i]=quark[i].upper()\n",
    "            quark[k]=quark[k].upper()\n",
    "            contraction(quark,i+1,output,OUTPUT)\n",
    "            #print(quark)\n",
    "            output.pop(-1)\n",
    "            quark[i]=quark[i].lower()\n",
    "            quark[k]=quark[k].lower()\n",
    "            #print(quark)\n",
    "\n",
    "def print_propagator(OUTPUT,quark,spin,color,position,overall):\n",
    "    PRINT=0\n",
    "    cont=[]\n",
    "    for output2 in OUTPUT:\n",
    "        #print(quark)\n",
    "        output=deepcopy(output2)\n",
    "        #print(output)\n",
    "        quark2=[]\n",
    "        spin2=[]\n",
    "        color2=[]\n",
    "        position2=[]\n",
    "        output_flat=np.concatenate(output)\n",
    "        for out in output_flat:\n",
    "            quark2.append(quark[out])\n",
    "            spin2.append(spin[out])\n",
    "            color2.append(color[out])\n",
    "            position2.append(position[out])\n",
    "            \n",
    "        perm=Permutation(output_flat)\n",
    "        sign=perm.signature()\n",
    "        \n",
    "        for out1 in range(len(quark2))[::2]:\n",
    "            if quark2[out1].find('b') != -1:\n",
    "                quark2[out1],quark2[out1+1]=quark2[out1+1],quark2[out1]\n",
    "                spin2[out1],spin2[out1+1]=spin2[out1+1],spin2[out1]\n",
    "                color2[out1],color2[out1+1]=color2[out1+1],color2[out1]\n",
    "                position2[out1],position2[out1+1]=position2[out1+1],position2[out1]\n",
    "                sign*=-1\n",
    "        \n",
    "        PRINTING=''\n",
    "        print(quark2)\n",
    "        for iq, (q,s1,s2,c1,c2,x,y) in enumerate(zip(quark2[::2],spin2[::2],spin2[1::2],color2[::2],color2[1::2],position2[::2],position2[1::2])):\n",
    "            if q=='c':\n",
    "                PRINTING+='C_{'+s1+s2+';'+x+y+'}^{'+c1+c2+'}'\n",
    "            else:\n",
    "                PRINTING+='S_{'+s1+s2+';'+x+y+'}^{'+c1+c2+'}'\n",
    "            #PRINTING+='1'\n",
    "        PRINT+=sign*overall*symbols(PRINTING)\n",
    "    return PRINT\n",
    "    \n",
    "\n",
    "def print_propagator_with_diquark(OUTPUT,quark,spin,color,position,overall,diquark):\n",
    "    #OUTPUT=deepcopy(OUTPUT2)\n",
    "    PRINT_ALL=0\n",
    "\n",
    "    cont=[]\n",
    "    for output2 in OUTPUT:\n",
    "        output=deepcopy(output2)\n",
    "        # iteration for all spin combinations [(mu1,mu2),(nu1,nu2)] , -[(mu2,mu1),(nu1,nu2)] , -[(mu1,mu2),(nu2,nu1)] , [(mu2,mu1),(nu2,nu1)]\n",
    "        for index in list(itertools.product(range(len(diquark)),repeat=len(diquark))): \n",
    "            sign=1\n",
    "            if not sum(index)%2==0:\n",
    "                sign*=-1\n",
    "            spin2=deepcopy(spin)\n",
    "            for ind, di in zip(index,diquark):\n",
    "                new_di=list(itertools.permutations(di))[ind]\n",
    "                spin2[di[0]],spin2[di[1]]=spin[new_di[0]],spin[new_di[1]]\n",
    "                \n",
    "            \n",
    "            output_flat=np.concatenate(output)\n",
    "            QUARK,SPIN,COLOR,POSITION=[],[],[],[]\n",
    "            for k,out in enumerate(output_flat): #align quarks correspond to contraction\n",
    "                QUARK.append(quark[out])\n",
    "                SPIN.append(spin2[out])\n",
    "                COLOR.append(color[out])\n",
    "                POSITION.append(position[out])\n",
    "            \n",
    "            perm=Permutation(output_flat)\n",
    "            sign*=perm.signature()\n",
    "        \n",
    "            PRINT=1\n",
    "            for iq, (q,s1,s2,c1,c2,x,y) in enumerate(zip(QUARK[::2],SPIN[::2],SPIN[1::2],COLOR[::2],COLOR[1::2],POSITION[::2],POSITION[1::2])):\n",
    "                PRINTING='S_{'+s1+s2+';'+x+y+'}^{'+c1+c2+'}'\n",
    "                PRINT*=symbols(PRINTING)\n",
    "\n",
    "            PRINT2=sign*overall\n",
    "            PRINT_ALL+=PRINT2*PRINT\n",
    "    return PRINT_ALL\n",
    "\n",
    "def print_propagator_with_diquark_color(OUTPUT,quark,spin,color,position,overall,diquark, color_perm1, color_perm2):\n",
    "    \n",
    "    PRINT_ALL=0\n",
    "\n",
    "    cont=[]\n",
    "    for output2 in OUTPUT:\n",
    "        output=deepcopy(output2)\n",
    "        # iteration for all spin combinations [(mu1,mu2),(nu1,nu2)] , -[(mu2,mu1),(nu1,nu2)] , -[(mu1,mu2),(nu2,nu1)] , [(mu2,mu1),(nu2,nu1)]\n",
    "        for index in list(itertools.product(range(len(diquark)),repeat=len(diquark))):\n",
    "            sign=1\n",
    "            if not sum(index)%2==0:\n",
    "                sign*=-1\n",
    "            spin2=deepcopy(spin)\n",
    "            for ind, di in zip(index,diquark):\n",
    "                new_di=list(itertools.permutations(di))[ind]\n",
    "                spin2[di[0]],spin2[di[1]]=spin[new_di[0]],spin[new_di[1]]\n",
    "            \n",
    "            output_flat=np.concatenate(output)\n",
    "            QUARK,SPIN,COLOR,POSITION=[],[],[],[]\n",
    "            for k,out in enumerate(output_flat): #align quarks correspond to contraction\n",
    "                QUARK.append(quark[out])\n",
    "                SPIN.append(spin2[out])\n",
    "                COLOR.append(color[out])\n",
    "                POSITION.append(position[out])\n",
    "            \n",
    "            perm=Permutation(output_flat)\n",
    "            sign*=perm.signature()\n",
    "            \n",
    "            # color ordering and compute sign from epsilon^{abc} epsilon^{a'b'c'} \n",
    "            COLOR1,COLOR2=COLOR[::2],COLOR[1::2] \n",
    "        \n",
    "            sign_eps,COLOR3=color_permutation(COLOR1,COLOR2,color_perm1,color_perm2)\n",
    "            \n",
    "            # print(QUARK)\n",
    "            # print(SPIN)\n",
    "            # print(COLOR3)\n",
    "            # print(POSITION)\n",
    "            \n",
    "            \n",
    "            PRINT=1\n",
    "            for iq, (q,s1,s2,c1,c2,x,y) in enumerate(zip(QUARK[::2],SPIN[::2],SPIN[1::2],COLOR3[::2],COLOR3[1::2],POSITION[::2],POSITION[1::2])):\n",
    "                #PRINTING='S_{'+s1+s2+';'+x+y+'}^{'+c1+c2+'}'\n",
    "                PRINTING='S_{'+s1+s2+';'+x+y+'}'\n",
    "                #PRINTING='1'\n",
    "                PRINT*=symbols(PRINTING)\n",
    "            PRINT2=sign*sign_eps*overall\n",
    "            PRINT_ALL+=PRINT2*PRINT\n",
    "    return PRINT_ALL\n",
    "\n",
    "    \n",
    "    \n",
    "    \n",
    "    \n",
    "    \n",
    "    \n",
    "#     #OUTPUT=deepcopy(OUTPUT2)\n",
    "#     PRINT_ALL=0\n",
    "\n",
    "#     cont=[]\n",
    "#     for output in OUTPUT:\n",
    "#         #output=deepcopy(output2)\n",
    "        \n",
    "#         for index in list(itertools.product(range(len(diquark)),repeat=len(diquark))):\n",
    "        \n",
    "#             sign=1\n",
    "            \n",
    "#             if not sum(index)%2==0:\n",
    "            \n",
    "#                 sign*=-1\n",
    "            \n",
    "#             spin2=deepcopy(spin)\n",
    "#             for ind, di in zip(index,diquark):\n",
    "            \n",
    "#                 new_di=list(itertools.permutations(di))[ind]\n",
    "#                 spin2[di[0]],spin2[di[1]]=spin[new_di[0]],spin[new_di[1]]\n",
    "\n",
    "                \n",
    "                \n",
    "#             COLOR1,COLOR2=[],[]\n",
    "#             for out2 in output:\n",
    "#                 out=deepcopy(out2)                \n",
    "#                 COLOR1.append(color[out[0]])\n",
    "#                 COLOR2.append(color[out[1]])\n",
    "            \n",
    "#             sign_eps,color2=color_permutation(COLOR1,COLOR2,color_perm1,color_perm2)\n",
    "            \n",
    "#             #sign=sign*sign_eps\n",
    "            \n",
    "#             PRINT3=1\n",
    "#             for k,out2 in enumerate(output):\n",
    "#                 out=deepcopy(out2)\n",
    "            \n",
    "#                 if quark[out[0]].find('b') != -1:\n",
    "#                     out[0],out[1]=out[1],out[0]\n",
    "#                     sign*=-1\n",
    "#                 perm=Permutation(np.concatenate(output))\n",
    "#                 sign*=perm.signature()\n",
    "#                 #sign*=(-1)**(abs(out[1]-out[0])+1)\n",
    "                \n",
    "#                 #PRINT='S_{'+spin2[out[0]]+spin2[out[1]]+';'+position[out[0]]+position[out[1]]+'}^{'+color2[2*k]+color2[2*k+1]+'}'\n",
    "#                 PRINT='S^{'+spin2[out[0]]+spin2[out[1]]+'}_{'+position[out[0]]+position[out[1]]+'}'\n",
    "#                 #if spin2[out[1]]=='\\\\alpha':\n",
    "# #                    PRINT+='\\gamma_{5}^{\\\\alpha\\\\beta}'\n",
    "# #                if spin2[out[1]]=='\\\\sigma':\n",
    "# #                    PRINT+='\\gamma_{5}^{\\\\sigma\\\\rho}'\n",
    "                \n",
    "#                 PRINT3*=symbols(PRINT)\n",
    "#             #perm=Permutation(np.concatenate(output))\n",
    "#             #sign*=perm.signature()\n",
    "    \n",
    "#             PRINT2=sign*sign_eps*overall\n",
    "            \n",
    "#             PRINT_ALL+=PRINT2*PRINT3\n",
    "       \n",
    "#     return PRINT_ALL"
   ]
  },
  {
   "cell_type": "code",
   "execution_count": 2,
   "id": "d4bc5b18-060e-40e5-8bd5-477c85b44a5f",
   "metadata": {
    "jupyter": {
     "source_hidden": true
    },
    "tags": []
   },
   "outputs": [],
   "source": [
    "def print_Trace(OUTPUT,quark,spin,color,position,overall,diquark,spin_pair):\n",
    "    PRINT_ALL=0\n",
    "    \n",
    "    SIGN=[]\n",
    "    for output in OUTPUT:\n",
    "        sign=1\n",
    "        for out in output:\n",
    "\n",
    "            if quark[out[0]].find('b') != -1:\n",
    "                out[0],out[1]=out[1],out[0]\n",
    "                sign*=-1\n",
    "\n",
    "            sign*=(-1)**(abs(out[1]-out[0])+1)\n",
    "        SIGN.append(sign)\n",
    "\n",
    "    output_flat=[]\n",
    "    for sign,output in zip(SIGN,OUTPUT):\n",
    "        sign2=deepcopy(sign)\n",
    "        flat=np.concatenate(output)\n",
    "        spin2=deepcopy(np.array(spin)[flat])\n",
    "        flat=list(flat)\n",
    "        diquark2=[]\n",
    "        for di in diquark:\n",
    "            diquark2.append([flat.index(di[0]),flat.index(di[1])])\n",
    "        spin_pair2=[]\n",
    "        for s in spin_pair:\n",
    "            spin_pair2.append([flat.index(s[0]),flat.index(s[1])])\n",
    "        spin_pair2=list(np.concatenate(spin_pair2))\n",
    "\n",
    "        for index in list(itertools.product(range(len(diquark2)),repeat=len(diquark2))):\n",
    "            sign3=deepcopy(sign2)\n",
    "            spin3=deepcopy(spin2)\n",
    "            spin_pair3=deepcopy(spin_pair2)\n",
    "\n",
    "            if not sum(index)%2==0:\n",
    "                sign3*=-1\n",
    "            for ind, di in zip(index,diquark2):\n",
    "\n",
    "                new_di=list(itertools.permutations(di))[ind]\n",
    "\n",
    "                spin3[di[0]],spin3[di[1]]=spin2[new_di[0]],spin2[new_di[1]]\n",
    "                spin_pair3[spin_pair2.index(di[0])],spin_pair3[spin_pair2.index(di[1])]=new_di[0],new_di[1]\n",
    "\n",
    "            quark2=np.array(quark)[flat]\n",
    "            position2=np.array(position)[flat]\n",
    "            color2=np.array(color)[flat]\n",
    "\n",
    "            Trace=[[]]\n",
    "            start=0\n",
    "            while(start < len(quark)):\n",
    "                q_start=start\n",
    "                s_index=spin_pair3.index(q_start+1)  \n",
    "                Trace[-1].append(q_start) \n",
    "                Trace[-1].append(q_start+1) \n",
    "                while(q_start < len(quark)):\n",
    "\n",
    "                    if s_index%2==0:\n",
    "                        s_index2=s_index+1 \n",
    "                    else:\n",
    "                        s_index2=s_index-1            \n",
    "                    if spin_pair3[s_index2]==q_start: \n",
    "                        break   \n",
    "\n",
    "                    Trace[-1].append(spin_pair3[s_index2])   \n",
    "                    Trace[-1].append(spin_pair3[s_index2]+1) \n",
    "\n",
    "                    s_index=spin_pair3.index((spin_pair3[s_index2]+1)%len(quark))\n",
    "                if q_start >= len(quark):\n",
    "                    break\n",
    "                while(start < len(quark)):\n",
    "                    start+=2\n",
    "\n",
    "                    if start >= len(quark):\n",
    "                        break\n",
    "\n",
    "                    FLAG=False\n",
    "                    for tr in Trace:\n",
    "                        if find(tr,start) != -1:\n",
    "                            FLAG=True  #find\n",
    "                    if FLAG==False :\n",
    "                        break\n",
    "                if start >= len(quark):\n",
    "                    break\n",
    "                Trace.append([])\n",
    "\n",
    "            # if sign3==1:\n",
    "            #     PRINT2=symbols('1')\n",
    "            # else:\n",
    "            #     PRINT2=symbols('-1')\n",
    "            PRINT2=sign3*overall #symbols(overall)\n",
    "            PRINT=''\n",
    "            for Tr in Trace:\n",
    "                \n",
    "                PRINT+='Tr['\n",
    "                for tr in Tr[::2]:\n",
    "                    PRINT+='S^{'+color2[tr]+color2[tr+1]+'}_{'+position2[tr]+position2[tr+1]+'}'\n",
    "                    if spin3[tr+1]=='\\\\alpha' or spin3[tr+1]=='\\\\sigma':\n",
    "                        PRINT+='\\gamma_{5}'\n",
    "                PRINT+=']'\n",
    "                #print(PRINT)\n",
    "            #print(PRINT)\n",
    "            #print('')\n",
    "            PRINT_ALL+=PRINT2*symbols(PRINT)\n",
    "            \n",
    "    return PRINT_ALL\n",
    "            \n",
    "def print_Trace_color(OUTPUT,quark,spin,color,position,overall,diquark,spin_pair,color_cont1,color_cont2):\n",
    "    PRINT_ALL=0\n",
    "    \n",
    "    SIGN=[]\n",
    "    for output in OUTPUT:\n",
    "        sign=1\n",
    "        for out in output:\n",
    "\n",
    "            if quark[out[0]].find('b') != -1:\n",
    "                out[0],out[1]=out[1],out[0]\n",
    "                sign*=-1\n",
    "\n",
    "            sign*=(-1)**(abs(out[1]-out[0])+1)\n",
    "        SIGN.append(sign)\n",
    "\n",
    "    output_flat=[]\n",
    "    for sign,output in zip(SIGN,OUTPUT):\n",
    "        sign2=deepcopy(sign)\n",
    "        flat=np.concatenate(output)\n",
    "        spin2=deepcopy(np.array(spin)[flat])\n",
    "        flat=list(flat)\n",
    "        diquark2=[]\n",
    "        for di in diquark:\n",
    "            diquark2.append([flat.index(di[0]),flat.index(di[1])])\n",
    "        spin_pair2=[]\n",
    "        for s in spin_pair:\n",
    "            spin_pair2.append([flat.index(s[0]),flat.index(s[1])])\n",
    "        spin_pair2=list(np.concatenate(spin_pair2))\n",
    "\n",
    "        for index in list(itertools.product(range(len(diquark2)),repeat=len(diquark2))):\n",
    "            sign3=deepcopy(sign2)\n",
    "            spin3=deepcopy(spin2)\n",
    "            spin_pair3=deepcopy(spin_pair2)\n",
    "\n",
    "            if not sum(index)%2==0:\n",
    "                sign3*=-1\n",
    "            for ind, di in zip(index,diquark2):\n",
    "\n",
    "                new_di=list(itertools.permutations(di))[ind]\n",
    "\n",
    "                spin3[di[0]],spin3[di[1]]=spin2[new_di[0]],spin2[new_di[1]]\n",
    "                spin_pair3[spin_pair2.index(di[0])],spin_pair3[spin_pair2.index(di[1])]=new_di[0],new_di[1]\n",
    "\n",
    "            quark2=np.array(quark)[flat]\n",
    "            position2=np.array(position)[flat]\n",
    "            color2=np.array(color)[flat]\n",
    "\n",
    "            Trace=[[]]\n",
    "            start=0\n",
    "            while(start < len(quark)):\n",
    "                q_start=start\n",
    "                s_index=spin_pair3.index(q_start+1)  \n",
    "                Trace[-1].append(q_start) \n",
    "                Trace[-1].append(q_start+1) \n",
    "                while(q_start < len(quark)):\n",
    "\n",
    "                    if s_index%2==0:\n",
    "                        s_index2=s_index+1 \n",
    "                    else:\n",
    "                        s_index2=s_index-1            \n",
    "                    if spin_pair3[s_index2]==q_start: \n",
    "                        break   \n",
    "\n",
    "                    Trace[-1].append(spin_pair3[s_index2])   \n",
    "                    Trace[-1].append(spin_pair3[s_index2]+1) \n",
    "\n",
    "                    s_index=spin_pair3.index((spin_pair3[s_index2]+1)%len(quark))\n",
    "                if q_start >= len(quark):\n",
    "                    break\n",
    "                while(start < len(quark)):\n",
    "                    start+=2\n",
    "\n",
    "                    if start >= len(quark):\n",
    "                        break\n",
    "\n",
    "                    FLAG=False\n",
    "                    for tr in Trace:\n",
    "                        if find(tr,start) != -1:\n",
    "                            FLAG=True  #find\n",
    "                    if FLAG==False :\n",
    "                        break\n",
    "                if start >= len(quark):\n",
    "                    break\n",
    "                Trace.append([])\n",
    "\n",
    "            # if sign3==1:\n",
    "            #     PRINT2=symbols('1')\n",
    "            # else:\n",
    "            #     PRINT2=symbols('-1')\n",
    "            #epsilon abc permutation\n",
    "            COLOR1,COLOR2=[],[]\n",
    "            for Tr in Trace:\n",
    "                for tr in Tr[::2]:\n",
    "                    COLOR1.append(color2[tr])\n",
    "                    COLOR2.append(color2[tr+1])\n",
    "            sign_eps,color3=color_permutation(COLOR1,COLOR2,color_cont1,color_cont2)\n",
    "            \n",
    "            \n",
    "            PRINT2=sign3*sign_eps*overall #symbols(overall)\n",
    "            PRINT3=1\n",
    "            #PRINT=''\n",
    "            for Tr in Trace:\n",
    "                PRINT='Tr['\n",
    "                for tr in Tr[::2]:\n",
    "                    #PRINT+='S^{'+color3[tr]+color3[tr+1]+'}_{'+position2[tr]+position2[tr+1]+'}'\n",
    "                    PRINT+='S_{'+position2[tr]+position2[tr+1]+'}'\n",
    "                    if spin3[tr+1]=='\\\\alpha' or spin3[tr+1]=='\\\\sigma':\n",
    "                        PRINT+='\\gamma_{5}'\n",
    "                PRINT+=']'\n",
    "                PRINT3*=symbols(PRINT)\n",
    "                #print(PRINT)\n",
    "            #print(PRINT)\n",
    "            #print('')\n",
    "            PRINT_ALL+=PRINT2*PRINT3 #symbols(PRINT)\n",
    "            \n",
    "    return PRINT_ALL\n",
    "\n",
    "    "
   ]
  },
  {
   "cell_type": "code",
   "execution_count": 73,
   "id": "2525d353-b924-47d2-b302-13f35cb8079f",
   "metadata": {},
   "outputs": [
    {
     "data": {
      "image/png": "[encoded data removed]",
      "text/latex": [
       "$\\displaystyle - S_{\\mu_2\\mu_1;y'y'}^{aa}S_{\\nu_2\\mu_3;xy}^{cb}C_{\\mu_4\\nu_1;yx}^{bc}S_{\\nu_4\\nu_3;xx}^{dd} + S_{\\mu_2\\mu_1;y'y'}^{aa}S_{\\nu_4\\mu_3;xy}^{db}C_{\\mu_4\\nu_1;yx}^{bc}S_{\\nu_2\\nu_3;xx}^{cd} + S_{\\nu_2\\mu_1;xy'}^{ca}S_{\\mu_2\\mu_3;y'y}^{ab}C_{\\mu_4\\nu_1;yx}^{bc}S_{\\nu_4\\nu_3;xx}^{dd} - S_{\\nu_2\\mu_1;xy'}^{ca}S_{\\nu_3\\mu_2;xy'}^{da}S_{\\mu_3\\nu_4;yx}^{bd}C_{\\mu_4\\nu_1;yx}^{bc} - S_{\\nu_4\\mu_1;xy'}^{da}S_{\\mu_2\\mu_3;y'y}^{ab}C_{\\mu_4\\nu_1;yx}^{bc}S_{\\nu_2\\nu_3;xx}^{cd} + S_{\\nu_4\\mu_1;xy'}^{da}S_{\\nu_3\\mu_2;xy'}^{da}S_{\\mu_3\\nu_2;yx}^{bc}C_{\\mu_4\\nu_1;yx}^{bc}$"
      ],
      "text/plain": [
       "-S_{\\mu_2\\mu_1;y'y'}_{\\nu_2\\mu_3;xy}_{\\mu_4\\nu_1;yx}_{\\nu_4\\nu_3;xx}__{aa}S__{cb}\n",
       "C__{bc}S__{dd} + S_{\\mu_2\\mu_1;y'y'}_{\\nu_4\\mu_3;xy}_{\\mu_4\\nu_1;yx}_{\\nu_2\\nu_3;\n",
       "xx}__{aa}S__{db}C__{bc}S__{cd} + S_{\\nu_2\\mu_1;xy'}_{\\mu_2\\mu_3;y'y}_{\\mu_4\\nu_1;\n",
       "yx}_{\\nu_4\\nu_3;xx}__{ca}S__{ab}C__{bc}S__{dd} - S_{\\nu_2\\mu_1;xy'}_{\\nu_3\\mu_2;x\n",
       "y'}_{\\mu_3\\nu_4;yx}_{\\mu_4\\nu_1;yx}__{ca}S__{da}S__{bd}C__{bc} - S_{\\nu_4\\mu_1;xy\n",
       "'}_{\\mu_2\\mu_3;y'y}_{\\mu_4\\nu_1;yx}_{\\nu_2\\nu_3;xx}__{da}S__{ab}C__{bc}S__{cd} + \n",
       "S_{\\nu_4\\mu_1;xy'}_{\\nu_3\\mu_2;xy'}_{\\mu_3\\nu_2;yx}_{\\mu_4\\nu_1;yx}__{da}S__{da}S\n",
       "__{bc}C__{bc}"
      ]
     },
     "metadata": {},
     "output_type": "display_data"
    }
   ],
   "source": [
    "\n",
    "overall=1 #symbols('\\Gamma_{\\mu_1 \\mu_2} \\Gamma_{\\mu_3 \\mu_4} \\Gamma_{\\nu_3 \\nu_4} \\Gamma_{\\nu_1 \\nu_2}') #*symbols('\\epsilon_{abc}\\epsilon_{a\\'b\\'c\\'}')\n",
    "\n",
    "position=['y\\'','y\\'','y','y','x','x','x','x']\n",
    "spin=['\\\\mu_1','\\\\mu_2','\\\\mu_3','\\\\mu_4','\\\\nu_1','\\\\nu_2','\\\\nu_3','\\\\nu_4']\n",
    "#spin=['1','2','1','1','2','1']\n",
    "color=['a','a','b','b','c','c','d','d']\n",
    "#color=['2','1','0','0','1','2']\n",
    "quark=['sb','s','sb','c','cb','s','sb','s']\n",
    "\n",
    "#diquark=[[1,2],[3,4]]\n",
    "#diquark=[]\n",
    "#spin_pair=[[0,5],[1,4],[2,3]]\n",
    "#color1=['a','b']\n",
    "#color2=['a\\'','b\\'']\n",
    "#color1=['0','1','2']\n",
    "#color2=['0','1','2']\n",
    "\n",
    "output=[]\n",
    "OUTPUT=[]\n",
    "\n",
    "contraction(quark,0,output,OUTPUT)\n",
    "\n",
    "#print(OUTPUT)\n",
    "#PRINT=print_Trace_color(OUTPUT,quark,spin,color,position,overall2,diquark,spin_pair,color1,color2)\n",
    "#display(simplify(PRINT))\n",
    "\n",
    "#PRINT=print_propagator_with_diquark_color(OUTPUT,quark,spin,color,position,overall2,diquark, color1, color2)\n",
    "#display(simplify(PRINT))\n",
    "\n",
    "\n",
    "\n",
    "display(print_propagator(OUTPUT,quark,spin,color,position,overall))\n",
    "\n"
   ]
  },
  {
   "cell_type": "markdown",
   "id": "00b31058-3e40-47f1-bc98-e5ed9e4ccdf5",
   "metadata": {},
   "source": [
    "# Test $D \\pi$"
   ]
  },
  {
   "cell_type": "markdown",
   "id": "991e5f7c-5d13-43d9-be66-eef3cdd8ea42",
   "metadata": {},
   "source": [
    "# 15 state"
   ]
  },
  {
   "cell_type": "code",
   "execution_count": 11,
   "id": "9772c053-f6db-4e2b-b4e6-e5fb611e9d02",
   "metadata": {
    "tags": []
   },
   "outputs": [
    {
     "name": "stdout",
     "output_type": "stream",
     "text": [
      "['d', 'db', 'c', 'cb', 'd', 'db', 'u', 'ub']\n",
      "['d', 'db', 'c', 'cb', 'd', 'db', 'u', 'ub']\n"
     ]
    },
    {
     "data": {
      "image/png": "[encoded data removed]",
      "text/latex": [
       "$\\displaystyle 0$"
      ],
      "text/plain": [
       "0"
      ]
     },
     "metadata": {},
     "output_type": "display_data"
    }
   ],
   "source": [
    "\n",
    "overall=1 #'\\Gamma_{\\mu_1 \\mu_2} \\Gamma_{\\mu_3 \\mu_4} \\Gamma_{\\nu_3 \\nu_4} \\Gamma_{\\nu_1 \\nu_2}' #*symbols('\\epsilon_{abc}\\epsilon_{a\\'b\\'c\\'}')\n",
    "\n",
    "position=['y','y','y','y','x','x','x','x']\n",
    "spin=['\\\\mu_1','\\\\mu_2','\\\\mu_3','\\\\mu_4','\\\\nu_4','\\\\nu_3','\\\\nu_2','\\\\nu_1']\n",
    "#spin=['1','2','1','1','2','1']\n",
    "color=['c','c','b','b','b\\'','b\\'','c\\'','c\\'']\n",
    "#color=['2','1','0','0','1','2']\n",
    "quark=['db','c','db','u','ub','d','cb','d']\n",
    "\n",
    "#diquark=[[1,2],[3,4]]\n",
    "#diquark=[]\n",
    "#spin_pair=[[0,5],[1,4],[2,3]]\n",
    "#color1=['a','b']\n",
    "#color2=['a\\'','b\\'']\n",
    "#color1=['0','1','2']\n",
    "#color2=['0','1','2']\n",
    "\n",
    "output=[]\n",
    "OUTPUT=[]\n",
    "\n",
    "contraction(quark,0,output,OUTPUT)\n",
    "\n",
    "#print(OUTPUT)\n",
    "#PRINT=print_Trace_color(OUTPUT,quark,spin,color,position,overall2,diquark,spin_pair,color1,color2)\n",
    "#display(simplify(PRINT))\n",
    "\n",
    "#PRINT=print_propagator_with_diquark_color(OUTPUT,quark,spin,color,position,overall2,diquark, color1, color2)\n",
    "#display(simplify(PRINT))\n",
    "\n",
    "\n",
    "\n",
    "display(print_propagator(OUTPUT,quark,spin,color,position,overall))\n",
    "\n",
    "\n",
    "\n",
    "# for a in ['0','1','2']:\n",
    "#     color[2]=a\n",
    "#     for b in ['0','1','2']:\n",
    "#         if a==b: continue\n",
    "#         color[1]=b\n",
    "#         for c in ['0','1','2']:\n",
    "#             if c==a or c==b: continue\n",
    "#             color[0]=c\n",
    "#             for aa in ['0','1','2']:\n",
    "#                 color[3]=aa\n",
    "#                 for bb in ['0','1','2']:\n",
    "#                     if aa==bb: continue\n",
    "#                     color[4]=bb\n",
    "#                     for cc in ['0','1','2']:\n",
    "#                         if cc==aa or cc==bb: continue\n",
    "#                         color[5]=cc\n",
    "#                         #print(color)\n",
    "#                         perm1=Permutation(color[:3])\n",
    "#                         perm2=Permutation(color[3:])\n",
    "\n",
    "#                         sign1=perm1.signature()\n",
    "#                         sign2=perm2.signature()\n",
    "#                         #print(sign1, sign2)\n",
    "                        \n",
    "#                         PRINT2=sign1*sign2*print_propagator_with_diquark_color(OUTPUT,quark,spin,color,position,overall2,diquark, color1, color2)\n",
    "#                         #display(PRINT2)\n",
    "#                         PRINT+=PRINT2\n",
    "#display(simplify(PRINT))\n"
   ]
  },
  {
   "cell_type": "markdown",
   "id": "7df7ee66-2ce5-4050-b15e-c856527fe6fb",
   "metadata": {},
   "source": [
    "# 6 state"
   ]
  },
  {
   "cell_type": "code",
   "execution_count": 10,
   "id": "c2286328-3e6e-4dcc-b63b-3f2db761d95a",
   "metadata": {},
   "outputs": [
    {
     "name": "stdout",
     "output_type": "stream",
     "text": [
      "['s', 'sb', 'c', 'cb', 'd', 'db', 'u', 'ub']\n",
      "['d', 'db', 'c', 'cb', 's', 'sb', 'u', 'ub']\n",
      "['s', 'sb', 'c', 'cb', 'd', 'db', 'u', 'ub']\n",
      "['d', 'db', 'c', 'cb', 's', 'sb', 'u', 'ub']\n"
     ]
    },
    {
     "data": {
      "image/png": "[encoded data removed]",
      "text/latex": [
       "$\\displaystyle 2.0 \\cdot 1111$"
      ],
      "text/plain": [
       "2.0⋅1111"
      ]
     },
     "metadata": {},
     "output_type": "display_data"
    }
   ],
   "source": [
    "\n",
    "position=['y','y','y','y','x','x','x','x']\n",
    "spin=['\\\\mu_1','\\\\mu_2','\\\\mu_3','\\\\mu_4','\\\\nu_4','\\\\nu_3','\\\\nu_2','\\\\nu_1']\n",
    "#spin=['1','2','1','1','2','1']\n",
    "color=['c','c','b','b','b\\'','b\\'','c\\'','c\\'']\n",
    "#color=['2','1','0','0','1','2']\n",
    "quark1=['sb','c','db','u','ub','d','cb','s']\n",
    "quark2=['db','c','sb','u','ub','s','cb','d']\n",
    "quark3=['sb','c','db','u','ub','s','cb','d']\n",
    "quark4=['db','c','sb','u','ub','d','cb','s']\n",
    "\n",
    "#diquark=[[1,2],[3,4]]\n",
    "#diquark=[]\n",
    "#spin_pair=[[0,5],[1,4],[2,3]]\n",
    "#color1=['a','b']\n",
    "#color2=['a\\'','b\\'']\n",
    "#color1=['0','1','2']\n",
    "#color2=['0','1','2']\n",
    "PRINT=0\n",
    "output=[]\n",
    "OUTPUT=[]\n",
    "overall2=1/2#'1/2\\gamma_{5;\\mu_1 \\mu_2} \\gamma_{5;\\mu_3 \\mu_4} \\gamma_{5;\\nu_3 \\nu_4} \\gamma_{5;;\\nu_1 \\nu_2}'#*symbols('\\epsilon_{abc}\\epsilon_{a\\'b\\'c\\'}')\n",
    "contraction(quark1,0,output,OUTPUT)\n",
    "PRINT+=(print_propagator(OUTPUT,quark1,spin,color,position,overall2))\n",
    "\n",
    "\n",
    "output=[]\n",
    "OUTPUT=[]\n",
    "overall2=1/2#'1/2\\gamma_{5;\\mu_1 \\mu_2} \\gamma_{5;\\mu_3 \\mu_4} \\gamma_{5;\\nu_3 \\nu_4} \\gamma_{5;;\\nu_1 \\nu_2}'#*symbols('\\epsilon_{abc}\\epsilon_{a\\'b\\'c\\'}')\n",
    "contraction(quark2,0,output,OUTPUT)\n",
    "PRINT+=(print_propagator(OUTPUT,quark2,spin,color,position,overall2))\n",
    "\n",
    "output=[]\n",
    "OUTPUT=[]\n",
    "overall2=-1/2#'-1/2\\gamma_{5;\\mu_1 \\mu_2} \\gamma_{5;\\mu_3 \\mu_4} \\gamma_{5;\\nu_3 \\nu_4} \\gamma_{5;;\\nu_1 \\nu_2}'#*symbols('\\epsilon_{abc}\\epsilon_{a\\'b\\'c\\'}')\n",
    "contraction(quark3,0,output,OUTPUT)\n",
    "PRINT+=(print_propagator(OUTPUT,quark3,spin,color,position,overall2))\n",
    "\n",
    "output=[]\n",
    "OUTPUT=[]\n",
    "overall2=-1/2#'-1/2\\gamma_{5;\\mu_1 \\mu_2} \\gamma_{5;\\mu_3 \\mu_4} \\gamma_{5;\\nu_3 \\nu_4} \\gamma_{5;;\\nu_1 \\nu_2}'#*symbols('\\epsilon_{abc}\\epsilon_{a\\'b\\'c\\'}')\n",
    "contraction(quark4,0,output,OUTPUT)\n",
    "PRINT+=(print_propagator(OUTPUT,quark4,spin,color,position,overall2))\n",
    "\n",
    "display(PRINT)\n",
    "#PRINT=print_Trace_color(OUTPUT,quark,spin,color,position,overall2,diquark,spin_pair,color1,color2)\n",
    "#display(simplify(PRINT))\n",
    "\n",
    "#PRINT=print_propagator_with_diquark_color(OUTPUT,quark,spin,color,position,overall2,diquark, color1, color2)\n",
    "#display(simplify(PRINT))\n",
    "\n",
    "\n",
    "\n",
    "\n",
    "\n",
    "\n",
    "\n",
    "# for a in ['0','1','2']:\n",
    "#     color[2]=a\n",
    "#     for b in ['0','1','2']:\n",
    "#         if a==b: continue\n",
    "#         color[1]=b\n",
    "#         for c in ['0','1','2']:\n",
    "#             if c==a or c==b: continue\n",
    "#             color[0]=c\n",
    "#             for aa in ['0','1','2']:\n",
    "#                 color[3]=aa\n",
    "#                 for bb in ['0','1','2']:\n",
    "#                     if aa==bb: continue\n",
    "#                     color[4]=bb\n",
    "#                     for cc in ['0','1','2']:\n",
    "#                         if cc==aa or cc==bb: continue\n",
    "#                         color[5]=cc\n",
    "#                         #print(color)\n",
    "#                         perm1=Permutation(color[:3])\n",
    "#                         perm2=Permutation(color[3:])\n",
    "\n",
    "#                         sign1=perm1.signature()\n",
    "#                         sign2=perm2.signature()\n",
    "#                         #print(sign1, sign2)\n",
    "                        \n",
    "#                         PRINT2=sign1*sign2*print_propagator_with_diquark_color(OUTPUT,quark,spin,color,position,overall2,diquark, color1, color2)\n",
    "#                         #display(PRINT2)\n",
    "#                         PRINT+=PRINT2\n",
    "#display(simplify(PRINT))\n"
   ]
  },
  {
   "cell_type": "markdown",
   "id": "3cb2a4c7-c1a4-4bbc-b280-16349b526d10",
   "metadata": {},
   "source": [
    "# $\\bar{3}$ state"
   ]
  },
  {
   "cell_type": "code",
   "execution_count": 12,
   "id": "737593bd-d5ee-4c48-9596-304fee7e89c2",
   "metadata": {},
   "outputs": [
    {
     "name": "stdout",
     "output_type": "stream",
     "text": [
      "['c', 'cb', 'u', 'ub', 'u', 'ub', 'u', 'ub']\n",
      "['c', 'cb', 'u', 'ub', 'u', 'ub', 'u', 'ub']\n",
      "['c', 'cb', 'u', 'ub', 'u', 'ub', 'u', 'ub']\n",
      "['c', 'cb', 'u', 'ub', 'u', 'ub', 'u', 'ub']\n",
      "['c', 'cb', 'u', 'ub', 'u', 'ub', 'u', 'ub']\n",
      "['c', 'cb', 'u', 'ub', 'u', 'ub', 'u', 'ub']\n",
      "['c', 'cb', 'u', 'ub', 'u', 'ub', 'd', 'db']\n",
      "['c', 'cb', 'u', 'ub', 'u', 'ub', 'd', 'db']\n",
      "['c', 'cb', 'u', 'ub', 'u', 'ub', 'd', 'db']\n",
      "['c', 'cb', 'u', 'ub', 'u', 'ub', 'd', 'db']\n",
      "['c', 'cb', 'u', 'ub', 'u', 'ub', 's', 'sb']\n",
      "['c', 'cb', 'u', 'ub', 'u', 'ub', 's', 'sb']\n",
      "['c', 'cb', 'u', 'ub', 'u', 'ub', 's', 'sb']\n",
      "['c', 'cb', 'u', 'ub', 'u', 'ub', 's', 'sb']\n",
      "['c', 'cb', 'd', 'db', 'u', 'ub', 'u', 'ub']\n",
      "['c', 'cb', 'd', 'db', 'u', 'ub', 'u', 'ub']\n",
      "['c', 'cb', 'd', 'db', 'u', 'ub', 'd', 'db']\n",
      "['c', 'cb', 'd', 'db', 'd', 'db', 'u', 'ub']\n",
      "['c', 'cb', 'd', 'db', 'u', 'ub', 'd', 'db']\n",
      "['c', 'cb', 'd', 'db', 'd', 'db', 'u', 'ub']\n",
      "['c', 'cb', 'd', 'db', 'u', 'ub', 's', 'sb']\n",
      "['c', 'cb', 'd', 'db', 'u', 'ub', 's', 'sb']\n",
      "['c', 'cb', 'u', 'ub', 'd', 'db', 'u', 'ub']\n",
      "['c', 'cb', 'u', 'ub', 'd', 'db', 'u', 'ub']\n",
      "['c', 'cb', 'u', 'ub', 'd', 'db', 'd', 'db']\n",
      "['c', 'cb', 'u', 'ub', 'd', 'db', 'd', 'db']\n",
      "['c', 'cb', 'u', 'ub', 'd', 'db', 'd', 'db']\n",
      "['c', 'cb', 'u', 'ub', 'd', 'db', 'd', 'db']\n",
      "['c', 'cb', 'u', 'ub', 'd', 'db', 's', 'sb']\n",
      "['c', 'cb', 'u', 'ub', 'd', 'db', 's', 'sb']\n",
      "['c', 'cb', 's', 'sb', 'u', 'ub', 'u', 'ub']\n",
      "['c', 'cb', 's', 'sb', 'u', 'ub', 'u', 'ub']\n",
      "['c', 'cb', 's', 'sb', 'u', 'ub', 'd', 'db']\n",
      "['c', 'cb', 's', 'sb', 'u', 'ub', 'd', 'db']\n",
      "['c', 'cb', 's', 'sb', 'u', 'ub', 's', 'sb']\n",
      "['c', 'cb', 's', 'sb', 's', 'sb', 'u', 'ub']\n",
      "['c', 'cb', 's', 'sb', 'u', 'ub', 's', 'sb']\n",
      "['c', 'cb', 's', 'sb', 's', 'sb', 'u', 'ub']\n",
      "['c', 'cb', 'u', 'ub', 's', 'sb', 'u', 'ub']\n",
      "['c', 'cb', 'u', 'ub', 's', 'sb', 'u', 'ub']\n",
      "['c', 'cb', 'u', 'ub', 's', 'sb', 'd', 'db']\n",
      "['c', 'cb', 'u', 'ub', 's', 'sb', 'd', 'db']\n",
      "['c', 'cb', 'u', 'ub', 's', 'sb', 's', 'sb']\n",
      "['c', 'cb', 'u', 'ub', 's', 'sb', 's', 'sb']\n",
      "['c', 'cb', 'u', 'ub', 's', 'sb', 's', 'sb']\n",
      "['c', 'cb', 'u', 'ub', 's', 'sb', 's', 'sb']\n",
      "['c', 'cb', 'u', 'ub', 'd', 'db', 'u', 'ub']\n",
      "['c', 'cb', 'u', 'ub', 'u', 'ub', 'd', 'db']\n",
      "['c', 'cb', 'u', 'ub', 'd', 'db', 'u', 'ub']\n",
      "['c', 'cb', 'u', 'ub', 'u', 'ub', 'd', 'db']\n",
      "['c', 'cb', 'u', 'ub', 'd', 'db', 'd', 'db']\n",
      "['c', 'cb', 'u', 'ub', 'd', 'db', 'd', 'db']\n",
      "['c', 'cb', 'u', 'ub', 'd', 'db', 's', 'sb']\n",
      "['c', 'cb', 'u', 'ub', 'd', 'db', 's', 'sb']\n",
      "['c', 'cb', 'd', 'db', 'u', 'ub', 'u', 'ub']\n",
      "['c', 'cb', 'd', 'db', 'u', 'ub', 'u', 'ub']\n",
      "['c', 'cb', 'd', 'db', 'u', 'ub', 'u', 'ub']\n",
      "['c', 'cb', 'd', 'db', 'u', 'ub', 'u', 'ub']\n",
      "['c', 'cb', 'd', 'db', 'u', 'ub', 'd', 'db']\n",
      "['c', 'cb', 'd', 'db', 'u', 'ub', 'd', 'db']\n",
      "['c', 'cb', 'd', 'db', 'u', 'ub', 's', 'sb']\n",
      "['c', 'cb', 'd', 'db', 'u', 'ub', 's', 'sb']\n",
      "['c', 'cb', 'd', 'db', 'd', 'db', 'u', 'ub']\n",
      "['c', 'cb', 'd', 'db', 'd', 'db', 'u', 'ub']\n",
      "['c', 'cb', 'd', 'db', 'd', 'db', 'u', 'ub']\n",
      "['c', 'cb', 'd', 'db', 'd', 'db', 'u', 'ub']\n",
      "['c', 'cb', 'd', 'db', 'd', 'db', 'd', 'db']\n",
      "['c', 'cb', 'd', 'db', 'd', 'db', 'd', 'db']\n",
      "['c', 'cb', 'd', 'db', 'd', 'db', 'd', 'db']\n",
      "['c', 'cb', 'd', 'db', 'd', 'db', 'd', 'db']\n",
      "['c', 'cb', 'd', 'db', 'd', 'db', 'd', 'db']\n",
      "['c', 'cb', 'd', 'db', 'd', 'db', 'd', 'db']\n",
      "['c', 'cb', 'd', 'db', 'd', 'db', 's', 'sb']\n",
      "['c', 'cb', 'd', 'db', 'd', 'db', 's', 'sb']\n",
      "['c', 'cb', 'd', 'db', 'd', 'db', 's', 'sb']\n",
      "['c', 'cb', 'd', 'db', 'd', 'db', 's', 'sb']\n",
      "['c', 'cb', 's', 'sb', 'd', 'db', 'u', 'ub']\n",
      "['c', 'cb', 's', 'sb', 'd', 'db', 'u', 'ub']\n",
      "['c', 'cb', 's', 'sb', 'd', 'db', 'd', 'db']\n",
      "['c', 'cb', 's', 'sb', 'd', 'db', 'd', 'db']\n",
      "['c', 'cb', 's', 'sb', 'd', 'db', 's', 'sb']\n",
      "['c', 'cb', 's', 'sb', 's', 'sb', 'd', 'db']\n",
      "['c', 'cb', 's', 'sb', 'd', 'db', 's', 'sb']\n",
      "['c', 'cb', 's', 'sb', 's', 'sb', 'd', 'db']\n",
      "['c', 'cb', 'd', 'db', 's', 'sb', 'u', 'ub']\n",
      "['c', 'cb', 'd', 'db', 's', 'sb', 'u', 'ub']\n",
      "['c', 'cb', 'd', 'db', 's', 'sb', 'd', 'db']\n",
      "['c', 'cb', 'd', 'db', 's', 'sb', 'd', 'db']\n",
      "['c', 'cb', 'd', 'db', 's', 'sb', 's', 'sb']\n",
      "['c', 'cb', 'd', 'db', 's', 'sb', 's', 'sb']\n",
      "['c', 'cb', 'd', 'db', 's', 'sb', 's', 'sb']\n",
      "['c', 'cb', 'd', 'db', 's', 'sb', 's', 'sb']\n"
     ]
    },
    {
     "data": {
      "image/png": "[encoded data removed]",
      "text/latex": [
       "$\\displaystyle - 1.33333333333333 \\cdot 1111$"
      ],
      "text/plain": [
       "-1.33333333333333⋅1111"
      ]
     },
     "metadata": {},
     "output_type": "display_data"
    }
   ],
   "source": [
    "position=['y','y','y','y','x','x','x','x']\n",
    "spin=['\\\\mu_1','\\\\nu_1','\\\\mu_2','\\\\nu_2','\\\\mu_3','\\\\nu_3','\\\\mu_4','\\\\nu_4']\n",
    "#spin=['1','2','1','1','2','1']\n",
    "color=['c','c','b','b','b\\'','b\\'','c\\'','c\\'']\n",
    "#color=['2','1','0','0','1','2']\n",
    "\n",
    "quark1=['cb','u','ub','u']\n",
    "quark2=['cb','d','db','u']\n",
    "quark3=['cb','u','db','d']\n",
    "quark4=['cb','s','sb','u']\n",
    "quark5=['cb','u','sb','s']\n",
    "\n",
    "QUARK=[quark1,quark2,quark3,quark4,quark5]\n",
    "overall=[np.sqrt(1/6),np.sqrt(3/8),-1/2/np.sqrt(6),np.sqrt(3/8),-1/2/np.sqrt(6)]\n",
    "PRINT=0\n",
    "for quark, over1 in zip(QUARK,overall):\n",
    "    for quark2, over2 in zip(QUARK,overall):\n",
    "        antiquark=[]\n",
    "        for q in quark2:\n",
    "            antiquark.append(anti[q])\n",
    "        antiquark.reverse()\n",
    "        #print(quark+antiquark, over1*over2)\n",
    "        output=[]\n",
    "        OUTPUT=[]\n",
    "        contraction(quark+antiquark,0,output,OUTPUT)\n",
    "#        print(OUTPUT)\n",
    "        PRINT+=print_propagator(OUTPUT,quark+antiquark,spin,color,position,over1*over2)\n",
    "           \n",
    "#display(PRINT)\n",
    "\n",
    "\n",
    "quark1=['cb','u','ub','d']\n",
    "quark2=['cb','d','ub','u']\n",
    "quark3=['cb','d','db','d']\n",
    "quark4=['cb','s','sb','d']\n",
    "quark5=['cb','d','sb','s']\n",
    "\n",
    "QUARK=[quark1,quark2,quark3,quark4,quark5]\n",
    "QUARK2=deepcopy(QUARK)\n",
    "overall=[np.sqrt(3/8),-1/2/np.sqrt(6),1/np.sqrt(6),np.sqrt(3/8),-1/2/np.sqrt(6)]\n",
    "PRINT=0\n",
    "for quark, over1 in zip(QUARK,overall):\n",
    "    for quark2, over2 in zip(QUARK2,overall):\n",
    "        antiquark=[]\n",
    "        for q in quark2:\n",
    "            antiquark.append(anti[q])\n",
    "        antiquark.reverse()\n",
    "        #print(quark+antiquark, over1*over2)\n",
    "        output=[]\n",
    "        OUTPUT=[]\n",
    "        contraction(quark+antiquark,0,output,OUTPUT)\n",
    "        PRINT2=print_propagator(OUTPUT,quark+antiquark,spin,color,position,over1*over2)\n",
    "        #display(PRINT2)\n",
    "        PRINT+=PRINT2\n",
    "           \n",
    "display(PRINT)\n"
   ]
  },
  {
   "cell_type": "markdown",
   "id": "e666f730-3877-45d9-b85d-613aa7bc1d31",
   "metadata": {},
   "source": [
    "# 3bar and 15"
   ]
  },
  {
   "cell_type": "code",
   "execution_count": 26,
   "id": "b0797234-6790-4899-95ed-3688f89ba858",
   "metadata": {},
   "outputs": [
    {
     "data": {
      "image/png": "[encoded data removed]",
      "text/latex": [
       "$\\displaystyle 0$"
      ],
      "text/plain": [
       "0"
      ]
     },
     "metadata": {},
     "output_type": "display_data"
    },
    {
     "data": {
      "image/png": "[encoded data removed]",
      "text/latex": [
       "$\\displaystyle 0$"
      ],
      "text/plain": [
       "0"
      ]
     },
     "metadata": {},
     "output_type": "display_data"
    },
    {
     "data": {
      "image/png": "[encoded data removed]",
      "text/latex": [
       "$\\displaystyle 0$"
      ],
      "text/plain": [
       "0"
      ]
     },
     "metadata": {},
     "output_type": "display_data"
    },
    {
     "data": {
      "image/png": "[encoded data removed]",
      "text/latex": [
       "$\\displaystyle 0$"
      ],
      "text/plain": [
       "0"
      ]
     },
     "metadata": {},
     "output_type": "display_data"
    },
    {
     "data": {
      "image/png": "[encoded data removed]",
      "text/latex": [
       "$\\displaystyle 0$"
      ],
      "text/plain": [
       "0"
      ]
     },
     "metadata": {},
     "output_type": "display_data"
    },
    {
     "data": {
      "image/png": "[encoded data removed]",
      "text/latex": [
       "$\\displaystyle 0$"
      ],
      "text/plain": [
       "0"
      ]
     },
     "metadata": {},
     "output_type": "display_data"
    },
    {
     "data": {
      "image/png": "[encoded data removed]",
      "text/latex": [
       "$\\displaystyle 0$"
      ],
      "text/plain": [
       "0"
      ]
     },
     "metadata": {},
     "output_type": "display_data"
    },
    {
     "data": {
      "image/png": "[encoded data removed]",
      "text/latex": [
       "$\\displaystyle 0$"
      ],
      "text/plain": [
       "0"
      ]
     },
     "metadata": {},
     "output_type": "display_data"
    },
    {
     "data": {
      "image/png": "[encoded data removed]",
      "text/latex": [
       "$\\displaystyle 0$"
      ],
      "text/plain": [
       "0"
      ]
     },
     "metadata": {},
     "output_type": "display_data"
    },
    {
     "data": {
      "image/png": "[encoded data removed]",
      "text/latex": [
       "$\\displaystyle 0$"
      ],
      "text/plain": [
       "0"
      ]
     },
     "metadata": {},
     "output_type": "display_data"
    },
    {
     "data": {
      "image/png": "[encoded data removed]",
      "text/latex": [
       "$\\displaystyle 0$"
      ],
      "text/plain": [
       "0"
      ]
     },
     "metadata": {},
     "output_type": "display_data"
    },
    {
     "data": {
      "image/png": "[encoded data removed]",
      "text/latex": [
       "$\\displaystyle 0$"
      ],
      "text/plain": [
       "0"
      ]
     },
     "metadata": {},
     "output_type": "display_data"
    },
    {
     "data": {
      "image/png": "[encoded data removed]",
      "text/latex": [
       "$\\displaystyle 0$"
      ],
      "text/plain": [
       "0"
      ]
     },
     "metadata": {},
     "output_type": "display_data"
    },
    {
     "data": {
      "image/png": "[encoded data removed]",
      "text/latex": [
       "$\\displaystyle 0$"
      ],
      "text/plain": [
       "0"
      ]
     },
     "metadata": {},
     "output_type": "display_data"
    },
    {
     "data": {
      "image/png": "[encoded data removed]",
      "text/latex": [
       "$\\displaystyle 0$"
      ],
      "text/plain": [
       "0"
      ]
     },
     "metadata": {},
     "output_type": "display_data"
    },
    {
     "data": {
      "image/png": "[encoded data removed]",
      "text/latex": [
       "$\\displaystyle 0$"
      ],
      "text/plain": [
       "0"
      ]
     },
     "metadata": {},
     "output_type": "display_data"
    },
    {
     "data": {
      "image/png": "[encoded data removed]",
      "text/latex": [
       "$\\displaystyle 0$"
      ],
      "text/plain": [
       "0"
      ]
     },
     "metadata": {},
     "output_type": "display_data"
    },
    {
     "data": {
      "image/png": "[encoded data removed]",
      "text/latex": [
       "$\\displaystyle 0$"
      ],
      "text/plain": [
       "0"
      ]
     },
     "metadata": {},
     "output_type": "display_data"
    },
    {
     "data": {
      "image/png": "[encoded data removed]",
      "text/latex": [
       "$\\displaystyle 0$"
      ],
      "text/plain": [
       "0"
      ]
     },
     "metadata": {},
     "output_type": "display_data"
    },
    {
     "data": {
      "image/png": "[encoded data removed]",
      "text/latex": [
       "$\\displaystyle 0$"
      ],
      "text/plain": [
       "0"
      ]
     },
     "metadata": {},
     "output_type": "display_data"
    },
    {
     "data": {
      "image/png": "[encoded data removed]",
      "text/latex": [
       "$\\displaystyle 0$"
      ],
      "text/plain": [
       "0"
      ]
     },
     "metadata": {},
     "output_type": "display_data"
    }
   ],
   "source": [
    "position=['y','y','y','y','x','x','x','x']\n",
    "spin=['\\\\mu_1','\\\\nu_1','\\\\mu_2','\\\\nu_2','\\\\mu_3','\\\\nu_3','\\\\mu_4','\\\\nu_4']\n",
    "#spin=['1','2','1','1','2','1']\n",
    "color=['c','c','b','b','b\\'','b\\'','c\\'','c\\'']\n",
    "#color=['2','1','0','0','1','2']\n",
    "\n",
    "quark1=['cb','u','ub','u']\n",
    "quark2=['cb','d','db','u']\n",
    "quark3=['cb','u','db','d']\n",
    "quark4=['cb','s','sb','u']\n",
    "quark5=['cb','u','sb','s']\n",
    "\n",
    "\n",
    "#quark15=['d','cb','db','u']\n",
    "quark16=['sb','c','db','u']\n",
    "quark26=['db','c','sb','u']\n",
    "quark36=['sb','c','db','u']\n",
    "quark46=['db','c','sb','u']\n",
    "QUARK6=[quark16,quark26,quark36,quark46]\n",
    "\n",
    "QUARK=[quark1,quark2,quark3,quark4,quark5]\n",
    "overall=[np.sqrt(1/6),np.sqrt(3/8),-1/2/np.sqrt(6),np.sqrt(3/8),-1/2/np.sqrt(6)]\n",
    "overall2=[1/2,1/2,-1/2,-1/2]\n",
    "PRINT=0\n",
    "\n",
    "for quark, over1 in zip(QUARK,overall):\n",
    "    for quark2, over2 in zip(QUARK6,overall2):\n",
    "        antiquark=[]\n",
    "        for q in quark2:\n",
    "            antiquark.append(q)\n",
    "        antiquark.reverse()\n",
    "        #print(quark+antiquark, over1*over2)\n",
    "        output=[]\n",
    "        OUTPUT=[]\n",
    "        contraction(quark+antiquark,0,output,OUTPUT)\n",
    "        PRINT2=print_propagator(OUTPUT,quark+antiquark,spin,color,position,over1*over2)\n",
    "        display(PRINT2)\n",
    "        PRINT+=PRINT2\n",
    "           \n",
    "display(PRINT)\n",
    "# quark1=['cb','u','ub','d']\n",
    "# quark2=['cb','d','ub','u']\n",
    "# quark3=['cb','d','db','d']\n",
    "# quark4=['cb','s','sb','d']\n",
    "# quark5=['cb','d','sb','s']\n",
    "\n",
    "# QUARK=[quark1,quark2,quark3,quark4,quark5]\n",
    "# QUARK2=deepcopy(QUARK)\n",
    "# overall=[np.sqrt(3/8),-1/2/np.sqrt(6),1/np.sqrt(6),np.sqrt(3/8),-1/2/np.sqrt(6)]\n",
    "# PRINT=0\n",
    "# for quark, over1 in zip(QUARK,overall):\n",
    "#     for quark2, over2 in zip(QUARK2,overall):\n",
    "#         antiquark=[]\n",
    "#         for q in quark2:\n",
    "#             antiquark.append(anti[q])\n",
    "#         antiquark.reverse()\n",
    "#         #print(quark+antiquark, over1*over2)\n",
    "#         output=[]\n",
    "#         OUTPUT=[]\n",
    "#         contraction(quark+antiquark,0,output,OUTPUT)\n",
    "#         PRINT2=print_propagator(OUTPUT,quark+antiquark,spin,color,position,over1*over2)\n",
    "#         #display(PRINT2)\n",
    "#         PRINT+=PRINT2\n",
    "           \n",
    "# display(PRINT)\n"
   ]
  },
  {
   "cell_type": "markdown",
   "id": "ecdc4379-2307-41f3-b3d0-6f1733bb3351",
   "metadata": {},
   "source": [
    "# Test proton proton contraction"
   ]
  },
  {
   "cell_type": "code",
   "execution_count": 4,
   "id": "6642bc22-9aeb-40af-bffe-4eab9a25a4a1",
   "metadata": {},
   "outputs": [
    {
     "data": {
      "image/png": "[encoded data removed]",
      "text/latex": [
       "$\\displaystyle 1.5 S_{11;yx} \\left(S_{11;yx} S_{22;yx} - S_{12;yx} S_{21;yx}\\right)$"
      ],
      "text/plain": [
       "1.5⋅S_{11;yx}⋅(S_{11;yx}⋅S_{22;yx} - S_{12;yx}⋅S_{21;yx})"
      ]
     },
     "metadata": {},
     "output_type": "display_data"
    }
   ],
   "source": [
    "overall='\\\\frac{1}{2}\\epsilon_{abc}\\epsilon_{a\\'b\\'c\\'}'\n",
    "overall2=1/2#*symbols('\\epsilon_{abc}\\epsilon_{a\\'b\\'c\\'}')\n",
    "position=['y','y','y','x','x','x']\n",
    "#spin=['\\\\mu_1','\\\\mu_2','\\\\mu_3','\\\\nu_3','\\\\nu_2','\\\\nu_1']\n",
    "spin=['1','2','1','1','2','1']\n",
    "color=['c','b','a','a\\'','b\\'','c\\'']\n",
    "#color=['2','1','0','0','1','2']\n",
    "quark=['u','u','d','db','ub','ub']\n",
    "\n",
    "diquark=[[1,2],[3,4]]\n",
    "#diquark=[]\n",
    "#spin_pair=[[0,5],[1,4],[2,3]]\n",
    "color1=['a','b','c']\n",
    "color2=['a\\'','b\\'','c\\'']\n",
    "#color1=['0','1','2']\n",
    "#color2=['0','1','2']\n",
    "\n",
    "output=[]\n",
    "OUTPUT=[]\n",
    "\n",
    "contraction(quark,0,output,OUTPUT)\n",
    "\n",
    "\n",
    "#PRINT=print_Trace_color(OUTPUT,quark,spin,color,position,overall2,diquark,spin_pair,color1,color2)\n",
    "#display(simplify(PRINT))\n",
    "\n",
    "PRINT=print_propagator_with_diquark_color(OUTPUT,quark,spin,color,position,overall2,diquark, color1, color2)\n",
    "#PRINT=print_propagator_with_diquark(OUTPUT,quark,spin,color,position,overall2,diquark)\n",
    "display(simplify(PRINT))\n",
    "\n",
    "\n",
    "# color1=['0','1','2']\n",
    "# color2=['0','1','2']\n",
    "# PRINT2=0\n",
    "# for a in ['0','1','2']:\n",
    "#     color[2]=a\n",
    "#     for b in ['0','1','2']:\n",
    "#         if a==b: continue\n",
    "#         color[1]=b\n",
    "#         for c in ['0','1','2']:\n",
    "#             if c==a or c==b: continue\n",
    "#             color[0]=c\n",
    "#             for aa in ['0','1','2']:\n",
    "#                 color[3]=aa\n",
    "#                 for bb in ['0','1','2']:\n",
    "#                     if aa==bb:continue\n",
    "#                     color[4]=bb\n",
    "#                     for cc in ['0','1','2']:\n",
    "#                         if cc==aa or cc==bb: continue\n",
    "#                         color[5]=cc\n",
    "#                         perm1=Permutation(color[:3])\n",
    "#                         perm2=Permutation(color[3:])\n",
    "\n",
    "#                         sign1=perm1.signature()\n",
    "#                         sign2=perm2.signature()\n",
    "                        \n",
    "#                         PRINT=sign1*sign2*print_propagator_with_diquark(OUTPUT,quark,spin,color,position,overall2,diquark)\n",
    "#                         display(PRINT)\n",
    "#                         PRINT2+=PRINT\n",
    "# display(simplify(PRINT2))                \n",
    "   "
   ]
  },
  {
   "cell_type": "markdown",
   "id": "5d88cc89-a417-4f81-aaea-2385e47dd607",
   "metadata": {
    "jp-MarkdownHeadingCollapsed": true,
    "tags": []
   },
   "source": [
    "# S=+1, I=1 System"
   ]
  },
  {
   "cell_type": "markdown",
   "id": "ecd2f755-fc3d-4d06-987a-452ca71b2be0",
   "metadata": {
    "jupyter": {
     "source_hidden": true
    },
    "tags": []
   },
   "source": [
    "# $<1,1|1,1>=<p(y') K^{+}(y) | \\overline{K}^{+}(x) \\overline{p}(x')>=\\frac{1}{2}\\epsilon_{abc}\\epsilon_{a'b'c'} \\bigg( u^{c}_{\\mu_1}(y') \\big[u^{b}_{\\mu_2}(y') d^{a}_{\\mu_3}(y')\\big] \\overline{s}^{i}_{\\alpha}(y)[\\gamma_5]_{\\alpha \\beta} u^{j}_{\\beta}(y) \\overline{u}^{j'}_{\\sigma}(x) [\\gamma_{5}]_{\\sigma \\rho} s^{i'}_{\\rho}(x) \\big[\\overline{d}^{a'}_{\\nu3}(x') \\overline{u}^{b'}_{\\nu_2}(x')\\big] \\overline{u}^{c'}_{\\nu_1}(x') \\bigg)$"
   ]
  },
  {
   "cell_type": "code",
   "execution_count": null,
   "id": "63eb8c2c-e54b-4931-a11d-28e97d0bcf33",
   "metadata": {
    "jupyter": {
     "source_hidden": true
    },
    "tags": []
   },
   "outputs": [],
   "source": [
    "overall='\\\\frac{1}{2}\\epsilon_{abc}\\epsilon_{a\\'b\\'c\\'}[\\gamma_5]_{\\\\alpha\\\\beta}[\\gamma_5]_{\\\\sigma\\\\rho}'\n",
    "#overall2=1/2*symbols('[\\gamma_5]_{\\\\alpha\\\\alpha}[\\gamma_5]_{\\\\sigma\\\\sigma}')#*symbols('\\epsilon_{abc}\\epsilon_{a\\'b\\'c\\'}')\n",
    "overall2=1/2#*symbols('[\\gamma_5]_{\\\\alpha\\\\alpha}[\\gamma_5]_{\\\\sigma\\\\sigma}')#*symbols('\\epsilon_{abc}\\epsilon_{a\\'b\\'c\\'}')\n",
    "position=['y','y','y','y','y','x','x','x','x','x']\n",
    "#spin=['1','2','1','\\\\alpha','\\\\beta','\\\\sigma','\\\\rho','1','2','1']\n",
    "spin=['1','2','1','\\\\alpha','\\\\alpha','\\\\sigma','\\\\sigma','1','2','1']\n",
    "color=['c','b','a','i','j','j\\'','i\\'','a\\'','b\\'','c\\'']\n",
    "quark=['u','u','d','sb','u','ub','s','db','ub','ub']\n",
    "\n",
    "diquark=[[1,2],[7,8]]\n",
    "#spin_pair=[[0,9],[1,8],[2,7],[3,4],[5,6]]\n",
    "#color1=['a','b','c']\n",
    "#color2=['a\\'','b\\'','c\\'']\n",
    "color1=['0','1','2']\n",
    "color2=['0','1','2']\n",
    "output=[]\n",
    "OUTPUT=[]\n",
    "\n",
    "contraction(quark,0,output,OUTPUT)\n",
    "#PRINT=print_Trace_color(OUTPUT,quark,spin,color,position,overall2,diquark,spin_pair,color1,color2)\n",
    "PRINT=0\n",
    "for a in ['0','1','2']:\n",
    "    color[2]=a\n",
    "    for b in ['0','1','2']:\n",
    "        if a==b: continue\n",
    "        color[1]=b\n",
    "        for c in ['0','1','2']:\n",
    "            if c==a or c==b: continue\n",
    "            color[0]=c\n",
    "            for aa in ['0','1','2']:\n",
    "                color[7]=aa\n",
    "                for bb in ['0','1','2']:\n",
    "                    if aa==bb: continue\n",
    "                    color[8]=bb\n",
    "                    for cc in ['0','1','2']:\n",
    "                        if cc==aa or cc==bb: continue\n",
    "                        color[9]=cc\n",
    "                        #print(color)\n",
    "                        perm1=Permutation(color[:3])\n",
    "                        perm2=Permutation(color[7:])\n",
    "\n",
    "                        sign1=perm1.signature()\n",
    "                        sign2=perm2.signature()\n",
    "                        for i in ['0','1','2']:\n",
    "                            color[3]=i\n",
    "                            for j in ['0','1','2']:\n",
    "                                color[4]=j\n",
    "                                for jj in ['0','1','2']:\n",
    "                                    color[5]=jj\n",
    "                                    for ii in ['0','1','2']:\n",
    "                                        color[6]=ii\n",
    "                                        for ab, alpha_beta in enumerate(['1','2','3','4']): \n",
    "                                            spin[3]=alpha_beta\n",
    "                                            spin[4]=alpha_beta\n",
    "                                            for sr, sigma_rho in enumerate(['1','2','3','4']): \n",
    "                                                spin[5]=sigma_rho\n",
    "                                                spin[6]=sigma_rho\n",
    "                                                PRINT+=sign1*sign2*gamma5(ab,ab)*gamma5(sr,sr)*print_propagator_with_diquark_color(OUTPUT,quark,spin,color,position,overall2,diquark, color1, color2)\n",
    "                                        #PRINT+=sign1*sign2*print_propagator_with_diquark_color(OUTPUT,quark,spin,color,position,overall2,diquark, color1, color2)\n",
    "\n",
    "display(simplify(PRINT))\n",
    "\n",
    "\n",
    "#for q in print_propagator_with_diquark(OUTPUT,quark,spin,color,position,overall,diquark):\n",
    "#    display(q)\n",
    "\n",
    "   "
   ]
  },
  {
   "cell_type": "markdown",
   "id": "82da99f7-e6fb-4e32-8e72-425d011cc672",
   "metadata": {
    "jupyter": {
     "source_hidden": true
    },
    "tags": []
   },
   "source": [
    "# $<1,0|1,0>=\\frac{1}{2}\\bigg\\{ <p(y') K^{0}(y) | \\overline{K}^{0}(x) \\overline{p}(x')> + <p(y') K^{0}(y) | \\overline{K}^{+}(x) \\overline{n}(x')> + <n(y') K^{+}(y) | \\overline{K}^{0}(x) \\overline{p}(x')> + <n(y') K^{+}(y) | \\overline{K}^{+}(x) \\overline{n}(x')> \\bigg\\}$"
   ]
  },
  {
   "cell_type": "markdown",
   "id": "767081f8-e72b-4af9-83c6-9220810b1fd8",
   "metadata": {
    "jupyter": {
     "source_hidden": true
    },
    "tags": []
   },
   "source": [
    "# $\\frac{1}{2}\\bigg\\{ <p(y') K^{0}(y) | \\overline{K}^{0}(x) \\overline{p}(x')> \\bigg\\}=\\frac{1}{4}\\epsilon_{abc}\\epsilon_{a'b'c'} \\bigg( u^{c}_{\\mu_1}(y') \\big[u^{b}_{\\mu_2}(y') d^{a}_{\\mu_3}(y')\\big] \\overline{s}^{i}_{\\alpha}(y)[\\gamma_5]_{\\alpha \\beta} d^{j}_{\\beta}(y) \\overline{d}^{j'}_{\\sigma}(x) [\\gamma_{5}]_{\\sigma \\rho} s^{i'}_{\\rho}(x) \\big[\\overline{d}^{a'}_{\\nu3}(x') \\overline{u}^{b'}_{\\nu_2}(x')\\big] \\overline{u}^{c'}_{\\nu_1}(x') \\bigg) $"
   ]
  },
  {
   "cell_type": "code",
   "execution_count": null,
   "id": "ccc4fcc0-cacb-4153-b94c-d25c4006d7e5",
   "metadata": {
    "jupyter": {
     "source_hidden": true
    },
    "tags": []
   },
   "outputs": [],
   "source": [
    "overall='\\\\frac{1}{4}\\epsilon_{abc}\\epsilon_{a\\'b\\'c\\'}[\\gamma_5]_{\\\\alpha\\\\beta}[\\gamma_5]_{\\\\sigma\\\\rho}'\n",
    "overall2=1/4*symbols('\\epsilon_{abc}\\epsilon_{a\\'b\\'c\\'}')\n",
    "position=['y\\'','y\\'','y\\'','y','y','x','x','x\\'','x\\'','x\\'']\n",
    "spin=['\\\\mu_1','\\\\mu_2','\\\\mu_3','\\\\alpha','\\\\beta','\\\\sigma','\\\\rho','\\\\nu_3','\\\\nu_2','\\\\nu_1']\n",
    "color=['c','b','a','i','j','j\\'','i\\'','a\\'','b\\'','c\\'']\n",
    "quark=['u','u','d','sb','d','db','s','db','ub','ub']\n",
    "\n",
    "diquark=[[1,2],[7,8]]\n",
    "spin_pair=[[0,9],[1,8],[2,7],[3,4],[5,6]]\n",
    "\n",
    "output=[]\n",
    "OUTPUT=[]\n",
    "\n",
    "contraction(quark,0,output,OUTPUT)\n",
    "PRINT=print_Trace(OUTPUT,quark,spin,color,position,overall2,diquark,spin_pair)\n",
    "display(simplify(PRINT))\n",
    "\n",
    "\n",
    "#for q in print_propagator_with_diquark(OUTPUT,quark,spin,color,position,overall,diquark):\n",
    "#    display(q)\n"
   ]
  },
  {
   "cell_type": "markdown",
   "id": "9e083e27-b918-4a50-be61-943ded9380dc",
   "metadata": {
    "jupyter": {
     "source_hidden": true
    },
    "tags": []
   },
   "source": [
    "# $\\frac{1}{2}\\bigg\\{ <p(y') K^{0}(y) | \\overline{K}^{+}(x) \\overline{n}(x')> \\bigg\\}=\\frac{1}{4}\\epsilon_{abc}\\epsilon_{a'b'c'} \\bigg( u^{c}_{\\mu_1}(y') \\big[u^{b}_{\\mu_2}(y') d^{a}_{\\mu_3}(y')\\big] \\overline{s}^{i}_{\\alpha}(y)[\\gamma_5]_{\\alpha \\beta} d^{j}_{\\beta}(y) \\overline{u}^{j'}_{\\sigma}(x) [\\gamma_{5}]_{\\sigma \\rho} s^{i'}_{\\rho}(x) \\big[\\overline{u}^{a'}_{\\nu3}(x') \\overline{d}^{b'}_{\\nu_2}(x')\\big] \\overline{d}^{c'}_{\\nu_1}(x') \\bigg) $"
   ]
  },
  {
   "cell_type": "code",
   "execution_count": null,
   "id": "7f091f5f-6d66-4a5e-befa-693c9719f7b2",
   "metadata": {
    "jupyter": {
     "source_hidden": true
    },
    "tags": []
   },
   "outputs": [],
   "source": [
    "overall='\\\\frac{1}{4}\\epsilon_{abc}\\epsilon_{a\\'b\\'c\\'}[\\gamma_5]_{\\\\alpha\\\\beta}[\\gamma_5]_{\\\\sigma\\\\rho}'\n",
    "overall2=1/4*symbols('\\epsilon_{abc}\\epsilon_{a\\'b\\'c\\'}')\n",
    "position=['y\\'','y\\'','y\\'','y','y','x','x','x\\'','x\\'','x\\'']\n",
    "spin=['\\\\mu_1','\\\\mu_2','\\\\mu_3','\\\\alpha','\\\\beta','\\\\sigma','\\\\rho','\\\\nu_3','\\\\nu_2','\\\\nu_1']\n",
    "color=['c','b','a','i','j','j\\'','i\\'','a\\'','b\\'','c\\'']\n",
    "quark=['u','u','d','sb','d','ub','s','ub','db','db']\n",
    "\n",
    "diquark=[[1,2],[7,8]]\n",
    "spin_pair=[[0,9],[1,8],[2,7],[3,4],[5,6]]\n",
    "\n",
    "output=[]\n",
    "OUTPUT=[]\n",
    "\n",
    "contraction(quark,0,output,OUTPUT)\n",
    "PRINT=print_Trace(OUTPUT,quark,spin,color,position,overall2,diquark,spin_pair)\n",
    "display(simplify(PRINT))\n",
    "\n",
    "\n",
    "#for q in print_propagator_with_diquark(OUTPUT,quark,spin,color,position,overall,diquark):\n",
    "#    display(q)\n"
   ]
  },
  {
   "cell_type": "markdown",
   "id": "553120c9-bcbd-49fa-b779-71130f94f666",
   "metadata": {
    "jupyter": {
     "source_hidden": true
    },
    "tags": []
   },
   "source": [
    "# $\\frac{1}{2}\\bigg\\{ <n(y') K^{+}(y) | \\overline{K}^{0}(x) \\overline{p}(x')> \\bigg\\}=\\frac{1}{4}\\epsilon_{abc}\\epsilon_{a'b'c'} \\bigg( d^{c}_{\\mu_1}(y') \\big[d^{b}_{\\mu_2}(y') u^{a}_{\\mu_3}(y')\\big] \\overline{s}^{i}_{\\alpha}(y)[\\gamma_5]_{\\alpha \\beta} u^{j}_{\\beta}(y) \\overline{d}^{j'}_{\\sigma}(x) [\\gamma_{5}]_{\\sigma \\rho} s^{i'}_{\\rho}(x) \\big[\\overline{d}^{a'}_{\\nu3}(x') \\overline{u}^{b'}_{\\nu_2}(x')\\big] \\overline{u}^{c'}_{\\nu_1}(x') \\bigg) $"
   ]
  },
  {
   "cell_type": "code",
   "execution_count": null,
   "id": "cb26f247-01f4-4b44-a249-68c3207d33f3",
   "metadata": {
    "jupyter": {
     "source_hidden": true
    },
    "tags": []
   },
   "outputs": [],
   "source": [
    "overall='\\\\frac{1}{4}\\epsilon_{abc}\\epsilon_{a\\'b\\'c\\'}[\\gamma_5]_{\\\\alpha\\\\beta}[\\gamma_5]_{\\\\sigma\\\\rho}'\n",
    "overall2=1/4*symbols('\\epsilon_{abc}\\epsilon_{a\\'b\\'c\\'}')\n",
    "position=['y\\'','y\\'','y\\'','y','y','x','x','x\\'','x\\'','x\\'']\n",
    "spin=['\\\\mu_1','\\\\mu_2','\\\\mu_3','\\\\alpha','\\\\beta','\\\\sigma','\\\\rho','\\\\nu_3','\\\\nu_2','\\\\nu_1']\n",
    "color=['c','b','a','i','j','j\\'','i\\'','a\\'','b\\'','c\\'']\n",
    "quark=['d','d','u','sb','u','db','s','db','ub','ub']\n",
    "\n",
    "diquark=[[1,2],[7,8]]\n",
    "spin_pair=[[0,9],[1,8],[2,7],[3,4],[5,6]]\n",
    "\n",
    "output=[]\n",
    "OUTPUT=[]\n",
    "\n",
    "contraction(quark,0,output,OUTPUT)\n",
    "PRINT=print_Trace(OUTPUT,quark,spin,color,position,overall2,diquark,spin_pair)\n",
    "display(simplify(PRINT))\n",
    "\n",
    "\n",
    "#for q in print_propagator_with_diquark(OUTPUT,quark,spin,color,position,overall,diquark):\n",
    "#    display(q)\n"
   ]
  },
  {
   "cell_type": "markdown",
   "id": "f82f9ef5-5037-4365-b642-1e2aa32ee097",
   "metadata": {
    "jupyter": {
     "source_hidden": true
    },
    "tags": []
   },
   "source": [
    "# $\\frac{1}{2}\\bigg\\{ <n(y') K^{+}(y) | \\overline{K}^{+}(x) \\overline{n}(x')> \\bigg\\}=\\frac{1}{4}\\epsilon_{abc}\\epsilon_{a'b'c'} \\bigg( d^{c}_{\\mu_1}(y') \\big[d^{b}_{\\mu_2}(y') u^{a}_{\\mu_3}(y')\\big] \\overline{s}^{i}_{\\alpha}(y)[\\gamma_5]_{\\alpha \\beta} u^{j}_{\\beta}(y) \\overline{u}^{j'}_{\\sigma}(x) [\\gamma_{5}]_{\\sigma \\rho} s^{i'}_{\\rho}(x) \\big[\\overline{u}^{a'}_{\\nu3}(x') \\overline{d}^{b'}_{\\nu_2}(x')\\big] \\overline{d}^{c'}_{\\nu_1}(x') \\bigg) $"
   ]
  },
  {
   "cell_type": "code",
   "execution_count": null,
   "id": "fba21759-f59d-4ea3-b1dd-34034f9844cb",
   "metadata": {
    "jupyter": {
     "source_hidden": true
    },
    "tags": []
   },
   "outputs": [],
   "source": [
    "overall='\\\\frac{1}{4}\\epsilon_{abc}\\epsilon_{a\\'b\\'c\\'}[\\gamma_5]_{\\\\alpha\\\\beta}[\\gamma_5]_{\\\\sigma\\\\rho}'\n",
    "overall2=1/4*symbols('\\epsilon_{abc}\\epsilon_{a\\'b\\'c\\'}')\n",
    "position=['y\\'','y\\'','y\\'','y','y','x','x','x\\'','x\\'','x\\'']\n",
    "spin=['\\\\mu_1','\\\\mu_2','\\\\mu_3','\\\\alpha','\\\\beta','\\\\sigma','\\\\rho','\\\\nu_3','\\\\nu_2','\\\\nu_1']\n",
    "color=['c','b','a','i','j','j\\'','i\\'','a\\'','b\\'','c\\'']\n",
    "quark=['d','d','u','sb','u','ub','s','ub','db','db']\n",
    "\n",
    "diquark=[[1,2],[7,8]]\n",
    "spin_pair=[[0,9],[1,8],[2,7],[3,4],[5,6]]\n",
    "\n",
    "output=[]\n",
    "OUTPUT=[]\n",
    "\n",
    "contraction(quark,0,output,OUTPUT)\n",
    "PRINT=print_Trace(OUTPUT,quark,spin,color,position,overall2,diquark,spin_pair)\n",
    "display(simplify(PRINT))\n",
    "\n",
    "\n",
    "#for q in print_propagator_with_diquark(OUTPUT,quark,spin,color,position,overall,diquark):\n",
    "#    display(q)\n"
   ]
  },
  {
   "cell_type": "markdown",
   "id": "7e32ac6c-0134-4906-a54b-ba1aa63ad3cd",
   "metadata": {
    "jupyter": {
     "source_hidden": true
    },
    "tags": []
   },
   "source": [
    "# $<1,-1|1,-1>=<n(y') K^{0}(y) | \\overline{K}^{0}(x) \\overline{n}(x')> = \\frac{1}{2}\\epsilon_{abc}\\epsilon_{a'b'c'} \\bigg( d^{c}_{\\mu_1}(y') \\big[d^{b}_{\\mu_2}(y') u^{a}_{\\mu_3}(y')\\big] \\overline{s}^{i}_{\\alpha}(y)[\\gamma_5]_{\\alpha \\beta} d^{j}_{\\beta}(y) \\overline{d}^{j'}_{\\sigma}(x) [\\gamma_{5}]_{\\sigma \\rho} s^{i'}_{\\rho}(x) \\big[\\overline{u}^{a'}_{\\nu3}(x') \\overline{d}^{b'}_{\\nu_2}(x')\\big] \\overline{d}^{c'}_{\\nu_1}(x') \\bigg) $"
   ]
  },
  {
   "cell_type": "code",
   "execution_count": null,
   "id": "b230c1cb-5fd6-4071-8513-7bdbb3cc6fc5",
   "metadata": {
    "jupyter": {
     "source_hidden": true
    },
    "tags": []
   },
   "outputs": [],
   "source": [
    "overall='\\\\frac{1}{4}\\epsilon_{abc}\\epsilon_{a\\'b\\'c\\'}[\\gamma_5]_{\\\\alpha\\\\beta}[\\gamma_5]_{\\\\sigma\\\\rho}'\n",
    "overall2=1/4*symbols('\\epsilon_{abc}\\epsilon_{a\\'b\\'c\\'}')\n",
    "position=['y\\'','y\\'','y\\'','y','y','x','x','x\\'','x\\'','x\\'']\n",
    "spin=['\\\\mu_1','\\\\mu_2','\\\\mu_3','\\\\alpha','\\\\beta','\\\\sigma','\\\\rho','\\\\nu_3','\\\\nu_2','\\\\nu_1']\n",
    "color=['c','b','a','i','j','j\\'','i\\'','a\\'','b\\'','c\\'']\n",
    "quark=['d','d','u','sb','d','db','s','ub','db','db']\n",
    "\n",
    "diquark=[[1,2],[7,8]]\n",
    "spin_pair=[[0,9],[1,8],[2,7],[3,4],[5,6]]\n",
    "\n",
    "output=[]\n",
    "OUTPUT=[]\n",
    "\n",
    "contraction(quark,0,output,OUTPUT)\n",
    "PRINT=print_Trace(OUTPUT,quark,spin,color,position,overall2,diquark,spin_pair)\n",
    "display(simplify(PRINT))\n",
    "\n",
    "\n",
    "#for q in print_propagator_with_diquark(OUTPUT,quark,spin,color,position,overall,diquark):\n",
    "#    display(q)\n"
   ]
  },
  {
   "cell_type": "markdown",
   "id": "88786953-bb31-46b0-bc29-9fbd45350e1c",
   "metadata": {
    "jupyter": {
     "source_hidden": true
    },
    "tags": []
   },
   "source": [
    "# S=+1, I=0 System"
   ]
  },
  {
   "cell_type": "markdown",
   "id": "9109a82a-a758-49b9-9033-8def029d011f",
   "metadata": {
    "jupyter": {
     "source_hidden": true
    },
    "tags": []
   },
   "source": [
    "# $<0,0|0,0>=\\frac{1}{2}\\bigg\\{ <p(y') K^{0}(y) | \\overline{K}^{0}(x) \\overline{p}(x')> - <p(y') K^{0}(y) | \\overline{K}^{+}(x) \\overline{n}(x')> - <n(y') K^{+}(y) | \\overline{K}^{0}(x) \\overline{p}(x')> + <n(y') K^{+}(y) | \\overline{K}^{+}(x) \\overline{n}(x')> \\bigg\\}$"
   ]
  },
  {
   "cell_type": "markdown",
   "id": "8b781502-d4c4-4500-8bea-1bc37ca7aa6f",
   "metadata": {
    "jupyter": {
     "source_hidden": true
    },
    "tags": []
   },
   "source": [
    "# $\\frac{1}{2}\\bigg\\{ <p(y') K^{0}(y) | \\overline{K}^{0}(x) \\overline{p}(x')> \\bigg\\}=\\frac{1}{4}\\epsilon_{abc}\\epsilon_{a'b'c'} \\bigg( u^{c}_{\\mu_1}(y') \\big[u^{b}_{\\mu_2}(y') d^{a}_{\\mu_3}(y')\\big] \\overline{s}^{i}_{\\alpha}(y)[\\gamma_5]_{\\alpha \\beta} d^{j}_{\\beta}(y) \\overline{d}^{j'}_{\\sigma}(x) [\\gamma_{5}]_{\\sigma \\rho} s^{i'}_{\\rho}(x) \\big[\\overline{d}^{a'}_{\\nu3}(x') \\overline{u}^{b'}_{\\nu_2}(x')\\big] \\overline{u}^{c'}_{\\nu_1}(x') \\bigg) $"
   ]
  },
  {
   "cell_type": "code",
   "execution_count": null,
   "id": "c4c30c95-3785-4c48-be1e-a4637fc0862a",
   "metadata": {
    "jupyter": {
     "source_hidden": true
    },
    "tags": []
   },
   "outputs": [],
   "source": [
    "overall='\\\\frac{1}{4}\\epsilon_{abc}\\epsilon_{a\\'b\\'c\\'}[\\gamma_5]_{\\\\alpha\\\\beta}[\\gamma_5]_{\\\\sigma\\\\rho}'\n",
    "overall2=1/4*symbols('\\epsilon_{abc}\\epsilon_{a\\'b\\'c\\'}')\n",
    "position=['y\\'','y\\'','y\\'','y','y','x','x','x\\'','x\\'','x\\'']\n",
    "spin=['\\\\mu_1','\\\\mu_2','\\\\mu_3','\\\\alpha','\\\\beta','\\\\sigma','\\\\rho','\\\\nu_3','\\\\nu_2','\\\\nu_1']\n",
    "color=['c','b','a','i','j','j\\'','i\\'','a\\'','b\\'','c\\'']\n",
    "quark=['u','u','d','sb','d','db','s','db','ub','ub']\n",
    "\n",
    "diquark=[[1,2],[7,8]]\n",
    "spin_pair=[[0,9],[1,8],[2,7],[3,4],[5,6]]\n",
    "\n",
    "output=[]\n",
    "OUTPUT=[]\n",
    "\n",
    "contraction(quark,0,output,OUTPUT)\n",
    "PRINT=print_Trace(OUTPUT,quark,spin,color,position,overall2,diquark,spin_pair)\n",
    "display(simplify(PRINT))\n",
    "\n",
    "\n",
    "#for q in print_propagator_with_diquark(OUTPUT,quark,spin,color,position,overall,diquark):\n",
    "#    display(q)\n"
   ]
  },
  {
   "cell_type": "markdown",
   "id": "286ec670-a40d-4d98-92b0-db57de6d19be",
   "metadata": {
    "jupyter": {
     "source_hidden": true
    },
    "tags": []
   },
   "source": [
    "# $-\\frac{1}{2}\\bigg\\{ <p(y') K^{0}(y) | \\overline{K}^{+}(x) \\overline{n}(x')> \\bigg\\}=-\\frac{1}{4}\\epsilon_{abc}\\epsilon_{a'b'c'} \\bigg( u^{c}_{\\mu_1}(y') \\big[u^{b}_{\\mu_2}(y') d^{a}_{\\mu_3}(y')\\big] \\overline{s}^{i}_{\\alpha}(y)[\\gamma_5]_{\\alpha \\beta} d^{j}_{\\beta}(y) \\overline{u}^{j'}_{\\sigma}(x) [\\gamma_{5}]_{\\sigma \\rho} s^{i'}_{\\rho}(x) \\big[\\overline{u}^{a'}_{\\nu3}(x') \\overline{d}^{b'}_{\\nu_2}(x')\\big] \\overline{d}^{c'}_{\\nu_1}(x') \\bigg) $"
   ]
  },
  {
   "cell_type": "code",
   "execution_count": null,
   "id": "c4c49f2d-a292-4aff-93fb-13c2a7087abf",
   "metadata": {
    "jupyter": {
     "source_hidden": true
    },
    "tags": []
   },
   "outputs": [],
   "source": [
    "overall='-\\\\frac{1}{4}\\epsilon_{abc}\\epsilon_{a\\'b\\'c\\'}[\\gamma_5]_{\\\\alpha\\\\beta}[\\gamma_5]_{\\\\sigma\\\\rho}'\n",
    "overall2=-1/4*symbols('\\epsilon_{abc}\\epsilon_{a\\'b\\'c\\'}')\n",
    "position=['y\\'','y\\'','y\\'','y','y','x','x','x\\'','x\\'','x\\'']\n",
    "spin=['\\\\mu_1','\\\\mu_2','\\\\mu_3','\\\\alpha','\\\\beta','\\\\sigma','\\\\rho','\\\\nu_3','\\\\nu_2','\\\\nu_1']\n",
    "color=['c','b','a','i','j','j\\'','i\\'','a\\'','b\\'','c\\'']\n",
    "quark=['u','u','d','sb','d','ub','s','ub','db','db']\n",
    "\n",
    "diquark=[[1,2],[7,8]]\n",
    "spin_pair=[[0,9],[1,8],[2,7],[3,4],[5,6]]\n",
    "\n",
    "output=[]\n",
    "OUTPUT=[]\n",
    "\n",
    "contraction(quark,0,output,OUTPUT)\n",
    "PRINT=print_Trace(OUTPUT,quark,spin,color,position,overall2,diquark,spin_pair)\n",
    "display(simplify(PRINT))\n",
    "\n",
    "\n",
    "#for q in print_propagator_with_diquark(OUTPUT,quark,spin,color,position,overall,diquark):\n",
    "#    display(q)\n"
   ]
  },
  {
   "cell_type": "markdown",
   "id": "801f86f2-d165-4be4-b67a-cd710685795a",
   "metadata": {
    "jupyter": {
     "source_hidden": true
    },
    "tags": []
   },
   "source": [
    "# $-\\frac{1}{2}\\bigg\\{ <n(y') K^{+}(y) | \\overline{K}^{0}(x) \\overline{p}(x')> \\bigg\\}=-\\frac{1}{4}\\epsilon_{abc}\\epsilon_{a'b'c'} \\bigg( d^{c}_{\\mu_1}(y') \\big[d^{b}_{\\mu_2}(y') u^{a}_{\\mu_3}(y')\\big] \\overline{s}^{i}_{\\alpha}(y)[\\gamma_5]_{\\alpha \\beta} u^{j}_{\\beta}(y) \\overline{d}^{j'}_{\\sigma}(x) [\\gamma_{5}]_{\\sigma \\rho} s^{i'}_{\\rho}(x) \\big[\\overline{d}^{a'}_{\\nu3}(x') \\overline{u}^{b'}_{\\nu_2}(x')\\big] \\overline{u}^{c'}_{\\nu_1}(x') \\bigg) $"
   ]
  },
  {
   "cell_type": "code",
   "execution_count": null,
   "id": "629c6d39-7944-4359-ae67-016c10ff849f",
   "metadata": {
    "jupyter": {
     "source_hidden": true
    },
    "tags": []
   },
   "outputs": [],
   "source": [
    "overall='-\\\\frac{1}{4}\\epsilon_{abc}\\epsilon_{a\\'b\\'c\\'}[\\gamma_5]_{\\\\alpha\\\\beta}[\\gamma_5]_{\\\\sigma\\\\rho}'\n",
    "overall2=-1/4*symbols('\\epsilon_{abc}\\epsilon_{a\\'b\\'c\\'}')\n",
    "position=['y\\'','y\\'','y\\'','y','y','x','x','x\\'','x\\'','x\\'']\n",
    "spin=['\\\\mu_1','\\\\mu_2','\\\\mu_3','\\\\alpha','\\\\beta','\\\\sigma','\\\\rho','\\\\nu_3','\\\\nu_2','\\\\nu_1']\n",
    "color=['c','b','a','i','j','j\\'','i\\'','a\\'','b\\'','c\\'']\n",
    "quark=['d','d','u','sb','u','db','s','db','ub','ub']\n",
    "\n",
    "diquark=[[1,2],[7,8]]\n",
    "spin_pair=[[0,9],[1,8],[2,7],[3,4],[5,6]]\n",
    "\n",
    "output=[]\n",
    "OUTPUT=[]\n",
    "\n",
    "contraction(quark,0,output,OUTPUT)\n",
    "PRINT=print_Trace(OUTPUT,quark,spin,color,position,overall2,diquark,spin_pair)\n",
    "display(simplify(PRINT))\n",
    "\n",
    "\n",
    "#for q in print_propagator_with_diquark(OUTPUT,quark,spin,color,position,overall,diquark):\n",
    "#    display(q)\n"
   ]
  },
  {
   "cell_type": "markdown",
   "id": "743ba960-b636-42dd-af10-528e85813e9d",
   "metadata": {
    "jupyter": {
     "source_hidden": true
    },
    "tags": []
   },
   "source": [
    "# $\\frac{1}{2}\\bigg\\{ <n(y') K^{+}(y) | \\overline{K}^{+}(x) \\overline{n}(x')> \\bigg\\}=\\frac{1}{4}\\epsilon_{abc}\\epsilon_{a'b'c'} \\bigg( d^{c}_{\\mu_1}(y') \\big[d^{b}_{\\mu_2}(y') u^{a}_{\\mu_3}(y')\\big] \\overline{s}^{i}_{\\alpha}(y)[\\gamma_5]_{\\alpha \\beta} u^{j}_{\\beta}(y) \\overline{u}^{j'}_{\\sigma}(x) [\\gamma_{5}]_{\\sigma \\rho} s^{i'}_{\\rho}(x) \\big[\\overline{u}^{a'}_{\\nu3}(x') \\overline{d}^{b'}_{\\nu_2}(x')\\big] \\overline{d}^{c'}_{\\nu_1}(x') \\bigg) $"
   ]
  },
  {
   "cell_type": "code",
   "execution_count": null,
   "id": "5f0407a0-07ad-48a4-aa3f-0b66206981ed",
   "metadata": {
    "jupyter": {
     "source_hidden": true
    },
    "tags": []
   },
   "outputs": [],
   "source": [
    "overall='\\\\frac{1}{4}\\epsilon_{abc}\\epsilon_{a\\'b\\'c\\'}[\\gamma_5]_{\\\\alpha\\\\beta}[\\gamma_5]_{\\\\sigma\\\\rho}'\n",
    "overall2=1/4*symbols('\\epsilon_{abc}\\epsilon_{a\\'b\\'c\\'}')\n",
    "position=['y\\'','y\\'','y\\'','y','y','x','x','x\\'','x\\'','x\\'']\n",
    "spin=['\\\\mu_1','\\\\mu_2','\\\\mu_3','\\\\alpha','\\\\beta','\\\\sigma','\\\\rho','\\\\nu_3','\\\\nu_2','\\\\nu_1']\n",
    "color=['c','b','a','i','j','j\\'','i\\'','a\\'','b\\'','c\\'']\n",
    "quark=['d','d','u','sb','u','ub','s','ub','db','db']\n",
    "\n",
    "diquark=[[1,2],[7,8]]\n",
    "spin_pair=[[0,9],[1,8],[2,7],[3,4],[5,6]]\n",
    "\n",
    "output=[]\n",
    "OUTPUT=[]\n",
    "\n",
    "contraction(quark,0,output,OUTPUT)\n",
    "PRINT=print_Trace(OUTPUT,quark,spin,color,position,overall2,diquark,spin_pair)\n",
    "display(simplify(PRINT))\n",
    "\n",
    "\n",
    "#for q in print_propagator_with_diquark(OUTPUT,quark,spin,color,position,overall,diquark):\n",
    "#    display(q)\n"
   ]
  },
  {
   "cell_type": "markdown",
   "id": "89322c04-16b8-4879-8a23-3fc0449d64f5",
   "metadata": {
    "jupyter": {
     "source_hidden": true
    },
    "tags": []
   },
   "source": [
    "# S=-1, I=1 System"
   ]
  },
  {
   "cell_type": "markdown",
   "id": "3b367fd6-26da-4fa9-9755-fe07644e23d6",
   "metadata": {
    "jupyter": {
     "source_hidden": true
    },
    "tags": []
   },
   "source": [
    "# $<1,1|1,1>=<p(y') \\overline{K}^{0}(y) | K^{0}(x) \\overline{p}(x')> = \\frac{1}{2}\\epsilon_{abc}\\epsilon_{a'b'c'} \\bigg( u^{c}_{\\mu_1}(y') \\big[u^{b}_{\\mu_2}(y') d^{a}_{\\mu_3}(y')\\big] \\overline{d}^{i}_{\\alpha}(y)[\\gamma_5]_{\\alpha \\beta} s^{j}_{\\beta}(y) \\overline{s}^{j'}_{\\sigma}(x) [\\gamma_{5}]_{\\sigma \\rho} d^{i'}_{\\rho}(x) \\big[\\overline{d}^{a'}_{\\nu3}(x') \\overline{u}^{b'}_{\\nu_2}(x')\\big] \\overline{u}^{c'}_{\\nu_1}(x') \\bigg) $"
   ]
  },
  {
   "cell_type": "code",
   "execution_count": null,
   "id": "911a2760-4452-478e-8401-2fe4295a7360",
   "metadata": {
    "jupyter": {
     "source_hidden": true
    },
    "tags": []
   },
   "outputs": [],
   "source": [
    "overall='\\\\frac{1}{2}\\epsilon_{abc}\\epsilon_{a\\'b\\'c\\'}[\\gamma_5]_{\\\\alpha\\\\beta}[\\gamma_5]_{\\\\sigma\\\\rho}'\n",
    "overall2=1/2*symbols('\\epsilon_{abc}\\epsilon_{a\\'b\\'c\\'}')\n",
    "position=['y\\'','y\\'','y\\'','y','y','x','x','x\\'','x\\'','x\\'']\n",
    "spin=['\\\\mu_1','\\\\mu_2','\\\\mu_3','\\\\alpha','\\\\beta','\\\\sigma','\\\\rho','\\\\nu_3','\\\\nu_2','\\\\nu_1']\n",
    "color=['c','b','a','i','j','j\\'','i\\'','a\\'','b\\'','c\\'']\n",
    "quark=['u','u','d','db','s','sb','d','db','ub','ub']\n",
    "\n",
    "diquark=[[1,2],[7,8]]\n",
    "spin_pair=[[0,9],[1,8],[2,7],[3,4],[5,6]]\n",
    "\n",
    "output=[]\n",
    "OUTPUT=[]\n",
    "\n",
    "contraction(quark,0,output,OUTPUT)\n",
    "PRINT=print_Trace(OUTPUT,quark,spin,color,position,overall2,diquark,spin_pair)\n",
    "display(simplify(PRINT))\n",
    "\n",
    "#for q in print_propagator_with_diquark(OUTPUT,quark,spin,color,position,overall,diquark):\n",
    "#    display(q)\n"
   ]
  },
  {
   "cell_type": "markdown",
   "id": "671f1973-0a0c-4348-85c1-1ccb414300c9",
   "metadata": {
    "jupyter": {
     "source_hidden": true
    },
    "tags": []
   },
   "source": [
    "# $<1,0|1,0>=\\frac{1}{2}\\bigg\\{ <p(y') K^{-}(y) | \\overline{K}^{-}(x) \\overline{p}(x')> + <p(y') K^{-}(y) | K^{0}(x) \\overline{n}(x')> + <n(y') \\overline{K}^{0}(y) | \\overline{K}^{-}(x) \\overline{p}(x')> + <n(y') \\overline{K}^{0}(y) | K^{0}(x) \\overline{n}(x')> \\bigg\\}$"
   ]
  },
  {
   "cell_type": "markdown",
   "id": "60ecf0cc-dbfe-4db0-8060-813563071703",
   "metadata": {
    "jupyter": {
     "source_hidden": true
    },
    "tags": []
   },
   "source": [
    "# $\\frac{1}{2}\\bigg\\{ <p(y') K^{-}(y) | \\overline{K}^{-}(x) \\overline{p}(x')> \\bigg\\}=\\frac{1}{4}\\epsilon_{abc}\\epsilon_{a'b'c'} \\bigg( u^{c}_{\\mu_1}(y') \\big[u^{b}_{\\mu_2}(y') d^{a}_{\\mu_3}(y')\\big] \\overline{u}^{i}_{\\alpha}(y)[\\gamma_5]_{\\alpha \\beta} s^{j}_{\\beta}(y) \\overline{s}^{j'}_{\\sigma}(x) [\\gamma_{5}]_{\\sigma \\rho} u^{i'}_{\\rho}(x) \\big[\\overline{d}^{a'}_{\\nu3}(x') \\overline{u}^{b'}_{\\nu_2}(x')\\big] \\overline{u}^{c'}_{\\nu_1}(x') \\bigg) $"
   ]
  },
  {
   "cell_type": "code",
   "execution_count": null,
   "id": "d35167c2-2475-47c3-a216-0903e6153573",
   "metadata": {
    "jupyter": {
     "source_hidden": true
    },
    "tags": []
   },
   "outputs": [],
   "source": [
    "overall='\\\\frac{1}{4}\\epsilon_{abc}\\epsilon_{a\\'b\\'c\\'}[\\gamma_5]_{\\\\alpha\\\\beta}[\\gamma_5]_{\\\\sigma\\\\rho}'\n",
    "overall2=1/4*symbols('\\epsilon_{abc}\\epsilon_{a\\'b\\'c\\'}')\n",
    "position=['y\\'','y\\'','y\\'','y','y','x','x','x\\'','x\\'','x\\'']\n",
    "spin=['\\\\mu_1','\\\\mu_2','\\\\mu_3','\\\\alpha','\\\\beta','\\\\sigma','\\\\rho','\\\\nu_3','\\\\nu_2','\\\\nu_1']\n",
    "color=['c','b','a','i','j','j\\'','i\\'','a\\'','b\\'','c\\'']\n",
    "quark=['u','u','d','ub','s','sb','u','db','ub','ub']\n",
    "\n",
    "diquark=[[1,2],[7,8]]\n",
    "spin_pair=[[0,9],[1,8],[2,7],[3,4],[5,6]]\n",
    "\n",
    "output=[]\n",
    "OUTPUT=[]\n",
    "\n",
    "contraction(quark,0,output,OUTPUT)\n",
    "PRINT=print_Trace(OUTPUT,quark,spin,color,position,overall2,diquark,spin_pair)\n",
    "display(simplify(PRINT))\n",
    "\n",
    "\n",
    "#for q in print_propagator_with_diquark(OUTPUT,quark,spin,color,position,overall,diquark):\n",
    "#    display(q)\n"
   ]
  },
  {
   "cell_type": "markdown",
   "id": "f1677021-512b-4a51-a7de-7d5d490e136e",
   "metadata": {
    "jupyter": {
     "source_hidden": true
    },
    "tags": []
   },
   "source": [
    "# $\\frac{1}{2}\\bigg\\{ <p(y') K^{-}(y) | K^{0}(x) \\overline{n}(x')> \\bigg\\}=\\frac{1}{4}\\epsilon_{abc}\\epsilon_{a'b'c'} \\bigg( u^{c}_{\\mu_1}(y') \\big[u^{b}_{\\mu_2}(y') d^{a}_{\\mu_3}(y')\\big] \\overline{u}^{i}_{\\alpha}(y)[\\gamma_5]_{\\alpha \\beta} s^{j}_{\\beta}(y) \\overline{s}^{j'}_{\\sigma}(x) [\\gamma_{5}]_{\\sigma \\rho} d^{i'}_{\\rho}(x) \\big[\\overline{u}^{a'}_{\\nu3}(x') \\overline{d}^{b'}_{\\nu_2}(x')\\big] \\overline{d}^{c'}_{\\nu_1}(x') \\bigg) $"
   ]
  },
  {
   "cell_type": "code",
   "execution_count": null,
   "id": "3b3661b5-ab55-4f96-87d6-cb74ff3c1bb9",
   "metadata": {
    "jupyter": {
     "source_hidden": true
    },
    "tags": []
   },
   "outputs": [],
   "source": [
    "overall='\\\\frac{1}{4}\\epsilon_{abc}\\epsilon_{a\\'b\\'c\\'}[\\gamma_5]_{\\\\alpha\\\\beta}[\\gamma_5]_{\\\\sigma\\\\rho}'\n",
    "overall2=1/4*symbols('\\epsilon_{abc}\\epsilon_{a\\'b\\'c\\'}')\n",
    "position=['y\\'','y\\'','y\\'','y','y','x','x','x\\'','x\\'','x\\'']\n",
    "spin=['\\\\mu_1','\\\\mu_2','\\\\mu_3','\\\\alpha','\\\\beta','\\\\sigma','\\\\rho','\\\\nu_3','\\\\nu_2','\\\\nu_1']\n",
    "color=['c','b','a','i','j','j\\'','i\\'','a\\'','b\\'','c\\'']\n",
    "quark=['u','u','d','ub','s','sb','d','ub','db','db']\n",
    "\n",
    "diquark=[[1,2],[7,8]]\n",
    "spin_pair=[[0,9],[1,8],[2,7],[3,4],[5,6]]\n",
    "\n",
    "output=[]\n",
    "OUTPUT=[]\n",
    "\n",
    "contraction(quark,0,output,OUTPUT)\n",
    "PRINT=print_Trace(OUTPUT,quark,spin,color,position,overall2,diquark,spin_pair)\n",
    "display(simplify(PRINT))\n",
    "\n",
    "\n",
    "#for q in print_propagator_with_diquark(OUTPUT,quark,spin,color,position,overall,diquark):\n",
    "#    display(q)\n"
   ]
  },
  {
   "cell_type": "markdown",
   "id": "677e4eed-1806-4122-a9dd-2e8569456810",
   "metadata": {
    "jupyter": {
     "source_hidden": true
    },
    "tags": []
   },
   "source": [
    "# $\\frac{1}{2}\\bigg\\{ <n(y') \\overline{K}^{0}(y) | \\overline{K}^{-}(x) \\overline{p}(x')> \\bigg\\}=\\frac{1}{4}\\epsilon_{abc}\\epsilon_{a'b'c'} \\bigg( d^{c}_{\\mu_1}(y') \\big[d^{b}_{\\mu_2}(y') u^{a}_{\\mu_3}(y')\\big] \\overline{d}^{i}_{\\alpha}(y)[\\gamma_5]_{\\alpha \\beta} s^{j}_{\\beta}(y) \\overline{s}^{j'}_{\\sigma}(x) [\\gamma_{5}]_{\\sigma \\rho} u^{i'}_{\\rho}(x) \\big[\\overline{d}^{a'}_{\\nu3}(x') \\overline{u}^{b'}_{\\nu_2}(x')\\big] \\overline{u}^{c'}_{\\nu_1}(x') \\bigg) $"
   ]
  },
  {
   "cell_type": "code",
   "execution_count": null,
   "id": "7cef2137-1453-444e-a254-7822c83eaa61",
   "metadata": {
    "jupyter": {
     "source_hidden": true
    },
    "tags": []
   },
   "outputs": [],
   "source": [
    "overall='\\\\frac{1}{4}\\epsilon_{abc}\\epsilon_{a\\'b\\'c\\'}[\\gamma_5]_{\\\\alpha\\\\beta}[\\gamma_5]_{\\\\sigma\\\\rho}'\n",
    "overall2=1/4*symbols('\\epsilon_{abc}\\epsilon_{a\\'b\\'c\\'}')\n",
    "position=['y\\'','y\\'','y\\'','y','y','x','x','x\\'','x\\'','x\\'']\n",
    "spin=['\\\\mu_1','\\\\mu_2','\\\\mu_3','\\\\alpha','\\\\beta','\\\\sigma','\\\\rho','\\\\nu_3','\\\\nu_2','\\\\nu_1']\n",
    "color=['c','b','a','i','j','j\\'','i\\'','a\\'','b\\'','c\\'']\n",
    "quark=['d','d','u','db','s','sb','u','db','ub','ub']\n",
    "\n",
    "diquark=[[1,2],[7,8]]\n",
    "spin_pair=[[0,9],[1,8],[2,7],[3,4],[5,6]]\n",
    "\n",
    "output=[]\n",
    "OUTPUT=[]\n",
    "\n",
    "contraction(quark,0,output,OUTPUT)\n",
    "PRINT=print_Trace(OUTPUT,quark,spin,color,position,overall2,diquark,spin_pair)\n",
    "display(simplify(PRINT))\n",
    "\n",
    "\n",
    "#for q in print_propagator_with_diquark(OUTPUT,quark,spin,color,position,overall,diquark):\n",
    "#    display(q)\n"
   ]
  },
  {
   "cell_type": "markdown",
   "id": "5bfc7d3b-8b74-41de-9c17-e23d075841f6",
   "metadata": {
    "jupyter": {
     "source_hidden": true
    },
    "tags": []
   },
   "source": [
    "# $\\frac{1}{2}\\bigg\\{ <n(y') \\overline{K}^{0}(y) | K^{0}(x) \\overline{n}(x')> \\bigg\\}=\\frac{1}{4}\\epsilon_{abc}\\epsilon_{a'b'c'} \\bigg( d^{c}_{\\mu_1}(y') \\big[d^{b}_{\\mu_2}(y') u^{a}_{\\mu_3}(y')\\big] \\overline{d}^{i}_{\\alpha}(y)[\\gamma_5]_{\\alpha \\beta} s^{j}_{\\beta}(y) \\overline{s}^{j'}_{\\sigma}(x) [\\gamma_{5}]_{\\sigma \\rho} d^{i'}_{\\rho}(x) \\big[\\overline{u}^{a'}_{\\nu3}(x') \\overline{d}^{b'}_{\\nu_2}(x')\\big] \\overline{d}^{c'}_{\\nu_1}(x') \\bigg) $"
   ]
  },
  {
   "cell_type": "code",
   "execution_count": null,
   "id": "5ebb3969-c333-4f89-9570-bdcdab883ae9",
   "metadata": {
    "jupyter": {
     "source_hidden": true
    },
    "tags": []
   },
   "outputs": [],
   "source": [
    "overall='\\\\frac{1}{4}\\epsilon_{abc}\\epsilon_{a\\'b\\'c\\'}[\\gamma_5]_{\\\\alpha\\\\beta}[\\gamma_5]_{\\\\sigma\\\\rho}'\n",
    "overall2=1/4*symbols('\\epsilon_{abc}\\epsilon_{a\\'b\\'c\\'}')\n",
    "position=['y\\'','y\\'','y\\'','y','y','x','x','x\\'','x\\'','x\\'']\n",
    "spin=['\\\\mu_1','\\\\mu_2','\\\\mu_3','\\\\alpha','\\\\beta','\\\\sigma','\\\\rho','\\\\nu_3','\\\\nu_2','\\\\nu_1']\n",
    "color=['c','b','a','i','j','j\\'','i\\'','a\\'','b\\'','c\\'']\n",
    "quark=['d','d','u','db','s','sb','d','ub','db','db']\n",
    "\n",
    "diquark=[[1,2],[7,8]]\n",
    "spin_pair=[[0,9],[1,8],[2,7],[3,4],[5,6]]\n",
    "\n",
    "output=[]\n",
    "OUTPUT=[]\n",
    "\n",
    "contraction(quark,0,output,OUTPUT)\n",
    "PRINT=print_Trace(OUTPUT,quark,spin,color,position,overall2,diquark,spin_pair)\n",
    "display(simplify(PRINT))\n",
    "\n",
    "\n",
    "#or q in print_propagator_with_diquark(OUTPUT,quark,spin,color,position,overall,diquark):\n",
    "#   display(q)\n"
   ]
  },
  {
   "cell_type": "markdown",
   "id": "b83aa33f-a893-410e-b60f-0ded8bd1f9b8",
   "metadata": {
    "jupyter": {
     "source_hidden": true
    },
    "tags": []
   },
   "source": [
    "# $<1,-1|1,-1>=<n(y') K^{-}(y) | \\overline{K}^{-}(x) \\overline{n}(x')> = \\frac{1}{2}\\epsilon_{abc}\\epsilon_{a'b'c'} \\bigg( d^{c}_{\\mu_1}(y') \\big[d^{b}_{\\mu_2}(y') u^{a}_{\\mu_3}(y')\\big] \\overline{u}^{i}_{\\alpha}(y)[\\gamma_5]_{\\alpha \\beta} s^{j}_{\\beta}(y) \\overline{s}^{j'}_{\\sigma}(x) [\\gamma_{5}]_{\\sigma \\rho} u^{i'}_{\\rho}(x) \\big[\\overline{u}^{a'}_{\\nu3}(x') \\overline{d}^{b'}_{\\nu_2}(x')\\big] \\overline{d}^{c'}_{\\nu_1}(x') \\bigg) $"
   ]
  },
  {
   "cell_type": "code",
   "execution_count": null,
   "id": "e672b635-6547-40f7-8ed7-f1d5f2cd5b29",
   "metadata": {
    "jupyter": {
     "source_hidden": true
    },
    "tags": []
   },
   "outputs": [],
   "source": [
    "overall='\\\\frac{1}{2}\\epsilon_{abc}\\epsilon_{a\\'b\\'c\\'}[\\gamma_5]_{\\\\alpha\\\\beta}[\\gamma_5]_{\\\\sigma\\\\rho}'\n",
    "overall2=1/2*symbols('\\epsilon_{abc}\\epsilon_{a\\'b\\'c\\'}')\n",
    "position=['y\\'','y\\'','y\\'','y','y','x','x','x\\'','x\\'','x\\'']\n",
    "spin=['\\\\mu_1','\\\\mu_2','\\\\mu_3','\\\\alpha','\\\\beta','\\\\sigma','\\\\rho','\\\\nu_3','\\\\nu_2','\\\\nu_1']\n",
    "color=['c','b','a','i','j','j\\'','i\\'','a\\'','b\\'','c\\'']\n",
    "quark=['d','d','u','ub','s','sb','u','ub','db','db']\n",
    "\n",
    "diquark=[[1,2],[7,8]]\n",
    "spin_pair=[[0,9],[1,8],[2,7],[3,4],[5,6]]\n",
    "\n",
    "output=[]\n",
    "OUTPUT=[]\n",
    "\n",
    "contraction(quark,0,output,OUTPUT)\n",
    "print(OUTPUT)\n",
    "PRINT=print_Trace(OUTPUT,quark,spin,color,position,overall2,diquark,spin_pair)\n",
    "display(simplify(PRINT))\n",
    "\n",
    "#for q in print_propagator_with_diquark(OUTPUT,quark,spin,color,position,overall,diquark):\n",
    "#    display(q)\n"
   ]
  },
  {
   "cell_type": "markdown",
   "id": "03b1ac9d-4282-4a3a-885a-6eb958d2210a",
   "metadata": {
    "jupyter": {
     "source_hidden": true
    },
    "tags": []
   },
   "source": [
    "# S=-1, I=0 System"
   ]
  },
  {
   "cell_type": "markdown",
   "id": "e5e04f2d-2aad-4c1b-8b9d-67cee95cc73b",
   "metadata": {
    "jupyter": {
     "source_hidden": true
    },
    "tags": []
   },
   "source": [
    "# $<1,0|1,0>=\\frac{1}{2}\\bigg\\{ <p(y') K^{-}(y) | \\overline{K}^{-}(x) \\overline{p}(x')> - <p(y') K^{-}(y) | K^{0}(x) \\overline{n}(x')> - <n(y') \\overline{K}^{0}(y) | \\overline{K}^{-}(x) \\overline{p}(x')> + <n(y') \\overline{K}^{0}(y) | K^{0}(x) \\overline{n}(x')> \\bigg\\}$"
   ]
  },
  {
   "cell_type": "markdown",
   "id": "d41f6da7-14bf-4fd7-9655-8c146e1e35cb",
   "metadata": {
    "jupyter": {
     "source_hidden": true
    },
    "tags": []
   },
   "source": [
    "# $\\frac{1}{2}\\bigg\\{ <p(y') K^{-}(y) | \\overline{K}^{-}(x) \\overline{p}(x')> \\bigg\\}=\\frac{1}{4}\\epsilon_{abc}\\epsilon_{a'b'c'} \\bigg( u^{c}_{\\mu_1}(y') \\big[u^{b}_{\\mu_2}(y') d^{a}_{\\mu_3}(y')\\big] \\overline{u}^{i}_{\\alpha}(y)[\\gamma_5]_{\\alpha \\beta} s^{j}_{\\beta}(y) \\overline{s}^{j'}_{\\sigma}(x) [\\gamma_{5}]_{\\sigma \\rho} u^{i'}_{\\rho}(x) \\big[\\overline{d}^{a'}_{\\nu3}(x') \\overline{u}^{b'}_{\\nu_2}(x')\\big] \\overline{u}^{c'}_{\\nu_1}(x') \\bigg) $"
   ]
  },
  {
   "cell_type": "code",
   "execution_count": null,
   "id": "f8bb31f8-1dbc-4c15-8603-cc2ff7819033",
   "metadata": {
    "jupyter": {
     "source_hidden": true
    },
    "tags": []
   },
   "outputs": [],
   "source": [
    "overall='\\\\frac{1}{4}\\epsilon_{abc}\\epsilon_{a\\'b\\'c\\'}[\\gamma_5]_{\\\\alpha\\\\beta}[\\gamma_5]_{\\\\sigma\\\\rho}'\n",
    "overall2=1/4*symbols('\\epsilon_{abc}\\epsilon_{a\\'b\\'c\\'}')\n",
    "position=['y\\'','y\\'','y\\'','y','y','x','x','x\\'','x\\'','x\\'']\n",
    "spin=['\\\\mu_1','\\\\mu_2','\\\\mu_3','\\\\alpha','\\\\beta','\\\\sigma','\\\\rho','\\\\nu_3','\\\\nu_2','\\\\nu_1']\n",
    "color=['c','b','a','i','j','j\\'','i\\'','a\\'','b\\'','c\\'']\n",
    "quark=['u','u','d','ub','s','sb','u','db','ub','ub']\n",
    "\n",
    "diquark=[[1,2],[7,8]]\n",
    "spin_pair=[[0,9],[1,8],[2,7],[3,4],[5,6]]\n",
    "\n",
    "output=[]\n",
    "OUTPUT=[]\n",
    "\n",
    "contraction(quark,0,output,OUTPUT)\n",
    "PRINT=print_Trace(OUTPUT,quark,spin,color,position,overall2,diquark,spin_pair)\n",
    "display(simplify(PRINT))\n",
    "\n",
    "#for q in print_propagator_with_diquark(OUTPUT,quark,spin,color,position,overall,diquark):\n",
    "#    display(q)\n"
   ]
  },
  {
   "cell_type": "markdown",
   "id": "c943b000-1cb7-4657-a4a7-5ba402f56249",
   "metadata": {
    "jupyter": {
     "source_hidden": true
    },
    "tags": []
   },
   "source": [
    "# $-\\frac{1}{2}\\bigg\\{ <p(y') K^{-}(y) | K^{0}(x) \\overline{n}(x')> \\bigg\\}=-\\frac{1}{4}\\epsilon_{abc}\\epsilon_{a'b'c'} \\bigg( u^{c}_{\\mu_1}(y') \\big[u^{b}_{\\mu_2}(y') d^{a}_{\\mu_3}(y')\\big] \\overline{u}^{i}_{\\alpha}(y)[\\gamma_5]_{\\alpha \\beta} s^{j}_{\\beta}(y) \\overline{s}^{j'}_{\\sigma}(x) [\\gamma_{5}]_{\\sigma \\rho} d^{i'}_{\\rho}(x) \\big[\\overline{u}^{a'}_{\\nu3}(x') \\overline{d}^{b'}_{\\nu_2}(x')\\big] \\overline{d}^{c'}_{\\nu_1}(x') \\bigg) $"
   ]
  },
  {
   "cell_type": "code",
   "execution_count": null,
   "id": "9a710615-2f82-4c36-84cc-2ca5e90ac43d",
   "metadata": {
    "jupyter": {
     "source_hidden": true
    },
    "tags": []
   },
   "outputs": [],
   "source": [
    "overall='-\\\\frac{1}{4}\\epsilon_{abc}\\epsilon_{a\\'b\\'c\\'}[\\gamma_5]_{\\\\alpha\\\\beta}[\\gamma_5]_{\\\\sigma\\\\rho}'\n",
    "overall2=-1/4*symbols('\\epsilon_{abc}\\epsilon_{a\\'b\\'c\\'}')\n",
    "position=['y\\'','y\\'','y\\'','y','y','x','x','x\\'','x\\'','x\\'']\n",
    "spin=['\\\\mu_1','\\\\mu_2','\\\\mu_3','\\\\alpha','\\\\beta','\\\\sigma','\\\\rho','\\\\nu_3','\\\\nu_2','\\\\nu_1']\n",
    "color=['c','b','a','i','j','j\\'','i\\'','a\\'','b\\'','c\\'']\n",
    "quark=['u','u','d','ub','s','sb','d','ub','db','db']\n",
    "\n",
    "diquark=[[1,2],[7,8]]\n",
    "spin_pair=[[0,9],[1,8],[2,7],[3,4],[5,6]]\n",
    "\n",
    "output=[]\n",
    "OUTPUT=[]\n",
    "\n",
    "contraction(quark,0,output,OUTPUT)\n",
    "PRINT=print_Trace(OUTPUT,quark,spin,color,position,overall2,diquark,spin_pair)\n",
    "display(simplify(PRINT))\n",
    "\n",
    "# for q in print_propagator_with_diquark(OUTPUT,quark,spin,color,position,overall,diquark):\n",
    "#     display(q)\n"
   ]
  },
  {
   "cell_type": "markdown",
   "id": "5ddf3d35-ae2d-4963-be88-b84c1ffadf3d",
   "metadata": {
    "jupyter": {
     "source_hidden": true
    },
    "tags": []
   },
   "source": [
    "# $-\\frac{1}{2}\\bigg\\{ <n(y') \\overline{K}^{0}(y) | \\overline{K}^{-}(x) \\overline{p}(x')> \\bigg\\}=-\\frac{1}{4}\\epsilon_{abc}\\epsilon_{a'b'c'} \\bigg( d^{c}_{\\mu_1}(y') \\big[d^{b}_{\\mu_2}(y') u^{a}_{\\mu_3}(y')\\big] \\overline{d}^{i}_{\\alpha}(y)[\\gamma_5]_{\\alpha \\beta} s^{j}_{\\beta}(y) \\overline{s}^{j'}_{\\sigma}(x) [\\gamma_{5}]_{\\sigma \\rho} u^{i'}_{\\rho}(x) \\big[\\overline{d}^{a'}_{\\nu3}(x') \\overline{u}^{b'}_{\\nu_2}(x')\\big] \\overline{u}^{c'}_{\\nu_1}(x') \\bigg) $"
   ]
  },
  {
   "cell_type": "code",
   "execution_count": null,
   "id": "2f56b9a1-b976-45b3-a2e4-a73b7f482e29",
   "metadata": {
    "jupyter": {
     "source_hidden": true
    },
    "tags": []
   },
   "outputs": [],
   "source": [
    "overall='-\\\\frac{1}{4}\\epsilon_{abc}\\epsilon_{a\\'b\\'c\\'}[\\gamma_5]_{\\\\alpha\\\\beta}[\\gamma_5]_{\\\\sigma\\\\rho}'\n",
    "overall2=-1/4*symbols('\\epsilon_{abc}\\epsilon_{a\\'b\\'c\\'}')\n",
    "position=['y\\'','y\\'','y\\'','y','y','x','x','x\\'','x\\'','x\\'']\n",
    "spin=['\\\\mu_1','\\\\mu_2','\\\\mu_3','\\\\alpha','\\\\beta','\\\\sigma','\\\\rho','\\\\nu_3','\\\\nu_2','\\\\nu_1']\n",
    "color=['c','b','a','i','j','j\\'','i\\'','a\\'','b\\'','c\\'']\n",
    "quark=['d','d','u','db','s','sb','u','db','ub','ub']\n",
    "\n",
    "diquark=[[1,2],[7,8]]\n",
    "spin_pair=[[0,9],[1,8],[2,7],[3,4],[5,6]]\n",
    "\n",
    "output=[]\n",
    "OUTPUT=[]\n",
    "\n",
    "contraction(quark,0,output,OUTPUT)\n",
    "PRINT=print_Trace(OUTPUT,quark,spin,color,position,overall2,diquark,spin_pair)\n",
    "display(simplify(PRINT))\n",
    "\n",
    "\n",
    "# for q in print_propagator_with_diquark(OUTPUT,quark,spin,color,position,overall,diquark):\n",
    "#     display(q)\n"
   ]
  },
  {
   "cell_type": "markdown",
   "id": "d5faa621-8896-487a-a93c-b601b7c3b93c",
   "metadata": {
    "jupyter": {
     "source_hidden": true
    },
    "tags": []
   },
   "source": [
    "# $\\frac{1}{2}\\bigg\\{ <n(y') \\overline{K}^{0}(y) | K^{0}(x) \\overline{n}(x')> \\bigg\\}=\\frac{1}{4}\\epsilon_{abc}\\epsilon_{a'b'c'} \\bigg( d^{c}_{\\mu_1}(y') \\big[d^{b}_{\\mu_2}(y') u^{a}_{\\mu_3}(y')\\big] \\overline{d}^{i}_{\\alpha}(y)[\\gamma_5]_{\\alpha \\beta} s^{j}_{\\beta}(y) \\overline{s}^{j'}_{\\sigma}(x) [\\gamma_{5}]_{\\sigma \\rho} d^{i'}_{\\rho}(x) \\big[\\overline{u}^{a'}_{\\nu3}(x') \\overline{d}^{b'}_{\\nu_2}(x')\\big] \\overline{d}^{c'}_{\\nu_1}(x') \\bigg) $"
   ]
  },
  {
   "cell_type": "code",
   "execution_count": null,
   "id": "ad418e00-9adc-40a8-a5b6-bd85c29b5f8e",
   "metadata": {
    "jupyter": {
     "source_hidden": true
    },
    "tags": []
   },
   "outputs": [],
   "source": [
    "overall='\\\\frac{1}{4}\\epsilon_{abc}\\epsilon_{a\\'b\\'c\\'}[\\gamma_5]_{\\\\alpha\\\\beta}[\\gamma_5]_{\\\\sigma\\\\rho}'\n",
    "overall2=1/4*symbols('\\epsilon_{abc}\\epsilon_{a\\'b\\'c\\'}')\n",
    "position=['y\\'','y\\'','y\\'','y','y','x','x','x\\'','x\\'','x\\'']\n",
    "spin=['\\\\mu_1','\\\\mu_2','\\\\mu_3','\\\\alpha','\\\\beta','\\\\sigma','\\\\rho','\\\\nu_3','\\\\nu_2','\\\\nu_1']\n",
    "color=['c','b','a','i','j','j\\'','i\\'','a\\'','b\\'','c\\'']\n",
    "quark=['d','d','u','db','s','sb','d','ub','db','db']\n",
    "\n",
    "diquark=[[1,2],[7,8]]\n",
    "spin_pair=[[0,9],[1,8],[2,7],[3,4],[5,6]]\n",
    "\n",
    "output=[]\n",
    "OUTPUT=[]\n",
    "\n",
    "contraction(quark,0,output,OUTPUT)\n",
    "PRINT=print_Trace(OUTPUT,quark,spin,color,position,overall2,diquark,spin_pair)\n",
    "display(simplify(PRINT))\n",
    "\n",
    "\n",
    "# for q in print_propagator_with_diquark(OUTPUT,quark,spin,color,position,overall,diquark):\n",
    "#     display(q)\n"
   ]
  },
  {
   "cell_type": "markdown",
   "id": "d6ebd39d-fe8f-42e4-9be2-7f48bbf7cd21",
   "metadata": {
    "jupyter": {
     "source_hidden": true
    },
    "tags": []
   },
   "source": [
    "# S=-1 I=0\n",
    "\n",
    "$|1> = -\\frac{1}{2\\sqrt{2}} |\\eta \\Lambda> -\\frac{1}{2}|\\overline{K} N> + \\frac{1}{2}|K \\Xi> \\frac{1}{2}\\sqrt{\\frac{3}{2}}|\\pi \\Sigma> $\n",
    "\n",
    "$<1|1> = (-\\frac{1}{2\\sqrt{2}} <\\eta \\Lambda| -\\frac{1}{2}<\\overline{K} N| + \\frac{1}{2}<K \\Xi| \\frac{1}{2}\\sqrt{\\frac{3}{2}}<\\pi \\Sigma| ) (-\\frac{1}{2\\sqrt{2}} |\\overline{\\eta} \\overline{\\Lambda}> -\\frac{1}{2}|K| \\overline{N}> + \\frac{1}{2}|\\overline{K} \\overline{\\Xi}> \\frac{1}{2}\\sqrt{\\frac{3}{2}}|\\overline{\\pi} \\overline{\\Sigma}> )$\n",
    "\n",
    "$|\\overline{K} N> = \\frac{1}{\\sqrt{2}}(|K^{-} p> - |\\overline{K}^{0} n>)$\n",
    "\n",
    "$|K^{-}>=|s \\overline{u}>$\n",
    "\n",
    "$|K^{+}>=|u \\overline{s}>$\n",
    "\n",
    "$|\\eta \\Lambda>= |\\eta \\Lambda^{0}>$\n",
    "\n",
    "$|\\eta>=\\frac{1}{\\sqrt{3}}(|u\\overline{u}> + |d\\overline{d}> + |s\\overline{s}>)$\n",
    "\n",
    "$|\\Lambda^{0}>=| u d s>$\n",
    "\n",
    "$| K \\Xi> = \\frac{1}{\\sqrt{2}}(|K^{0} \\Xi^{0}> - |K^{+} \\Xi^{-}>)$\n",
    "\n",
    "$|K^{0}>=|d \\overline{s}>$\n",
    "\n",
    "$|\\overline{K}^{0}>=|\\overline{d} s>$\n",
    "\n",
    "$|\\Xi^{0}>=|u s s>$\n",
    "\n",
    "$|\\Xi^{-}>=|d s s>$\n",
    "\n",
    "$| \\pi \\Sigma>=\\frac{1}{\\sqrt{3}}(|\\pi^{+} \\Sigma^{-}> - |\\pi^{0} \\Sigma^{0}> + |\\pi^{-}\\Sigma^{+}>)$\n",
    "\n",
    "$|\\pi^{+}>=|u \\overline{d}>$\n",
    "\n",
    "$|\\pi^{0}>=\\frac{1}{\\sqrt{2}}(|u \\overline{u}> - |d \\overline{d}>)$\n",
    "\n",
    "$|\\pi^{-}>=|d \\overline{u}>$\n",
    "\n",
    "$|\\Sigma^{+}>=|uus>$\n",
    "\n",
    "$|\\Sigma^{0}>=|uds>$\n",
    "\n",
    "$|\\Sigma^{-}>=|dds>$"
   ]
  },
  {
   "cell_type": "markdown",
   "id": "68fe2c26-ad2e-4a4c-9c99-b9a37fea93f4",
   "metadata": {},
   "source": [
    "# <1|1>"
   ]
  },
  {
   "cell_type": "code",
   "execution_count": 6,
   "id": "36f6e986-6395-4d0e-ade6-517899db6eac",
   "metadata": {
    "tags": []
   },
   "outputs": [
    {
     "name": "stdout",
     "output_type": "stream",
     "text": [
      "11 11\n",
      "[['s', 'd', 'u', 'ub', 'u'], ['s', 'd', 'u', 'db', 'd'], ['s', 'd', 'u', 'sb', 's'], ['d', 'u', 'u', 'ub', 's'], ['d', 'd', 'u', 'db', 's'], ['s', 's', 'u', 'sb', 'd'], ['s', 's', 'd', 'sb', 'u'], ['s', 'd', 'd', 'db', 'u'], ['s', 'd', 'u', 'ub', 'u'], ['s', 'd', 'u', 'db', 'd'], ['s', 'u', 'u', 'ub', 'd']]\n"
     ]
    },
    {
     "data": {
      "image/png": "[encoded data removed]",
      "text/latex": [
       "$\\displaystyle 0$"
      ],
      "text/plain": [
       "0"
      ]
     },
     "metadata": {},
     "output_type": "display_data"
    }
   ],
   "source": [
    "p=['d','u','u']\n",
    "n=['d','d','u']\n",
    "Kp=['sb','u']\n",
    "K0=['sb','d']\n",
    "Kb0=['db','s']\n",
    "Km=['ub','s']\n",
    "eta=[['ub','u'],['db','d'],['sb','s']]\n",
    "Lambda0=['s','d','u']\n",
    "Xi0=['s','s','u']\n",
    "Xim=['s','s','d']\n",
    "pip=['db','u']\n",
    "pi0=[['ub','u'],['db','d']]\n",
    "pim=['ub','d']\n",
    "Sigmap=['s','u','u']\n",
    "Sigma0=['s','d','u']\n",
    "Sigmam=['s','d','d']\n",
    "\n",
    "\n",
    "position=['y','y','y','y','y','x','x','x','x','x']\n",
    "spin=['1','2','1','\\\\alpha','\\\\beta','\\\\sigma','\\\\rho','1','2','1']\n",
    "#spin=['1','2','1','\\\\alpha','\\\\beta','\\\\beta','\\\\alpha','1','2','1']\n",
    "color=['c','b','a','i','i','j','j','a\\'','b\\'','c\\'']\n",
    "diquark=[[1,2],[7,8]]\n",
    "spin_pair=[[0,9],[1,8],[2,7],[3,4],[5,6]]\n",
    "color1=['a','b','c']\n",
    "color2=['a\\'','b\\'','c\\'']\n",
    "\n",
    "\n",
    "def depth(L): return isinstance(L, list) and max(map(depth, L))+1\n",
    "\n",
    "\n",
    "def add(baryon,meson):\n",
    "    if depth(meson) != 1:\n",
    "        output=[]\n",
    "        for m in meson:\n",
    "            output.append(add(baryon,m))\n",
    "        return output\n",
    "    else:\n",
    "        return baryon+meson\n",
    "\n",
    "epsilon_tensor=symbols('\\epsilon_{abc}\\epsilon_{a\\'b\\'c\\'}\\gamma^{\\\\alpha\\\\beta}_5\\gamma^{\\\\rho\\\\sigma}_5')\n",
    "#epsilon_tensor=symbols('\\epsilon_{abc}\\epsilon_{a\\'b\\'c\\'}')\n",
    "OVERALL=[-1/2/np.sqrt(2)/np.sqrt(6), -1/2/np.sqrt(2)/np.sqrt(6), 1/np.sqrt(2)/np.sqrt(6), -1/2/np.sqrt(2), 1/2/np.sqrt(2), 1/2/np.sqrt(2), -1/2/np.sqrt(2), 1/2/np.sqrt(2),1/2/np.sqrt(2),-1/4,1/4]\n",
    "#OVERALL=[-1/2/np.sqrt(2)/np.sqrt(3), -1/2/np.sqrt(2), 1/2/np.sqrt(2), 1/2/np.sqrt(2), -1/2/np.sqrt(2), 1/2*np.sqrt(3/2)/np.sqrt(3), -1/2*np.sqrt(3/2)/np.sqrt(3)/np.sqrt(3), 1/2*np.sqrt(3/2)/np.sqrt(3)]\n",
    "\n",
    "#OVERALL=[symbols('-1/2/\\sqrt(2)'), symbols('-1/2/\\sqrt(2)'), symbols('-1/2/\\sqrt(2)'), symbols('1/2/\\sqrt(2)'), symbols('1/2/\\sqrt(2)'), symbols('1/2\\sqrt(3/2)/\\sqrt(3)'), symbols('1/2*np.sqrt(3/2)/\\sqrt(3)'), symbols('1/2*np.sqrt(3/2)/\\sqrt(3)')]\n",
    "Q=[add(Lambda0,eta),add(p,Km),add(n,Kb0),add(Xi0,K0),add(Xim,Kp),add(Sigmam,pip),add(Sigma0,pi0),add(Sigmap,pim)]\n",
    "OVERALL_reverse=deepcopy(OVERALL)\n",
    "OVERALL_reverse.reverse()\n",
    "\n",
    "QUARK=[]\n",
    "for q in Q:\n",
    "    if depth(q) != 1:\n",
    "        for qq in q:\n",
    "            QUARK.append(qq)\n",
    "    else:\n",
    "        QUARK.append(q)\n",
    "\n",
    "print(len(OVERALL),len(QUARK))\n",
    "\n",
    "print(QUARK)\n",
    "#display(QUARK)    \n",
    "ANTIQUARK=[]\n",
    "for quark in QUARK:\n",
    "    quark_reverse=deepcopy(quark)\n",
    "    quark_reverse.reverse()\n",
    "    antiquark=[]\n",
    "    for q in quark_reverse:\n",
    "        antiquark.append(anti[q])\n",
    "        \n",
    "    ANTIQUARK.append(antiquark)\n",
    "\n",
    "#display(ANTIQUARK)    \n",
    "\n",
    "PRINT=0\n",
    "PRINT2=0\n",
    "for quark, coeff in zip(QUARK, OVERALL):\n",
    "    for antiquark, coeff_reverse in zip(ANTIQUARK, OVERALL_reverse):\n",
    "        Overall=coeff*coeff_reverse*epsilon_tensor\n",
    "        #print(quark+antiquark)\n",
    "        output=[]\n",
    "        OUTPUT=[]\n",
    "        contraction(quark+antiquark,0,output,OUTPUT)\n",
    "\n",
    "        PRINT3=print_propagator_with_diquark_color(OUTPUT,quark+antiquark,spin,color,position,Overall,diquark, color1, color2)\n",
    "        PRINT+=PRINT3\n",
    "        # for ab, alpha_beta in enumerate(['1','2','3','4']): \n",
    "        #     spin[3]=alpha_beta\n",
    "        #     spin[4]=alpha_beta\n",
    "        #     for sr, sigma_rho in enumerate(['1','2','3','4']): \n",
    "        #         spin[5]=sigma_rho\n",
    "        #         spin[6]=sigma_rho\n",
    "        #         PRINT2+=gamma5(ab,ab)*gamma5(sr,sr)*print_propagator_with_diquark_color(OUTPUT,quark+antiquark,spin,color,position,Overall,diquark, color1, color2)\n",
    "                                    \n",
    "display(simplify(PRINT))\n",
    "#display(simplify(PRINT2))\n",
    "#display(nsimplify(simplify(PRINT),tolerance=1e-10))\n",
    "#print(len(nsimplify(simplify(PRINT),tolerance=1e-10).args))\n",
    "#print((PRINT).args)\n",
    "#for term in nsimplify(simplify(PRINT),tolerance=1e-10).args:\n",
    "#    print(term)"
   ]
  },
  {
   "cell_type": "markdown",
   "id": "13e808fe-9445-444d-a453-400c07e0c521",
   "metadata": {},
   "source": [
    "# <1|8> must be zero"
   ]
  },
  {
   "cell_type": "code",
   "execution_count": 5,
   "id": "b1f9079f-c463-4ab7-8eae-de6bf6769578",
   "metadata": {},
   "outputs": [
    {
     "data": {
      "image/png": "[encoded data removed]",
      "text/latex": [
       "$\\displaystyle 0$"
      ],
      "text/plain": [
       "0"
      ]
     },
     "metadata": {},
     "output_type": "display_data"
    }
   ],
   "source": [
    "p=['d','u','u']\n",
    "n=['d','d','u']\n",
    "Kp=['sb','u']\n",
    "K0=['sb','d']\n",
    "Kb0=['db','s']\n",
    "Km=['ub','s']\n",
    "eta=[['ub','u'],['db','d'],['sb','s']]\n",
    "Lambda0=['s','d','u']\n",
    "Xi0=['s','s','u']\n",
    "Xim=['s','s','d']\n",
    "pip=['db','u']\n",
    "pi0=[['ub','u'],['db','d']]\n",
    "pim=['ub','d']\n",
    "Sigmap=['s','u','u']\n",
    "Sigma0=['s','d','u']\n",
    "Sigmam=['s','d','d']\n",
    "\n",
    "\n",
    "#position=['y\\'','y\\'','y\\'','y','y','x','x','x\\'','x\\'','x\\'']\n",
    "position=['y','y','y','y','y','x','x','x','x','x']\n",
    "#spin=['1','2','1','\\\\alpha','\\\\beta','\\\\sigma','\\\\rho','1','2','1']\n",
    "spin=['1','2','1','\\\\alpha','\\\\alpha','\\\\sigma','\\\\sigma','1','2','1']\n",
    "#spin=['1','2','1','\\\\alpha','\\\\beta','\\\\beta','\\\\alpha','1','2','1']\n",
    "#spin=['1','2','1','1','1','1','1','1','2','1']\n",
    "color=['c','b','a','i','i','j\\'','j\\'','a\\'','b\\'','c\\'']\n",
    "diquark=[[1,2],[7,8]]\n",
    "\n",
    "#color1=['a','b','c']\n",
    "#color2=['a\\'','b\\'','c\\'']\n",
    "color1=['0','1','2']\n",
    "color2=['0','1','2']\n",
    "\n",
    "\n",
    "def depth(L): return isinstance(L, list) and max(map(depth, L))+1\n",
    "\n",
    "\n",
    "def add(baryon,meson):\n",
    "    if depth(meson) != 1:\n",
    "        output=[]\n",
    "        for m in meson:\n",
    "            output.append(add(baryon,m))\n",
    "        return output\n",
    "    else:\n",
    "        return baryon+meson\n",
    "\n",
    "#epsilon_tensor=symbols('\\epsilon_{abc}\\epsilon_{a\\'b\\'c\\'}')*symbols('\\gamma_5^{\\\\alpha\\\\beta}')*symbols('\\gamma_5^{\\\\sigma\\\\rho}')\n",
    "#epsilon_tensor=symbols('\\gamma_5^{\\\\alpha\\\\alpha}')*symbols('\\gamma_5^{\\\\sigma\\\\sigma}')\n",
    "epsilon_tensor=symbols('\\epsilon_{abc}\\epsilon_{a\\'b\\'c\\'}\\gamma^{\\\\alpha\\\\beta}_5\\gamma^{\\\\rho\\\\sigma}_5')\n",
    "\n",
    "OVERALL_one=[-1/2/np.sqrt(2)/np.sqrt(6), -1/2/np.sqrt(2)/np.sqrt(6), 1/np.sqrt(2)/np.sqrt(6), -1/2/np.sqrt(2), 1/2/np.sqrt(2), 1/2/np.sqrt(2), -1/2/np.sqrt(2), 1/2/np.sqrt(2),1/2/np.sqrt(2),-1/4,1/4]\n",
    "\n",
    "OVERALL_eight=[-1/np.sqrt(5)/np.sqrt(6), -1/np.sqrt(5)/np.sqrt(6), 2/np.sqrt(5)/np.sqrt(6), -1/np.sqrt(10)/np.sqrt(2), 1/np.sqrt(10)/np.sqrt(2), 1/np.sqrt(10)/np.sqrt(2), -1/np.sqrt(10)/np.sqrt(2), -1/np.sqrt(5), -1/np.sqrt(5), 1/np.sqrt(10), -1/np.sqrt(10)]\n",
    "\n",
    "Q=[add(Lambda0,eta),add(p,Km),add(n,Kb0),add(Xi0,K0),add(Xim,Kp),add(Sigmam,pip),add(Sigma0,pi0),add(Sigmap,pim)]\n",
    "#OVERALL_eight_reverse=deepcopy(OVERALL_eight)\n",
    "OVERALL_eight.reverse()\n",
    "\n",
    "QUARK=[]\n",
    "for q in Q:\n",
    "    if depth(q) != 1:\n",
    "        for qq in q:\n",
    "            QUARK.append(qq)\n",
    "    else:\n",
    "        QUARK.append(q)\n",
    "\n",
    "#display(QUARK)    \n",
    "ANTIQUARK=[]\n",
    "for quark in QUARK:\n",
    "    quark_reverse=deepcopy(quark)\n",
    "    quark_reverse.reverse()\n",
    "    antiquark=[]\n",
    "    for q in quark_reverse:\n",
    "        antiquark.append(anti[q])\n",
    "        \n",
    "    ANTIQUARK.append(antiquark)\n",
    "\n",
    "#display(ANTIQUARK)    \n",
    "\n",
    "PRINT=0\n",
    "PRINT2=0\n",
    "for quark, coeff in zip(QUARK, OVERALL_one):\n",
    "    for antiquark, coeff_reverse in zip(ANTIQUARK, OVERALL_eight):\n",
    "        Overall=coeff*coeff_reverse*epsilon_tensor\n",
    "        #print(quark+antiquark)\n",
    "        output=[]\n",
    "        OUTPUT=[]\n",
    "        contraction(quark+antiquark,0,output,OUTPUT)\n",
    "        #PRINT+=print_propagator_with_diquark_color(OUTPUT,quark+antiquark,spin,color,position,Overall,diquark,color1,color2)\n",
    "        \n",
    "        for ab, alpha_beta in enumerate(['1','2','3','4']): \n",
    "            spin[3]=alpha_beta\n",
    "            spin[4]=alpha_beta\n",
    "            for sr, sigma_rho in enumerate(['1','2','3','4']): \n",
    "                spin[5]=sigma_rho\n",
    "                spin[6]=sigma_rho\n",
    "                PRINT2+=gamma5(ab,ab)*gamma5(sr,sr)*print_propagator_with_diquark_color(OUTPUT,quark+antiquark,spin,color,position,Overall,diquark, color1, color2)\n",
    "#display(simplify(PRINT))\n",
    "display(simplify(PRINT2))\n",
    "                \n",
    "#display(nsimplify(simplify(PRINT),tolerance=1e-10))\n",
    "#display(nsimplify(simplify(PRINT2),tolerance=1e-10))\n",
    "# #print(len(nsimplify(simplify(PRINT),tolerance=1e-10).args))\n",
    "# #print((PRINT).args)\n",
    "# #for term in nsimplify(simplify(PRINT),tolerance=1e-10).args:\n",
    "# #    print(term)"
   ]
  },
  {
   "cell_type": "code",
   "execution_count": 88,
   "id": "2523058f-4f5f-474b-9247-f3cdfe2c3f55",
   "metadata": {},
   "outputs": [
    {
     "data": {
      "image/png": "[encoded data removed]",
      "text/latex": [
       "$\\displaystyle \\gamma_5^{\\alpha\\alpha} \\gamma_5^{\\sigma\\sigma} \\left(- \\frac{3107329311 Tr[S_{xx}\\gamma_{5}] Tr[S_{yx}S_{yx}S_{yy}\\gamma_{5}S_{yx}]}{8736737494} + \\frac{1612629033 Tr[S_{xx}\\gamma_{5}] Tr[S_{yx}S_{yx}] Tr[S_{yx}] Tr[S_{yy}\\gamma_{5}]}{7853388950} + \\frac{2740987473 Tr[S_{xx}\\gamma_{5}] Tr[S_{yx}S_{yy}\\gamma_{5}S_{yx}] Tr[S_{yx}]}{5417152603} - \\frac{1612629033 Tr[S_{xx}\\gamma_{5}] Tr[S_{yx}]^{3} Tr[S_{yy}\\gamma_{5}]}{7853388950} - \\frac{6267609709 Tr[S_{xx}\\gamma_{5}] Tr[S_{yx}] Tr[S_{yy}\\gamma_{5}S_{yx}S_{yx}]}{8811177584} + \\frac{3846482909 Tr[S_{xx}\\gamma_{5}] Tr[S_{yy}\\gamma_{5}S_{yx}S_{yx}S_{yx}]}{6856424027} + \\frac{1016381479 Tr[S_{xy}\\gamma_{5}S_{yx}\\gamma_{5}] Tr[S_{yx}S_{yx}S_{yx}]}{7041697446} + \\frac{Tr[S_{xy}\\gamma_{5}S_{yx}\\gamma_{5}] Tr[S_{yx}S_{yx}] Tr[S_{yx}]}{4} - \\frac{3718953931 Tr[S_{xy}\\gamma_{5}S_{yx}\\gamma_{5}] Tr[S_{yx}]^{3}}{9430889267} - \\frac{480134526 Tr[S_{yx}S_{yx}S_{yx}\\gamma_{5}S_{xx}] Tr[S_{yy}\\gamma_{5}]}{1663234787} + \\frac{2632760885 Tr[S_{yx}S_{yx}S_{yx}\\gamma_{5}S_{xy}\\gamma_{5}S_{yx}]}{4085996252} + \\frac{Tr[S_{yx}S_{yx}S_{yy}\\gamma_{5}S_{yx}\\gamma_{5}S_{xx}]}{2} + \\frac{Tr[S_{yx}S_{yx}\\gamma_{5}S_{xx}S_{yy}\\gamma_{5}S_{yx}]}{2} + \\frac{Tr[S_{yx}S_{yx}\\gamma_{5}S_{xx}] Tr[S_{yy}\\gamma_{5}S_{yx}]}{4} - \\frac{3718953931 Tr[S_{yx}S_{yx}\\gamma_{5}S_{xy}\\gamma_{5}S_{yx}S_{yx}]}{9430889267} - \\frac{7586374639 Tr[S_{yx}S_{yx}\\gamma_{5}S_{xy}\\gamma_{5}S_{yx}] Tr[S_{yx}]}{7041697446} - \\frac{480134526 Tr[S_{yx}S_{yx}] Tr[S_{yx}\\gamma_{5}S_{xx}] Tr[S_{yy}\\gamma_{5}]}{1663234787} + \\frac{2234292951 Tr[S_{yx}S_{yx}] Tr[S_{yx}\\gamma_{5}S_{xy}\\gamma_{5}S_{yx}]}{4147755869} - \\frac{3718953931 Tr[S_{yx}S_{yx}] Tr[S_{yy}\\gamma_{5}S_{yx}\\gamma_{5}S_{xx}]}{9430889267} - \\frac{Tr[S_{yx}S_{yy}\\gamma_{5}S_{yx}S_{yx}\\gamma_{5}S_{xx}]}{4} - \\frac{2592194429 Tr[S_{yx}S_{yy}\\gamma_{5}S_{yx}\\gamma_{5}S_{xx}] Tr[S_{yx}]}{5619021699} - \\frac{4064815313 Tr[S_{yx}S_{yy}\\gamma_{5}S_{yx}] Tr[S_{yx}\\gamma_{5}S_{xx}]}{8811177584} - \\frac{1016381479 Tr[S_{yx}\\gamma_{5}S_{xx}S_{yx}S_{yx}] Tr[S_{yy}\\gamma_{5}]}{7041697446} + \\frac{920603702 Tr[S_{yx}\\gamma_{5}S_{xx}S_{yx}S_{yy}\\gamma_{5}S_{yx}]}{8712686983} + \\frac{Tr[S_{yx}\\gamma_{5}S_{xx}S_{yx}] Tr[S_{yx}] Tr[S_{yy}\\gamma_{5}]}{12} - \\frac{Tr[S_{yx}\\gamma_{5}S_{xx}S_{yx}] Tr[S_{yy}\\gamma_{5}S_{yx}]}{4} - \\frac{536816177 Tr[S_{yx}\\gamma_{5}S_{xx}S_{yy}\\gamma_{5}S_{yx}] Tr[S_{yx}]}{3571141046} + \\frac{5957420125 Tr[S_{yx}\\gamma_{5}S_{xx}] Tr[S_{yx}]^{2} Tr[S_{yy}\\gamma_{5}]}{9332463538} + \\frac{2982686071 Tr[S_{yx}\\gamma_{5}S_{xx}] Tr[S_{yy}\\gamma_{5}S_{yx}S_{yx}]}{4749564156} + \\frac{1016381479 Tr[S_{yx}\\gamma_{5}S_{xy}\\gamma_{5}S_{yx}S_{yx}S_{yx}]}{7041697446} + \\frac{4854296347 Tr[S_{yx}\\gamma_{5}S_{xy}\\gamma_{5}S_{yx}S_{yx}] Tr[S_{yx}]}{6155001133} - \\frac{2632760885 Tr[S_{yx}\\gamma_{5}S_{xy}\\gamma_{5}S_{yx}] Tr[S_{yx}]^{2}}{4085996252} + \\frac{1016381479 Tr[S_{yx}]^{2} Tr[S_{yy}\\gamma_{5}S_{yx}\\gamma_{5}S_{xx}]}{7041697446} + \\frac{2085038555 Tr[S_{yx}] Tr[S_{yy}\\gamma_{5}S_{yx}S_{yx}\\gamma_{5}S_{xx}]}{4749564156} + \\frac{6051927986 Tr[S_{yx}] Tr[S_{yy}\\gamma_{5}S_{yx}\\gamma_{5}S_{xx}S_{yx}]}{9992245943} - \\frac{3670782683 Tr[S_{yy}\\gamma_{5}S_{yx}S_{yx}S_{yx}\\gamma_{5}S_{xx}]}{9308731877} - \\frac{5 Tr[S_{yy}\\gamma_{5}S_{yx}S_{yx}\\gamma_{5}S_{xx}S_{yx}]}{12} - \\frac{3718953931 Tr[S_{yy}\\gamma_{5}S_{yx}\\gamma_{5}S_{xx}S_{yx}S_{yx}]}{9430889267}\\right)$"
      ],
      "text/plain": [
       "                                                  ⎛                           \n",
       "                                                  ⎜  3107329311⋅Tr[S_{xx}\\gamm\n",
       "\\gamma_5__{\\alpha\\alpha}⋅\\gamma_5__{\\sigma\\sigma}⋅⎜- ─────────────────────────\n",
       "                                                  ⎝                           \n",
       "\n",
       "                                                                              \n",
       "a_{5}]⋅Tr[S_{yx}S_{yx}S_{yy}\\gamma_{5}S_{yx}]   1612629033⋅Tr[S_{xx}\\gamma_{5}\n",
       "───────────────────────────────────────────── + ──────────────────────────────\n",
       "     8736737494                                                               \n",
       "\n",
       "                                                                              \n",
       "]⋅Tr[S_{yx}S_{yx}]⋅Tr[S_{yx}]⋅Tr[S_{yy}\\gamma_{5}]   2740987473⋅Tr[S_{xx}\\gamm\n",
       "────────────────────────────────────────────────── + ─────────────────────────\n",
       "     7853388950                                                               \n",
       "\n",
       "                                                                              \n",
       "a_{5}]⋅Tr[S_{yx}S_{yy}\\gamma_{5}S_{yx}]⋅Tr[S_{yx}]   1612629033⋅Tr[S_{xx}\\gamm\n",
       "────────────────────────────────────────────────── - ─────────────────────────\n",
       "        5417152603                                                            \n",
       "\n",
       "                 3                                                            \n",
       "a_{5}]⋅Tr[S_{yx}] ⋅Tr[S_{yy}\\gamma_{5}]   6267609709⋅Tr[S_{xx}\\gamma_{5}]⋅Tr[S\n",
       "─────────────────────────────────────── - ────────────────────────────────────\n",
       "  7853388950                                                               881\n",
       "\n",
       "                                                                              \n",
       "_{yx}]⋅Tr[S_{yy}\\gamma_{5}S_{yx}S_{yx}]   3846482909⋅Tr[S_{xx}\\gamma_{5}]⋅Tr[S\n",
       "─────────────────────────────────────── + ────────────────────────────────────\n",
       "1177584                                                                 685642\n",
       "\n",
       "                                                                              \n",
       "_{yy}\\gamma_{5}S_{yx}S_{yx}S_{yx}]   1016381479⋅Tr[S_{xy}\\gamma_{5}S_{yx}\\gamm\n",
       "────────────────────────────────── + ─────────────────────────────────────────\n",
       "4027                                                               7041697446 \n",
       "\n",
       "                                                                              \n",
       "a_{5}]⋅Tr[S_{yx}S_{yx}S_{yx}]   Tr[S_{xy}\\gamma_{5}S_{yx}\\gamma_{5}]⋅Tr[S_{yx}\n",
       "───────────────────────────── + ──────────────────────────────────────────────\n",
       "                                                               4              \n",
       "\n",
       "                                                                              \n",
       "S_{yx}]⋅Tr[S_{yx}]   3718953931⋅Tr[S_{xy}\\gamma_{5}S_{yx}\\gamma_{5}]⋅Tr[S_{yx}\n",
       "────────────────── - ─────────────────────────────────────────────────────────\n",
       "                                              9430889267                      \n",
       "\n",
       " 3                                                                            \n",
       "]    480134526⋅Tr[S_{yx}S_{yx}S_{yx}\\gamma_{5}S_{xx}]⋅Tr[S_{yy}\\gamma_{5}]   2\n",
       "── - ───────────────────────────────────────────────────────────────────── + ─\n",
       "                                   1663234787                                 \n",
       "\n",
       "                                                                              \n",
       "632760885⋅Tr[S_{yx}S_{yx}S_{yx}\\gamma_{5}S_{xy}\\gamma_{5}S_{yx}]   Tr[S_{yx}S_\n",
       "──────────────────────────────────────────────────────────────── + ───────────\n",
       "                           4085996252                                         \n",
       "\n",
       "                                                                              \n",
       "{yx}S_{yy}\\gamma_{5}S_{yx}\\gamma_{5}S_{xx}]   Tr[S_{yx}S_{yx}\\gamma_{5}S_{xx}S\n",
       "─────────────────────────────────────────── + ────────────────────────────────\n",
       "               2                                                        2     \n",
       "\n",
       "                                                                              \n",
       "_{yy}\\gamma_{5}S_{yx}]   Tr[S_{yx}S_{yx}\\gamma_{5}S_{xx}]⋅Tr[S_{yy}\\gamma_{5}S\n",
       "────────────────────── + ─────────────────────────────────────────────────────\n",
       "                                                      4                       \n",
       "\n",
       "                                                                              \n",
       "_{yx}]   3718953931⋅Tr[S_{yx}S_{yx}\\gamma_{5}S_{xy}\\gamma_{5}S_{yx}S_{yx}]   7\n",
       "────── - ───────────────────────────────────────────────────────────────── - ─\n",
       "                                     9430889267                               \n",
       "\n",
       "                                                                              \n",
       "586374639⋅Tr[S_{yx}S_{yx}\\gamma_{5}S_{xy}\\gamma_{5}S_{yx}]⋅Tr[S_{yx}]   480134\n",
       "───────────────────────────────────────────────────────────────────── - ──────\n",
       "                             7041697446                                       \n",
       "\n",
       "                                                                              \n",
       "526⋅Tr[S_{yx}S_{yx}]⋅Tr[S_{yx}\\gamma_{5}S_{xx}]⋅Tr[S_{yy}\\gamma_{5}]   2234292\n",
       "──────────────────────────────────────────────────────────────────── + ───────\n",
       "                          1663234787                                          \n",
       "\n",
       "                                                                              \n",
       "951⋅Tr[S_{yx}S_{yx}]⋅Tr[S_{yx}\\gamma_{5}S_{xy}\\gamma_{5}S_{yx}]   3718953931⋅T\n",
       "─────────────────────────────────────────────────────────────── - ────────────\n",
       "                       4147755869                                             \n",
       "\n",
       "                                                                              \n",
       "r[S_{yx}S_{yx}]⋅Tr[S_{yy}\\gamma_{5}S_{yx}\\gamma_{5}S_{xx}]   Tr[S_{yx}S_{yy}\\g\n",
       "────────────────────────────────────────────────────────── - ─────────────────\n",
       "                  9430889267                                                  \n",
       "\n",
       "                                                                              \n",
       "amma_{5}S_{yx}S_{yx}\\gamma_{5}S_{xx}]   2592194429⋅Tr[S_{yx}S_{yy}\\gamma_{5}S_\n",
       "───────────────────────────────────── - ──────────────────────────────────────\n",
       "         4                                                            56190216\n",
       "\n",
       "                                                                              \n",
       "{yx}\\gamma_{5}S_{xx}]⋅Tr[S_{yx}]   4064815313⋅Tr[S_{yx}S_{yy}\\gamma_{5}S_{yx}]\n",
       "──────────────────────────────── - ───────────────────────────────────────────\n",
       "99                                                               8811177584   \n",
       "\n",
       "                                                                              \n",
       "⋅Tr[S_{yx}\\gamma_{5}S_{xx}]   1016381479⋅Tr[S_{yx}\\gamma_{5}S_{xx}S_{yx}S_{yx}\n",
       "─────────────────────────── - ────────────────────────────────────────────────\n",
       "                                                            7041697446        \n",
       "\n",
       "                                                                              \n",
       "]⋅Tr[S_{yy}\\gamma_{5}]   920603702⋅Tr[S_{yx}\\gamma_{5}S_{xx}S_{yx}S_{yy}\\gamma\n",
       "────────────────────── + ─────────────────────────────────────────────────────\n",
       "                                                    8712686983                \n",
       "\n",
       "                                                                              \n",
       "_{5}S_{yx}]   Tr[S_{yx}\\gamma_{5}S_{xx}S_{yx}]⋅Tr[S_{yx}]⋅Tr[S_{yy}\\gamma_{5}]\n",
       "─────────── + ────────────────────────────────────────────────────────────────\n",
       "                                             12                               \n",
       "\n",
       "                                                                              \n",
       "   Tr[S_{yx}\\gamma_{5}S_{xx}S_{yx}]⋅Tr[S_{yy}\\gamma_{5}S_{yx}]   536816177⋅Tr[\n",
       " - ─────────────────────────────────────────────────────────── - ─────────────\n",
       "                                4                                             \n",
       "\n",
       "                                                                              \n",
       "S_{yx}\\gamma_{5}S_{xx}S_{yy}\\gamma_{5}S_{yx}]⋅Tr[S_{yx}]   5957420125⋅Tr[S_{yx\n",
       "──────────────────────────────────────────────────────── + ───────────────────\n",
       "                 3571141046                                                   \n",
       "\n",
       "                             2                                                \n",
       "}\\gamma_{5}S_{xx}]⋅Tr[S_{yx}] ⋅Tr[S_{yy}\\gamma_{5}]   2982686071⋅Tr[S_{yx}\\gam\n",
       "─────────────────────────────────────────────────── + ────────────────────────\n",
       "           9332463538                                                         \n",
       "\n",
       "                                                                              \n",
       "ma_{5}S_{xx}]⋅Tr[S_{yy}\\gamma_{5}S_{yx}S_{yx}]   1016381479⋅Tr[S_{yx}\\gamma_{5\n",
       "────────────────────────────────────────────── + ─────────────────────────────\n",
       "      4749564156                                                             7\n",
       "\n",
       "                                                                              \n",
       "}S_{xy}\\gamma_{5}S_{yx}S_{yx}S_{yx}]   4854296347⋅Tr[S_{yx}\\gamma_{5}S_{xy}\\ga\n",
       "──────────────────────────────────── + ───────────────────────────────────────\n",
       "041697446                                                            615500113\n",
       "\n",
       "                                                                              \n",
       "mma_{5}S_{yx}S_{yx}]⋅Tr[S_{yx}]   2632760885⋅Tr[S_{yx}\\gamma_{5}S_{xy}\\gamma_{\n",
       "─────────────────────────────── - ────────────────────────────────────────────\n",
       "3                                                             4085996252      \n",
       "\n",
       "                    2                        2                                \n",
       "5}S_{yx}]⋅Tr[S_{yx}]    1016381479⋅Tr[S_{yx}] ⋅Tr[S_{yy}\\gamma_{5}S_{yx}\\gamma\n",
       "───────────────────── + ──────────────────────────────────────────────────────\n",
       "                                                    7041697446                \n",
       "\n",
       "                                                                              \n",
       "_{5}S_{xx}]   2085038555⋅Tr[S_{yx}]⋅Tr[S_{yy}\\gamma_{5}S_{yx}S_{yx}\\gamma_{5}S\n",
       "─────────── + ────────────────────────────────────────────────────────────────\n",
       "                                            4749564156                        \n",
       "\n",
       "                                                                              \n",
       "_{xx}]   6051927986⋅Tr[S_{yx}]⋅Tr[S_{yy}\\gamma_{5}S_{yx}\\gamma_{5}S_{xx}S_{yx}\n",
       "────── + ─────────────────────────────────────────────────────────────────────\n",
       "                                       9992245943                             \n",
       "\n",
       "                                                                              \n",
       "]   3670782683⋅Tr[S_{yy}\\gamma_{5}S_{yx}S_{yx}S_{yx}\\gamma_{5}S_{xx}]   5⋅Tr[S\n",
       "─ - ───────────────────────────────────────────────────────────────── - ──────\n",
       "                                9308731877                                    \n",
       "\n",
       "                                                                              \n",
       "_{yy}\\gamma_{5}S_{yx}S_{yx}\\gamma_{5}S_{xx}S_{yx}]   3718953931⋅Tr[S_{yy}\\gamm\n",
       "────────────────────────────────────────────────── - ─────────────────────────\n",
       "                     12                                                       \n",
       "\n",
       "                                        ⎞\n",
       "a_{5}S_{yx}\\gamma_{5}S_{xx}S_{yx}S_{yx}]⎟\n",
       "────────────────────────────────────────⎟\n",
       "   9430889267                           ⎠"
      ]
     },
     "metadata": {},
     "output_type": "display_data"
    }
   ],
   "source": [
    "p=['d','u','u']\n",
    "n=['d','d','u']\n",
    "Kp=['sb','u']\n",
    "K0=['sb','d']\n",
    "Kb0=['db','s']\n",
    "Km=['ub','s']\n",
    "eta=[['ub','u'],['db','d'],['sb','s']]\n",
    "Lambda0=['s','d','u']\n",
    "Xi0=['s','s','u']\n",
    "Xim=['s','s','d']\n",
    "pip=['db','u']\n",
    "pi0=[['ub','u'],['db','d']]\n",
    "pim=['ub','d']\n",
    "Sigmap=['s','u','u']\n",
    "Sigma0=['s','d','u']\n",
    "Sigmam=['s','d','d']\n",
    "\n",
    "\n",
    "#position=['y\\'','y\\'','y\\'','y','y','x','x','x\\'','x\\'','x\\'']\n",
    "position=['y','y','y','y','y','x','x','x','x','x']\n",
    "#spin=['1','2','1','\\\\alpha','\\\\beta','\\\\sigma','\\\\rho','1','2','1']\n",
    "spin=['1','2','1','\\\\alpha','\\\\alpha','\\\\sigma','\\\\sigma','1','2','1']\n",
    "#spin=['1','2','1','\\\\alpha','\\\\beta','\\\\beta','\\\\alpha','1','2','1']\n",
    "#spin=['1','2','1','1','1','1','1','1','2','1']\n",
    "color=['c','b','a','i','j','j\\'','i\\'','a\\'','b\\'','c\\'']\n",
    "diquark=[[1,2],[7,8]]\n",
    "\n",
    "#color1=['a','b','c']\n",
    "#color2=['a\\'','b\\'','c\\'']\n",
    "color1=['0','1','2']\n",
    "color2=['0','1','2']\n",
    "\n",
    "\n",
    "def depth(L): return isinstance(L, list) and max(map(depth, L))+1\n",
    "\n",
    "\n",
    "def add(baryon,meson):\n",
    "    if depth(meson) != 1:\n",
    "        output=[]\n",
    "        for m in meson:\n",
    "            output.append(add(baryon,m))\n",
    "        return output\n",
    "    else:\n",
    "        return baryon+meson\n",
    "\n",
    "#epsilon_tensor=symbols('\\epsilon_{abc}\\epsilon_{a\\'b\\'c\\'}')*symbols('\\gamma_5^{\\\\alpha\\\\beta}')*symbols('\\gamma_5^{\\\\sigma\\\\rho}')\n",
    "epsilon_tensor=symbols('\\gamma_5^{\\\\alpha\\\\alpha}')*symbols('\\gamma_5^{\\\\sigma\\\\sigma}')\n",
    "#OVERALL_one=[-1/2/np.sqrt(2)/np.sqrt(3), -1/2/np.sqrt(2), -1/2/np.sqrt(2), 1/2/np.sqrt(2), 1/2/np.sqrt(2), 1/2*np.sqrt(3/2)/np.sqrt(3), 1/2*np.sqrt(3/2)/np.sqrt(3)/np.sqrt(2), 1/2*np.sqrt(3/2)/np.sqrt(3)]\n",
    "OVERALL_one=[-1/2/np.sqrt(2)/np.sqrt(3), -1/2/np.sqrt(2),           1/2/np.sqrt(2),           1/2/np.sqrt(2),           -1/2/np.sqrt(2),            1/2*np.sqrt(3/2)/np.sqrt(3), -1/2*np.sqrt(3/2)/np.sqrt(3)/np.sqrt(3), 1/2*np.sqrt(3/2)/np.sqrt(3)]\n",
    "OVERALL_eight=[-1/2/np.sqrt(2)/np.sqrt(3), -1/2/np.sqrt(2),           1/2/np.sqrt(2),           1/2/np.sqrt(2),           -1/2/np.sqrt(2),            1/2*np.sqrt(3/2)/np.sqrt(3), -1/2*np.sqrt(3/2)/np.sqrt(3)/np.sqrt(3), 1/2*np.sqrt(3/2)/np.sqrt(3)]\n",
    "#OVERALL=[symbols('-1/2/\\sqrt(2)'), symbols('-1/2/\\sqrt(2)'), symbols('-1/2/\\sqrt(2)'), symbols('1/2/\\sqrt(2)'), symbols('1/2/\\sqrt(2)'), symbols('1/2\\sqrt(3/2)/\\sqrt(3)'), symbols('1/2*np.sqrt(3/2)/\\sqrt(3)'), symbols('1/2*np.sqrt(3/2)/\\sqrt(3)')]\n",
    "Q=[add(Lambda0,eta),add(p,Km),add(n,Kb0),add(Xi0,K0),add(Xim,Kp),add(Sigmam,pip),add(Sigma0,pi0),add(Sigmap,pim)]\n",
    "#OVERALL_eight_reverse=deepcopy(OVERALL_eight)\n",
    "#OVERALL_eight=deepcopy(OVERALL_one)\n",
    "OVERALL_eight.reverse()\n",
    "\n",
    "QUARK=[]\n",
    "for q in Q:\n",
    "    if depth(q) != 1:\n",
    "        for qq in q:\n",
    "            QUARK.append(qq)\n",
    "    else:\n",
    "        QUARK.append(q)\n",
    "\n",
    "#display(QUARK)    \n",
    "ANTIQUARK=[]\n",
    "for quark in QUARK:\n",
    "    quark_reverse=deepcopy(quark)\n",
    "    quark_reverse.reverse()\n",
    "    antiquark=[]\n",
    "    for q in quark_reverse:\n",
    "        antiquark.append(anti[q])\n",
    "        \n",
    "    ANTIQUARK.append(antiquark)\n",
    "\n",
    "#display(ANTIQUARK)    \n",
    "\n",
    "PRINT=0\n",
    "for quark, coeff in zip(QUARK, OVERALL_one):\n",
    "    for antiquark, coeff_reverse in zip(ANTIQUARK, OVERALL_eight):\n",
    "        Overall=coeff*coeff_reverse*epsilon_tensor\n",
    "        #print(quark+antiquark)\n",
    "        output=[]\n",
    "        OUTPUT=[]\n",
    "        contraction(quark+antiquark,0,output,OUTPUT)\n",
    "        PRINT+=print_Trace_color(OUTPUT,quark+antiquark,spin,color,position,Overall,diquark,spin_pair,color1,color2)\n",
    "        \n",
    "#display(simplify(PRINT))\n",
    "display(nsimplify(simplify(PRINT),tolerance=1e-10))\n",
    "#print(len(nsimplify(simplify(PRINT),tolerance=1e-10).args))\n",
    "#print((PRINT).args)\n",
    "#for term in nsimplify(simplify(PRINT),tolerance=1e-10).args:\n",
    "#    print(term)"
   ]
  },
  {
   "cell_type": "code",
   "execution_count": null,
   "id": "e0d583e1-ef57-4dc2-9d23-59a5b74d7ec8",
   "metadata": {},
   "outputs": [],
   "source": [
    "p=['d','u','u']\n",
    "n=['d','d','u']\n",
    "Kp=['sb','u']\n",
    "K0=['sb','d']\n",
    "Kb0=['db','s']\n",
    "Km=['ub','s']\n",
    "eta=[['ub','u'],['db','d'],['sb','s']]\n",
    "Lambda0=['s','d','u']\n",
    "Xi0=['s','s','u']\n",
    "Xim=['s','s','d']\n",
    "pip=['db','u']\n",
    "pi0=[['ub','u'],['db','d']]\n",
    "pim=['ub','d']\n",
    "Sigmap=['s','u','u']\n",
    "Sigma0=['s','d','u']\n",
    "Sigmam=['s','d','d']\n",
    "\n",
    "\n",
    "#position=['y\\'','y\\'','y\\'','y','y','x','x','x\\'','x\\'','x\\'']\n",
    "position=['y','y','y','y','y','x','x','x','x','x']\n",
    "#spin=['1','2','1','\\\\alpha','\\\\beta','\\\\sigma','\\\\rho','1','2','1']\n",
    "spin=['1','2','1','\\\\alpha','\\\\alpha','\\\\sigma','\\\\sigma','1','2','1']\n",
    "#spin=['1','2','1','\\\\alpha','\\\\beta','\\\\beta','\\\\alpha','1','2','1']\n",
    "#spin=['1','2','1','1','1','1','1','1','2','1']\n",
    "color=['c','b','a','i','j','j\\'','i\\'','a\\'','b\\'','c\\'']\n",
    "diquark=[[1,2],[7,8]]\n",
    "\n",
    "#color1=['a','b','c']\n",
    "#color2=['a\\'','b\\'','c\\'']\n",
    "color1=['0','1','2']\n",
    "color2=['0','1','2']\n",
    "\n",
    "\n",
    "def depth(L): return isinstance(L, list) and max(map(depth, L))+1\n",
    "\n",
    "\n",
    "def add(baryon,meson):\n",
    "    if depth(meson) != 1:\n",
    "        output=[]\n",
    "        for m in meson:\n",
    "            output.append(add(baryon,m))\n",
    "        return output\n",
    "    else:\n",
    "        return baryon+meson\n",
    "\n",
    "#epsilon_tensor=symbols('\\epsilon_{abc}\\epsilon_{a\\'b\\'c\\'}')*symbols('\\gamma_5^{\\\\alpha\\\\beta}')*symbols('\\gamma_5^{\\\\sigma\\\\rho}')\n",
    "epsilon_tensor=symbols('\\gamma_5^{\\\\alpha\\\\alpha}')*symbols('\\gamma_5^{\\\\sigma\\\\sigma}')\n",
    "#OVERALL_one=[-1/2/np.sqrt(2)/np.sqrt(3), -1/2/np.sqrt(2), -1/2/np.sqrt(2), 1/2/np.sqrt(2), 1/2/np.sqrt(2), 1/2*np.sqrt(3/2)/np.sqrt(3), 1/2*np.sqrt(3/2)/np.sqrt(3)/np.sqrt(2), 1/2*np.sqrt(3/2)/np.sqrt(3)]\n",
    "OVERALL_one=[-1/2/np.sqrt(2)/np.sqrt(3), -1/2/np.sqrt(2),           1/2/np.sqrt(2),           1/2/np.sqrt(2),           -1/2/np.sqrt(2),            1/2*np.sqrt(3/2)/np.sqrt(3), -1/2*np.sqrt(3/2)/np.sqrt(3)/np.sqrt(3), 1/2*np.sqrt(3/2)/np.sqrt(3)]\n",
    "OVERALL_eight=[-1/np.sqrt(5)/np.sqrt(3), -1/np.sqrt(10)/np.sqrt(2), 1/np.sqrt(10)/np.sqrt(2), 1/np.sqrt(10)/np.sqrt(2), -1/np.sqrt(10)/np.sqrt(2), -1/np.sqrt(3/5)/np.sqrt(3),    1/np.sqrt(3/5)/np.sqrt(3)/np.sqrt(3),  -1/np.sqrt(3/5)/np.sqrt(3)]\n",
    "#OVERALL=[symbols('-1/2/\\sqrt(2)'), symbols('-1/2/\\sqrt(2)'), symbols('-1/2/\\sqrt(2)'), symbols('1/2/\\sqrt(2)'), symbols('1/2/\\sqrt(2)'), symbols('1/2\\sqrt(3/2)/\\sqrt(3)'), symbols('1/2*np.sqrt(3/2)/\\sqrt(3)'), symbols('1/2*np.sqrt(3/2)/\\sqrt(3)')]\n",
    "Q=[add(Lambda0,eta),add(p,Km),add(n,Kb0),add(Xi0,K0),add(Xim,Kp),add(Sigmam,pip),add(Sigma0,pi0),add(Sigmap,pim)]\n",
    "#OVERALL_eight_reverse=deepcopy(OVERALL_eight)\n",
    "OVERALL_one=deepcopy(OVERALL_eight)\n",
    "OVERALL_eight.reverse()\n",
    "\n",
    "QUARK=[]\n",
    "for q in Q:\n",
    "    if depth(q) != 1:\n",
    "        for qq in q:\n",
    "            QUARK.append(qq)\n",
    "    else:\n",
    "        QUARK.append(q)\n",
    "\n",
    "#display(QUARK)    \n",
    "ANTIQUARK=[]\n",
    "for quark in QUARK:\n",
    "    quark_reverse=deepcopy(quark)\n",
    "    quark_reverse.reverse()\n",
    "    antiquark=[]\n",
    "    for q in quark_reverse:\n",
    "        antiquark.append(anti[q])\n",
    "        \n",
    "    ANTIQUARK.append(antiquark)\n",
    "\n",
    "#display(ANTIQUARK)    \n",
    "\n",
    "PRINT=0\n",
    "for quark, coeff in zip(QUARK, OVERALL_one):\n",
    "    for antiquark, coeff_reverse in zip(ANTIQUARK, OVERALL_eight):\n",
    "        Overall=coeff*coeff_reverse*epsilon_tensor\n",
    "        #print(quark+antiquark)\n",
    "        output=[]\n",
    "        OUTPUT=[]\n",
    "        contraction(quark+antiquark,0,output,OUTPUT)\n",
    "        #PRINT+=print_Trace_color(OUTPUT,quark+antiquark,spin,color,position,Overall,diquark,spin_pair,color1,color2)\n",
    "        \n",
    "        for a in ['0','1','2']:\n",
    "            color[2]=a\n",
    "            for b in ['0','1','2']:\n",
    "                if a==b: continue\n",
    "                color[1]=b\n",
    "                for c in ['0','1','2']:\n",
    "                    if c==a or c==b: continue\n",
    "                    color[0]=c\n",
    "                    for aa in ['0','1','2']:\n",
    "                        color[7]=aa\n",
    "                        for bb in ['0','1','2']:\n",
    "                            if aa==bb: continue\n",
    "                            color[8]=bb\n",
    "                            for cc in ['0','1','2']:\n",
    "                                if cc==aa or cc==bb: continue\n",
    "                                color[9]=cc\n",
    "                                #print(color)\n",
    "                                perm1=Permutation(color[:3])\n",
    "                                perm2=Permutation(color[7:])\n",
    "\n",
    "                                sign1=perm1.signature()\n",
    "                                sign2=perm2.signature()\n",
    "                                for i in ['0','1','2']:\n",
    "                                    color[3]=i\n",
    "                                    for j in ['0','1','2']:\n",
    "                                        color[4]=j\n",
    "                                        for jj in ['0','1','2']:\n",
    "                                            color[5]=jj\n",
    "                                            for ii in ['0','1','2']:\n",
    "                                                color[6]=ii\n",
    "\n",
    "                                                PRINT+=print_propagator_with_diquark_color(OUTPUT,quark+antiquark,spin,color,position,Overall,diquark, color1, color2)\n",
    "\n",
    "#display(simplify(PRINT))\n",
    "display(nsimplify(simplify(PRINT),tolerance=1e-10))\n",
    "#print(len(nsimplify(simplify(PRINT),tolerance=1e-10).args))\n",
    "#print((PRINT).args)\n",
    "#for term in nsimplify(simplify(PRINT),tolerance=1e-10).args:\n",
    "#    print(term)"
   ]
  },
  {
   "cell_type": "code",
   "execution_count": null,
   "id": "9e9c97bb-7443-4852-9e63-c016780e5790",
   "metadata": {},
   "outputs": [],
   "source": []
  }
 ],
 "metadata": {
  "kernelspec": {
   "display_name": "Python 3 (ipykernel)",
   "language": "python",
   "name": "python3"
  },
  "language_info": {
   "codemirror_mode": {
    "name": "ipython",
    "version": 3
   },
   "file_extension": ".py",
   "mimetype": "text/x-python",
   "name": "python",
   "nbconvert_exporter": "python",
   "pygments_lexer": "ipython3",
   "version": "3.10.6"
  },
  "widgets": {
   "application/vnd.jupyter.widget-state+json": {
    "state": {},
    "version_major": 2,
    "version_minor": 0
   }
  }
 },
 "nbformat": 4,
 "nbformat_minor": 5
}
