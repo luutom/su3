{
 "cells": [
  {
   "cell_type": "code",
   "execution_count": 92,
   "id": "2862ff33-9c10-417c-aa27-6fbb10ca265c",
   "metadata": {},
   "outputs": [],
   "source": [
    "from sympy import *\n",
    "from sympy.printing import print_ccode\n",
    "from sympy.combinatorics.permutations import Permutation\n",
    "init_printing()\n",
    "import numpy as np\n",
    "from copy import deepcopy\n",
    "import itertools\n",
    "\n",
    "\n",
    "def gamma5(a,b):\n",
    "    G5=np.array([np.array([1,0,0,0]),  \n",
    "                np.array([0,1,0,0]),  \n",
    "                np.array([0,0,-1,0]),   \n",
    "                np.array([0,0,0,-1])\n",
    "               ])\n",
    "    return G5[a][b]\n",
    "\n",
    "\n",
    "anti={}\n",
    "anti['s']='sb'\n",
    "anti['sb']='s'\n",
    "anti['u']='ub'\n",
    "anti['ub']='u'\n",
    "anti['d']='db'\n",
    "anti['db']='d'\n",
    "anti['c']='cb'\n",
    "anti['cb']='c'\n",
    "\n",
    "latex={}\n",
    "latex['s']='s'\n",
    "latex['sb']='\\overline{s}'\n",
    "latex['u']='u'\n",
    "latex['ub']='\\overline{u}'\n",
    "latex['d']='d'\n",
    "latex['db']='\\overline{d}'\n",
    "\n",
    "def find(array,value):\n",
    "    for i,a in enumerate(array):\n",
    "        if a==value:\n",
    "            return i\n",
    "    return -1\n",
    "\n",
    "def color_permutation(C1,C2,color1,color2):\n",
    "    \n",
    "    \n",
    "    COLOR1=[]\n",
    "    pos1=[]\n",
    "    for ic1,c1 in enumerate(C1):\n",
    "        if c1 in color1:\n",
    "            COLOR1.append(c1)\n",
    "            pos1.append(ic1)\n",
    "    \n",
    "    index1=np.argsort(COLOR1)\n",
    "    new_pos1=np.array(pos1)[index1]\n",
    "    perm1=Permutation(index1)\n",
    "    sign1=perm1.signature()\n",
    "    \n",
    "    COLOR2=[]\n",
    "    pos2=[]\n",
    "    for ic2,c2 in enumerate(C2):\n",
    "        if c2 in color2:\n",
    "            COLOR2.append(c2)\n",
    "            pos2.append(ic2)\n",
    "    \n",
    "    index2=np.argsort(COLOR2)\n",
    "    new_pos2=np.array(pos2)[index2]\n",
    "    perm2=Permutation(index2)\n",
    "    sign2=perm2.signature()\n",
    "    \n",
    "    #print(index1,index2)\n",
    "    CC1=deepcopy(C1)\n",
    "    CC2=deepcopy(C2)\n",
    "    for p1,n1 in zip(pos1,new_pos1):\n",
    "        CC1[p1]=C1[n1]\n",
    "    for p2,n2 in zip(pos2,new_pos2):\n",
    "        CC2[p2]=C2[n2]\n",
    "    \n",
    "    #print(C1, CC1)\n",
    "    #print(C2, CC2)\n",
    "    color3=[]\n",
    "    for c1,c2 in zip(CC1,CC2):\n",
    "        color3.append(c1)\n",
    "        color3.append(c2)\n",
    "    \n",
    "    return sign1*sign2, color3\n",
    "            \n",
    "    \n",
    "def contraction(quark,i,output,OUTPUT):\n",
    "    #print(quark)\n",
    "    #all quark are contracted\n",
    "    FLAG=True\n",
    "    for q in quark:\n",
    "        if q in anti:\n",
    "            FLAG=False\n",
    "            break\n",
    "    if FLAG==True:\n",
    "        output2=deepcopy(output)\n",
    "        OUTPUT.append(output2)\n",
    "        #print(output2)\n",
    "        return 0\n",
    "    if quark[i] not in anti: #return 0\n",
    "        contraction(quark,i+1,output,OUTPUT)\n",
    "    for k,q in enumerate(quark):\n",
    "        if q not in anti: continue\n",
    "        if quark[i]==anti[q]:\n",
    "            output.append([i,k])\n",
    "            quark[i]=quark[i].upper()\n",
    "            quark[k]=quark[k].upper()\n",
    "            contraction(quark,i+1,output,OUTPUT)\n",
    "            #print(quark)\n",
    "            output.pop(-1)\n",
    "            quark[i]=quark[i].lower()\n",
    "            quark[k]=quark[k].lower()\n",
    "            #print(quark)\n",
    "\n",
    "def print_quark(OUTPUT2,quark,spin,color,position,overall):\n",
    "    OUTPUT=deepcopy(OUTPUT2)\n",
    "    cont=[]\n",
    "    for output in OUTPUT:\n",
    "        sign=1\n",
    "        PRINTING=''\n",
    "        for out in output:\n",
    "            #out=deepcopy(out2)\n",
    "            #print(quark[[out]])\n",
    "            #print(quark[out[0]].find('b'))\n",
    "\n",
    "            if quark[out[0]].find('b') != -1:\n",
    "                out[0],out[1]=out[1],out[0]\n",
    "                sign*=-1\n",
    "            sign*=(-1)**(abs(out[1]-out[0])+1)\n",
    "            #print(quark[out], abs(out[1]-out[0]))\n",
    "            PRINTING+=latex[quark[out[0]]]+'_{'+spin[out[0]]+'}'+'^{'+color[out[0]]+'}('+position[out[0]]+')'+latex[quark[out[1]]]+'_{'+spin[out[1]]+'}^{'+color[out[1]]+'}('+position[out[1]]+')'\n",
    "        cont.append(sign*symbols(overall+PRINTING))\n",
    "    return cont\n",
    "\n",
    "def print_propagator(OUTPUT,quark,spin,color,position,overall):\n",
    "    PRINT=0\n",
    "    cont=[]\n",
    "    for output in OUTPUT:\n",
    "        #print(quark)\n",
    "        #print(output)\n",
    "        sign=1\n",
    "        PRINTING=''\n",
    "        for out in output:\n",
    "            #out=np.array(deepcopy(out2))\n",
    "            \n",
    "            #print(out, quark[out[0]], quark[out[1]])\n",
    "            #print(quark[out[0]], out, quark[out[0]].find('b'))\n",
    "            if quark[out[0]].find('b') != -1:\n",
    "                out[0],out[1]=out[1],out[0]\n",
    "                sign*=-1\n",
    "            \n",
    "            #sign*=(-1)**(abs(out[1]-out[0])+1)\n",
    "        #print(np.concatenate(output))\n",
    "        #print(quark[np.concatenate(output)])\n",
    "        perm=Permutation(np.concatenate(output))\n",
    "        #print('perm: ',perm.array_form)\n",
    "        \n",
    "        #perm2 = [np.array[i] for i in perm]\n",
    "        #print(perm2)\n",
    "        sign*=perm.signature()\n",
    "        #print(perm.signature())\n",
    "        QUARK,SPIN,COLOR,POSITION=[],[],[],[]\n",
    "        for q in np.concatenate(output):\n",
    "            QUARK.append(quark[q])\n",
    "            SPIN.append(spin[q])\n",
    "            COLOR.append(color[q])\n",
    "            POSITION.append(position[q])\n",
    "            \n",
    "        #print(QUARK)\n",
    "        #print(SPIN)\n",
    "        #print(COLOR)\n",
    "        #print(POSITION)\n",
    "        \n",
    "        for iq, (q,s1,s2,c1,c2,x,y) in enumerate(zip(QUARK[::2],SPIN[::2],SPIN[1::2],COLOR[::2],COLOR[1::2],POSITION[::2],POSITION[1::2])):\n",
    "            if q=='c':\n",
    "                PRINTING+='C_{'+s1+s2+';'+x+y+'}^{'+c1+c2+'}'\n",
    "            else:\n",
    "                PRINTING+='S_{'+s1+s2+';'+x+y+'}^{'+c1+c2+'}'\n",
    "\n",
    "        #print(quark[perm])\n",
    "        #print(quark[out], abs(out[1]-out[0]))\n",
    "            #PRINTING+=quark[out[0]].upper()+'_{'+spin[out[0]]+spin[out[1]]+';'+color[out[0]]+color[out[1]]+'}('+position[out[0]]+','+position[out[1]]+')'\n",
    "            #PRINTING+='S^{'+spin[out[0]]+spin[out[1]]+'}_{'+position[out[0]]+position[out[1]]+'}'\n",
    "        #PRINT3=1\n",
    "        #PRINT3*=PRINTING\n",
    "#         print(sign)\n",
    "#         print(overall)\n",
    "#         print(symbols(PRINT3))\n",
    "#         print(overall*symbols(PRINT3))\n",
    "        \n",
    "        # cont.append(sign*overall*symbols(PRINT3))\n",
    "        #SIGN=sign*overall\n",
    "        #print('SIGN: ',sign, overall, SIGN)\n",
    "        PRINT+=sign*overall*symbols(PRINTING)\n",
    "    return PRINT\n",
    "    \n",
    "# def print_propagator_with_diquark(OUTPUT,quark,spin,color,position,overall,diquark):\n",
    "#     #OUTPUT=deepcopy(OUTPUT2)\n",
    "#     cont=[]\n",
    "#     for output in OUTPUT:\n",
    "#         #output=deepcopy(output2)\n",
    "#         PRINTING=''\n",
    "#         for index in list(itertools.product(range(len(diquark)),repeat=len(diquark))):\n",
    "#             PRINTING2=''\n",
    "#             sign=1\n",
    "            \n",
    "#             if not sum(index)%2==0:\n",
    "            \n",
    "#                 sign*=-1\n",
    "            \n",
    "#             spin2=deepcopy(spin)\n",
    "#             for ind, di in zip(index,diquark):\n",
    "            \n",
    "#                 new_di=list(itertools.permutations(di))[ind]\n",
    "#                 spin2[di[0]],spin2[di[1]]=spin[new_di[0]],spin[new_di[1]]\n",
    "            \n",
    "#             for out2 in output:\n",
    "#                 out=deepcopy(out2)\n",
    "            \n",
    "#                 if quark[out[0]].find('b') != -1:\n",
    "#                     out[0],out[1]=out[1],out[0]\n",
    "#                     sign*=-1\n",
    "            \n",
    "#             #    sign*=(-1)**(abs(out[1]-out[0])+1)\n",
    "            \n",
    "#                 PRINTING2+=quark[out[0]].upper()+'_{'+spin2[out[0]]+spin2[out[1]]+'}^{'+color[out[0]]+color[out[1]]+'}('+position[out[0]]+','+position[out[1]]+')'\n",
    "            \n",
    "#             if sign==1:\n",
    "#                 PRINTING+='+('+PRINTING2+')'\n",
    "#             else :\n",
    "#                 PRINTING+='-('+PRINTING2+')'\n",
    "#             perm=Permutation(np.concatenate(output))\n",
    "#             sign*=perm.signature()\n",
    "    \n",
    "#         cont.append(symbols(overall+'['+PRINTING+']'))\n",
    "#     return cont\n",
    "\n",
    "def print_propagator_with_diquark(OUTPUT,quark,spin,color,position,overall,diquark):\n",
    "    #OUTPUT=deepcopy(OUTPUT2)\n",
    "    PRINT_ALL=0\n",
    "\n",
    "    cont=[]\n",
    "    for output in OUTPUT:\n",
    "        #output=deepcopy(output2)\n",
    "        \n",
    "        for index in list(itertools.product(range(len(diquark)),repeat=len(diquark))):\n",
    "        \n",
    "            sign=1\n",
    "            \n",
    "            if not sum(index)%2==0:\n",
    "            \n",
    "                sign*=-1\n",
    "            \n",
    "            spin2=deepcopy(spin)\n",
    "            for ind, di in zip(index,diquark):\n",
    "            \n",
    "                new_di=list(itertools.permutations(di))[ind]\n",
    "                spin2[di[0]],spin2[di[1]]=spin[new_di[0]],spin[new_di[1]]\n",
    "\n",
    "                \n",
    "                \n",
    "            #sign=sign*sign_eps\n",
    "            \n",
    "            PRINT3=1\n",
    "            for k,out2 in enumerate(output):\n",
    "                out=deepcopy(out2)\n",
    "            \n",
    "                if quark[out[0]].find('b') != -1:\n",
    "                    out[0],out[1]=out[1],out[0]\n",
    "                    sign*=-1\n",
    "                perm=Permutation(np.concatenate(output))\n",
    "                sign*=perm.signature()\n",
    "        #        sign*=(-1)**(abs(out[1]-out[0])+1)\n",
    "                \n",
    "                PRINT='S_{'+spin2[out[0]]+spin2[out[1]]+';'+position[out[0]]+position[out[1]]+'}^{'+color[2*k]+color[2*k+1]+'}'\n",
    "                #PRINT='S^{'+spin2[out[0]]+spin2[out[1]]+'}_{'+position[out[0]]+position[out[1]]+'}'\n",
    "                #if spin2[out[1]]=='\\\\alpha':\n",
    "#                    PRINT+='\\gamma_{5}^{\\\\alpha\\\\beta}'\n",
    "#                if spin2[out[1]]=='\\\\sigma':\n",
    "#                    PRINT+='\\gamma_{5}^{\\\\sigma\\\\rho}'\n",
    "                \n",
    "                PRINT3*=symbols(PRINT)\n",
    "            perm=Permutation(np.concatenate(output))\n",
    "            sign*=perm.signature()\n",
    "    \n",
    "            PRINT2=sign*overall\n",
    "            \n",
    "            PRINT_ALL+=PRINT2*PRINT3\n",
    "       \n",
    "    return PRINT_ALL\n",
    "\n",
    "def print_propagator_with_diquark_color(OUTPUT,quark,spin,color,position,overall,diquark, color_perm1, color_perm2):\n",
    "    #OUTPUT=deepcopy(OUTPUT2)\n",
    "    PRINT_ALL=0\n",
    "\n",
    "    cont=[]\n",
    "    for output in OUTPUT:\n",
    "        #output=deepcopy(output2)\n",
    "        \n",
    "        for index in list(itertools.product(range(len(diquark)),repeat=len(diquark))):\n",
    "        \n",
    "            sign=1\n",
    "            \n",
    "            if not sum(index)%2==0:\n",
    "            \n",
    "                sign*=-1\n",
    "            \n",
    "            spin2=deepcopy(spin)\n",
    "            for ind, di in zip(index,diquark):\n",
    "            \n",
    "                new_di=list(itertools.permutations(di))[ind]\n",
    "                spin2[di[0]],spin2[di[1]]=spin[new_di[0]],spin[new_di[1]]\n",
    "\n",
    "                \n",
    "                \n",
    "            COLOR1,COLOR2=[],[]\n",
    "            for out2 in output:\n",
    "                out=deepcopy(out2)                \n",
    "                COLOR1.append(color[out[0]])\n",
    "                COLOR2.append(color[out[1]])\n",
    "            \n",
    "            sign_eps,color2=color_permutation(COLOR1,COLOR2,color_perm1,color_perm2)\n",
    "            \n",
    "            #sign=sign*sign_eps\n",
    "            \n",
    "            PRINT3=1\n",
    "            for k,out2 in enumerate(output):\n",
    "                out=deepcopy(out2)\n",
    "            \n",
    "                if quark[out[0]].find('b') != -1:\n",
    "                    out[0],out[1]=out[1],out[0]\n",
    "                    sign*=-1\n",
    "                perm=Permutation(np.concatenate(output))\n",
    "                sign*=perm.signature()\n",
    "                #sign*=(-1)**(abs(out[1]-out[0])+1)\n",
    "                \n",
    "                #PRINT='S_{'+spin2[out[0]]+spin2[out[1]]+';'+position[out[0]]+position[out[1]]+'}^{'+color2[2*k]+color2[2*k+1]+'}'\n",
    "                PRINT='S^{'+spin2[out[0]]+spin2[out[1]]+'}_{'+position[out[0]]+position[out[1]]+'}'\n",
    "                #if spin2[out[1]]=='\\\\alpha':\n",
    "#                    PRINT+='\\gamma_{5}^{\\\\alpha\\\\beta}'\n",
    "#                if spin2[out[1]]=='\\\\sigma':\n",
    "#                    PRINT+='\\gamma_{5}^{\\\\sigma\\\\rho}'\n",
    "                \n",
    "                PRINT3*=symbols(PRINT)\n",
    "            #perm=Permutation(np.concatenate(output))\n",
    "            #sign*=perm.signature()\n",
    "    \n",
    "            PRINT2=sign*sign_eps*overall\n",
    "            \n",
    "            PRINT_ALL+=PRINT2*PRINT3\n",
    "       \n",
    "    return PRINT_ALL"
   ]
  },
  {
   "cell_type": "code",
   "execution_count": 2,
   "id": "d4bc5b18-060e-40e5-8bd5-477c85b44a5f",
   "metadata": {
    "tags": []
   },
   "outputs": [],
   "source": [
    "def print_Trace(OUTPUT,quark,spin,color,position,overall,diquark,spin_pair):\n",
    "    PRINT_ALL=0\n",
    "    \n",
    "    SIGN=[]\n",
    "    for output in OUTPUT:\n",
    "        sign=1\n",
    "        for out in output:\n",
    "\n",
    "            if quark[out[0]].find('b') != -1:\n",
    "                out[0],out[1]=out[1],out[0]\n",
    "                sign*=-1\n",
    "\n",
    "            sign*=(-1)**(abs(out[1]-out[0])+1)\n",
    "        SIGN.append(sign)\n",
    "\n",
    "    output_flat=[]\n",
    "    for sign,output in zip(SIGN,OUTPUT):\n",
    "        sign2=deepcopy(sign)\n",
    "        flat=np.concatenate(output)\n",
    "        spin2=deepcopy(np.array(spin)[flat])\n",
    "        flat=list(flat)\n",
    "        diquark2=[]\n",
    "        for di in diquark:\n",
    "            diquark2.append([flat.index(di[0]),flat.index(di[1])])\n",
    "        spin_pair2=[]\n",
    "        for s in spin_pair:\n",
    "            spin_pair2.append([flat.index(s[0]),flat.index(s[1])])\n",
    "        spin_pair2=list(np.concatenate(spin_pair2))\n",
    "\n",
    "        for index in list(itertools.product(range(len(diquark2)),repeat=len(diquark2))):\n",
    "            sign3=deepcopy(sign2)\n",
    "            spin3=deepcopy(spin2)\n",
    "            spin_pair3=deepcopy(spin_pair2)\n",
    "\n",
    "            if not sum(index)%2==0:\n",
    "                sign3*=-1\n",
    "            for ind, di in zip(index,diquark2):\n",
    "\n",
    "                new_di=list(itertools.permutations(di))[ind]\n",
    "\n",
    "                spin3[di[0]],spin3[di[1]]=spin2[new_di[0]],spin2[new_di[1]]\n",
    "                spin_pair3[spin_pair2.index(di[0])],spin_pair3[spin_pair2.index(di[1])]=new_di[0],new_di[1]\n",
    "\n",
    "            quark2=np.array(quark)[flat]\n",
    "            position2=np.array(position)[flat]\n",
    "            color2=np.array(color)[flat]\n",
    "\n",
    "            Trace=[[]]\n",
    "            start=0\n",
    "            while(start < len(quark)):\n",
    "                q_start=start\n",
    "                s_index=spin_pair3.index(q_start+1)  \n",
    "                Trace[-1].append(q_start) \n",
    "                Trace[-1].append(q_start+1) \n",
    "                while(q_start < len(quark)):\n",
    "\n",
    "                    if s_index%2==0:\n",
    "                        s_index2=s_index+1 \n",
    "                    else:\n",
    "                        s_index2=s_index-1            \n",
    "                    if spin_pair3[s_index2]==q_start: \n",
    "                        break   \n",
    "\n",
    "                    Trace[-1].append(spin_pair3[s_index2])   \n",
    "                    Trace[-1].append(spin_pair3[s_index2]+1) \n",
    "\n",
    "                    s_index=spin_pair3.index((spin_pair3[s_index2]+1)%len(quark))\n",
    "                if q_start >= len(quark):\n",
    "                    break\n",
    "                while(start < len(quark)):\n",
    "                    start+=2\n",
    "\n",
    "                    if start >= len(quark):\n",
    "                        break\n",
    "\n",
    "                    FLAG=False\n",
    "                    for tr in Trace:\n",
    "                        if find(tr,start) != -1:\n",
    "                            FLAG=True  #find\n",
    "                    if FLAG==False :\n",
    "                        break\n",
    "                if start >= len(quark):\n",
    "                    break\n",
    "                Trace.append([])\n",
    "\n",
    "            # if sign3==1:\n",
    "            #     PRINT2=symbols('1')\n",
    "            # else:\n",
    "            #     PRINT2=symbols('-1')\n",
    "            PRINT2=sign3*overall #symbols(overall)\n",
    "            PRINT=''\n",
    "            for Tr in Trace:\n",
    "                \n",
    "                PRINT+='Tr['\n",
    "                for tr in Tr[::2]:\n",
    "                    PRINT+='S^{'+color2[tr]+color2[tr+1]+'}_{'+position2[tr]+position2[tr+1]+'}'\n",
    "                    if spin3[tr+1]=='\\\\alpha' or spin3[tr+1]=='\\\\sigma':\n",
    "                        PRINT+='\\gamma_{5}'\n",
    "                PRINT+=']'\n",
    "                #print(PRINT)\n",
    "            #print(PRINT)\n",
    "            #print('')\n",
    "            PRINT_ALL+=PRINT2*symbols(PRINT)\n",
    "            \n",
    "    return PRINT_ALL\n",
    "            \n",
    "def print_Trace_color(OUTPUT,quark,spin,color,position,overall,diquark,spin_pair,color_cont1,color_cont2):\n",
    "    PRINT_ALL=0\n",
    "    \n",
    "    SIGN=[]\n",
    "    for output in OUTPUT:\n",
    "        sign=1\n",
    "        for out in output:\n",
    "\n",
    "            if quark[out[0]].find('b') != -1:\n",
    "                out[0],out[1]=out[1],out[0]\n",
    "                sign*=-1\n",
    "\n",
    "            sign*=(-1)**(abs(out[1]-out[0])+1)\n",
    "        SIGN.append(sign)\n",
    "\n",
    "    output_flat=[]\n",
    "    for sign,output in zip(SIGN,OUTPUT):\n",
    "        sign2=deepcopy(sign)\n",
    "        flat=np.concatenate(output)\n",
    "        spin2=deepcopy(np.array(spin)[flat])\n",
    "        flat=list(flat)\n",
    "        diquark2=[]\n",
    "        for di in diquark:\n",
    "            diquark2.append([flat.index(di[0]),flat.index(di[1])])\n",
    "        spin_pair2=[]\n",
    "        for s in spin_pair:\n",
    "            spin_pair2.append([flat.index(s[0]),flat.index(s[1])])\n",
    "        spin_pair2=list(np.concatenate(spin_pair2))\n",
    "\n",
    "        for index in list(itertools.product(range(len(diquark2)),repeat=len(diquark2))):\n",
    "            sign3=deepcopy(sign2)\n",
    "            spin3=deepcopy(spin2)\n",
    "            spin_pair3=deepcopy(spin_pair2)\n",
    "\n",
    "            if not sum(index)%2==0:\n",
    "                sign3*=-1\n",
    "            for ind, di in zip(index,diquark2):\n",
    "\n",
    "                new_di=list(itertools.permutations(di))[ind]\n",
    "\n",
    "                spin3[di[0]],spin3[di[1]]=spin2[new_di[0]],spin2[new_di[1]]\n",
    "                spin_pair3[spin_pair2.index(di[0])],spin_pair3[spin_pair2.index(di[1])]=new_di[0],new_di[1]\n",
    "\n",
    "            quark2=np.array(quark)[flat]\n",
    "            position2=np.array(position)[flat]\n",
    "            color2=np.array(color)[flat]\n",
    "\n",
    "            Trace=[[]]\n",
    "            start=0\n",
    "            while(start < len(quark)):\n",
    "                q_start=start\n",
    "                s_index=spin_pair3.index(q_start+1)  \n",
    "                Trace[-1].append(q_start) \n",
    "                Trace[-1].append(q_start+1) \n",
    "                while(q_start < len(quark)):\n",
    "\n",
    "                    if s_index%2==0:\n",
    "                        s_index2=s_index+1 \n",
    "                    else:\n",
    "                        s_index2=s_index-1            \n",
    "                    if spin_pair3[s_index2]==q_start: \n",
    "                        break   \n",
    "\n",
    "                    Trace[-1].append(spin_pair3[s_index2])   \n",
    "                    Trace[-1].append(spin_pair3[s_index2]+1) \n",
    "\n",
    "                    s_index=spin_pair3.index((spin_pair3[s_index2]+1)%len(quark))\n",
    "                if q_start >= len(quark):\n",
    "                    break\n",
    "                while(start < len(quark)):\n",
    "                    start+=2\n",
    "\n",
    "                    if start >= len(quark):\n",
    "                        break\n",
    "\n",
    "                    FLAG=False\n",
    "                    for tr in Trace:\n",
    "                        if find(tr,start) != -1:\n",
    "                            FLAG=True  #find\n",
    "                    if FLAG==False :\n",
    "                        break\n",
    "                if start >= len(quark):\n",
    "                    break\n",
    "                Trace.append([])\n",
    "\n",
    "            # if sign3==1:\n",
    "            #     PRINT2=symbols('1')\n",
    "            # else:\n",
    "            #     PRINT2=symbols('-1')\n",
    "            #epsilon abc permutation\n",
    "            COLOR1,COLOR2=[],[]\n",
    "            for Tr in Trace:\n",
    "                for tr in Tr[::2]:\n",
    "                    COLOR1.append(color2[tr])\n",
    "                    COLOR2.append(color2[tr+1])\n",
    "            sign_eps,color3=color_permutation(COLOR1,COLOR2,color_cont1,color_cont2)\n",
    "            \n",
    "            \n",
    "            PRINT2=sign3*sign_eps*overall #symbols(overall)\n",
    "            PRINT3=1\n",
    "            #PRINT=''\n",
    "            for Tr in Trace:\n",
    "                PRINT='Tr['\n",
    "                for tr in Tr[::2]:\n",
    "                    #PRINT+='S^{'+color3[tr]+color3[tr+1]+'}_{'+position2[tr]+position2[tr+1]+'}'\n",
    "                    PRINT+='S_{'+position2[tr]+position2[tr+1]+'}'\n",
    "                    if spin3[tr+1]=='\\\\alpha' or spin3[tr+1]=='\\\\sigma':\n",
    "                        PRINT+='\\gamma_{5}'\n",
    "                PRINT+=']'\n",
    "                PRINT3*=symbols(PRINT)\n",
    "                #print(PRINT)\n",
    "            #print(PRINT)\n",
    "            #print('')\n",
    "            PRINT_ALL+=PRINT2*PRINT3 #symbols(PRINT)\n",
    "            \n",
    "    return PRINT_ALL\n",
    "\n",
    "    "
   ]
  },
  {
   "cell_type": "code",
   "execution_count": 43,
   "id": "2525d353-b924-47d2-b302-13f35cb8079f",
   "metadata": {},
   "outputs": [
    {
     "data": {
      "image/png": "[encoded data removed]",
      "text/latex": [
       "$\\displaystyle S_{\\mu_2\\mu_1;zz}^{cd}S_{\\nu_1\\mu_3;xy}^{d'b}C_{\\mu_4\\nu_4;yx}^{aa'}S_{\\nu_3\\nu_2;xx}^{b'c'} + S_{\\mu_2\\mu_1;zz}^{cd}S_{\\nu_3\\mu_3;xy}^{b'b}C_{\\mu_4\\nu_4;yx}^{aa'}S_{\\nu_1\\nu_2;xx}^{d'c'} + S_{\\nu_1\\mu_1;xz}^{d'd}S_{\\mu_2\\mu_3;zy}^{cb}C_{\\mu_4\\nu_4;yx}^{aa'}S_{\\nu_3\\nu_2;xx}^{b'c'} + S_{\\nu_1\\mu_1;xz}^{d'd}S_{\\mu_2\\nu_2;zx}^{cc'}S_{\\nu_3\\mu_3;xy}^{b'b}C_{\\mu_4\\nu_4;yx}^{aa'} + S_{\\nu_3\\mu_1;xz}^{b'd}S_{\\mu_2\\mu_3;zy}^{cb}C_{\\mu_4\\nu_4;yx}^{aa'}S_{\\nu_1\\nu_2;xx}^{d'c'} - S_{\\nu_3\\mu_1;xz}^{b'd}S_{\\mu_2\\nu_2;zx}^{cc'}S_{\\nu_1\\mu_3;xy}^{d'b}C_{\\mu_4\\nu_4;yx}^{aa'}$"
      ],
      "text/plain": [
       "S_{\\mu_2\\mu_1;zz}_{\\nu_1\\mu_3;xy}_{\\mu_4\\nu_4;yx}_{\\nu_3\\nu_2;xx}__{cd}S__{d'b\n",
       "}C__{aa'}S__{b'c'} + S_{\\mu_2\\mu_1;zz}_{\\nu_3\\mu_3;xy}_{\\mu_4\\nu_4;yx}_{\\nu_1\\\n",
       "nu_2;xx}__{cd}S__{b'b}C__{aa'}S__{d'c'} + S_{\\nu_1\\mu_1;xz}_{\\mu_2\\mu_3;zy}_{\\\n",
       "mu_4\\nu_4;yx}_{\\nu_3\\nu_2;xx}__{d'd}S__{cb}C__{aa'}S__{b'c'} + S_{\\nu_1\\mu_1;x\n",
       "z}_{\\mu_2\\nu_2;zx}_{\\nu_3\\mu_3;xy}_{\\mu_4\\nu_4;yx}__{d'd}S__{cc'}S__{b'b}C__{a\n",
       "a'} + S_{\\nu_3\\mu_1;xz}_{\\mu_2\\mu_3;zy}_{\\mu_4\\nu_4;yx}_{\\nu_1\\nu_2;xx}__{b'd}\n",
       "S__{cb}C__{aa'}S__{d'c'} - S_{\\nu_3\\mu_1;xz}_{\\mu_2\\nu_2;zx}_{\\nu_1\\mu_3;xy}_{\n",
       "\\mu_4\\nu_4;yx}__{b'd}S__{cc'}S__{d'b}C__{aa'}"
      ]
     },
     "metadata": {},
     "output_type": "display_data"
    }
   ],
   "source": [
    "\n",
    "overall=1 #symbols('\\Gamma_{\\mu_1 \\mu_2} \\Gamma_{\\mu_3 \\mu_4} \\Gamma_{\\nu_3 \\nu_4} \\Gamma_{\\nu_1 \\nu_2}') #*symbols('\\epsilon_{abc}\\epsilon_{a\\'b\\'c\\'}')\n",
    "\n",
    "position=['z','z','y','y','x','x','x','x']\n",
    "spin=['\\\\mu_1','\\\\mu_2','\\\\mu_3','\\\\mu_4','\\\\nu_4','\\\\nu_3','\\\\nu_2','\\\\nu_1']\n",
    "#spin=['1','2','1','1','2','1']\n",
    "color=['d','c','b','a','a\\'','b\\'','c\\'','d\\'']\n",
    "#color=['2','1','0','0','1','2']\n",
    "quark=['sb','s','sb','c','cb','s','sb','s']\n",
    "\n",
    "#diquark=[[1,2],[3,4]]\n",
    "#diquark=[]\n",
    "#spin_pair=[[0,5],[1,4],[2,3]]\n",
    "#color1=['a','b']\n",
    "#color2=['a\\'','b\\'']\n",
    "#color1=['0','1','2']\n",
    "#color2=['0','1','2']\n",
    "\n",
    "output=[]\n",
    "OUTPUT=[]\n",
    "\n",
    "contraction(quark,0,output,OUTPUT)\n",
    "\n",
    "#print(OUTPUT)\n",
    "#PRINT=print_Trace_color(OUTPUT,quark,spin,color,position,overall2,diquark,spin_pair,color1,color2)\n",
    "#display(simplify(PRINT))\n",
    "\n",
    "#PRINT=print_propagator_with_diquark_color(OUTPUT,quark,spin,color,position,overall2,diquark, color1, color2)\n",
    "#display(simplify(PRINT))\n",
    "\n",
    "\n",
    "\n",
    "display(print_propagator(OUTPUT,quark,spin,color,position,overall))\n",
    "\n"
   ]
  },
  {
   "cell_type": "markdown",
   "id": "00b31058-3e40-47f1-bc98-e5ed9e4ccdf5",
   "metadata": {},
   "source": [
    "# Test $D \\pi$"
   ]
  },
  {
   "cell_type": "markdown",
   "id": "991e5f7c-5d13-43d9-be66-eef3cdd8ea42",
   "metadata": {},
   "source": [
    "# 15 state"
   ]
  },
  {
   "cell_type": "code",
   "execution_count": 66,
   "id": "9772c053-f6db-4e2b-b4e6-e5fb611e9d02",
   "metadata": {
    "tags": []
   },
   "outputs": [
    {
     "data": {
      "image/png": "[encoded data removed]",
      "text/latex": [
       "$\\displaystyle S_{\\nu_1\\mu_1;xy}^{d'd}C_{\\mu_2\\nu_2;yx}^{cc'}S_{\\nu_3\\mu_3;xy}^{b'b}S_{\\mu_4\\nu_4;yx}^{aa'} - S_{\\nu_3\\mu_1;xy}^{b'd}C_{\\mu_2\\nu_2;yx}^{cc'}S_{\\nu_1\\mu_3;xy}^{d'b}S_{\\mu_4\\nu_4;yx}^{aa'}$"
      ],
      "text/plain": [
       "S_{\\nu_1\\mu_1;xy}_{\\mu_2\\nu_2;yx}_{\\nu_3\\mu_3;xy}_{\\mu_4\\nu_4;yx}__{d'd}C__{cc\n",
       "'}S__{b'b}S__{aa'} - S_{\\nu_3\\mu_1;xy}_{\\mu_2\\nu_2;yx}_{\\nu_1\\mu_3;xy}_{\\mu_4\\\n",
       "nu_4;yx}__{b'd}C__{cc'}S__{d'b}S__{aa'}"
      ]
     },
     "metadata": {},
     "output_type": "display_data"
    }
   ],
   "source": [
    "\n",
    "overall=1 #'\\Gamma_{\\mu_1 \\mu_2} \\Gamma_{\\mu_3 \\mu_4} \\Gamma_{\\nu_3 \\nu_4} \\Gamma_{\\nu_1 \\nu_2}' #*symbols('\\epsilon_{abc}\\epsilon_{a\\'b\\'c\\'}')\n",
    "\n",
    "position=['y','y','y','y','x','x','x','x']\n",
    "spin=['\\\\mu_1','\\\\mu_2','\\\\mu_3','\\\\mu_4','\\\\nu_4','\\\\nu_3','\\\\nu_2','\\\\nu_1']\n",
    "#spin=['1','2','1','1','2','1']\n",
    "color=['d','c','b','a','a\\'','b\\'','c\\'','d\\'']\n",
    "#color=['2','1','0','0','1','2']\n",
    "quark=['db','c','db','u','ub','d','cb','d']\n",
    "\n",
    "#diquark=[[1,2],[3,4]]\n",
    "#diquark=[]\n",
    "#spin_pair=[[0,5],[1,4],[2,3]]\n",
    "#color1=['a','b']\n",
    "#color2=['a\\'','b\\'']\n",
    "#color1=['0','1','2']\n",
    "#color2=['0','1','2']\n",
    "\n",
    "output=[]\n",
    "OUTPUT=[]\n",
    "\n",
    "contraction(quark,0,output,OUTPUT)\n",
    "\n",
    "#print(OUTPUT)\n",
    "#PRINT=print_Trace_color(OUTPUT,quark,spin,color,position,overall2,diquark,spin_pair,color1,color2)\n",
    "#display(simplify(PRINT))\n",
    "\n",
    "#PRINT=print_propagator_with_diquark_color(OUTPUT,quark,spin,color,position,overall2,diquark, color1, color2)\n",
    "#display(simplify(PRINT))\n",
    "\n",
    "\n",
    "\n",
    "display(print_propagator(OUTPUT,quark,spin,color,position,overall))\n",
    "\n",
    "\n",
    "\n",
    "# for a in ['0','1','2']:\n",
    "#     color[2]=a\n",
    "#     for b in ['0','1','2']:\n",
    "#         if a==b: continue\n",
    "#         color[1]=b\n",
    "#         for c in ['0','1','2']:\n",
    "#             if c==a or c==b: continue\n",
    "#             color[0]=c\n",
    "#             for aa in ['0','1','2']:\n",
    "#                 color[3]=aa\n",
    "#                 for bb in ['0','1','2']:\n",
    "#                     if aa==bb: continue\n",
    "#                     color[4]=bb\n",
    "#                     for cc in ['0','1','2']:\n",
    "#                         if cc==aa or cc==bb: continue\n",
    "#                         color[5]=cc\n",
    "#                         #print(color)\n",
    "#                         perm1=Permutation(color[:3])\n",
    "#                         perm2=Permutation(color[3:])\n",
    "\n",
    "#                         sign1=perm1.signature()\n",
    "#                         sign2=perm2.signature()\n",
    "#                         #print(sign1, sign2)\n",
    "                        \n",
    "#                         PRINT2=sign1*sign2*print_propagator_with_diquark_color(OUTPUT,quark,spin,color,position,overall2,diquark, color1, color2)\n",
    "#                         #display(PRINT2)\n",
    "#                         PRINT+=PRINT2\n",
    "#display(simplify(PRINT))\n"
   ]
  },
  {
   "cell_type": "markdown",
   "id": "7df7ee66-2ce5-4050-b15e-c856527fe6fb",
   "metadata": {},
   "source": [
    "# 6 state"
   ]
  },
  {
   "cell_type": "code",
   "execution_count": 45,
   "id": "c2286328-3e6e-4dcc-b63b-3f2db761d95a",
   "metadata": {},
   "outputs": [
    {
     "data": {
      "image/png": "[encoded data removed]",
      "text/latex": [
       "$\\displaystyle 1.0 S_{\\nu_1\\mu_1;xy}^{d'd}C_{\\mu_2\\nu_2;yx}^{cc'}S_{\\nu_3\\mu_3;xy}^{b'b}S_{\\mu_4\\nu_4;yx}^{aa'} + 1.0 S_{\\nu_3\\mu_1;xy}^{b'd}C_{\\mu_2\\nu_2;yx}^{cc'}S_{\\nu_1\\mu_3;xy}^{d'b}S_{\\mu_4\\nu_4;yx}^{aa'}$"
      ],
      "text/plain": [
       "1.0⋅S_{\\nu_1\\mu_1;xy}_{\\mu_2\\nu_2;yx}_{\\nu_3\\mu_3;xy}_{\\mu_4\\nu_4;yx}__{d'd}C_\n",
       "_{cc'}S__{b'b}S__{aa'} + 1.0⋅S_{\\nu_3\\mu_1;xy}_{\\mu_2\\nu_2;yx}_{\\nu_1\\mu_3;xy}\n",
       "_{\\mu_4\\nu_4;yx}__{b'd}C__{cc'}S__{d'b}S__{aa'}"
      ]
     },
     "metadata": {},
     "output_type": "display_data"
    }
   ],
   "source": [
    "\n",
    "position=['y','y','y','y','x','x','x','x']\n",
    "spin=['\\\\mu_1','\\\\mu_2','\\\\mu_3','\\\\mu_4','\\\\nu_4','\\\\nu_3','\\\\nu_2','\\\\nu_1']\n",
    "#spin=['1','2','1','1','2','1']\n",
    "color=['d','c','b','a','a\\'','b\\'','c\\'','d\\'']\n",
    "#color=['2','1','0','0','1','2']\n",
    "quark1=['sb','c','db','u','ub','d','cb','s']\n",
    "quark2=['db','c','sb','u','ub','s','cb','d']\n",
    "quark3=['sb','c','db','u','ub','s','cb','d']\n",
    "quark4=['db','c','sb','u','ub','d','cb','s']\n",
    "\n",
    "#diquark=[[1,2],[3,4]]\n",
    "#diquark=[]\n",
    "#spin_pair=[[0,5],[1,4],[2,3]]\n",
    "#color1=['a','b']\n",
    "#color2=['a\\'','b\\'']\n",
    "#color1=['0','1','2']\n",
    "#color2=['0','1','2']\n",
    "PRINT=0\n",
    "output=[]\n",
    "OUTPUT=[]\n",
    "overall2=1/2#'1/2\\gamma_{5;\\mu_1 \\mu_2} \\gamma_{5;\\mu_3 \\mu_4} \\gamma_{5;\\nu_3 \\nu_4} \\gamma_{5;;\\nu_1 \\nu_2}'#*symbols('\\epsilon_{abc}\\epsilon_{a\\'b\\'c\\'}')\n",
    "contraction(quark1,0,output,OUTPUT)\n",
    "PRINT+=(print_propagator(OUTPUT,quark1,spin,color,position,overall2))\n",
    "\n",
    "\n",
    "output=[]\n",
    "OUTPUT=[]\n",
    "overall2=1/2#'1/2\\gamma_{5;\\mu_1 \\mu_2} \\gamma_{5;\\mu_3 \\mu_4} \\gamma_{5;\\nu_3 \\nu_4} \\gamma_{5;;\\nu_1 \\nu_2}'#*symbols('\\epsilon_{abc}\\epsilon_{a\\'b\\'c\\'}')\n",
    "contraction(quark2,0,output,OUTPUT)\n",
    "PRINT+=(print_propagator(OUTPUT,quark2,spin,color,position,overall2))\n",
    "\n",
    "output=[]\n",
    "OUTPUT=[]\n",
    "overall2=-1/2#'-1/2\\gamma_{5;\\mu_1 \\mu_2} \\gamma_{5;\\mu_3 \\mu_4} \\gamma_{5;\\nu_3 \\nu_4} \\gamma_{5;;\\nu_1 \\nu_2}'#*symbols('\\epsilon_{abc}\\epsilon_{a\\'b\\'c\\'}')\n",
    "contraction(quark3,0,output,OUTPUT)\n",
    "PRINT+=(print_propagator(OUTPUT,quark3,spin,color,position,overall2))\n",
    "\n",
    "output=[]\n",
    "OUTPUT=[]\n",
    "overall2=-1/2#'-1/2\\gamma_{5;\\mu_1 \\mu_2} \\gamma_{5;\\mu_3 \\mu_4} \\gamma_{5;\\nu_3 \\nu_4} \\gamma_{5;;\\nu_1 \\nu_2}'#*symbols('\\epsilon_{abc}\\epsilon_{a\\'b\\'c\\'}')\n",
    "contraction(quark4,0,output,OUTPUT)\n",
    "PRINT+=(print_propagator(OUTPUT,quark4,spin,color,position,overall2))\n",
    "\n",
    "display(PRINT)\n",
    "#PRINT=print_Trace_color(OUTPUT,quark,spin,color,position,overall2,diquark,spin_pair,color1,color2)\n",
    "#display(simplify(PRINT))\n",
    "\n",
    "#PRINT=print_propagator_with_diquark_color(OUTPUT,quark,spin,color,position,overall2,diquark, color1, color2)\n",
    "#display(simplify(PRINT))\n",
    "\n",
    "\n",
    "\n",
    "\n",
    "\n",
    "\n",
    "\n",
    "# for a in ['0','1','2']:\n",
    "#     color[2]=a\n",
    "#     for b in ['0','1','2']:\n",
    "#         if a==b: continue\n",
    "#         color[1]=b\n",
    "#         for c in ['0','1','2']:\n",
    "#             if c==a or c==b: continue\n",
    "#             color[0]=c\n",
    "#             for aa in ['0','1','2']:\n",
    "#                 color[3]=aa\n",
    "#                 for bb in ['0','1','2']:\n",
    "#                     if aa==bb: continue\n",
    "#                     color[4]=bb\n",
    "#                     for cc in ['0','1','2']:\n",
    "#                         if cc==aa or cc==bb: continue\n",
    "#                         color[5]=cc\n",
    "#                         #print(color)\n",
    "#                         perm1=Permutation(color[:3])\n",
    "#                         perm2=Permutation(color[3:])\n",
    "\n",
    "#                         sign1=perm1.signature()\n",
    "#                         sign2=perm2.signature()\n",
    "#                         #print(sign1, sign2)\n",
    "                        \n",
    "#                         PRINT2=sign1*sign2*print_propagator_with_diquark_color(OUTPUT,quark,spin,color,position,overall2,diquark, color1, color2)\n",
    "#                         #display(PRINT2)\n",
    "#                         PRINT+=PRINT2\n",
    "#display(simplify(PRINT))\n"
   ]
  },
  {
   "cell_type": "markdown",
   "id": "3cb2a4c7-c1a4-4bbc-b280-16349b526d10",
   "metadata": {},
   "source": [
    "# $\\bar{3}$ state"
   ]
  },
  {
   "cell_type": "code",
   "execution_count": 95,
   "id": "737593bd-d5ee-4c48-9596-304fee7e89c2",
   "metadata": {},
   "outputs": [
    {
     "name": "stdout",
     "output_type": "stream",
     "text": [
      "['cb', 'u', 'ub', 'd', 'db', 'u', 'ub', 'c'] 0.37499999999999994\n"
     ]
    },
    {
     "data": {
      "image/png": "[encoded data removed]",
      "text/latex": [
       "$\\displaystyle 0.375 C_{\\nu_4\\mu_1;xy}^{d'd}S_{\\nu_1\\mu_2;yy}^{cb}S_{\\nu_2\\mu_3;yx}^{aa'}S_{\\nu_3\\mu_4;xx}^{b'c'} + 0.375 C_{\\nu_4\\mu_1;xy}^{d'd}S_{\\nu_1\\mu_4;yx}^{cc'}S_{\\nu_3\\mu_2;xy}^{b'b}S_{\\nu_2\\mu_3;yx}^{aa'}$"
      ],
      "text/plain": [
       "0.375⋅C_{\\nu_4\\mu_1;xy}_{\\nu_1\\mu_2;yy}_{\\nu_2\\mu_3;yx}_{\\nu_3\\mu_4;xx}__{d'd}\n",
       "S__{cb}S__{aa'}S__{b'c'} + 0.375⋅C_{\\nu_4\\mu_1;xy}_{\\nu_1\\mu_4;yx}_{\\nu_3\\mu_2\n",
       ";xy}_{\\nu_2\\mu_3;yx}__{d'd}S__{cc'}S__{b'b}S__{aa'}"
      ]
     },
     "metadata": {},
     "output_type": "display_data"
    },
    {
     "name": "stdout",
     "output_type": "stream",
     "text": [
      "['cb', 'u', 'ub', 'd', 'ub', 'u', 'db', 'c'] -0.125\n"
     ]
    },
    {
     "data": {
      "image/png": "[encoded data removed]",
      "text/latex": [
       "$\\displaystyle - 0.125 C_{\\nu_4\\mu_1;xy}^{d'd}S_{\\nu_1\\mu_2;yy}^{cb}S_{\\nu_2\\mu_4;yx}^{ac'}S_{\\nu_3\\mu_3;xx}^{b'a'} + 0.125 C_{\\nu_4\\mu_1;xy}^{d'd}S_{\\nu_1\\mu_3;yx}^{ca'}S_{\\nu_3\\mu_2;xy}^{b'b}S_{\\nu_2\\mu_4;yx}^{ac'}$"
      ],
      "text/plain": [
       "-0.125⋅C_{\\nu_4\\mu_1;xy}_{\\nu_1\\mu_2;yy}_{\\nu_2\\mu_4;yx}_{\\nu_3\\mu_3;xx}__{d'd\n",
       "}S__{cb}S__{ac'}S__{b'a'} + 0.125⋅C_{\\nu_4\\mu_1;xy}_{\\nu_1\\mu_3;yx}_{\\nu_3\\mu_\n",
       "2;xy}_{\\nu_2\\mu_4;yx}__{d'd}S__{ca'}S__{b'b}S__{ac'}"
      ]
     },
     "metadata": {},
     "output_type": "display_data"
    },
    {
     "name": "stdout",
     "output_type": "stream",
     "text": [
      "['cb', 'u', 'ub', 'd', 'db', 'd', 'db', 'c'] 0.25\n"
     ]
    },
    {
     "data": {
      "image/png": "[encoded data removed]",
      "text/latex": [
       "$\\displaystyle 0.25 C_{\\nu_4\\mu_1;xy}^{d'd}S_{\\nu_1\\mu_2;yy}^{cb}S_{\\nu_2\\mu_3;yx}^{aa'}S_{\\nu_3\\mu_4;xx}^{b'c'} + 0.25 C_{\\nu_4\\mu_1;xy}^{d'd}S_{\\nu_1\\mu_2;yy}^{cb}S_{\\nu_2\\mu_4;yx}^{ac'}S_{\\nu_3\\mu_3;xx}^{b'a'}$"
      ],
      "text/plain": [
       "0.25⋅C_{\\nu_4\\mu_1;xy}_{\\nu_1\\mu_2;yy}_{\\nu_2\\mu_3;yx}_{\\nu_3\\mu_4;xx}__{d'd}S\n",
       "__{cb}S__{aa'}S__{b'c'} + 0.25⋅C_{\\nu_4\\mu_1;xy}_{\\nu_1\\mu_2;yy}_{\\nu_2\\mu_4;y\n",
       "x}_{\\nu_3\\mu_3;xx}__{d'd}S__{cb}S__{ac'}S__{b'a'}"
      ]
     },
     "metadata": {},
     "output_type": "display_data"
    },
    {
     "name": "stdout",
     "output_type": "stream",
     "text": [
      "['cb', 'u', 'ub', 'd', 'db', 's', 'sb', 'c'] 0.37499999999999994\n"
     ]
    },
    {
     "data": {
      "image/png": "[encoded data removed]",
      "text/latex": [
       "$\\displaystyle 0.375 C_{\\nu_4\\mu_1;xy}^{d'd}S_{\\nu_1\\mu_2;yy}^{cb}S_{\\nu_2\\mu_3;yx}^{aa'}S_{\\nu_3\\mu_4;xx}^{b'c'}$"
      ],
      "text/plain": [
       "0.375⋅C_{\\nu_4\\mu_1;xy}_{\\nu_1\\mu_2;yy}_{\\nu_2\\mu_3;yx}_{\\nu_3\\mu_4;xx}__{d'd}\n",
       "S__{cb}S__{aa'}S__{b'c'}"
      ]
     },
     "metadata": {},
     "output_type": "display_data"
    },
    {
     "name": "stdout",
     "output_type": "stream",
     "text": [
      "['cb', 'u', 'ub', 'd', 'sb', 's', 'db', 'c'] -0.125\n"
     ]
    },
    {
     "data": {
      "image/png": "[encoded data removed]",
      "text/latex": [
       "$\\displaystyle - 0.125 C_{\\nu_4\\mu_1;xy}^{d'd}S_{\\nu_1\\mu_2;yy}^{cb}S_{\\nu_2\\mu_4;yx}^{ac'}S_{\\nu_3\\mu_3;xx}^{b'a'}$"
      ],
      "text/plain": [
       "-0.125⋅C_{\\nu_4\\mu_1;xy}_{\\nu_1\\mu_2;yy}_{\\nu_2\\mu_4;yx}_{\\nu_3\\mu_3;xx}__{d'd\n",
       "}S__{cb}S__{ac'}S__{b'a'}"
      ]
     },
     "metadata": {},
     "output_type": "display_data"
    },
    {
     "name": "stdout",
     "output_type": "stream",
     "text": [
      "['cb', 'd', 'ub', 'u', 'db', 'u', 'ub', 'c'] -0.125\n"
     ]
    },
    {
     "data": {
      "image/png": "[encoded data removed]",
      "text/latex": [
       "$\\displaystyle - 0.125 C_{\\nu_4\\mu_1;xy}^{d'd}S_{\\nu_1\\mu_3;yx}^{ca'}S_{\\nu_2\\mu_2;yy}^{ab}S_{\\nu_3\\mu_4;xx}^{b'c'} + 0.125 C_{\\nu_4\\mu_1;xy}^{d'd}S_{\\nu_1\\mu_3;yx}^{ca'}S_{\\nu_3\\mu_2;xy}^{b'b}S_{\\nu_2\\mu_4;yx}^{ac'}$"
      ],
      "text/plain": [
       "-0.125⋅C_{\\nu_4\\mu_1;xy}_{\\nu_1\\mu_3;yx}_{\\nu_2\\mu_2;yy}_{\\nu_3\\mu_4;xx}__{d'd\n",
       "}S__{ca'}S__{ab}S__{b'c'} + 0.125⋅C_{\\nu_4\\mu_1;xy}_{\\nu_1\\mu_3;yx}_{\\nu_3\\mu_\n",
       "2;xy}_{\\nu_2\\mu_4;yx}__{d'd}S__{ca'}S__{b'b}S__{ac'}"
      ]
     },
     "metadata": {},
     "output_type": "display_data"
    },
    {
     "name": "stdout",
     "output_type": "stream",
     "text": [
      "['cb', 'd', 'ub', 'u', 'ub', 'u', 'db', 'c'] 0.04166666666666668\n"
     ]
    },
    {
     "data": {
      "image/png": "[encoded data removed]",
      "text/latex": [
       "$\\displaystyle 0.0416666666666667 C_{\\nu_4\\mu_1;xy}^{d'd}S_{\\nu_1\\mu_4;yx}^{cc'}S_{\\nu_2\\mu_2;yy}^{ab}S_{\\nu_3\\mu_3;xx}^{b'a'} + 0.0416666666666667 C_{\\nu_4\\mu_1;xy}^{d'd}S_{\\nu_1\\mu_4;yx}^{cc'}S_{\\nu_3\\mu_2;xy}^{b'b}S_{\\nu_2\\mu_3;yx}^{aa'}$"
      ],
      "text/plain": [
       "0.0416666666666667⋅C_{\\nu_4\\mu_1;xy}_{\\nu_1\\mu_4;yx}_{\\nu_2\\mu_2;yy}_{\\nu_3\\mu\n",
       "_3;xx}__{d'd}S__{cc'}S__{ab}S__{b'a'} + 0.0416666666666667⋅C_{\\nu_4\\mu_1;xy}_{\n",
       "\\nu_1\\mu_4;yx}_{\\nu_3\\mu_2;xy}_{\\nu_2\\mu_3;yx}__{d'd}S__{cc'}S__{b'b}S__{aa'}"
      ]
     },
     "metadata": {},
     "output_type": "display_data"
    },
    {
     "name": "stdout",
     "output_type": "stream",
     "text": [
      "['cb', 'd', 'ub', 'u', 'db', 'd', 'db', 'c'] -0.08333333333333336\n"
     ]
    },
    {
     "data": {
      "image/png": "[encoded data removed]",
      "text/latex": [
       "$\\displaystyle - 0.0833333333333334 C_{\\nu_4\\mu_1;xy}^{d'd}S_{\\nu_1\\mu_3;yx}^{ca'}S_{\\nu_2\\mu_2;yy}^{ab}S_{\\nu_3\\mu_4;xx}^{b'c'} - 0.0833333333333334 C_{\\nu_4\\mu_1;xy}^{d'd}S_{\\nu_1\\mu_4;yx}^{cc'}S_{\\nu_2\\mu_2;yy}^{ab}S_{\\nu_3\\mu_3;xx}^{b'a'}$"
      ],
      "text/plain": [
       "-0.0833333333333334⋅C_{\\nu_4\\mu_1;xy}_{\\nu_1\\mu_3;yx}_{\\nu_2\\mu_2;yy}_{\\nu_3\\m\n",
       "u_4;xx}__{d'd}S__{ca'}S__{ab}S__{b'c'} - 0.0833333333333334⋅C_{\\nu_4\\mu_1;xy}_\n",
       "{\\nu_1\\mu_4;yx}_{\\nu_2\\mu_2;yy}_{\\nu_3\\mu_3;xx}__{d'd}S__{cc'}S__{ab}S__{b'a'}"
      ]
     },
     "metadata": {},
     "output_type": "display_data"
    },
    {
     "name": "stdout",
     "output_type": "stream",
     "text": [
      "['cb', 'd', 'ub', 'u', 'db', 's', 'sb', 'c'] -0.125\n"
     ]
    },
    {
     "data": {
      "image/png": "[encoded data removed]",
      "text/latex": [
       "$\\displaystyle - 0.125 C_{\\nu_4\\mu_1;xy}^{d'd}S_{\\nu_1\\mu_3;yx}^{ca'}S_{\\nu_2\\mu_2;yy}^{ab}S_{\\nu_3\\mu_4;xx}^{b'c'}$"
      ],
      "text/plain": [
       "-0.125⋅C_{\\nu_4\\mu_1;xy}_{\\nu_1\\mu_3;yx}_{\\nu_2\\mu_2;yy}_{\\nu_3\\mu_4;xx}__{d'd\n",
       "}S__{ca'}S__{ab}S__{b'c'}"
      ]
     },
     "metadata": {},
     "output_type": "display_data"
    },
    {
     "name": "stdout",
     "output_type": "stream",
     "text": [
      "['cb', 'd', 'ub', 'u', 'sb', 's', 'db', 'c'] 0.04166666666666668\n"
     ]
    },
    {
     "data": {
      "image/png": "[encoded data removed]",
      "text/latex": [
       "$\\displaystyle 0.0416666666666667 C_{\\nu_4\\mu_1;xy}^{d'd}S_{\\nu_1\\mu_4;yx}^{cc'}S_{\\nu_2\\mu_2;yy}^{ab}S_{\\nu_3\\mu_3;xx}^{b'a'}$"
      ],
      "text/plain": [
       "0.0416666666666667⋅C_{\\nu_4\\mu_1;xy}_{\\nu_1\\mu_4;yx}_{\\nu_2\\mu_2;yy}_{\\nu_3\\mu\n",
       "_3;xx}__{d'd}S__{cc'}S__{ab}S__{b'a'}"
      ]
     },
     "metadata": {},
     "output_type": "display_data"
    },
    {
     "name": "stdout",
     "output_type": "stream",
     "text": [
      "['cb', 'd', 'db', 'd', 'db', 'u', 'ub', 'c'] 0.25\n"
     ]
    },
    {
     "data": {
      "image/png": "[encoded data removed]",
      "text/latex": [
       "$\\displaystyle 0.25 C_{\\nu_4\\mu_1;xy}^{d'd}S_{\\nu_1\\mu_2;yy}^{cb}S_{\\nu_2\\mu_3;yx}^{aa'}S_{\\nu_3\\mu_4;xx}^{b'c'} + 0.25 C_{\\nu_4\\mu_1;xy}^{d'd}S_{\\nu_1\\mu_3;yx}^{ca'}S_{\\nu_2\\mu_2;yy}^{ab}S_{\\nu_3\\mu_4;xx}^{b'c'}$"
      ],
      "text/plain": [
       "0.25⋅C_{\\nu_4\\mu_1;xy}_{\\nu_1\\mu_2;yy}_{\\nu_2\\mu_3;yx}_{\\nu_3\\mu_4;xx}__{d'd}S\n",
       "__{cb}S__{aa'}S__{b'c'} + 0.25⋅C_{\\nu_4\\mu_1;xy}_{\\nu_1\\mu_3;yx}_{\\nu_2\\mu_2;y\n",
       "y}_{\\nu_3\\mu_4;xx}__{d'd}S__{ca'}S__{ab}S__{b'c'}"
      ]
     },
     "metadata": {},
     "output_type": "display_data"
    },
    {
     "name": "stdout",
     "output_type": "stream",
     "text": [
      "['cb', 'd', 'db', 'd', 'ub', 'u', 'db', 'c'] -0.08333333333333336\n"
     ]
    },
    {
     "data": {
      "image/png": "[encoded data removed]",
      "text/latex": [
       "$\\displaystyle - 0.0833333333333334 C_{\\nu_4\\mu_1;xy}^{d'd}S_{\\nu_1\\mu_2;yy}^{cb}S_{\\nu_2\\mu_4;yx}^{ac'}S_{\\nu_3\\mu_3;xx}^{b'a'} - 0.0833333333333334 C_{\\nu_4\\mu_1;xy}^{d'd}S_{\\nu_1\\mu_4;yx}^{cc'}S_{\\nu_2\\mu_2;yy}^{ab}S_{\\nu_3\\mu_3;xx}^{b'a'}$"
      ],
      "text/plain": [
       "-0.0833333333333334⋅C_{\\nu_4\\mu_1;xy}_{\\nu_1\\mu_2;yy}_{\\nu_2\\mu_4;yx}_{\\nu_3\\m\n",
       "u_3;xx}__{d'd}S__{cb}S__{ac'}S__{b'a'} - 0.0833333333333334⋅C_{\\nu_4\\mu_1;xy}_\n",
       "{\\nu_1\\mu_4;yx}_{\\nu_2\\mu_2;yy}_{\\nu_3\\mu_3;xx}__{d'd}S__{cc'}S__{ab}S__{b'a'}"
      ]
     },
     "metadata": {},
     "output_type": "display_data"
    },
    {
     "name": "stdout",
     "output_type": "stream",
     "text": [
      "['cb', 'd', 'db', 'd', 'db', 'd', 'db', 'c'] 0.1666666666666667\n"
     ]
    },
    {
     "data": {
      "image/png": "[encoded data removed]",
      "text/latex": [
       "$\\displaystyle 0.166666666666667 C_{\\nu_4\\mu_1;xy}^{d'd}S_{\\nu_1\\mu_2;yy}^{cb}S_{\\nu_2\\mu_3;yx}^{aa'}S_{\\nu_3\\mu_4;xx}^{b'c'} + 0.166666666666667 C_{\\nu_4\\mu_1;xy}^{d'd}S_{\\nu_1\\mu_2;yy}^{cb}S_{\\nu_2\\mu_4;yx}^{ac'}S_{\\nu_3\\mu_3;xx}^{b'a'} + 0.166666666666667 C_{\\nu_4\\mu_1;xy}^{d'd}S_{\\nu_1\\mu_3;yx}^{ca'}S_{\\nu_2\\mu_2;yy}^{ab}S_{\\nu_3\\mu_4;xx}^{b'c'} - 0.166666666666667 C_{\\nu_4\\mu_1;xy}^{d'd}S_{\\nu_1\\mu_3;yx}^{ca'}S_{\\nu_3\\mu_2;xy}^{b'b}S_{\\nu_2\\mu_4;yx}^{ac'} + 0.166666666666667 C_{\\nu_4\\mu_1;xy}^{d'd}S_{\\nu_1\\mu_4;yx}^{cc'}S_{\\nu_2\\mu_2;yy}^{ab}S_{\\nu_3\\mu_3;xx}^{b'a'} + 0.166666666666667 C_{\\nu_4\\mu_1;xy}^{d'd}S_{\\nu_1\\mu_4;yx}^{cc'}S_{\\nu_3\\mu_2;xy}^{b'b}S_{\\nu_2\\mu_3;yx}^{aa'}$"
      ],
      "text/plain": [
       "0.166666666666667⋅C_{\\nu_4\\mu_1;xy}_{\\nu_1\\mu_2;yy}_{\\nu_2\\mu_3;yx}_{\\nu_3\\mu_\n",
       "4;xx}__{d'd}S__{cb}S__{aa'}S__{b'c'} + 0.166666666666667⋅C_{\\nu_4\\mu_1;xy}_{\\n\n",
       "u_1\\mu_2;yy}_{\\nu_2\\mu_4;yx}_{\\nu_3\\mu_3;xx}__{d'd}S__{cb}S__{ac'}S__{b'a'} + \n",
       "0.166666666666667⋅C_{\\nu_4\\mu_1;xy}_{\\nu_1\\mu_3;yx}_{\\nu_2\\mu_2;yy}_{\\nu_3\\mu_\n",
       "4;xx}__{d'd}S__{ca'}S__{ab}S__{b'c'} - 0.166666666666667⋅C_{\\nu_4\\mu_1;xy}_{\\n\n",
       "u_1\\mu_3;yx}_{\\nu_3\\mu_2;xy}_{\\nu_2\\mu_4;yx}__{d'd}S__{ca'}S__{b'b}S__{ac'} + \n",
       "0.166666666666667⋅C_{\\nu_4\\mu_1;xy}_{\\nu_1\\mu_4;yx}_{\\nu_2\\mu_2;yy}_{\\nu_3\\mu_\n",
       "3;xx}__{d'd}S__{cc'}S__{ab}S__{b'a'} + 0.166666666666667⋅C_{\\nu_4\\mu_1;xy}_{\\n\n",
       "u_1\\mu_4;yx}_{\\nu_3\\mu_2;xy}_{\\nu_2\\mu_3;yx}__{d'd}S__{cc'}S__{b'b}S__{aa'}"
      ]
     },
     "metadata": {},
     "output_type": "display_data"
    },
    {
     "name": "stdout",
     "output_type": "stream",
     "text": [
      "['cb', 'd', 'db', 'd', 'db', 's', 'sb', 'c'] 0.25\n"
     ]
    },
    {
     "data": {
      "image/png": "[encoded data removed]",
      "text/latex": [
       "$\\displaystyle 0.25 C_{\\nu_4\\mu_1;xy}^{d'd}S_{\\nu_1\\mu_2;yy}^{cb}S_{\\nu_2\\mu_3;yx}^{aa'}S_{\\nu_3\\mu_4;xx}^{b'c'} + 0.25 C_{\\nu_4\\mu_1;xy}^{d'd}S_{\\nu_1\\mu_3;yx}^{ca'}S_{\\nu_2\\mu_2;yy}^{ab}S_{\\nu_3\\mu_4;xx}^{b'c'}$"
      ],
      "text/plain": [
       "0.25⋅C_{\\nu_4\\mu_1;xy}_{\\nu_1\\mu_2;yy}_{\\nu_2\\mu_3;yx}_{\\nu_3\\mu_4;xx}__{d'd}S\n",
       "__{cb}S__{aa'}S__{b'c'} + 0.25⋅C_{\\nu_4\\mu_1;xy}_{\\nu_1\\mu_3;yx}_{\\nu_2\\mu_2;y\n",
       "y}_{\\nu_3\\mu_4;xx}__{d'd}S__{ca'}S__{ab}S__{b'c'}"
      ]
     },
     "metadata": {},
     "output_type": "display_data"
    },
    {
     "name": "stdout",
     "output_type": "stream",
     "text": [
      "['cb', 'd', 'db', 'd', 'sb', 's', 'db', 'c'] -0.08333333333333336\n"
     ]
    },
    {
     "data": {
      "image/png": "[encoded data removed]",
      "text/latex": [
       "$\\displaystyle - 0.0833333333333334 C_{\\nu_4\\mu_1;xy}^{d'd}S_{\\nu_1\\mu_2;yy}^{cb}S_{\\nu_2\\mu_4;yx}^{ac'}S_{\\nu_3\\mu_3;xx}^{b'a'} - 0.0833333333333334 C_{\\nu_4\\mu_1;xy}^{d'd}S_{\\nu_1\\mu_4;yx}^{cc'}S_{\\nu_2\\mu_2;yy}^{ab}S_{\\nu_3\\mu_3;xx}^{b'a'}$"
      ],
      "text/plain": [
       "-0.0833333333333334⋅C_{\\nu_4\\mu_1;xy}_{\\nu_1\\mu_2;yy}_{\\nu_2\\mu_4;yx}_{\\nu_3\\m\n",
       "u_3;xx}__{d'd}S__{cb}S__{ac'}S__{b'a'} - 0.0833333333333334⋅C_{\\nu_4\\mu_1;xy}_\n",
       "{\\nu_1\\mu_4;yx}_{\\nu_2\\mu_2;yy}_{\\nu_3\\mu_3;xx}__{d'd}S__{cc'}S__{ab}S__{b'a'}"
      ]
     },
     "metadata": {},
     "output_type": "display_data"
    },
    {
     "name": "stdout",
     "output_type": "stream",
     "text": [
      "['cb', 's', 'sb', 'd', 'db', 'u', 'ub', 'c'] 0.37499999999999994\n"
     ]
    },
    {
     "data": {
      "image/png": "[encoded data removed]",
      "text/latex": [
       "$\\displaystyle 0.375 C_{\\nu_4\\mu_1;xy}^{d'd}S_{\\nu_1\\mu_2;yy}^{cb}S_{\\nu_2\\mu_3;yx}^{aa'}S_{\\nu_3\\mu_4;xx}^{b'c'}$"
      ],
      "text/plain": [
       "0.375⋅C_{\\nu_4\\mu_1;xy}_{\\nu_1\\mu_2;yy}_{\\nu_2\\mu_3;yx}_{\\nu_3\\mu_4;xx}__{d'd}\n",
       "S__{cb}S__{aa'}S__{b'c'}"
      ]
     },
     "metadata": {},
     "output_type": "display_data"
    },
    {
     "name": "stdout",
     "output_type": "stream",
     "text": [
      "['cb', 's', 'sb', 'd', 'ub', 'u', 'db', 'c'] -0.125\n"
     ]
    },
    {
     "data": {
      "image/png": "[encoded data removed]",
      "text/latex": [
       "$\\displaystyle - 0.125 C_{\\nu_4\\mu_1;xy}^{d'd}S_{\\nu_1\\mu_2;yy}^{cb}S_{\\nu_2\\mu_4;yx}^{ac'}S_{\\nu_3\\mu_3;xx}^{b'a'}$"
      ],
      "text/plain": [
       "-0.125⋅C_{\\nu_4\\mu_1;xy}_{\\nu_1\\mu_2;yy}_{\\nu_2\\mu_4;yx}_{\\nu_3\\mu_3;xx}__{d'd\n",
       "}S__{cb}S__{ac'}S__{b'a'}"
      ]
     },
     "metadata": {},
     "output_type": "display_data"
    },
    {
     "name": "stdout",
     "output_type": "stream",
     "text": [
      "['cb', 's', 'sb', 'd', 'db', 'd', 'db', 'c'] 0.25\n"
     ]
    },
    {
     "data": {
      "image/png": "[encoded data removed]",
      "text/latex": [
       "$\\displaystyle 0.25 C_{\\nu_4\\mu_1;xy}^{d'd}S_{\\nu_1\\mu_2;yy}^{cb}S_{\\nu_2\\mu_3;yx}^{aa'}S_{\\nu_3\\mu_4;xx}^{b'c'} + 0.25 C_{\\nu_4\\mu_1;xy}^{d'd}S_{\\nu_1\\mu_2;yy}^{cb}S_{\\nu_2\\mu_4;yx}^{ac'}S_{\\nu_3\\mu_3;xx}^{b'a'}$"
      ],
      "text/plain": [
       "0.25⋅C_{\\nu_4\\mu_1;xy}_{\\nu_1\\mu_2;yy}_{\\nu_2\\mu_3;yx}_{\\nu_3\\mu_4;xx}__{d'd}S\n",
       "__{cb}S__{aa'}S__{b'c'} + 0.25⋅C_{\\nu_4\\mu_1;xy}_{\\nu_1\\mu_2;yy}_{\\nu_2\\mu_4;y\n",
       "x}_{\\nu_3\\mu_3;xx}__{d'd}S__{cb}S__{ac'}S__{b'a'}"
      ]
     },
     "metadata": {},
     "output_type": "display_data"
    },
    {
     "name": "stdout",
     "output_type": "stream",
     "text": [
      "['cb', 's', 'sb', 'd', 'db', 's', 'sb', 'c'] 0.37499999999999994\n"
     ]
    },
    {
     "data": {
      "image/png": "[encoded data removed]",
      "text/latex": [
       "$\\displaystyle 0.375 C_{\\nu_4\\mu_1;xy}^{d'd}S_{\\nu_1\\mu_2;yy}^{cb}S_{\\nu_2\\mu_3;yx}^{aa'}S_{\\nu_3\\mu_4;xx}^{b'c'} + 0.375 C_{\\nu_4\\mu_1;xy}^{d'd}S_{\\nu_1\\mu_4;yx}^{cc'}S_{\\nu_3\\mu_2;xy}^{b'b}S_{\\nu_2\\mu_3;yx}^{aa'}$"
      ],
      "text/plain": [
       "0.375⋅C_{\\nu_4\\mu_1;xy}_{\\nu_1\\mu_2;yy}_{\\nu_2\\mu_3;yx}_{\\nu_3\\mu_4;xx}__{d'd}\n",
       "S__{cb}S__{aa'}S__{b'c'} + 0.375⋅C_{\\nu_4\\mu_1;xy}_{\\nu_1\\mu_4;yx}_{\\nu_3\\mu_2\n",
       ";xy}_{\\nu_2\\mu_3;yx}__{d'd}S__{cc'}S__{b'b}S__{aa'}"
      ]
     },
     "metadata": {},
     "output_type": "display_data"
    },
    {
     "name": "stdout",
     "output_type": "stream",
     "text": [
      "['cb', 's', 'sb', 'd', 'sb', 's', 'db', 'c'] -0.125\n"
     ]
    },
    {
     "data": {
      "image/png": "[encoded data removed]",
      "text/latex": [
       "$\\displaystyle - 0.125 C_{\\nu_4\\mu_1;xy}^{d'd}S_{\\nu_1\\mu_2;yy}^{cb}S_{\\nu_2\\mu_4;yx}^{ac'}S_{\\nu_3\\mu_3;xx}^{b'a'} + 0.125 C_{\\nu_4\\mu_1;xy}^{d'd}S_{\\nu_1\\mu_3;yx}^{ca'}S_{\\nu_3\\mu_2;xy}^{b'b}S_{\\nu_2\\mu_4;yx}^{ac'}$"
      ],
      "text/plain": [
       "-0.125⋅C_{\\nu_4\\mu_1;xy}_{\\nu_1\\mu_2;yy}_{\\nu_2\\mu_4;yx}_{\\nu_3\\mu_3;xx}__{d'd\n",
       "}S__{cb}S__{ac'}S__{b'a'} + 0.125⋅C_{\\nu_4\\mu_1;xy}_{\\nu_1\\mu_3;yx}_{\\nu_3\\mu_\n",
       "2;xy}_{\\nu_2\\mu_4;yx}__{d'd}S__{ca'}S__{b'b}S__{ac'}"
      ]
     },
     "metadata": {},
     "output_type": "display_data"
    },
    {
     "name": "stdout",
     "output_type": "stream",
     "text": [
      "['cb', 'd', 'sb', 's', 'db', 'u', 'ub', 'c'] -0.125\n"
     ]
    },
    {
     "data": {
      "image/png": "[encoded data removed]",
      "text/latex": [
       "$\\displaystyle - 0.125 C_{\\nu_4\\mu_1;xy}^{d'd}S_{\\nu_1\\mu_3;yx}^{ca'}S_{\\nu_2\\mu_2;yy}^{ab}S_{\\nu_3\\mu_4;xx}^{b'c'}$"
      ],
      "text/plain": [
       "-0.125⋅C_{\\nu_4\\mu_1;xy}_{\\nu_1\\mu_3;yx}_{\\nu_2\\mu_2;yy}_{\\nu_3\\mu_4;xx}__{d'd\n",
       "}S__{ca'}S__{ab}S__{b'c'}"
      ]
     },
     "metadata": {},
     "output_type": "display_data"
    },
    {
     "name": "stdout",
     "output_type": "stream",
     "text": [
      "['cb', 'd', 'sb', 's', 'ub', 'u', 'db', 'c'] 0.04166666666666668\n"
     ]
    },
    {
     "data": {
      "image/png": "[encoded data removed]",
      "text/latex": [
       "$\\displaystyle 0.0416666666666667 C_{\\nu_4\\mu_1;xy}^{d'd}S_{\\nu_1\\mu_4;yx}^{cc'}S_{\\nu_2\\mu_2;yy}^{ab}S_{\\nu_3\\mu_3;xx}^{b'a'}$"
      ],
      "text/plain": [
       "0.0416666666666667⋅C_{\\nu_4\\mu_1;xy}_{\\nu_1\\mu_4;yx}_{\\nu_2\\mu_2;yy}_{\\nu_3\\mu\n",
       "_3;xx}__{d'd}S__{cc'}S__{ab}S__{b'a'}"
      ]
     },
     "metadata": {},
     "output_type": "display_data"
    },
    {
     "name": "stdout",
     "output_type": "stream",
     "text": [
      "['cb', 'd', 'sb', 's', 'db', 'd', 'db', 'c'] -0.08333333333333336\n"
     ]
    },
    {
     "data": {
      "image/png": "[encoded data removed]",
      "text/latex": [
       "$\\displaystyle - 0.0833333333333334 C_{\\nu_4\\mu_1;xy}^{d'd}S_{\\nu_1\\mu_3;yx}^{ca'}S_{\\nu_2\\mu_2;yy}^{ab}S_{\\nu_3\\mu_4;xx}^{b'c'} - 0.0833333333333334 C_{\\nu_4\\mu_1;xy}^{d'd}S_{\\nu_1\\mu_4;yx}^{cc'}S_{\\nu_2\\mu_2;yy}^{ab}S_{\\nu_3\\mu_3;xx}^{b'a'}$"
      ],
      "text/plain": [
       "-0.0833333333333334⋅C_{\\nu_4\\mu_1;xy}_{\\nu_1\\mu_3;yx}_{\\nu_2\\mu_2;yy}_{\\nu_3\\m\n",
       "u_4;xx}__{d'd}S__{ca'}S__{ab}S__{b'c'} - 0.0833333333333334⋅C_{\\nu_4\\mu_1;xy}_\n",
       "{\\nu_1\\mu_4;yx}_{\\nu_2\\mu_2;yy}_{\\nu_3\\mu_3;xx}__{d'd}S__{cc'}S__{ab}S__{b'a'}"
      ]
     },
     "metadata": {},
     "output_type": "display_data"
    },
    {
     "name": "stdout",
     "output_type": "stream",
     "text": [
      "['cb', 'd', 'sb', 's', 'db', 's', 'sb', 'c'] -0.125\n"
     ]
    },
    {
     "data": {
      "image/png": "[encoded data removed]",
      "text/latex": [
       "$\\displaystyle - 0.125 C_{\\nu_4\\mu_1;xy}^{d'd}S_{\\nu_1\\mu_3;yx}^{ca'}S_{\\nu_2\\mu_2;yy}^{ab}S_{\\nu_3\\mu_4;xx}^{b'c'} + 0.125 C_{\\nu_4\\mu_1;xy}^{d'd}S_{\\nu_1\\mu_3;yx}^{ca'}S_{\\nu_3\\mu_2;xy}^{b'b}S_{\\nu_2\\mu_4;yx}^{ac'}$"
      ],
      "text/plain": [
       "-0.125⋅C_{\\nu_4\\mu_1;xy}_{\\nu_1\\mu_3;yx}_{\\nu_2\\mu_2;yy}_{\\nu_3\\mu_4;xx}__{d'd\n",
       "}S__{ca'}S__{ab}S__{b'c'} + 0.125⋅C_{\\nu_4\\mu_1;xy}_{\\nu_1\\mu_3;yx}_{\\nu_3\\mu_\n",
       "2;xy}_{\\nu_2\\mu_4;yx}__{d'd}S__{ca'}S__{b'b}S__{ac'}"
      ]
     },
     "metadata": {},
     "output_type": "display_data"
    },
    {
     "name": "stdout",
     "output_type": "stream",
     "text": [
      "['cb', 'd', 'sb', 's', 'sb', 's', 'db', 'c'] 0.04166666666666668\n"
     ]
    },
    {
     "data": {
      "image/png": "[encoded data removed]",
      "text/latex": [
       "$\\displaystyle 0.0416666666666667 C_{\\nu_4\\mu_1;xy}^{d'd}S_{\\nu_1\\mu_4;yx}^{cc'}S_{\\nu_2\\mu_2;yy}^{ab}S_{\\nu_3\\mu_3;xx}^{b'a'} + 0.0416666666666667 C_{\\nu_4\\mu_1;xy}^{d'd}S_{\\nu_1\\mu_4;yx}^{cc'}S_{\\nu_3\\mu_2;xy}^{b'b}S_{\\nu_2\\mu_3;yx}^{aa'}$"
      ],
      "text/plain": [
       "0.0416666666666667⋅C_{\\nu_4\\mu_1;xy}_{\\nu_1\\mu_4;yx}_{\\nu_2\\mu_2;yy}_{\\nu_3\\mu\n",
       "_3;xx}__{d'd}S__{cc'}S__{ab}S__{b'a'} + 0.0416666666666667⋅C_{\\nu_4\\mu_1;xy}_{\n",
       "\\nu_1\\mu_4;yx}_{\\nu_3\\mu_2;xy}_{\\nu_2\\mu_3;yx}__{d'd}S__{cc'}S__{b'b}S__{aa'}"
      ]
     },
     "metadata": {},
     "output_type": "display_data"
    },
    {
     "data": {
      "image/png": "[encoded data removed]",
      "text/latex": [
       "$\\displaystyle 2.66666666666667 C_{\\nu_4\\mu_1;xy}^{d'd}S_{\\nu_1\\mu_2;yy}^{cb}S_{\\nu_2\\mu_3;yx}^{aa'}S_{\\nu_3\\mu_4;xx}^{b'c'} + 0.333333333333333 C_{\\nu_4\\mu_1;xy}^{d'd}S_{\\nu_1\\mu_3;yx}^{ca'}S_{\\nu_3\\mu_2;xy}^{b'b}S_{\\nu_2\\mu_4;yx}^{ac'} + 1.0 C_{\\nu_4\\mu_1;xy}^{d'd}S_{\\nu_1\\mu_4;yx}^{cc'}S_{\\nu_3\\mu_2;xy}^{b'b}S_{\\nu_2\\mu_3;yx}^{aa'}$"
      ],
      "text/plain": [
       "2.66666666666667⋅C_{\\nu_4\\mu_1;xy}_{\\nu_1\\mu_2;yy}_{\\nu_2\\mu_3;yx}_{\\nu_3\\mu_4\n",
       ";xx}__{d'd}S__{cb}S__{aa'}S__{b'c'} + 0.333333333333333⋅C_{\\nu_4\\mu_1;xy}_{\\nu\n",
       "_1\\mu_3;yx}_{\\nu_3\\mu_2;xy}_{\\nu_2\\mu_4;yx}__{d'd}S__{ca'}S__{b'b}S__{ac'} + 1\n",
       ".0⋅C_{\\nu_4\\mu_1;xy}_{\\nu_1\\mu_4;yx}_{\\nu_3\\mu_2;xy}_{\\nu_2\\mu_3;yx}__{d'd}S__\n",
       "{cc'}S__{b'b}S__{aa'}"
      ]
     },
     "metadata": {},
     "output_type": "display_data"
    }
   ],
   "source": [
    "\n",
    "position=['y','y','y','y','x','x','x','x']\n",
    "spin=['\\\\mu_1','\\\\nu_1','\\\\mu_2','\\\\nu_2','\\\\mu_3','\\\\nu_3','\\\\mu_4','\\\\nu_4']\n",
    "#spin=['1','2','1','1','2','1']\n",
    "color=['d','c','b','a','a\\'','b\\'','c\\'','d\\'']\n",
    "#color=['2','1','0','0','1','2']\n",
    "\n",
    "quark1=['cb','u','ub','u']\n",
    "quark2=['cb','d','db','u']\n",
    "quark3=['cb','u','db','d']\n",
    "quark4=['cb','s','sb','u']\n",
    "quark5=['cb','u','sb','s']\n",
    "\n",
    "QUARK=[quark1,quark2,quark3,quark4,quark5]\n",
    "overall=[np.sqrt(1/6),np.sqrt(3/8),-1/2/np.sqrt(6),np.sqrt(3/8),-1/2/np.sqrt(6)]\n",
    "PRINT=0\n",
    "for quark, over1 in zip(QUARK,overall):\n",
    "    for quark2, over2 in zip(QUARK,overall):\n",
    "        antiquark=[]\n",
    "        for q in quark2:\n",
    "            antiquark.append(anti[q])\n",
    "        antiquark.reverse()\n",
    "        #print(quark+antiquark, over1*over2)\n",
    "        output=[]\n",
    "        OUTPUT=[]\n",
    "        contraction(quark+antiquark,0,output,OUTPUT)\n",
    "#        print(OUTPUT)\n",
    "        PRINT+=print_propagator(OUTPUT,quark+antiquark,spin,color,position,over1*over2)\n",
    "           \n",
    "#display(PRINT)\n",
    "\n",
    "\n",
    "quark1=['cb','u','ub','d']\n",
    "quark2=['cb','d','ub','u']\n",
    "quark3=['cb','d','db','d']\n",
    "quark4=['cb','s','sb','d']\n",
    "quark5=['cb','d','sb','s']\n",
    "\n",
    "QUARK=[quark1,quark2,quark3,quark4,quark5]\n",
    "QUARK2=deepcopy(QUARK)\n",
    "overall=[np.sqrt(3/8),-1/2/np.sqrt(6),1/np.sqrt(6),np.sqrt(3/8),-1/2/np.sqrt(6)]\n",
    "PRINT=0\n",
    "for quark, over1 in zip(QUARK,overall):\n",
    "    for quark2, over2 in zip(QUARK2,overall):\n",
    "        antiquark=[]\n",
    "        for q in quark2:\n",
    "            antiquark.append(anti[q])\n",
    "        antiquark.reverse()\n",
    "        print(quark+antiquark, over1*over2)\n",
    "        output=[]\n",
    "        OUTPUT=[]\n",
    "        contraction(quark+antiquark,0,output,OUTPUT)\n",
    "        PRINT2=print_propagator(OUTPUT,quark+antiquark,spin,color,position,over1*over2)\n",
    "        display(PRINT2)\n",
    "        PRINT+=PRINT2\n",
    "           \n",
    "display(PRINT)\n"
   ]
  },
  {
   "cell_type": "markdown",
   "id": "ecdc4379-2307-41f3-b3d0-6f1733bb3351",
   "metadata": {},
   "source": [
    "# Test proton proton contraction"
   ]
  },
  {
   "cell_type": "code",
   "execution_count": 68,
   "id": "6642bc22-9aeb-40af-bffe-4eab9a25a4a1",
   "metadata": {},
   "outputs": [
    {
     "data": {
      "image/png": "[encoded data removed]",
      "text/latex": [
       "$\\displaystyle 1.5 S^{11}_{yx} \\left(S^{11}_{yx} S^{22}_{yx} - S^{12}_{yx} S^{21}_{yx}\\right)$"
      ],
      "text/plain": [
       "1.5⋅S_{yx}__{11}⋅(S_{yx}__{11}⋅S_{yx}__{22} - S_{yx}__{12}⋅S_{yx}__{21})"
      ]
     },
     "metadata": {},
     "output_type": "display_data"
    }
   ],
   "source": [
    "overall='\\\\frac{1}{2}\\epsilon_{abc}\\epsilon_{a\\'b\\'c\\'}'\n",
    "overall2=1/2#*symbols('\\epsilon_{abc}\\epsilon_{a\\'b\\'c\\'}')\n",
    "position=['y','y','y','x','x','x']\n",
    "#spin=['\\\\mu_1','\\\\mu_2','\\\\mu_3','\\\\nu_3','\\\\nu_2','\\\\nu_1']\n",
    "spin=['1','2','1','1','2','1']\n",
    "color=['c','b','a','a\\'','b\\'','c\\'']\n",
    "#color=['2','1','0','0','1','2']\n",
    "quark=['u','u','d','db','ub','ub']\n",
    "\n",
    "diquark=[[1,2],[3,4]]\n",
    "#diquark=[]\n",
    "#spin_pair=[[0,5],[1,4],[2,3]]\n",
    "color1=['a','b','c']\n",
    "color2=['a\\'','b\\'','c\\'']\n",
    "#color1=['0','1','2']\n",
    "#color2=['0','1','2']\n",
    "\n",
    "output=[]\n",
    "OUTPUT=[]\n",
    "\n",
    "contraction(quark,0,output,OUTPUT)\n",
    "\n",
    "\n",
    "#PRINT=print_Trace_color(OUTPUT,quark,spin,color,position,overall2,diquark,spin_pair,color1,color2)\n",
    "#display(simplify(PRINT))\n",
    "\n",
    "PRINT=print_propagator_with_diquark_color(OUTPUT,quark,spin,color,position,overall2,diquark, color1, color2)\n",
    "display(simplify(PRINT))\n",
    "\n",
    "   "
   ]
  },
  {
   "cell_type": "markdown",
   "id": "5d88cc89-a417-4f81-aaea-2385e47dd607",
   "metadata": {
    "jp-MarkdownHeadingCollapsed": true,
    "jupyter": {
     "source_hidden": true
    },
    "tags": []
   },
   "source": [
    "# S=+1, I=1 System"
   ]
  },
  {
   "cell_type": "markdown",
   "id": "ecd2f755-fc3d-4d06-987a-452ca71b2be0",
   "metadata": {
    "jupyter": {
     "source_hidden": true
    },
    "tags": []
   },
   "source": [
    "# $<1,1|1,1>=<p(y') K^{+}(y) | \\overline{K}^{+}(x) \\overline{p}(x')>=\\frac{1}{2}\\epsilon_{abc}\\epsilon_{a'b'c'} \\bigg( u^{c}_{\\mu_1}(y') \\big[u^{b}_{\\mu_2}(y') d^{a}_{\\mu_3}(y')\\big] \\overline{s}^{i}_{\\alpha}(y)[\\gamma_5]_{\\alpha \\beta} u^{j}_{\\beta}(y) \\overline{u}^{j'}_{\\sigma}(x) [\\gamma_{5}]_{\\sigma \\rho} s^{i'}_{\\rho}(x) \\big[\\overline{d}^{a'}_{\\nu3}(x') \\overline{u}^{b'}_{\\nu_2}(x')\\big] \\overline{u}^{c'}_{\\nu_1}(x') \\bigg)$"
   ]
  },
  {
   "cell_type": "code",
   "execution_count": null,
   "id": "63eb8c2c-e54b-4931-a11d-28e97d0bcf33",
   "metadata": {
    "jupyter": {
     "source_hidden": true
    },
    "tags": []
   },
   "outputs": [],
   "source": [
    "overall='\\\\frac{1}{2}\\epsilon_{abc}\\epsilon_{a\\'b\\'c\\'}[\\gamma_5]_{\\\\alpha\\\\beta}[\\gamma_5]_{\\\\sigma\\\\rho}'\n",
    "#overall2=1/2*symbols('[\\gamma_5]_{\\\\alpha\\\\alpha}[\\gamma_5]_{\\\\sigma\\\\sigma}')#*symbols('\\epsilon_{abc}\\epsilon_{a\\'b\\'c\\'}')\n",
    "overall2=1/2#*symbols('[\\gamma_5]_{\\\\alpha\\\\alpha}[\\gamma_5]_{\\\\sigma\\\\sigma}')#*symbols('\\epsilon_{abc}\\epsilon_{a\\'b\\'c\\'}')\n",
    "position=['y','y','y','y','y','x','x','x','x','x']\n",
    "#spin=['1','2','1','\\\\alpha','\\\\beta','\\\\sigma','\\\\rho','1','2','1']\n",
    "spin=['1','2','1','\\\\alpha','\\\\alpha','\\\\sigma','\\\\sigma','1','2','1']\n",
    "color=['c','b','a','i','j','j\\'','i\\'','a\\'','b\\'','c\\'']\n",
    "quark=['u','u','d','sb','u','ub','s','db','ub','ub']\n",
    "\n",
    "diquark=[[1,2],[7,8]]\n",
    "#spin_pair=[[0,9],[1,8],[2,7],[3,4],[5,6]]\n",
    "#color1=['a','b','c']\n",
    "#color2=['a\\'','b\\'','c\\'']\n",
    "color1=['0','1','2']\n",
    "color2=['0','1','2']\n",
    "output=[]\n",
    "OUTPUT=[]\n",
    "\n",
    "contraction(quark,0,output,OUTPUT)\n",
    "#PRINT=print_Trace_color(OUTPUT,quark,spin,color,position,overall2,diquark,spin_pair,color1,color2)\n",
    "PRINT=0\n",
    "for a in ['0','1','2']:\n",
    "    color[2]=a\n",
    "    for b in ['0','1','2']:\n",
    "        if a==b: continue\n",
    "        color[1]=b\n",
    "        for c in ['0','1','2']:\n",
    "            if c==a or c==b: continue\n",
    "            color[0]=c\n",
    "            for aa in ['0','1','2']:\n",
    "                color[7]=aa\n",
    "                for bb in ['0','1','2']:\n",
    "                    if aa==bb: continue\n",
    "                    color[8]=bb\n",
    "                    for cc in ['0','1','2']:\n",
    "                        if cc==aa or cc==bb: continue\n",
    "                        color[9]=cc\n",
    "                        #print(color)\n",
    "                        perm1=Permutation(color[:3])\n",
    "                        perm2=Permutation(color[7:])\n",
    "\n",
    "                        sign1=perm1.signature()\n",
    "                        sign2=perm2.signature()\n",
    "                        for i in ['0','1','2']:\n",
    "                            color[3]=i\n",
    "                            for j in ['0','1','2']:\n",
    "                                color[4]=j\n",
    "                                for jj in ['0','1','2']:\n",
    "                                    color[5]=jj\n",
    "                                    for ii in ['0','1','2']:\n",
    "                                        color[6]=ii\n",
    "                                        for ab, alpha_beta in enumerate(['1','2','3','4']): \n",
    "                                            spin[3]=alpha_beta\n",
    "                                            spin[4]=alpha_beta\n",
    "                                            for sr, sigma_rho in enumerate(['1','2','3','4']): \n",
    "                                                spin[5]=sigma_rho\n",
    "                                                spin[6]=sigma_rho\n",
    "                                                PRINT+=sign1*sign2*gamma5(ab,ab)*gamma5(sr,sr)*print_propagator_with_diquark_color(OUTPUT,quark,spin,color,position,overall2,diquark, color1, color2)\n",
    "                                        #PRINT+=sign1*sign2*print_propagator_with_diquark_color(OUTPUT,quark,spin,color,position,overall2,diquark, color1, color2)\n",
    "\n",
    "display(simplify(PRINT))\n",
    "\n",
    "\n",
    "#for q in print_propagator_with_diquark(OUTPUT,quark,spin,color,position,overall,diquark):\n",
    "#    display(q)\n",
    "\n",
    "   "
   ]
  },
  {
   "cell_type": "markdown",
   "id": "82da99f7-e6fb-4e32-8e72-425d011cc672",
   "metadata": {
    "jupyter": {
     "source_hidden": true
    },
    "tags": []
   },
   "source": [
    "# $<1,0|1,0>=\\frac{1}{2}\\bigg\\{ <p(y') K^{0}(y) | \\overline{K}^{0}(x) \\overline{p}(x')> + <p(y') K^{0}(y) | \\overline{K}^{+}(x) \\overline{n}(x')> + <n(y') K^{+}(y) | \\overline{K}^{0}(x) \\overline{p}(x')> + <n(y') K^{+}(y) | \\overline{K}^{+}(x) \\overline{n}(x')> \\bigg\\}$"
   ]
  },
  {
   "cell_type": "markdown",
   "id": "767081f8-e72b-4af9-83c6-9220810b1fd8",
   "metadata": {
    "jupyter": {
     "source_hidden": true
    },
    "tags": []
   },
   "source": [
    "# $\\frac{1}{2}\\bigg\\{ <p(y') K^{0}(y) | \\overline{K}^{0}(x) \\overline{p}(x')> \\bigg\\}=\\frac{1}{4}\\epsilon_{abc}\\epsilon_{a'b'c'} \\bigg( u^{c}_{\\mu_1}(y') \\big[u^{b}_{\\mu_2}(y') d^{a}_{\\mu_3}(y')\\big] \\overline{s}^{i}_{\\alpha}(y)[\\gamma_5]_{\\alpha \\beta} d^{j}_{\\beta}(y) \\overline{d}^{j'}_{\\sigma}(x) [\\gamma_{5}]_{\\sigma \\rho} s^{i'}_{\\rho}(x) \\big[\\overline{d}^{a'}_{\\nu3}(x') \\overline{u}^{b'}_{\\nu_2}(x')\\big] \\overline{u}^{c'}_{\\nu_1}(x') \\bigg) $"
   ]
  },
  {
   "cell_type": "code",
   "execution_count": null,
   "id": "ccc4fcc0-cacb-4153-b94c-d25c4006d7e5",
   "metadata": {
    "jupyter": {
     "source_hidden": true
    },
    "tags": []
   },
   "outputs": [],
   "source": [
    "overall='\\\\frac{1}{4}\\epsilon_{abc}\\epsilon_{a\\'b\\'c\\'}[\\gamma_5]_{\\\\alpha\\\\beta}[\\gamma_5]_{\\\\sigma\\\\rho}'\n",
    "overall2=1/4*symbols('\\epsilon_{abc}\\epsilon_{a\\'b\\'c\\'}')\n",
    "position=['y\\'','y\\'','y\\'','y','y','x','x','x\\'','x\\'','x\\'']\n",
    "spin=['\\\\mu_1','\\\\mu_2','\\\\mu_3','\\\\alpha','\\\\beta','\\\\sigma','\\\\rho','\\\\nu_3','\\\\nu_2','\\\\nu_1']\n",
    "color=['c','b','a','i','j','j\\'','i\\'','a\\'','b\\'','c\\'']\n",
    "quark=['u','u','d','sb','d','db','s','db','ub','ub']\n",
    "\n",
    "diquark=[[1,2],[7,8]]\n",
    "spin_pair=[[0,9],[1,8],[2,7],[3,4],[5,6]]\n",
    "\n",
    "output=[]\n",
    "OUTPUT=[]\n",
    "\n",
    "contraction(quark,0,output,OUTPUT)\n",
    "PRINT=print_Trace(OUTPUT,quark,spin,color,position,overall2,diquark,spin_pair)\n",
    "display(simplify(PRINT))\n",
    "\n",
    "\n",
    "#for q in print_propagator_with_diquark(OUTPUT,quark,spin,color,position,overall,diquark):\n",
    "#    display(q)\n"
   ]
  },
  {
   "cell_type": "markdown",
   "id": "9e083e27-b918-4a50-be61-943ded9380dc",
   "metadata": {
    "jupyter": {
     "source_hidden": true
    },
    "tags": []
   },
   "source": [
    "# $\\frac{1}{2}\\bigg\\{ <p(y') K^{0}(y) | \\overline{K}^{+}(x) \\overline{n}(x')> \\bigg\\}=\\frac{1}{4}\\epsilon_{abc}\\epsilon_{a'b'c'} \\bigg( u^{c}_{\\mu_1}(y') \\big[u^{b}_{\\mu_2}(y') d^{a}_{\\mu_3}(y')\\big] \\overline{s}^{i}_{\\alpha}(y)[\\gamma_5]_{\\alpha \\beta} d^{j}_{\\beta}(y) \\overline{u}^{j'}_{\\sigma}(x) [\\gamma_{5}]_{\\sigma \\rho} s^{i'}_{\\rho}(x) \\big[\\overline{u}^{a'}_{\\nu3}(x') \\overline{d}^{b'}_{\\nu_2}(x')\\big] \\overline{d}^{c'}_{\\nu_1}(x') \\bigg) $"
   ]
  },
  {
   "cell_type": "code",
   "execution_count": null,
   "id": "7f091f5f-6d66-4a5e-befa-693c9719f7b2",
   "metadata": {
    "jupyter": {
     "source_hidden": true
    },
    "tags": []
   },
   "outputs": [],
   "source": [
    "overall='\\\\frac{1}{4}\\epsilon_{abc}\\epsilon_{a\\'b\\'c\\'}[\\gamma_5]_{\\\\alpha\\\\beta}[\\gamma_5]_{\\\\sigma\\\\rho}'\n",
    "overall2=1/4*symbols('\\epsilon_{abc}\\epsilon_{a\\'b\\'c\\'}')\n",
    "position=['y\\'','y\\'','y\\'','y','y','x','x','x\\'','x\\'','x\\'']\n",
    "spin=['\\\\mu_1','\\\\mu_2','\\\\mu_3','\\\\alpha','\\\\beta','\\\\sigma','\\\\rho','\\\\nu_3','\\\\nu_2','\\\\nu_1']\n",
    "color=['c','b','a','i','j','j\\'','i\\'','a\\'','b\\'','c\\'']\n",
    "quark=['u','u','d','sb','d','ub','s','ub','db','db']\n",
    "\n",
    "diquark=[[1,2],[7,8]]\n",
    "spin_pair=[[0,9],[1,8],[2,7],[3,4],[5,6]]\n",
    "\n",
    "output=[]\n",
    "OUTPUT=[]\n",
    "\n",
    "contraction(quark,0,output,OUTPUT)\n",
    "PRINT=print_Trace(OUTPUT,quark,spin,color,position,overall2,diquark,spin_pair)\n",
    "display(simplify(PRINT))\n",
    "\n",
    "\n",
    "#for q in print_propagator_with_diquark(OUTPUT,quark,spin,color,position,overall,diquark):\n",
    "#    display(q)\n"
   ]
  },
  {
   "cell_type": "markdown",
   "id": "553120c9-bcbd-49fa-b779-71130f94f666",
   "metadata": {
    "jupyter": {
     "source_hidden": true
    },
    "tags": []
   },
   "source": [
    "# $\\frac{1}{2}\\bigg\\{ <n(y') K^{+}(y) | \\overline{K}^{0}(x) \\overline{p}(x')> \\bigg\\}=\\frac{1}{4}\\epsilon_{abc}\\epsilon_{a'b'c'} \\bigg( d^{c}_{\\mu_1}(y') \\big[d^{b}_{\\mu_2}(y') u^{a}_{\\mu_3}(y')\\big] \\overline{s}^{i}_{\\alpha}(y)[\\gamma_5]_{\\alpha \\beta} u^{j}_{\\beta}(y) \\overline{d}^{j'}_{\\sigma}(x) [\\gamma_{5}]_{\\sigma \\rho} s^{i'}_{\\rho}(x) \\big[\\overline{d}^{a'}_{\\nu3}(x') \\overline{u}^{b'}_{\\nu_2}(x')\\big] \\overline{u}^{c'}_{\\nu_1}(x') \\bigg) $"
   ]
  },
  {
   "cell_type": "code",
   "execution_count": null,
   "id": "cb26f247-01f4-4b44-a249-68c3207d33f3",
   "metadata": {
    "jupyter": {
     "source_hidden": true
    },
    "tags": []
   },
   "outputs": [],
   "source": [
    "overall='\\\\frac{1}{4}\\epsilon_{abc}\\epsilon_{a\\'b\\'c\\'}[\\gamma_5]_{\\\\alpha\\\\beta}[\\gamma_5]_{\\\\sigma\\\\rho}'\n",
    "overall2=1/4*symbols('\\epsilon_{abc}\\epsilon_{a\\'b\\'c\\'}')\n",
    "position=['y\\'','y\\'','y\\'','y','y','x','x','x\\'','x\\'','x\\'']\n",
    "spin=['\\\\mu_1','\\\\mu_2','\\\\mu_3','\\\\alpha','\\\\beta','\\\\sigma','\\\\rho','\\\\nu_3','\\\\nu_2','\\\\nu_1']\n",
    "color=['c','b','a','i','j','j\\'','i\\'','a\\'','b\\'','c\\'']\n",
    "quark=['d','d','u','sb','u','db','s','db','ub','ub']\n",
    "\n",
    "diquark=[[1,2],[7,8]]\n",
    "spin_pair=[[0,9],[1,8],[2,7],[3,4],[5,6]]\n",
    "\n",
    "output=[]\n",
    "OUTPUT=[]\n",
    "\n",
    "contraction(quark,0,output,OUTPUT)\n",
    "PRINT=print_Trace(OUTPUT,quark,spin,color,position,overall2,diquark,spin_pair)\n",
    "display(simplify(PRINT))\n",
    "\n",
    "\n",
    "#for q in print_propagator_with_diquark(OUTPUT,quark,spin,color,position,overall,diquark):\n",
    "#    display(q)\n"
   ]
  },
  {
   "cell_type": "markdown",
   "id": "f82f9ef5-5037-4365-b642-1e2aa32ee097",
   "metadata": {
    "jupyter": {
     "source_hidden": true
    },
    "tags": []
   },
   "source": [
    "# $\\frac{1}{2}\\bigg\\{ <n(y') K^{+}(y) | \\overline{K}^{+}(x) \\overline{n}(x')> \\bigg\\}=\\frac{1}{4}\\epsilon_{abc}\\epsilon_{a'b'c'} \\bigg( d^{c}_{\\mu_1}(y') \\big[d^{b}_{\\mu_2}(y') u^{a}_{\\mu_3}(y')\\big] \\overline{s}^{i}_{\\alpha}(y)[\\gamma_5]_{\\alpha \\beta} u^{j}_{\\beta}(y) \\overline{u}^{j'}_{\\sigma}(x) [\\gamma_{5}]_{\\sigma \\rho} s^{i'}_{\\rho}(x) \\big[\\overline{u}^{a'}_{\\nu3}(x') \\overline{d}^{b'}_{\\nu_2}(x')\\big] \\overline{d}^{c'}_{\\nu_1}(x') \\bigg) $"
   ]
  },
  {
   "cell_type": "code",
   "execution_count": null,
   "id": "fba21759-f59d-4ea3-b1dd-34034f9844cb",
   "metadata": {
    "jupyter": {
     "source_hidden": true
    },
    "tags": []
   },
   "outputs": [],
   "source": [
    "overall='\\\\frac{1}{4}\\epsilon_{abc}\\epsilon_{a\\'b\\'c\\'}[\\gamma_5]_{\\\\alpha\\\\beta}[\\gamma_5]_{\\\\sigma\\\\rho}'\n",
    "overall2=1/4*symbols('\\epsilon_{abc}\\epsilon_{a\\'b\\'c\\'}')\n",
    "position=['y\\'','y\\'','y\\'','y','y','x','x','x\\'','x\\'','x\\'']\n",
    "spin=['\\\\mu_1','\\\\mu_2','\\\\mu_3','\\\\alpha','\\\\beta','\\\\sigma','\\\\rho','\\\\nu_3','\\\\nu_2','\\\\nu_1']\n",
    "color=['c','b','a','i','j','j\\'','i\\'','a\\'','b\\'','c\\'']\n",
    "quark=['d','d','u','sb','u','ub','s','ub','db','db']\n",
    "\n",
    "diquark=[[1,2],[7,8]]\n",
    "spin_pair=[[0,9],[1,8],[2,7],[3,4],[5,6]]\n",
    "\n",
    "output=[]\n",
    "OUTPUT=[]\n",
    "\n",
    "contraction(quark,0,output,OUTPUT)\n",
    "PRINT=print_Trace(OUTPUT,quark,spin,color,position,overall2,diquark,spin_pair)\n",
    "display(simplify(PRINT))\n",
    "\n",
    "\n",
    "#for q in print_propagator_with_diquark(OUTPUT,quark,spin,color,position,overall,diquark):\n",
    "#    display(q)\n"
   ]
  },
  {
   "cell_type": "markdown",
   "id": "7e32ac6c-0134-4906-a54b-ba1aa63ad3cd",
   "metadata": {
    "jupyter": {
     "source_hidden": true
    },
    "tags": []
   },
   "source": [
    "# $<1,-1|1,-1>=<n(y') K^{0}(y) | \\overline{K}^{0}(x) \\overline{n}(x')> = \\frac{1}{2}\\epsilon_{abc}\\epsilon_{a'b'c'} \\bigg( d^{c}_{\\mu_1}(y') \\big[d^{b}_{\\mu_2}(y') u^{a}_{\\mu_3}(y')\\big] \\overline{s}^{i}_{\\alpha}(y)[\\gamma_5]_{\\alpha \\beta} d^{j}_{\\beta}(y) \\overline{d}^{j'}_{\\sigma}(x) [\\gamma_{5}]_{\\sigma \\rho} s^{i'}_{\\rho}(x) \\big[\\overline{u}^{a'}_{\\nu3}(x') \\overline{d}^{b'}_{\\nu_2}(x')\\big] \\overline{d}^{c'}_{\\nu_1}(x') \\bigg) $"
   ]
  },
  {
   "cell_type": "code",
   "execution_count": null,
   "id": "b230c1cb-5fd6-4071-8513-7bdbb3cc6fc5",
   "metadata": {
    "jupyter": {
     "source_hidden": true
    },
    "tags": []
   },
   "outputs": [],
   "source": [
    "overall='\\\\frac{1}{4}\\epsilon_{abc}\\epsilon_{a\\'b\\'c\\'}[\\gamma_5]_{\\\\alpha\\\\beta}[\\gamma_5]_{\\\\sigma\\\\rho}'\n",
    "overall2=1/4*symbols('\\epsilon_{abc}\\epsilon_{a\\'b\\'c\\'}')\n",
    "position=['y\\'','y\\'','y\\'','y','y','x','x','x\\'','x\\'','x\\'']\n",
    "spin=['\\\\mu_1','\\\\mu_2','\\\\mu_3','\\\\alpha','\\\\beta','\\\\sigma','\\\\rho','\\\\nu_3','\\\\nu_2','\\\\nu_1']\n",
    "color=['c','b','a','i','j','j\\'','i\\'','a\\'','b\\'','c\\'']\n",
    "quark=['d','d','u','sb','d','db','s','ub','db','db']\n",
    "\n",
    "diquark=[[1,2],[7,8]]\n",
    "spin_pair=[[0,9],[1,8],[2,7],[3,4],[5,6]]\n",
    "\n",
    "output=[]\n",
    "OUTPUT=[]\n",
    "\n",
    "contraction(quark,0,output,OUTPUT)\n",
    "PRINT=print_Trace(OUTPUT,quark,spin,color,position,overall2,diquark,spin_pair)\n",
    "display(simplify(PRINT))\n",
    "\n",
    "\n",
    "#for q in print_propagator_with_diquark(OUTPUT,quark,spin,color,position,overall,diquark):\n",
    "#    display(q)\n"
   ]
  },
  {
   "cell_type": "markdown",
   "id": "88786953-bb31-46b0-bc29-9fbd45350e1c",
   "metadata": {
    "jupyter": {
     "source_hidden": true
    },
    "tags": []
   },
   "source": [
    "# S=+1, I=0 System"
   ]
  },
  {
   "cell_type": "markdown",
   "id": "9109a82a-a758-49b9-9033-8def029d011f",
   "metadata": {
    "jupyter": {
     "source_hidden": true
    },
    "tags": []
   },
   "source": [
    "# $<0,0|0,0>=\\frac{1}{2}\\bigg\\{ <p(y') K^{0}(y) | \\overline{K}^{0}(x) \\overline{p}(x')> - <p(y') K^{0}(y) | \\overline{K}^{+}(x) \\overline{n}(x')> - <n(y') K^{+}(y) | \\overline{K}^{0}(x) \\overline{p}(x')> + <n(y') K^{+}(y) | \\overline{K}^{+}(x) \\overline{n}(x')> \\bigg\\}$"
   ]
  },
  {
   "cell_type": "markdown",
   "id": "8b781502-d4c4-4500-8bea-1bc37ca7aa6f",
   "metadata": {
    "jupyter": {
     "source_hidden": true
    },
    "tags": []
   },
   "source": [
    "# $\\frac{1}{2}\\bigg\\{ <p(y') K^{0}(y) | \\overline{K}^{0}(x) \\overline{p}(x')> \\bigg\\}=\\frac{1}{4}\\epsilon_{abc}\\epsilon_{a'b'c'} \\bigg( u^{c}_{\\mu_1}(y') \\big[u^{b}_{\\mu_2}(y') d^{a}_{\\mu_3}(y')\\big] \\overline{s}^{i}_{\\alpha}(y)[\\gamma_5]_{\\alpha \\beta} d^{j}_{\\beta}(y) \\overline{d}^{j'}_{\\sigma}(x) [\\gamma_{5}]_{\\sigma \\rho} s^{i'}_{\\rho}(x) \\big[\\overline{d}^{a'}_{\\nu3}(x') \\overline{u}^{b'}_{\\nu_2}(x')\\big] \\overline{u}^{c'}_{\\nu_1}(x') \\bigg) $"
   ]
  },
  {
   "cell_type": "code",
   "execution_count": null,
   "id": "c4c30c95-3785-4c48-be1e-a4637fc0862a",
   "metadata": {
    "jupyter": {
     "source_hidden": true
    },
    "tags": []
   },
   "outputs": [],
   "source": [
    "overall='\\\\frac{1}{4}\\epsilon_{abc}\\epsilon_{a\\'b\\'c\\'}[\\gamma_5]_{\\\\alpha\\\\beta}[\\gamma_5]_{\\\\sigma\\\\rho}'\n",
    "overall2=1/4*symbols('\\epsilon_{abc}\\epsilon_{a\\'b\\'c\\'}')\n",
    "position=['y\\'','y\\'','y\\'','y','y','x','x','x\\'','x\\'','x\\'']\n",
    "spin=['\\\\mu_1','\\\\mu_2','\\\\mu_3','\\\\alpha','\\\\beta','\\\\sigma','\\\\rho','\\\\nu_3','\\\\nu_2','\\\\nu_1']\n",
    "color=['c','b','a','i','j','j\\'','i\\'','a\\'','b\\'','c\\'']\n",
    "quark=['u','u','d','sb','d','db','s','db','ub','ub']\n",
    "\n",
    "diquark=[[1,2],[7,8]]\n",
    "spin_pair=[[0,9],[1,8],[2,7],[3,4],[5,6]]\n",
    "\n",
    "output=[]\n",
    "OUTPUT=[]\n",
    "\n",
    "contraction(quark,0,output,OUTPUT)\n",
    "PRINT=print_Trace(OUTPUT,quark,spin,color,position,overall2,diquark,spin_pair)\n",
    "display(simplify(PRINT))\n",
    "\n",
    "\n",
    "#for q in print_propagator_with_diquark(OUTPUT,quark,spin,color,position,overall,diquark):\n",
    "#    display(q)\n"
   ]
  },
  {
   "cell_type": "markdown",
   "id": "286ec670-a40d-4d98-92b0-db57de6d19be",
   "metadata": {
    "jupyter": {
     "source_hidden": true
    },
    "tags": []
   },
   "source": [
    "# $-\\frac{1}{2}\\bigg\\{ <p(y') K^{0}(y) | \\overline{K}^{+}(x) \\overline{n}(x')> \\bigg\\}=-\\frac{1}{4}\\epsilon_{abc}\\epsilon_{a'b'c'} \\bigg( u^{c}_{\\mu_1}(y') \\big[u^{b}_{\\mu_2}(y') d^{a}_{\\mu_3}(y')\\big] \\overline{s}^{i}_{\\alpha}(y)[\\gamma_5]_{\\alpha \\beta} d^{j}_{\\beta}(y) \\overline{u}^{j'}_{\\sigma}(x) [\\gamma_{5}]_{\\sigma \\rho} s^{i'}_{\\rho}(x) \\big[\\overline{u}^{a'}_{\\nu3}(x') \\overline{d}^{b'}_{\\nu_2}(x')\\big] \\overline{d}^{c'}_{\\nu_1}(x') \\bigg) $"
   ]
  },
  {
   "cell_type": "code",
   "execution_count": null,
   "id": "c4c49f2d-a292-4aff-93fb-13c2a7087abf",
   "metadata": {
    "jupyter": {
     "source_hidden": true
    },
    "tags": []
   },
   "outputs": [],
   "source": [
    "overall='-\\\\frac{1}{4}\\epsilon_{abc}\\epsilon_{a\\'b\\'c\\'}[\\gamma_5]_{\\\\alpha\\\\beta}[\\gamma_5]_{\\\\sigma\\\\rho}'\n",
    "overall2=-1/4*symbols('\\epsilon_{abc}\\epsilon_{a\\'b\\'c\\'}')\n",
    "position=['y\\'','y\\'','y\\'','y','y','x','x','x\\'','x\\'','x\\'']\n",
    "spin=['\\\\mu_1','\\\\mu_2','\\\\mu_3','\\\\alpha','\\\\beta','\\\\sigma','\\\\rho','\\\\nu_3','\\\\nu_2','\\\\nu_1']\n",
    "color=['c','b','a','i','j','j\\'','i\\'','a\\'','b\\'','c\\'']\n",
    "quark=['u','u','d','sb','d','ub','s','ub','db','db']\n",
    "\n",
    "diquark=[[1,2],[7,8]]\n",
    "spin_pair=[[0,9],[1,8],[2,7],[3,4],[5,6]]\n",
    "\n",
    "output=[]\n",
    "OUTPUT=[]\n",
    "\n",
    "contraction(quark,0,output,OUTPUT)\n",
    "PRINT=print_Trace(OUTPUT,quark,spin,color,position,overall2,diquark,spin_pair)\n",
    "display(simplify(PRINT))\n",
    "\n",
    "\n",
    "#for q in print_propagator_with_diquark(OUTPUT,quark,spin,color,position,overall,diquark):\n",
    "#    display(q)\n"
   ]
  },
  {
   "cell_type": "markdown",
   "id": "801f86f2-d165-4be4-b67a-cd710685795a",
   "metadata": {
    "jupyter": {
     "source_hidden": true
    },
    "tags": []
   },
   "source": [
    "# $-\\frac{1}{2}\\bigg\\{ <n(y') K^{+}(y) | \\overline{K}^{0}(x) \\overline{p}(x')> \\bigg\\}=-\\frac{1}{4}\\epsilon_{abc}\\epsilon_{a'b'c'} \\bigg( d^{c}_{\\mu_1}(y') \\big[d^{b}_{\\mu_2}(y') u^{a}_{\\mu_3}(y')\\big] \\overline{s}^{i}_{\\alpha}(y)[\\gamma_5]_{\\alpha \\beta} u^{j}_{\\beta}(y) \\overline{d}^{j'}_{\\sigma}(x) [\\gamma_{5}]_{\\sigma \\rho} s^{i'}_{\\rho}(x) \\big[\\overline{d}^{a'}_{\\nu3}(x') \\overline{u}^{b'}_{\\nu_2}(x')\\big] \\overline{u}^{c'}_{\\nu_1}(x') \\bigg) $"
   ]
  },
  {
   "cell_type": "code",
   "execution_count": null,
   "id": "629c6d39-7944-4359-ae67-016c10ff849f",
   "metadata": {
    "jupyter": {
     "source_hidden": true
    },
    "tags": []
   },
   "outputs": [],
   "source": [
    "overall='-\\\\frac{1}{4}\\epsilon_{abc}\\epsilon_{a\\'b\\'c\\'}[\\gamma_5]_{\\\\alpha\\\\beta}[\\gamma_5]_{\\\\sigma\\\\rho}'\n",
    "overall2=-1/4*symbols('\\epsilon_{abc}\\epsilon_{a\\'b\\'c\\'}')\n",
    "position=['y\\'','y\\'','y\\'','y','y','x','x','x\\'','x\\'','x\\'']\n",
    "spin=['\\\\mu_1','\\\\mu_2','\\\\mu_3','\\\\alpha','\\\\beta','\\\\sigma','\\\\rho','\\\\nu_3','\\\\nu_2','\\\\nu_1']\n",
    "color=['c','b','a','i','j','j\\'','i\\'','a\\'','b\\'','c\\'']\n",
    "quark=['d','d','u','sb','u','db','s','db','ub','ub']\n",
    "\n",
    "diquark=[[1,2],[7,8]]\n",
    "spin_pair=[[0,9],[1,8],[2,7],[3,4],[5,6]]\n",
    "\n",
    "output=[]\n",
    "OUTPUT=[]\n",
    "\n",
    "contraction(quark,0,output,OUTPUT)\n",
    "PRINT=print_Trace(OUTPUT,quark,spin,color,position,overall2,diquark,spin_pair)\n",
    "display(simplify(PRINT))\n",
    "\n",
    "\n",
    "#for q in print_propagator_with_diquark(OUTPUT,quark,spin,color,position,overall,diquark):\n",
    "#    display(q)\n"
   ]
  },
  {
   "cell_type": "markdown",
   "id": "743ba960-b636-42dd-af10-528e85813e9d",
   "metadata": {
    "jupyter": {
     "source_hidden": true
    },
    "tags": []
   },
   "source": [
    "# $\\frac{1}{2}\\bigg\\{ <n(y') K^{+}(y) | \\overline{K}^{+}(x) \\overline{n}(x')> \\bigg\\}=\\frac{1}{4}\\epsilon_{abc}\\epsilon_{a'b'c'} \\bigg( d^{c}_{\\mu_1}(y') \\big[d^{b}_{\\mu_2}(y') u^{a}_{\\mu_3}(y')\\big] \\overline{s}^{i}_{\\alpha}(y)[\\gamma_5]_{\\alpha \\beta} u^{j}_{\\beta}(y) \\overline{u}^{j'}_{\\sigma}(x) [\\gamma_{5}]_{\\sigma \\rho} s^{i'}_{\\rho}(x) \\big[\\overline{u}^{a'}_{\\nu3}(x') \\overline{d}^{b'}_{\\nu_2}(x')\\big] \\overline{d}^{c'}_{\\nu_1}(x') \\bigg) $"
   ]
  },
  {
   "cell_type": "code",
   "execution_count": null,
   "id": "5f0407a0-07ad-48a4-aa3f-0b66206981ed",
   "metadata": {
    "jupyter": {
     "source_hidden": true
    },
    "tags": []
   },
   "outputs": [],
   "source": [
    "overall='\\\\frac{1}{4}\\epsilon_{abc}\\epsilon_{a\\'b\\'c\\'}[\\gamma_5]_{\\\\alpha\\\\beta}[\\gamma_5]_{\\\\sigma\\\\rho}'\n",
    "overall2=1/4*symbols('\\epsilon_{abc}\\epsilon_{a\\'b\\'c\\'}')\n",
    "position=['y\\'','y\\'','y\\'','y','y','x','x','x\\'','x\\'','x\\'']\n",
    "spin=['\\\\mu_1','\\\\mu_2','\\\\mu_3','\\\\alpha','\\\\beta','\\\\sigma','\\\\rho','\\\\nu_3','\\\\nu_2','\\\\nu_1']\n",
    "color=['c','b','a','i','j','j\\'','i\\'','a\\'','b\\'','c\\'']\n",
    "quark=['d','d','u','sb','u','ub','s','ub','db','db']\n",
    "\n",
    "diquark=[[1,2],[7,8]]\n",
    "spin_pair=[[0,9],[1,8],[2,7],[3,4],[5,6]]\n",
    "\n",
    "output=[]\n",
    "OUTPUT=[]\n",
    "\n",
    "contraction(quark,0,output,OUTPUT)\n",
    "PRINT=print_Trace(OUTPUT,quark,spin,color,position,overall2,diquark,spin_pair)\n",
    "display(simplify(PRINT))\n",
    "\n",
    "\n",
    "#for q in print_propagator_with_diquark(OUTPUT,quark,spin,color,position,overall,diquark):\n",
    "#    display(q)\n"
   ]
  },
  {
   "cell_type": "markdown",
   "id": "89322c04-16b8-4879-8a23-3fc0449d64f5",
   "metadata": {
    "jupyter": {
     "source_hidden": true
    },
    "tags": []
   },
   "source": [
    "# S=-1, I=1 System"
   ]
  },
  {
   "cell_type": "markdown",
   "id": "3b367fd6-26da-4fa9-9755-fe07644e23d6",
   "metadata": {
    "jupyter": {
     "source_hidden": true
    },
    "tags": []
   },
   "source": [
    "# $<1,1|1,1>=<p(y') \\overline{K}^{0}(y) | K^{0}(x) \\overline{p}(x')> = \\frac{1}{2}\\epsilon_{abc}\\epsilon_{a'b'c'} \\bigg( u^{c}_{\\mu_1}(y') \\big[u^{b}_{\\mu_2}(y') d^{a}_{\\mu_3}(y')\\big] \\overline{d}^{i}_{\\alpha}(y)[\\gamma_5]_{\\alpha \\beta} s^{j}_{\\beta}(y) \\overline{s}^{j'}_{\\sigma}(x) [\\gamma_{5}]_{\\sigma \\rho} d^{i'}_{\\rho}(x) \\big[\\overline{d}^{a'}_{\\nu3}(x') \\overline{u}^{b'}_{\\nu_2}(x')\\big] \\overline{u}^{c'}_{\\nu_1}(x') \\bigg) $"
   ]
  },
  {
   "cell_type": "code",
   "execution_count": null,
   "id": "911a2760-4452-478e-8401-2fe4295a7360",
   "metadata": {
    "jupyter": {
     "source_hidden": true
    },
    "tags": []
   },
   "outputs": [],
   "source": [
    "overall='\\\\frac{1}{2}\\epsilon_{abc}\\epsilon_{a\\'b\\'c\\'}[\\gamma_5]_{\\\\alpha\\\\beta}[\\gamma_5]_{\\\\sigma\\\\rho}'\n",
    "overall2=1/2*symbols('\\epsilon_{abc}\\epsilon_{a\\'b\\'c\\'}')\n",
    "position=['y\\'','y\\'','y\\'','y','y','x','x','x\\'','x\\'','x\\'']\n",
    "spin=['\\\\mu_1','\\\\mu_2','\\\\mu_3','\\\\alpha','\\\\beta','\\\\sigma','\\\\rho','\\\\nu_3','\\\\nu_2','\\\\nu_1']\n",
    "color=['c','b','a','i','j','j\\'','i\\'','a\\'','b\\'','c\\'']\n",
    "quark=['u','u','d','db','s','sb','d','db','ub','ub']\n",
    "\n",
    "diquark=[[1,2],[7,8]]\n",
    "spin_pair=[[0,9],[1,8],[2,7],[3,4],[5,6]]\n",
    "\n",
    "output=[]\n",
    "OUTPUT=[]\n",
    "\n",
    "contraction(quark,0,output,OUTPUT)\n",
    "PRINT=print_Trace(OUTPUT,quark,spin,color,position,overall2,diquark,spin_pair)\n",
    "display(simplify(PRINT))\n",
    "\n",
    "#for q in print_propagator_with_diquark(OUTPUT,quark,spin,color,position,overall,diquark):\n",
    "#    display(q)\n"
   ]
  },
  {
   "cell_type": "markdown",
   "id": "671f1973-0a0c-4348-85c1-1ccb414300c9",
   "metadata": {
    "jupyter": {
     "source_hidden": true
    },
    "tags": []
   },
   "source": [
    "# $<1,0|1,0>=\\frac{1}{2}\\bigg\\{ <p(y') K^{-}(y) | \\overline{K}^{-}(x) \\overline{p}(x')> + <p(y') K^{-}(y) | K^{0}(x) \\overline{n}(x')> + <n(y') \\overline{K}^{0}(y) | \\overline{K}^{-}(x) \\overline{p}(x')> + <n(y') \\overline{K}^{0}(y) | K^{0}(x) \\overline{n}(x')> \\bigg\\}$"
   ]
  },
  {
   "cell_type": "markdown",
   "id": "60ecf0cc-dbfe-4db0-8060-813563071703",
   "metadata": {
    "jupyter": {
     "source_hidden": true
    },
    "tags": []
   },
   "source": [
    "# $\\frac{1}{2}\\bigg\\{ <p(y') K^{-}(y) | \\overline{K}^{-}(x) \\overline{p}(x')> \\bigg\\}=\\frac{1}{4}\\epsilon_{abc}\\epsilon_{a'b'c'} \\bigg( u^{c}_{\\mu_1}(y') \\big[u^{b}_{\\mu_2}(y') d^{a}_{\\mu_3}(y')\\big] \\overline{u}^{i}_{\\alpha}(y)[\\gamma_5]_{\\alpha \\beta} s^{j}_{\\beta}(y) \\overline{s}^{j'}_{\\sigma}(x) [\\gamma_{5}]_{\\sigma \\rho} u^{i'}_{\\rho}(x) \\big[\\overline{d}^{a'}_{\\nu3}(x') \\overline{u}^{b'}_{\\nu_2}(x')\\big] \\overline{u}^{c'}_{\\nu_1}(x') \\bigg) $"
   ]
  },
  {
   "cell_type": "code",
   "execution_count": null,
   "id": "d35167c2-2475-47c3-a216-0903e6153573",
   "metadata": {
    "jupyter": {
     "source_hidden": true
    },
    "tags": []
   },
   "outputs": [],
   "source": [
    "overall='\\\\frac{1}{4}\\epsilon_{abc}\\epsilon_{a\\'b\\'c\\'}[\\gamma_5]_{\\\\alpha\\\\beta}[\\gamma_5]_{\\\\sigma\\\\rho}'\n",
    "overall2=1/4*symbols('\\epsilon_{abc}\\epsilon_{a\\'b\\'c\\'}')\n",
    "position=['y\\'','y\\'','y\\'','y','y','x','x','x\\'','x\\'','x\\'']\n",
    "spin=['\\\\mu_1','\\\\mu_2','\\\\mu_3','\\\\alpha','\\\\beta','\\\\sigma','\\\\rho','\\\\nu_3','\\\\nu_2','\\\\nu_1']\n",
    "color=['c','b','a','i','j','j\\'','i\\'','a\\'','b\\'','c\\'']\n",
    "quark=['u','u','d','ub','s','sb','u','db','ub','ub']\n",
    "\n",
    "diquark=[[1,2],[7,8]]\n",
    "spin_pair=[[0,9],[1,8],[2,7],[3,4],[5,6]]\n",
    "\n",
    "output=[]\n",
    "OUTPUT=[]\n",
    "\n",
    "contraction(quark,0,output,OUTPUT)\n",
    "PRINT=print_Trace(OUTPUT,quark,spin,color,position,overall2,diquark,spin_pair)\n",
    "display(simplify(PRINT))\n",
    "\n",
    "\n",
    "#for q in print_propagator_with_diquark(OUTPUT,quark,spin,color,position,overall,diquark):\n",
    "#    display(q)\n"
   ]
  },
  {
   "cell_type": "markdown",
   "id": "f1677021-512b-4a51-a7de-7d5d490e136e",
   "metadata": {
    "jupyter": {
     "source_hidden": true
    },
    "tags": []
   },
   "source": [
    "# $\\frac{1}{2}\\bigg\\{ <p(y') K^{-}(y) | K^{0}(x) \\overline{n}(x')> \\bigg\\}=\\frac{1}{4}\\epsilon_{abc}\\epsilon_{a'b'c'} \\bigg( u^{c}_{\\mu_1}(y') \\big[u^{b}_{\\mu_2}(y') d^{a}_{\\mu_3}(y')\\big] \\overline{u}^{i}_{\\alpha}(y)[\\gamma_5]_{\\alpha \\beta} s^{j}_{\\beta}(y) \\overline{s}^{j'}_{\\sigma}(x) [\\gamma_{5}]_{\\sigma \\rho} d^{i'}_{\\rho}(x) \\big[\\overline{u}^{a'}_{\\nu3}(x') \\overline{d}^{b'}_{\\nu_2}(x')\\big] \\overline{d}^{c'}_{\\nu_1}(x') \\bigg) $"
   ]
  },
  {
   "cell_type": "code",
   "execution_count": null,
   "id": "3b3661b5-ab55-4f96-87d6-cb74ff3c1bb9",
   "metadata": {
    "jupyter": {
     "source_hidden": true
    },
    "tags": []
   },
   "outputs": [],
   "source": [
    "overall='\\\\frac{1}{4}\\epsilon_{abc}\\epsilon_{a\\'b\\'c\\'}[\\gamma_5]_{\\\\alpha\\\\beta}[\\gamma_5]_{\\\\sigma\\\\rho}'\n",
    "overall2=1/4*symbols('\\epsilon_{abc}\\epsilon_{a\\'b\\'c\\'}')\n",
    "position=['y\\'','y\\'','y\\'','y','y','x','x','x\\'','x\\'','x\\'']\n",
    "spin=['\\\\mu_1','\\\\mu_2','\\\\mu_3','\\\\alpha','\\\\beta','\\\\sigma','\\\\rho','\\\\nu_3','\\\\nu_2','\\\\nu_1']\n",
    "color=['c','b','a','i','j','j\\'','i\\'','a\\'','b\\'','c\\'']\n",
    "quark=['u','u','d','ub','s','sb','d','ub','db','db']\n",
    "\n",
    "diquark=[[1,2],[7,8]]\n",
    "spin_pair=[[0,9],[1,8],[2,7],[3,4],[5,6]]\n",
    "\n",
    "output=[]\n",
    "OUTPUT=[]\n",
    "\n",
    "contraction(quark,0,output,OUTPUT)\n",
    "PRINT=print_Trace(OUTPUT,quark,spin,color,position,overall2,diquark,spin_pair)\n",
    "display(simplify(PRINT))\n",
    "\n",
    "\n",
    "#for q in print_propagator_with_diquark(OUTPUT,quark,spin,color,position,overall,diquark):\n",
    "#    display(q)\n"
   ]
  },
  {
   "cell_type": "markdown",
   "id": "677e4eed-1806-4122-a9dd-2e8569456810",
   "metadata": {
    "jupyter": {
     "source_hidden": true
    },
    "tags": []
   },
   "source": [
    "# $\\frac{1}{2}\\bigg\\{ <n(y') \\overline{K}^{0}(y) | \\overline{K}^{-}(x) \\overline{p}(x')> \\bigg\\}=\\frac{1}{4}\\epsilon_{abc}\\epsilon_{a'b'c'} \\bigg( d^{c}_{\\mu_1}(y') \\big[d^{b}_{\\mu_2}(y') u^{a}_{\\mu_3}(y')\\big] \\overline{d}^{i}_{\\alpha}(y)[\\gamma_5]_{\\alpha \\beta} s^{j}_{\\beta}(y) \\overline{s}^{j'}_{\\sigma}(x) [\\gamma_{5}]_{\\sigma \\rho} u^{i'}_{\\rho}(x) \\big[\\overline{d}^{a'}_{\\nu3}(x') \\overline{u}^{b'}_{\\nu_2}(x')\\big] \\overline{u}^{c'}_{\\nu_1}(x') \\bigg) $"
   ]
  },
  {
   "cell_type": "code",
   "execution_count": null,
   "id": "7cef2137-1453-444e-a254-7822c83eaa61",
   "metadata": {
    "jupyter": {
     "source_hidden": true
    },
    "tags": []
   },
   "outputs": [],
   "source": [
    "overall='\\\\frac{1}{4}\\epsilon_{abc}\\epsilon_{a\\'b\\'c\\'}[\\gamma_5]_{\\\\alpha\\\\beta}[\\gamma_5]_{\\\\sigma\\\\rho}'\n",
    "overall2=1/4*symbols('\\epsilon_{abc}\\epsilon_{a\\'b\\'c\\'}')\n",
    "position=['y\\'','y\\'','y\\'','y','y','x','x','x\\'','x\\'','x\\'']\n",
    "spin=['\\\\mu_1','\\\\mu_2','\\\\mu_3','\\\\alpha','\\\\beta','\\\\sigma','\\\\rho','\\\\nu_3','\\\\nu_2','\\\\nu_1']\n",
    "color=['c','b','a','i','j','j\\'','i\\'','a\\'','b\\'','c\\'']\n",
    "quark=['d','d','u','db','s','sb','u','db','ub','ub']\n",
    "\n",
    "diquark=[[1,2],[7,8]]\n",
    "spin_pair=[[0,9],[1,8],[2,7],[3,4],[5,6]]\n",
    "\n",
    "output=[]\n",
    "OUTPUT=[]\n",
    "\n",
    "contraction(quark,0,output,OUTPUT)\n",
    "PRINT=print_Trace(OUTPUT,quark,spin,color,position,overall2,diquark,spin_pair)\n",
    "display(simplify(PRINT))\n",
    "\n",
    "\n",
    "#for q in print_propagator_with_diquark(OUTPUT,quark,spin,color,position,overall,diquark):\n",
    "#    display(q)\n"
   ]
  },
  {
   "cell_type": "markdown",
   "id": "5bfc7d3b-8b74-41de-9c17-e23d075841f6",
   "metadata": {
    "jupyter": {
     "source_hidden": true
    },
    "tags": []
   },
   "source": [
    "# $\\frac{1}{2}\\bigg\\{ <n(y') \\overline{K}^{0}(y) | K^{0}(x) \\overline{n}(x')> \\bigg\\}=\\frac{1}{4}\\epsilon_{abc}\\epsilon_{a'b'c'} \\bigg( d^{c}_{\\mu_1}(y') \\big[d^{b}_{\\mu_2}(y') u^{a}_{\\mu_3}(y')\\big] \\overline{d}^{i}_{\\alpha}(y)[\\gamma_5]_{\\alpha \\beta} s^{j}_{\\beta}(y) \\overline{s}^{j'}_{\\sigma}(x) [\\gamma_{5}]_{\\sigma \\rho} d^{i'}_{\\rho}(x) \\big[\\overline{u}^{a'}_{\\nu3}(x') \\overline{d}^{b'}_{\\nu_2}(x')\\big] \\overline{d}^{c'}_{\\nu_1}(x') \\bigg) $"
   ]
  },
  {
   "cell_type": "code",
   "execution_count": null,
   "id": "5ebb3969-c333-4f89-9570-bdcdab883ae9",
   "metadata": {
    "jupyter": {
     "source_hidden": true
    },
    "tags": []
   },
   "outputs": [],
   "source": [
    "overall='\\\\frac{1}{4}\\epsilon_{abc}\\epsilon_{a\\'b\\'c\\'}[\\gamma_5]_{\\\\alpha\\\\beta}[\\gamma_5]_{\\\\sigma\\\\rho}'\n",
    "overall2=1/4*symbols('\\epsilon_{abc}\\epsilon_{a\\'b\\'c\\'}')\n",
    "position=['y\\'','y\\'','y\\'','y','y','x','x','x\\'','x\\'','x\\'']\n",
    "spin=['\\\\mu_1','\\\\mu_2','\\\\mu_3','\\\\alpha','\\\\beta','\\\\sigma','\\\\rho','\\\\nu_3','\\\\nu_2','\\\\nu_1']\n",
    "color=['c','b','a','i','j','j\\'','i\\'','a\\'','b\\'','c\\'']\n",
    "quark=['d','d','u','db','s','sb','d','ub','db','db']\n",
    "\n",
    "diquark=[[1,2],[7,8]]\n",
    "spin_pair=[[0,9],[1,8],[2,7],[3,4],[5,6]]\n",
    "\n",
    "output=[]\n",
    "OUTPUT=[]\n",
    "\n",
    "contraction(quark,0,output,OUTPUT)\n",
    "PRINT=print_Trace(OUTPUT,quark,spin,color,position,overall2,diquark,spin_pair)\n",
    "display(simplify(PRINT))\n",
    "\n",
    "\n",
    "#or q in print_propagator_with_diquark(OUTPUT,quark,spin,color,position,overall,diquark):\n",
    "#   display(q)\n"
   ]
  },
  {
   "cell_type": "markdown",
   "id": "b83aa33f-a893-410e-b60f-0ded8bd1f9b8",
   "metadata": {
    "jupyter": {
     "source_hidden": true
    },
    "tags": []
   },
   "source": [
    "# $<1,-1|1,-1>=<n(y') K^{-}(y) | \\overline{K}^{-}(x) \\overline{n}(x')> = \\frac{1}{2}\\epsilon_{abc}\\epsilon_{a'b'c'} \\bigg( d^{c}_{\\mu_1}(y') \\big[d^{b}_{\\mu_2}(y') u^{a}_{\\mu_3}(y')\\big] \\overline{u}^{i}_{\\alpha}(y)[\\gamma_5]_{\\alpha \\beta} s^{j}_{\\beta}(y) \\overline{s}^{j'}_{\\sigma}(x) [\\gamma_{5}]_{\\sigma \\rho} u^{i'}_{\\rho}(x) \\big[\\overline{u}^{a'}_{\\nu3}(x') \\overline{d}^{b'}_{\\nu_2}(x')\\big] \\overline{d}^{c'}_{\\nu_1}(x') \\bigg) $"
   ]
  },
  {
   "cell_type": "code",
   "execution_count": null,
   "id": "e672b635-6547-40f7-8ed7-f1d5f2cd5b29",
   "metadata": {
    "jupyter": {
     "source_hidden": true
    },
    "tags": []
   },
   "outputs": [],
   "source": [
    "overall='\\\\frac{1}{2}\\epsilon_{abc}\\epsilon_{a\\'b\\'c\\'}[\\gamma_5]_{\\\\alpha\\\\beta}[\\gamma_5]_{\\\\sigma\\\\rho}'\n",
    "overall2=1/2*symbols('\\epsilon_{abc}\\epsilon_{a\\'b\\'c\\'}')\n",
    "position=['y\\'','y\\'','y\\'','y','y','x','x','x\\'','x\\'','x\\'']\n",
    "spin=['\\\\mu_1','\\\\mu_2','\\\\mu_3','\\\\alpha','\\\\beta','\\\\sigma','\\\\rho','\\\\nu_3','\\\\nu_2','\\\\nu_1']\n",
    "color=['c','b','a','i','j','j\\'','i\\'','a\\'','b\\'','c\\'']\n",
    "quark=['d','d','u','ub','s','sb','u','ub','db','db']\n",
    "\n",
    "diquark=[[1,2],[7,8]]\n",
    "spin_pair=[[0,9],[1,8],[2,7],[3,4],[5,6]]\n",
    "\n",
    "output=[]\n",
    "OUTPUT=[]\n",
    "\n",
    "contraction(quark,0,output,OUTPUT)\n",
    "print(OUTPUT)\n",
    "PRINT=print_Trace(OUTPUT,quark,spin,color,position,overall2,diquark,spin_pair)\n",
    "display(simplify(PRINT))\n",
    "\n",
    "#for q in print_propagator_with_diquark(OUTPUT,quark,spin,color,position,overall,diquark):\n",
    "#    display(q)\n"
   ]
  },
  {
   "cell_type": "markdown",
   "id": "03b1ac9d-4282-4a3a-885a-6eb958d2210a",
   "metadata": {
    "jupyter": {
     "source_hidden": true
    },
    "tags": []
   },
   "source": [
    "# S=-1, I=0 System"
   ]
  },
  {
   "cell_type": "markdown",
   "id": "e5e04f2d-2aad-4c1b-8b9d-67cee95cc73b",
   "metadata": {
    "jupyter": {
     "source_hidden": true
    },
    "tags": []
   },
   "source": [
    "# $<1,0|1,0>=\\frac{1}{2}\\bigg\\{ <p(y') K^{-}(y) | \\overline{K}^{-}(x) \\overline{p}(x')> - <p(y') K^{-}(y) | K^{0}(x) \\overline{n}(x')> - <n(y') \\overline{K}^{0}(y) | \\overline{K}^{-}(x) \\overline{p}(x')> + <n(y') \\overline{K}^{0}(y) | K^{0}(x) \\overline{n}(x')> \\bigg\\}$"
   ]
  },
  {
   "cell_type": "markdown",
   "id": "d41f6da7-14bf-4fd7-9655-8c146e1e35cb",
   "metadata": {
    "jupyter": {
     "source_hidden": true
    },
    "tags": []
   },
   "source": [
    "# $\\frac{1}{2}\\bigg\\{ <p(y') K^{-}(y) | \\overline{K}^{-}(x) \\overline{p}(x')> \\bigg\\}=\\frac{1}{4}\\epsilon_{abc}\\epsilon_{a'b'c'} \\bigg( u^{c}_{\\mu_1}(y') \\big[u^{b}_{\\mu_2}(y') d^{a}_{\\mu_3}(y')\\big] \\overline{u}^{i}_{\\alpha}(y)[\\gamma_5]_{\\alpha \\beta} s^{j}_{\\beta}(y) \\overline{s}^{j'}_{\\sigma}(x) [\\gamma_{5}]_{\\sigma \\rho} u^{i'}_{\\rho}(x) \\big[\\overline{d}^{a'}_{\\nu3}(x') \\overline{u}^{b'}_{\\nu_2}(x')\\big] \\overline{u}^{c'}_{\\nu_1}(x') \\bigg) $"
   ]
  },
  {
   "cell_type": "code",
   "execution_count": null,
   "id": "f8bb31f8-1dbc-4c15-8603-cc2ff7819033",
   "metadata": {
    "jupyter": {
     "source_hidden": true
    },
    "tags": []
   },
   "outputs": [],
   "source": [
    "overall='\\\\frac{1}{4}\\epsilon_{abc}\\epsilon_{a\\'b\\'c\\'}[\\gamma_5]_{\\\\alpha\\\\beta}[\\gamma_5]_{\\\\sigma\\\\rho}'\n",
    "overall2=1/4*symbols('\\epsilon_{abc}\\epsilon_{a\\'b\\'c\\'}')\n",
    "position=['y\\'','y\\'','y\\'','y','y','x','x','x\\'','x\\'','x\\'']\n",
    "spin=['\\\\mu_1','\\\\mu_2','\\\\mu_3','\\\\alpha','\\\\beta','\\\\sigma','\\\\rho','\\\\nu_3','\\\\nu_2','\\\\nu_1']\n",
    "color=['c','b','a','i','j','j\\'','i\\'','a\\'','b\\'','c\\'']\n",
    "quark=['u','u','d','ub','s','sb','u','db','ub','ub']\n",
    "\n",
    "diquark=[[1,2],[7,8]]\n",
    "spin_pair=[[0,9],[1,8],[2,7],[3,4],[5,6]]\n",
    "\n",
    "output=[]\n",
    "OUTPUT=[]\n",
    "\n",
    "contraction(quark,0,output,OUTPUT)\n",
    "PRINT=print_Trace(OUTPUT,quark,spin,color,position,overall2,diquark,spin_pair)\n",
    "display(simplify(PRINT))\n",
    "\n",
    "#for q in print_propagator_with_diquark(OUTPUT,quark,spin,color,position,overall,diquark):\n",
    "#    display(q)\n"
   ]
  },
  {
   "cell_type": "markdown",
   "id": "c943b000-1cb7-4657-a4a7-5ba402f56249",
   "metadata": {
    "jupyter": {
     "source_hidden": true
    },
    "tags": []
   },
   "source": [
    "# $-\\frac{1}{2}\\bigg\\{ <p(y') K^{-}(y) | K^{0}(x) \\overline{n}(x')> \\bigg\\}=-\\frac{1}{4}\\epsilon_{abc}\\epsilon_{a'b'c'} \\bigg( u^{c}_{\\mu_1}(y') \\big[u^{b}_{\\mu_2}(y') d^{a}_{\\mu_3}(y')\\big] \\overline{u}^{i}_{\\alpha}(y)[\\gamma_5]_{\\alpha \\beta} s^{j}_{\\beta}(y) \\overline{s}^{j'}_{\\sigma}(x) [\\gamma_{5}]_{\\sigma \\rho} d^{i'}_{\\rho}(x) \\big[\\overline{u}^{a'}_{\\nu3}(x') \\overline{d}^{b'}_{\\nu_2}(x')\\big] \\overline{d}^{c'}_{\\nu_1}(x') \\bigg) $"
   ]
  },
  {
   "cell_type": "code",
   "execution_count": null,
   "id": "9a710615-2f82-4c36-84cc-2ca5e90ac43d",
   "metadata": {
    "jupyter": {
     "source_hidden": true
    },
    "tags": []
   },
   "outputs": [],
   "source": [
    "overall='-\\\\frac{1}{4}\\epsilon_{abc}\\epsilon_{a\\'b\\'c\\'}[\\gamma_5]_{\\\\alpha\\\\beta}[\\gamma_5]_{\\\\sigma\\\\rho}'\n",
    "overall2=-1/4*symbols('\\epsilon_{abc}\\epsilon_{a\\'b\\'c\\'}')\n",
    "position=['y\\'','y\\'','y\\'','y','y','x','x','x\\'','x\\'','x\\'']\n",
    "spin=['\\\\mu_1','\\\\mu_2','\\\\mu_3','\\\\alpha','\\\\beta','\\\\sigma','\\\\rho','\\\\nu_3','\\\\nu_2','\\\\nu_1']\n",
    "color=['c','b','a','i','j','j\\'','i\\'','a\\'','b\\'','c\\'']\n",
    "quark=['u','u','d','ub','s','sb','d','ub','db','db']\n",
    "\n",
    "diquark=[[1,2],[7,8]]\n",
    "spin_pair=[[0,9],[1,8],[2,7],[3,4],[5,6]]\n",
    "\n",
    "output=[]\n",
    "OUTPUT=[]\n",
    "\n",
    "contraction(quark,0,output,OUTPUT)\n",
    "PRINT=print_Trace(OUTPUT,quark,spin,color,position,overall2,diquark,spin_pair)\n",
    "display(simplify(PRINT))\n",
    "\n",
    "# for q in print_propagator_with_diquark(OUTPUT,quark,spin,color,position,overall,diquark):\n",
    "#     display(q)\n"
   ]
  },
  {
   "cell_type": "markdown",
   "id": "5ddf3d35-ae2d-4963-be88-b84c1ffadf3d",
   "metadata": {
    "jupyter": {
     "source_hidden": true
    },
    "tags": []
   },
   "source": [
    "# $-\\frac{1}{2}\\bigg\\{ <n(y') \\overline{K}^{0}(y) | \\overline{K}^{-}(x) \\overline{p}(x')> \\bigg\\}=-\\frac{1}{4}\\epsilon_{abc}\\epsilon_{a'b'c'} \\bigg( d^{c}_{\\mu_1}(y') \\big[d^{b}_{\\mu_2}(y') u^{a}_{\\mu_3}(y')\\big] \\overline{d}^{i}_{\\alpha}(y)[\\gamma_5]_{\\alpha \\beta} s^{j}_{\\beta}(y) \\overline{s}^{j'}_{\\sigma}(x) [\\gamma_{5}]_{\\sigma \\rho} u^{i'}_{\\rho}(x) \\big[\\overline{d}^{a'}_{\\nu3}(x') \\overline{u}^{b'}_{\\nu_2}(x')\\big] \\overline{u}^{c'}_{\\nu_1}(x') \\bigg) $"
   ]
  },
  {
   "cell_type": "code",
   "execution_count": null,
   "id": "2f56b9a1-b976-45b3-a2e4-a73b7f482e29",
   "metadata": {
    "jupyter": {
     "source_hidden": true
    },
    "tags": []
   },
   "outputs": [],
   "source": [
    "overall='-\\\\frac{1}{4}\\epsilon_{abc}\\epsilon_{a\\'b\\'c\\'}[\\gamma_5]_{\\\\alpha\\\\beta}[\\gamma_5]_{\\\\sigma\\\\rho}'\n",
    "overall2=-1/4*symbols('\\epsilon_{abc}\\epsilon_{a\\'b\\'c\\'}')\n",
    "position=['y\\'','y\\'','y\\'','y','y','x','x','x\\'','x\\'','x\\'']\n",
    "spin=['\\\\mu_1','\\\\mu_2','\\\\mu_3','\\\\alpha','\\\\beta','\\\\sigma','\\\\rho','\\\\nu_3','\\\\nu_2','\\\\nu_1']\n",
    "color=['c','b','a','i','j','j\\'','i\\'','a\\'','b\\'','c\\'']\n",
    "quark=['d','d','u','db','s','sb','u','db','ub','ub']\n",
    "\n",
    "diquark=[[1,2],[7,8]]\n",
    "spin_pair=[[0,9],[1,8],[2,7],[3,4],[5,6]]\n",
    "\n",
    "output=[]\n",
    "OUTPUT=[]\n",
    "\n",
    "contraction(quark,0,output,OUTPUT)\n",
    "PRINT=print_Trace(OUTPUT,quark,spin,color,position,overall2,diquark,spin_pair)\n",
    "display(simplify(PRINT))\n",
    "\n",
    "\n",
    "# for q in print_propagator_with_diquark(OUTPUT,quark,spin,color,position,overall,diquark):\n",
    "#     display(q)\n"
   ]
  },
  {
   "cell_type": "markdown",
   "id": "d5faa621-8896-487a-a93c-b601b7c3b93c",
   "metadata": {
    "jupyter": {
     "source_hidden": true
    },
    "tags": []
   },
   "source": [
    "# $\\frac{1}{2}\\bigg\\{ <n(y') \\overline{K}^{0}(y) | K^{0}(x) \\overline{n}(x')> \\bigg\\}=\\frac{1}{4}\\epsilon_{abc}\\epsilon_{a'b'c'} \\bigg( d^{c}_{\\mu_1}(y') \\big[d^{b}_{\\mu_2}(y') u^{a}_{\\mu_3}(y')\\big] \\overline{d}^{i}_{\\alpha}(y)[\\gamma_5]_{\\alpha \\beta} s^{j}_{\\beta}(y) \\overline{s}^{j'}_{\\sigma}(x) [\\gamma_{5}]_{\\sigma \\rho} d^{i'}_{\\rho}(x) \\big[\\overline{u}^{a'}_{\\nu3}(x') \\overline{d}^{b'}_{\\nu_2}(x')\\big] \\overline{d}^{c'}_{\\nu_1}(x') \\bigg) $"
   ]
  },
  {
   "cell_type": "code",
   "execution_count": null,
   "id": "ad418e00-9adc-40a8-a5b6-bd85c29b5f8e",
   "metadata": {
    "jupyter": {
     "source_hidden": true
    },
    "tags": []
   },
   "outputs": [],
   "source": [
    "overall='\\\\frac{1}{4}\\epsilon_{abc}\\epsilon_{a\\'b\\'c\\'}[\\gamma_5]_{\\\\alpha\\\\beta}[\\gamma_5]_{\\\\sigma\\\\rho}'\n",
    "overall2=1/4*symbols('\\epsilon_{abc}\\epsilon_{a\\'b\\'c\\'}')\n",
    "position=['y\\'','y\\'','y\\'','y','y','x','x','x\\'','x\\'','x\\'']\n",
    "spin=['\\\\mu_1','\\\\mu_2','\\\\mu_3','\\\\alpha','\\\\beta','\\\\sigma','\\\\rho','\\\\nu_3','\\\\nu_2','\\\\nu_1']\n",
    "color=['c','b','a','i','j','j\\'','i\\'','a\\'','b\\'','c\\'']\n",
    "quark=['d','d','u','db','s','sb','d','ub','db','db']\n",
    "\n",
    "diquark=[[1,2],[7,8]]\n",
    "spin_pair=[[0,9],[1,8],[2,7],[3,4],[5,6]]\n",
    "\n",
    "output=[]\n",
    "OUTPUT=[]\n",
    "\n",
    "contraction(quark,0,output,OUTPUT)\n",
    "PRINT=print_Trace(OUTPUT,quark,spin,color,position,overall2,diquark,spin_pair)\n",
    "display(simplify(PRINT))\n",
    "\n",
    "\n",
    "# for q in print_propagator_with_diquark(OUTPUT,quark,spin,color,position,overall,diquark):\n",
    "#     display(q)\n"
   ]
  },
  {
   "cell_type": "markdown",
   "id": "d6ebd39d-fe8f-42e4-9be2-7f48bbf7cd21",
   "metadata": {
    "jupyter": {
     "source_hidden": true
    },
    "tags": []
   },
   "source": [
    "# S=-1 I=0\n",
    "\n",
    "$|1> = -\\frac{1}{2\\sqrt{2}} |\\eta \\Lambda> -\\frac{1}{2}|\\overline{K} N> + \\frac{1}{2}|K \\Xi> \\frac{1}{2}\\sqrt{\\frac{3}{2}}|\\pi \\Sigma> $\n",
    "\n",
    "$<1|1> = (-\\frac{1}{2\\sqrt{2}} <\\eta \\Lambda| -\\frac{1}{2}<\\overline{K} N| + \\frac{1}{2}<K \\Xi| \\frac{1}{2}\\sqrt{\\frac{3}{2}}<\\pi \\Sigma| ) (-\\frac{1}{2\\sqrt{2}} |\\overline{\\eta} \\overline{\\Lambda}> -\\frac{1}{2}|K| \\overline{N}> + \\frac{1}{2}|\\overline{K} \\overline{\\Xi}> \\frac{1}{2}\\sqrt{\\frac{3}{2}}|\\overline{\\pi} \\overline{\\Sigma}> )$\n",
    "\n",
    "$|\\overline{K} N> = \\frac{1}{\\sqrt{2}}(|K^{-} p> - |\\overline{K}^{0} n>)$\n",
    "\n",
    "$|K^{-}>=|s \\overline{u}>$\n",
    "\n",
    "$|K^{+}>=|u \\overline{s}>$\n",
    "\n",
    "$|\\eta \\Lambda>= |\\eta \\Lambda^{0}>$\n",
    "\n",
    "$|\\eta>=\\frac{1}{\\sqrt{3}}(|u\\overline{u}> + |d\\overline{d}> + |s\\overline{s}>)$\n",
    "\n",
    "$|\\Lambda^{0}>=| u d s>$\n",
    "\n",
    "$| K \\Xi> = \\frac{1}{\\sqrt{2}}(|K^{0} \\Xi^{0}> - |K^{+} \\Xi^{-}>)$\n",
    "\n",
    "$|K^{0}>=|d \\overline{s}>$\n",
    "\n",
    "$|\\overline{K}^{0}>=|\\overline{d} s>$\n",
    "\n",
    "$|\\Xi^{0}>=|u s s>$\n",
    "\n",
    "$|\\Xi^{-}>=|d s s>$\n",
    "\n",
    "$| \\pi \\Sigma>=\\frac{1}{\\sqrt{3}}(|\\pi^{+} \\Sigma^{-}> - |\\pi^{0} \\Sigma^{0}> + |\\pi^{-}\\Sigma^{+}>)$\n",
    "\n",
    "$|\\pi^{+}>=|u \\overline{d}>$\n",
    "\n",
    "$|\\pi^{0}>=\\frac{1}{\\sqrt{2}}(|u \\overline{u}> - |d \\overline{d}>)$\n",
    "\n",
    "$|\\pi^{-}>=|d \\overline{u}>$\n",
    "\n",
    "$|\\Sigma^{+}>=|uus>$\n",
    "\n",
    "$|\\Sigma^{0}>=|uds>$\n",
    "\n",
    "$|\\Sigma^{-}>=|dds>$"
   ]
  },
  {
   "cell_type": "markdown",
   "id": "68fe2c26-ad2e-4a4c-9c99-b9a37fea93f4",
   "metadata": {},
   "source": [
    "# <1|1>"
   ]
  },
  {
   "cell_type": "code",
   "execution_count": 91,
   "id": "36f6e986-6395-4d0e-ade6-517899db6eac",
   "metadata": {
    "tags": []
   },
   "outputs": [
    {
     "data": {
      "image/png": "[encoded data removed]",
      "text/latex": [
       "$\\displaystyle \\epsilon_{abc}\\epsilon_{a'b'c'}\\gamma^{\\alpha\\beta}_5\\gamma^{\\rho\\sigma}_5 \\left(- 0.0422754946814407 \\left(S^{11}_{yx}\\right)^{2} S^{22}_{yx} S^{44}_{xx} S^{44}_{yy} - 0.691941738241592 \\left(S^{11}_{yx}\\right)^{2} S^{22}_{yx} S^{44}_{xy} S^{44}_{yx} - 0.144337567297406 \\left(S^{11}_{yx}\\right)^{2} S^{22}_{yx} S^{\\beta\\alpha}_{yy} S^{\\rho\\sigma}_{xx} + 0.144337567297406 \\left(S^{11}_{yx}\\right)^{2} S^{22}_{yx} S^{\\beta\\sigma}_{yx} S^{\\rho\\alpha}_{xy} + 0.0510310363079829 \\left(S^{11}_{yx}\\right)^{2} S^{24}_{yx} S^{42}_{xx} S^{44}_{yy} - 0.90533008588991 \\left(S^{11}_{yx}\\right)^{2} S^{24}_{yx} S^{42}_{yx} S^{44}_{xy} + 0.12605452105466 \\left(S^{11}_{yx}\\right)^{2} S^{24}_{yy} S^{42}_{xx} S^{44}_{yx} - 0.187808862066006 \\left(S^{11}_{yx}\\right)^{2} S^{24}_{yy} S^{42}_{yx} S^{44}_{xx} + 0.0721687836487032 \\left(S^{11}_{yx}\\right)^{2} S^{2\\alpha}_{yy} S^{\\beta2}_{yx} S^{\\rho\\sigma}_{xx} - 0.0721687836487032 \\left(S^{11}_{yx}\\right)^{2} S^{2\\alpha}_{yy} S^{\\beta\\sigma}_{yx} S^{\\rho2}_{xx} - 0.0721687836487032 \\left(S^{11}_{yx}\\right)^{2} S^{2\\sigma}_{yx} S^{\\beta2}_{yx} S^{\\rho\\alpha}_{xy} + 0.0721687836487032 \\left(S^{11}_{yx}\\right)^{2} S^{2\\sigma}_{yx} S^{\\beta\\alpha}_{yy} S^{\\rho2}_{xx} + 0.0422754946814407 S^{11}_{yx} S^{12}_{yx} S^{21}_{yx} S^{44}_{xx} S^{44}_{yy} + 0.691941738241592 S^{11}_{yx} S^{12}_{yx} S^{21}_{yx} S^{44}_{xy} S^{44}_{yx} + 0.144337567297406 S^{11}_{yx} S^{12}_{yx} S^{21}_{yx} S^{\\beta\\alpha}_{yy} S^{\\rho\\sigma}_{xx} - 0.144337567297406 S^{11}_{yx} S^{12}_{yx} S^{21}_{yx} S^{\\beta\\sigma}_{yx} S^{\\rho\\alpha}_{xy} - 0.0510310363079829 S^{11}_{yx} S^{12}_{yx} S^{24}_{yx} S^{41}_{xx} S^{44}_{yy} + 0.90533008588991 S^{11}_{yx} S^{12}_{yx} S^{24}_{yx} S^{41}_{yx} S^{44}_{xy} - 0.12605452105466 S^{11}_{yx} S^{12}_{yx} S^{24}_{yy} S^{41}_{xx} S^{44}_{yx} + 0.187808862066006 S^{11}_{yx} S^{12}_{yx} S^{24}_{yy} S^{41}_{yx} S^{44}_{xx} - 0.0721687836487032 S^{11}_{yx} S^{12}_{yx} S^{2\\alpha}_{yy} S^{\\beta1}_{yx} S^{\\rho\\sigma}_{xx} + 0.0721687836487032 S^{11}_{yx} S^{12}_{yx} S^{2\\alpha}_{yy} S^{\\beta\\sigma}_{yx} S^{\\rho1}_{xx} + 0.0721687836487032 S^{11}_{yx} S^{12}_{yx} S^{2\\sigma}_{yx} S^{\\beta1}_{yx} S^{\\rho\\alpha}_{xy} - 0.0721687836487032 S^{11}_{yx} S^{12}_{yx} S^{2\\sigma}_{yx} S^{\\beta\\alpha}_{yy} S^{\\rho1}_{xx} - 0.0510310363079829 S^{11}_{yx} S^{14}_{yx} S^{21}_{yx} S^{42}_{xx} S^{44}_{yy} + 0.90533008588991 S^{11}_{yx} S^{14}_{yx} S^{21}_{yx} S^{42}_{yx} S^{44}_{xy} + 0.411874954551499 S^{11}_{yx} S^{14}_{yx} S^{22}_{yx} S^{41}_{xx} S^{44}_{yy} - 0.765165042944955 S^{11}_{yx} S^{14}_{yx} S^{22}_{yx} S^{41}_{yx} S^{44}_{xy} - 0.0973114723083676 S^{11}_{yx} S^{14}_{yx} S^{24}_{yy} S^{41}_{xx} S^{42}_{yx} - 0.349857311340335 S^{11}_{yx} S^{14}_{yx} S^{24}_{yy} S^{41}_{yx} S^{42}_{xx} - 0.12605452105466 S^{11}_{yx} S^{14}_{yy} S^{21}_{yx} S^{42}_{xx} S^{44}_{yx} + 0.187808862066006 S^{11}_{yx} S^{14}_{yy} S^{21}_{yx} S^{42}_{yx} S^{44}_{xx} + 0.605662432702593 S^{11}_{yx} S^{14}_{yy} S^{22}_{yx} S^{41}_{xx} S^{44}_{yx} - 0.302085557362643 S^{11}_{yx} S^{14}_{yy} S^{22}_{yx} S^{41}_{yx} S^{44}_{xx} + 1.24508181665889 S^{11}_{yx} S^{14}_{yy} S^{24}_{yx} S^{41}_{xx} S^{42}_{yx} - 0.0154739050109612 S^{11}_{yx} S^{14}_{yy} S^{24}_{yx} S^{41}_{yx} S^{42}_{xx} - 0.0721687836487032 S^{11}_{yx} S^{1\\alpha}_{yy} S^{21}_{yx} S^{\\beta2}_{yx} S^{\\rho\\sigma}_{xx} + 0.0721687836487032 S^{11}_{yx} S^{1\\alpha}_{yy} S^{21}_{yx} S^{\\beta\\sigma}_{yx} S^{\\rho2}_{xx} + 0.0721687836487032 S^{11}_{yx} S^{1\\alpha}_{yy} S^{22}_{yx} S^{\\beta1}_{yx} S^{\\rho\\sigma}_{xx} - 0.0721687836487032 S^{11}_{yx} S^{1\\alpha}_{yy} S^{22}_{yx} S^{\\beta\\sigma}_{yx} S^{\\rho1}_{xx} + 0.0721687836487032 S^{11}_{yx} S^{1\\sigma}_{yx} S^{21}_{yx} S^{\\beta2}_{yx} S^{\\rho\\alpha}_{xy} - 0.0721687836487032 S^{11}_{yx} S^{1\\sigma}_{yx} S^{21}_{yx} S^{\\beta\\alpha}_{yy} S^{\\rho2}_{xx} - 0.0721687836487032 S^{11}_{yx} S^{1\\sigma}_{yx} S^{22}_{yx} S^{\\beta1}_{yx} S^{\\rho\\alpha}_{xy} + 0.0721687836487032 S^{11}_{yx} S^{1\\sigma}_{yx} S^{22}_{yx} S^{\\beta\\alpha}_{yy} S^{\\rho1}_{xx} - 0.360843918243516 S^{12}_{yx} S^{14}_{yx} S^{21}_{yx} S^{41}_{xx} S^{44}_{yy} - 0.140165042944955 S^{12}_{yx} S^{14}_{yx} S^{21}_{yx} S^{41}_{yx} S^{44}_{xy} + 0.447168783648703 S^{12}_{yx} S^{14}_{yx} S^{24}_{yy} S^{41}_{xx} S^{41}_{yx} - 0.479607911647933 S^{12}_{yx} S^{14}_{yy} S^{21}_{yx} S^{41}_{xx} S^{44}_{yx} + 0.114276695296637 S^{12}_{yx} S^{14}_{yy} S^{21}_{yx} S^{41}_{yx} S^{44}_{xx} - 1.22960791164793 S^{12}_{yx} S^{14}_{yy} S^{24}_{yx} S^{41}_{xx} S^{41}_{yx} - 1.14777034435053 S^{14}_{yx} S^{14}_{yy} S^{21}_{yx} S^{41}_{xx} S^{42}_{yx} + 0.365331216351297 S^{14}_{yx} S^{14}_{yy} S^{21}_{yx} S^{41}_{yx} S^{42}_{xx} + 0.78243912799923 S^{14}_{yx} S^{14}_{yy} S^{22}_{yx} S^{41}_{xx} S^{41}_{yx}\\right)$"
      ],
      "text/plain": [
       "                                                                             ⎛\n",
       "\\epsilon_{abc}\\epsilon_{a'b'c'}\\gamma_5\\gamma_5__{\\alpha\\beta}__{\\rho\\sigma}⋅⎝\n",
       "\n",
       "                                 2                                            \n",
       "- 0.0422754946814407⋅S_{yx}__{11} ⋅S_{yx}__{22}⋅S_{xx}__{44}⋅S_{yy}__{44} - 0.\n",
       "\n",
       "                            2                                                 \n",
       "691941738241592⋅S_{yx}__{11} ⋅S_{yx}__{22}⋅S_{xy}__{44}⋅S_{yx}__{44} - 0.14433\n",
       "\n",
       "                       2                                                      \n",
       "7567297406⋅S_{yx}__{11} ⋅S_{yx}__{22}⋅S_{yy}__{\\beta\\alpha}⋅S_{xx}__{\\rho\\sigm\n",
       "\n",
       "                                   2                                          \n",
       "a} + 0.144337567297406⋅S_{yx}__{11} ⋅S_{yx}__{22}⋅S_{yx}__{\\beta\\sigma}⋅S_{xy}\n",
       "\n",
       "                                                2                             \n",
       "__{\\rho\\alpha} + 0.0510310363079829⋅S_{yx}__{11} ⋅S_{yx}__{24}⋅S_{xx}__{42}⋅S_\n",
       "\n",
       "                                          2                                   \n",
       "{yy}__{44} - 0.90533008588991⋅S_{yx}__{11} ⋅S_{yx}__{24}⋅S_{yx}__{42}⋅S_{xy}__\n",
       "\n",
       "                                    2                                         \n",
       "{44} + 0.12605452105466⋅S_{yx}__{11} ⋅S_{yy}__{24}⋅S_{xx}__{42}⋅S_{yx}__{44} -\n",
       "\n",
       "                               2                                              \n",
       " 0.187808862066006⋅S_{yx}__{11} ⋅S_{yy}__{24}⋅S_{yx}__{42}⋅S_{xx}__{44} + 0.07\n",
       "\n",
       "                           2                                                  \n",
       "21687836487032⋅S_{yx}__{11} ⋅S_{yy}__{2\\alpha}⋅S_{yx}__{\\beta2}⋅S_{xx}__{\\rho\\\n",
       "\n",
       "                                        2                                     \n",
       "sigma} - 0.0721687836487032⋅S_{yx}__{11} ⋅S_{yy}__{2\\alpha}⋅S_{yx}__{\\beta\\sig\n",
       "\n",
       "                                                     2                        \n",
       "ma}⋅S_{xx}__{\\rho2} - 0.0721687836487032⋅S_{yx}__{11} ⋅S_{yx}__{2\\sigma}⋅S_{yx\n",
       "\n",
       "                                                                  2           \n",
       "}__{\\beta2}⋅S_{xy}__{\\rho\\alpha} + 0.0721687836487032⋅S_{yx}__{11} ⋅S_{yx}__{2\n",
       "\n",
       "                                                                              \n",
       "\\sigma}⋅S_{yy}__{\\beta\\alpha}⋅S_{xx}__{\\rho2} + 0.0422754946814407⋅S_{yx}__{11\n",
       "\n",
       "                                                                              \n",
       "}⋅S_{yx}__{12}⋅S_{yx}__{21}⋅S_{xx}__{44}⋅S_{yy}__{44} + 0.691941738241592⋅S_{y\n",
       "\n",
       "                                                                              \n",
       "x}__{11}⋅S_{yx}__{12}⋅S_{yx}__{21}⋅S_{xy}__{44}⋅S_{yx}__{44} + 0.1443375672974\n",
       "\n",
       "                                                                              \n",
       "06⋅S_{yx}__{11}⋅S_{yx}__{12}⋅S_{yx}__{21}⋅S_{yy}__{\\beta\\alpha}⋅S_{xx}__{\\rho\\\n",
       "\n",
       "                                                                              \n",
       "sigma} - 0.144337567297406⋅S_{yx}__{11}⋅S_{yx}__{12}⋅S_{yx}__{21}⋅S_{yx}__{\\be\n",
       "\n",
       "                                                                              \n",
       "ta\\sigma}⋅S_{xy}__{\\rho\\alpha} - 0.0510310363079829⋅S_{yx}__{11}⋅S_{yx}__{12}⋅\n",
       "\n",
       "                                                                              \n",
       "S_{yx}__{24}⋅S_{xx}__{41}⋅S_{yy}__{44} + 0.90533008588991⋅S_{yx}__{11}⋅S_{yx}_\n",
       "\n",
       "                                                                              \n",
       "_{12}⋅S_{yx}__{24}⋅S_{yx}__{41}⋅S_{xy}__{44} - 0.12605452105466⋅S_{yx}__{11}⋅S\n",
       "\n",
       "                                                                              \n",
       "_{yx}__{12}⋅S_{yy}__{24}⋅S_{xx}__{41}⋅S_{yx}__{44} + 0.187808862066006⋅S_{yx}_\n",
       "\n",
       "                                                                              \n",
       "_{11}⋅S_{yx}__{12}⋅S_{yy}__{24}⋅S_{yx}__{41}⋅S_{xx}__{44} - 0.0721687836487032\n",
       "\n",
       "                                                                              \n",
       "⋅S_{yx}__{11}⋅S_{yx}__{12}⋅S_{yy}__{2\\alpha}⋅S_{yx}__{\\beta1}⋅S_{xx}__{\\rho\\si\n",
       "\n",
       "                                                                              \n",
       "gma} + 0.0721687836487032⋅S_{yx}__{11}⋅S_{yx}__{12}⋅S_{yy}__{2\\alpha}⋅S_{yx}__\n",
       "\n",
       "                                                                              \n",
       "{\\beta\\sigma}⋅S_{xx}__{\\rho1} + 0.0721687836487032⋅S_{yx}__{11}⋅S_{yx}__{12}⋅S\n",
       "\n",
       "                                                                              \n",
       "_{yx}__{2\\sigma}⋅S_{yx}__{\\beta1}⋅S_{xy}__{\\rho\\alpha} - 0.0721687836487032⋅S_\n",
       "\n",
       "                                                                              \n",
       "{yx}__{11}⋅S_{yx}__{12}⋅S_{yx}__{2\\sigma}⋅S_{yy}__{\\beta\\alpha}⋅S_{xx}__{\\rho1\n",
       "\n",
       "                                                                              \n",
       "} - 0.0510310363079829⋅S_{yx}__{11}⋅S_{yx}__{14}⋅S_{yx}__{21}⋅S_{xx}__{42}⋅S_{\n",
       "\n",
       "                                                                              \n",
       "yy}__{44} + 0.90533008588991⋅S_{yx}__{11}⋅S_{yx}__{14}⋅S_{yx}__{21}⋅S_{yx}__{4\n",
       "\n",
       "                                                                              \n",
       "2}⋅S_{xy}__{44} + 0.411874954551499⋅S_{yx}__{11}⋅S_{yx}__{14}⋅S_{yx}__{22}⋅S_{\n",
       "\n",
       "                                                                              \n",
       "xx}__{41}⋅S_{yy}__{44} - 0.765165042944955⋅S_{yx}__{11}⋅S_{yx}__{14}⋅S_{yx}__{\n",
       "\n",
       "                                                                              \n",
       "22}⋅S_{yx}__{41}⋅S_{xy}__{44} - 0.0973114723083676⋅S_{yx}__{11}⋅S_{yx}__{14}⋅S\n",
       "\n",
       "                                                                              \n",
       "_{yy}__{24}⋅S_{xx}__{41}⋅S_{yx}__{42} - 0.349857311340335⋅S_{yx}__{11}⋅S_{yx}_\n",
       "\n",
       "                                                                              \n",
       "_{14}⋅S_{yy}__{24}⋅S_{yx}__{41}⋅S_{xx}__{42} - 0.12605452105466⋅S_{yx}__{11}⋅S\n",
       "\n",
       "                                                                              \n",
       "_{yy}__{14}⋅S_{yx}__{21}⋅S_{xx}__{42}⋅S_{yx}__{44} + 0.187808862066006⋅S_{yx}_\n",
       "\n",
       "                                                                              \n",
       "_{11}⋅S_{yy}__{14}⋅S_{yx}__{21}⋅S_{yx}__{42}⋅S_{xx}__{44} + 0.605662432702593⋅\n",
       "\n",
       "                                                                              \n",
       "S_{yx}__{11}⋅S_{yy}__{14}⋅S_{yx}__{22}⋅S_{xx}__{41}⋅S_{yx}__{44} - 0.302085557\n",
       "\n",
       "                                                                              \n",
       "362643⋅S_{yx}__{11}⋅S_{yy}__{14}⋅S_{yx}__{22}⋅S_{yx}__{41}⋅S_{xx}__{44} + 1.24\n",
       "\n",
       "                                                                              \n",
       "508181665889⋅S_{yx}__{11}⋅S_{yy}__{14}⋅S_{yx}__{24}⋅S_{xx}__{41}⋅S_{yx}__{42} \n",
       "\n",
       "                                                                              \n",
       "- 0.0154739050109612⋅S_{yx}__{11}⋅S_{yy}__{14}⋅S_{yx}__{24}⋅S_{yx}__{41}⋅S_{xx\n",
       "\n",
       "                                                                              \n",
       "}__{42} - 0.0721687836487032⋅S_{yx}__{11}⋅S_{yy}__{1\\alpha}⋅S_{yx}__{21}⋅S_{yx\n",
       "\n",
       "                                                                              \n",
       "}__{\\beta2}⋅S_{xx}__{\\rho\\sigma} + 0.0721687836487032⋅S_{yx}__{11}⋅S_{yy}__{1\\\n",
       "\n",
       "                                                                              \n",
       "alpha}⋅S_{yx}__{21}⋅S_{yx}__{\\beta\\sigma}⋅S_{xx}__{\\rho2} + 0.0721687836487032\n",
       "\n",
       "                                                                              \n",
       "⋅S_{yx}__{11}⋅S_{yy}__{1\\alpha}⋅S_{yx}__{22}⋅S_{yx}__{\\beta1}⋅S_{xx}__{\\rho\\si\n",
       "\n",
       "                                                                              \n",
       "gma} - 0.0721687836487032⋅S_{yx}__{11}⋅S_{yy}__{1\\alpha}⋅S_{yx}__{22}⋅S_{yx}__\n",
       "\n",
       "                                                                              \n",
       "{\\beta\\sigma}⋅S_{xx}__{\\rho1} + 0.0721687836487032⋅S_{yx}__{11}⋅S_{yx}__{1\\sig\n",
       "\n",
       "                                                                              \n",
       "ma}⋅S_{yx}__{21}⋅S_{yx}__{\\beta2}⋅S_{xy}__{\\rho\\alpha} - 0.0721687836487032⋅S_\n",
       "\n",
       "                                                                              \n",
       "{yx}__{11}⋅S_{yx}__{1\\sigma}⋅S_{yx}__{21}⋅S_{yy}__{\\beta\\alpha}⋅S_{xx}__{\\rho2\n",
       "\n",
       "                                                                              \n",
       "} - 0.0721687836487032⋅S_{yx}__{11}⋅S_{yx}__{1\\sigma}⋅S_{yx}__{22}⋅S_{yx}__{\\b\n",
       "\n",
       "                                                                              \n",
       "eta1}⋅S_{xy}__{\\rho\\alpha} + 0.0721687836487032⋅S_{yx}__{11}⋅S_{yx}__{1\\sigma}\n",
       "\n",
       "                                                                              \n",
       "⋅S_{yx}__{22}⋅S_{yy}__{\\beta\\alpha}⋅S_{xx}__{\\rho1} - 0.360843918243516⋅S_{yx}\n",
       "\n",
       "                                                                              \n",
       "__{12}⋅S_{yx}__{14}⋅S_{yx}__{21}⋅S_{xx}__{41}⋅S_{yy}__{44} - 0.140165042944955\n",
       "\n",
       "                                                                              \n",
       "⋅S_{yx}__{12}⋅S_{yx}__{14}⋅S_{yx}__{21}⋅S_{yx}__{41}⋅S_{xy}__{44} + 0.44716878\n",
       "\n",
       "                                                                              \n",
       "3648703⋅S_{yx}__{12}⋅S_{yx}__{14}⋅S_{yy}__{24}⋅S_{xx}__{41}⋅S_{yx}__{41} - 0.4\n",
       "\n",
       "                                                                              \n",
       "79607911647933⋅S_{yx}__{12}⋅S_{yy}__{14}⋅S_{yx}__{21}⋅S_{xx}__{41}⋅S_{yx}__{44\n",
       "\n",
       "                                                                              \n",
       "} + 0.114276695296637⋅S_{yx}__{12}⋅S_{yy}__{14}⋅S_{yx}__{21}⋅S_{yx}__{41}⋅S_{x\n",
       "\n",
       "                                                                              \n",
       "x}__{44} - 1.22960791164793⋅S_{yx}__{12}⋅S_{yy}__{14}⋅S_{yx}__{24}⋅S_{xx}__{41\n",
       "\n",
       "                                                                              \n",
       "}⋅S_{yx}__{41} - 1.14777034435053⋅S_{yx}__{14}⋅S_{yy}__{14}⋅S_{yx}__{21}⋅S_{xx\n",
       "\n",
       "                                                                              \n",
       "}__{41}⋅S_{yx}__{42} + 0.365331216351297⋅S_{yx}__{14}⋅S_{yy}__{14}⋅S_{yx}__{21\n",
       "\n",
       "                                                                              \n",
       "}⋅S_{yx}__{41}⋅S_{xx}__{42} + 0.78243912799923⋅S_{yx}__{14}⋅S_{yy}__{14}⋅S_{yx\n",
       "\n",
       "                                 ⎞\n",
       "}__{22}⋅S_{xx}__{41}⋅S_{yx}__{41}⎠"
      ]
     },
     "metadata": {},
     "output_type": "display_data"
    }
   ],
   "source": [
    "p=['d','u','u']\n",
    "n=['d','d','u']\n",
    "Kp=['sb','u']\n",
    "K0=['sb','d']\n",
    "Kb0=['db','s']\n",
    "Km=['ub','s']\n",
    "eta=[['ub','u'],['db','d'],['sb','s']]\n",
    "Lambda0=['s','d','u']\n",
    "Xi0=['s','s','u']\n",
    "Xim=['s','s','d']\n",
    "pip=['db','u']\n",
    "pi0=[['ub','u'],['db','d']]\n",
    "pim=['ub','d']\n",
    "Sigmap=['s','u','u']\n",
    "Sigma0=['s','d','u']\n",
    "Sigmam=['s','d','d']\n",
    "\n",
    "\n",
    "position=['y','y','y','y','y','x','x','x','x','x']\n",
    "spin=['1','2','1','\\\\alpha','\\\\beta','\\\\sigma','\\\\rho','1','2','1']\n",
    "#spin=['1','2','1','\\\\alpha','\\\\beta','\\\\beta','\\\\alpha','1','2','1']\n",
    "color=['c','b','a','i','j','j\\'','i\\'','a\\'','b\\'','c\\'']\n",
    "diquark=[[1,2],[7,8]]\n",
    "spin_pair=[[0,9],[1,8],[2,7],[3,4],[5,6]]\n",
    "color1=['a','b','c']\n",
    "color2=['a\\'','b\\'','c\\'']\n",
    "\n",
    "\n",
    "def depth(L): return isinstance(L, list) and max(map(depth, L))+1\n",
    "\n",
    "\n",
    "def add(baryon,meson):\n",
    "    if depth(meson) != 1:\n",
    "        output=[]\n",
    "        for m in meson:\n",
    "            output.append(add(baryon,m))\n",
    "        return output\n",
    "    else:\n",
    "        return baryon+meson\n",
    "\n",
    "epsilon_tensor=symbols('\\epsilon_{abc}\\epsilon_{a\\'b\\'c\\'}\\gamma^{\\\\alpha\\\\beta}_5\\gamma^{\\\\rho\\\\sigma}_5')\n",
    "#epsilon_tensor=symbols('\\epsilon_{abc}\\epsilon_{a\\'b\\'c\\'}')\n",
    "OVERALL=[-1/2/np.sqrt(2)/np.sqrt(3), -1/2/np.sqrt(2), 1/2/np.sqrt(2), 1/2/np.sqrt(2), -1/2/np.sqrt(2), 1/2*np.sqrt(3/2)/np.sqrt(3), -1/2*np.sqrt(3/2)/np.sqrt(3)/np.sqrt(2), 1/2*np.sqrt(3/2)/np.sqrt(3)]\n",
    "#OVERALL=[-1/2/np.sqrt(2)/np.sqrt(3), -1/2/np.sqrt(2), 1/2/np.sqrt(2), 1/2/np.sqrt(2), -1/2/np.sqrt(2), 1/2*np.sqrt(3/2)/np.sqrt(3), -1/2*np.sqrt(3/2)/np.sqrt(3)/np.sqrt(3), 1/2*np.sqrt(3/2)/np.sqrt(3)]\n",
    "\n",
    "#OVERALL=[symbols('-1/2/\\sqrt(2)'), symbols('-1/2/\\sqrt(2)'), symbols('-1/2/\\sqrt(2)'), symbols('1/2/\\sqrt(2)'), symbols('1/2/\\sqrt(2)'), symbols('1/2\\sqrt(3/2)/\\sqrt(3)'), symbols('1/2*np.sqrt(3/2)/\\sqrt(3)'), symbols('1/2*np.sqrt(3/2)/\\sqrt(3)')]\n",
    "Q=[add(Lambda0,eta),add(p,Km),add(n,Kb0),add(Xi0,K0),add(Xim,Kp),add(Sigmam,pip),add(Sigma0,pi0),add(Sigmap,pim)]\n",
    "OVERALL_reverse=deepcopy(OVERALL)\n",
    "OVERALL_reverse.reverse()\n",
    "\n",
    "QUARK=[]\n",
    "for q in Q:\n",
    "    if depth(q) != 1:\n",
    "        for qq in q:\n",
    "            QUARK.append(qq)\n",
    "    else:\n",
    "        QUARK.append(q)\n",
    "\n",
    "#display(QUARK)    \n",
    "ANTIQUARK=[]\n",
    "for quark in QUARK:\n",
    "    quark_reverse=deepcopy(quark)\n",
    "    quark_reverse.reverse()\n",
    "    antiquark=[]\n",
    "    for q in quark_reverse:\n",
    "        antiquark.append(anti[q])\n",
    "        \n",
    "    ANTIQUARK.append(antiquark)\n",
    "\n",
    "#display(ANTIQUARK)    \n",
    "\n",
    "PRINT=0\n",
    "PRINT2=0\n",
    "for quark, coeff in zip(QUARK, OVERALL):\n",
    "    for antiquark, coeff_reverse in zip(ANTIQUARK, OVERALL_reverse):\n",
    "        Overall=coeff*coeff_reverse*epsilon_tensor\n",
    "        #print(quark+antiquark)\n",
    "        output=[]\n",
    "        OUTPUT=[]\n",
    "        contraction(quark+antiquark,0,output,OUTPUT)\n",
    "#        PRINT+=print_Trace_color(OUTPUT,quark+antiquark,spin,color,position,Overall,diquark,spin_pair,color1,color2)\n",
    "        PRINT+=print_propagator_with_diquark_color(OUTPUT,quark+antiquark,spin,color,position,Overall,diquark, color1, color2)\n",
    "        for ab, alpha_beta in enumerate(['1','2','3','4']): \n",
    "            spin[3]=alpha_beta\n",
    "            spin[4]=alpha_beta\n",
    "            for sr, sigma_rho in enumerate(['1','2','3','4']): \n",
    "                spin[5]=sigma_rho\n",
    "                spin[6]=sigma_rho\n",
    "                PRINT2+=gamma5(ab,ab)*gamma5(sr,sr)*print_propagator_with_diquark_color(OUTPUT,quark+antiquark,spin,color,position,Overall,diquark, color1, color2)\n",
    "                                    \n",
    "display(simplify(PRINT))\n",
    "#display(simplify(PRINT2))\n",
    "#display(nsimplify(simplify(PRINT),tolerance=1e-10))\n",
    "#print(len(nsimplify(simplify(PRINT),tolerance=1e-10).args))\n",
    "#print((PRINT).args)\n",
    "#for term in nsimplify(simplify(PRINT),tolerance=1e-10).args:\n",
    "#    print(term)"
   ]
  },
  {
   "cell_type": "markdown",
   "id": "13e808fe-9445-444d-a453-400c07e0c521",
   "metadata": {},
   "source": [
    "# <1|8> must be zero"
   ]
  },
  {
   "cell_type": "code",
   "execution_count": 90,
   "id": "b1f9079f-c463-4ab7-8eae-de6bf6769578",
   "metadata": {},
   "outputs": [
    {
     "data": {
      "image/png": "[encoded data removed]",
      "text/latex": [
       "$\\displaystyle \\gamma_5^{\\alpha\\alpha} \\gamma_5^{\\sigma\\sigma} \\left(\\frac{1978002938 \\left(S^{11}_{yx}\\right)^{2} S^{22}_{yx} S^{\\alpha\\alpha}_{yy} S^{\\sigma\\sigma}_{xx}}{4569206901} + \\frac{4427581154 \\left(S^{11}_{yx}\\right)^{2} S^{22}_{yx} S^{\\alpha\\sigma}_{yx} S^{\\sigma\\alpha}_{xy}}{3807758531} + \\frac{1911613193 \\left(S^{11}_{yx}\\right)^{2} S^{2\\alpha}_{yy} S^{\\alpha2}_{yx} S^{\\sigma\\sigma}_{xx}}{6032157699} - \\frac{467081471 \\left(S^{11}_{yx}\\right)^{2} S^{2\\alpha}_{yy} S^{\\alpha\\sigma}_{yx} S^{\\sigma2}_{xx}}{893133190} + \\frac{3205501756 \\left(S^{11}_{yx}\\right)^{2} S^{2\\sigma}_{yx} S^{\\alpha2}_{yx} S^{\\sigma\\alpha}_{xy}}{8536929165} - \\frac{1087667405 \\left(S^{11}_{yx}\\right)^{2} S^{2\\sigma}_{yx} S^{\\alpha\\alpha}_{yy} S^{\\sigma2}_{xx}}{6408849479} - \\frac{1978002938 S^{11}_{yx} S^{12}_{yx} S^{21}_{yx} S^{\\alpha\\alpha}_{yy} S^{\\sigma\\sigma}_{xx}}{4569206901} - \\frac{4427581154 S^{11}_{yx} S^{12}_{yx} S^{21}_{yx} S^{\\alpha\\sigma}_{yx} S^{\\sigma\\alpha}_{xy}}{3807758531} - \\frac{1911613193 S^{11}_{yx} S^{12}_{yx} S^{2\\alpha}_{yy} S^{\\alpha1}_{yx} S^{\\sigma\\sigma}_{xx}}{6032157699} + \\frac{467081471 S^{11}_{yx} S^{12}_{yx} S^{2\\alpha}_{yy} S^{\\alpha\\sigma}_{yx} S^{\\sigma1}_{xx}}{893133190} - \\frac{3205501756 S^{11}_{yx} S^{12}_{yx} S^{2\\sigma}_{yx} S^{\\alpha1}_{yx} S^{\\sigma\\alpha}_{xy}}{8536929165} + \\frac{1087667405 S^{11}_{yx} S^{12}_{yx} S^{2\\sigma}_{yx} S^{\\alpha\\alpha}_{yy} S^{\\sigma1}_{xx}}{6408849479} - \\frac{1911613193 S^{11}_{yx} S^{1\\alpha}_{yy} S^{21}_{yx} S^{\\alpha2}_{yx} S^{\\sigma\\sigma}_{xx}}{6032157699} + \\frac{467081471 S^{11}_{yx} S^{1\\alpha}_{yy} S^{21}_{yx} S^{\\alpha\\sigma}_{yx} S^{\\sigma2}_{xx}}{893133190} - \\frac{715862253 S^{11}_{yx} S^{1\\alpha}_{yy} S^{22}_{yx} S^{\\alpha1}_{yx} S^{\\sigma\\sigma}_{xx}}{3307298168} - \\frac{3697006500 S^{11}_{yx} S^{1\\alpha}_{yy} S^{22}_{yx} S^{\\alpha\\sigma}_{yx} S^{\\sigma1}_{xx}}{6641221871} + \\frac{8063809747 S^{11}_{yx} S^{1\\alpha}_{yy} S^{2\\sigma}_{yx} S^{\\alpha1}_{yx} S^{\\sigma2}_{xx}}{6427765692} - \\frac{5175657694 S^{11}_{yx} S^{1\\alpha}_{yy} S^{2\\sigma}_{yx} S^{\\alpha2}_{yx} S^{\\sigma1}_{xx}}{8374913051} - \\frac{3205501756 S^{11}_{yx} S^{1\\sigma}_{yx} S^{21}_{yx} S^{\\alpha2}_{yx} S^{\\sigma\\alpha}_{xy}}{8536929165} + \\frac{1087667405 S^{11}_{yx} S^{1\\sigma}_{yx} S^{21}_{yx} S^{\\alpha\\alpha}_{yy} S^{\\sigma2}_{xx}}{6408849479} - \\frac{2945711097 S^{11}_{yx} S^{1\\sigma}_{yx} S^{22}_{yx} S^{\\alpha1}_{yx} S^{\\sigma\\alpha}_{xy}}{9785984809} - \\frac{3094062569 S^{11}_{yx} S^{1\\sigma}_{yx} S^{22}_{yx} S^{\\alpha\\alpha}_{yy} S^{\\sigma1}_{xx}}{9179205255} - \\frac{9103932543 S^{11}_{yx} S^{1\\sigma}_{yx} S^{2\\alpha}_{yy} S^{\\alpha1}_{yx} S^{\\sigma2}_{xx}}{8937532142} + \\frac{1647336291 S^{11}_{yx} S^{1\\sigma}_{yx} S^{2\\alpha}_{yy} S^{\\alpha2}_{yx} S^{\\sigma1}_{xx}}{8335890484} + \\frac{4284700060 S^{12}_{yx} S^{1\\alpha}_{yy} S^{21}_{yx} S^{\\alpha1}_{yx} S^{\\sigma\\sigma}_{xx}}{8033516677} + \\frac{277262785 S^{12}_{yx} S^{1\\alpha}_{yy} S^{21}_{yx} S^{\\alpha\\sigma}_{yx} S^{\\sigma1}_{xx}}{8225895784} - \\frac{2288863501 S^{12}_{yx} S^{1\\alpha}_{yy} S^{2\\sigma}_{yx} S^{\\alpha1}_{yx} S^{\\sigma1}_{xx}}{3595832739} + \\frac{980129799 S^{12}_{yx} S^{1\\sigma}_{yx} S^{21}_{yx} S^{\\alpha1}_{yx} S^{\\sigma\\alpha}_{xy}}{1448825045} + \\frac{1618045988 S^{12}_{yx} S^{1\\sigma}_{yx} S^{21}_{yx} S^{\\alpha\\alpha}_{yy} S^{\\sigma1}_{xx}}{9668075855} + \\frac{7826983521 S^{12}_{yx} S^{1\\sigma}_{yx} S^{2\\alpha}_{yy} S^{\\alpha1}_{yx} S^{\\sigma1}_{xx}}{9533493710} - \\frac{969177983 S^{1\\alpha}_{yy} S^{1\\sigma}_{yx} S^{21}_{yx} S^{\\alpha1}_{yx} S^{\\sigma2}_{xx}}{4108262064} + \\frac{655838109 S^{1\\alpha}_{yy} S^{1\\sigma}_{yx} S^{21}_{yx} S^{\\alpha2}_{yx} S^{\\sigma1}_{xx}}{1560123811} - \\frac{636698932 S^{1\\alpha}_{yy} S^{1\\sigma}_{yx} S^{22}_{yx} S^{\\alpha1}_{yx} S^{\\sigma1}_{xx}}{3451575101}\\right)$"
      ],
      "text/plain": [
       "                                                  ⎛                       2   \n",
       "                                                  ⎜1978002938⋅S_{yx}__{11} ⋅S_\n",
       "\\gamma_5__{\\alpha\\alpha}⋅\\gamma_5__{\\sigma\\sigma}⋅⎜───────────────────────────\n",
       "                                                  ⎝                           \n",
       "\n",
       "                                                                              \n",
       "{yx}__{22}⋅S_{yy}__{\\alpha\\alpha}⋅S_{xx}__{\\sigma\\sigma}   4427581154⋅S_{yx}__\n",
       "──────────────────────────────────────────────────────── + ───────────────────\n",
       "          4569206901                                                          \n",
       "\n",
       "    2                                                                         \n",
       "{11} ⋅S_{yx}__{22}⋅S_{yx}__{\\alpha\\sigma}⋅S_{xy}__{\\sigma\\alpha}   1911613193⋅\n",
       "──────────────────────────────────────────────────────────────── + ───────────\n",
       "                  3807758531                                                  \n",
       "\n",
       "            2                                                                 \n",
       "S_{yx}__{11} ⋅S_{yy}__{2\\alpha}⋅S_{yx}__{\\alpha2}⋅S_{xx}__{\\sigma\\sigma}   467\n",
       "──────────────────────────────────────────────────────────────────────── - ───\n",
       "                          6032157699                                          \n",
       "\n",
       "                   2                                                          \n",
       "081471⋅S_{yx}__{11} ⋅S_{yy}__{2\\alpha}⋅S_{yx}__{\\alpha\\sigma}⋅S_{xx}__{\\sigma2\n",
       "──────────────────────────────────────────────────────────────────────────────\n",
       "                                 893133190                                    \n",
       "\n",
       "                           2                                                  \n",
       "}   3205501756⋅S_{yx}__{11} ⋅S_{yx}__{2\\sigma}⋅S_{yx}__{\\alpha2}⋅S_{xy}__{\\sig\n",
       "─ + ──────────────────────────────────────────────────────────────────────────\n",
       "                                         8536929165                           \n",
       "\n",
       "                                   2                                          \n",
       "ma\\alpha}   1087667405⋅S_{yx}__{11} ⋅S_{yx}__{2\\sigma}⋅S_{yy}__{\\alpha\\alpha}⋅\n",
       "───────── - ──────────────────────────────────────────────────────────────────\n",
       "                                                 6408849479                   \n",
       "\n",
       "                                                                              \n",
       "S_{xx}__{\\sigma2}   1978002938⋅S_{yx}__{11}⋅S_{yx}__{12}⋅S_{yx}__{21}⋅S_{yy}__\n",
       "───────────────── - ──────────────────────────────────────────────────────────\n",
       "                                                               4569206901     \n",
       "\n",
       "                                                                              \n",
       "{\\alpha\\alpha}⋅S_{xx}__{\\sigma\\sigma}   4427581154⋅S_{yx}__{11}⋅S_{yx}__{12}⋅S\n",
       "───────────────────────────────────── - ──────────────────────────────────────\n",
       "                                                                              \n",
       "\n",
       "                                                                              \n",
       "_{yx}__{21}⋅S_{yx}__{\\alpha\\sigma}⋅S_{xy}__{\\sigma\\alpha}   1911613193⋅S_{yx}_\n",
       "───────────────────────────────────────────────────────── - ──────────────────\n",
       "     3807758531                                                               \n",
       "\n",
       "                                                                              \n",
       "_{11}⋅S_{yx}__{12}⋅S_{yy}__{2\\alpha}⋅S_{yx}__{\\alpha1}⋅S_{xx}__{\\sigma\\sigma} \n",
       "───────────────────────────────────────────────────────────────────────────── \n",
       "                         6032157699                                           \n",
       "\n",
       "                                                                              \n",
       "  467081471⋅S_{yx}__{11}⋅S_{yx}__{12}⋅S_{yy}__{2\\alpha}⋅S_{yx}__{\\alpha\\sigma}\n",
       "+ ────────────────────────────────────────────────────────────────────────────\n",
       "                                            893133190                         \n",
       "\n",
       "                                                                              \n",
       "⋅S_{xx}__{\\sigma1}   3205501756⋅S_{yx}__{11}⋅S_{yx}__{12}⋅S_{yx}__{2\\sigma}⋅S_\n",
       "────────────────── - ─────────────────────────────────────────────────────────\n",
       "                                                                8536929165    \n",
       "\n",
       "                                                                              \n",
       "{yx}__{\\alpha1}⋅S_{xy}__{\\sigma\\alpha}   1087667405⋅S_{yx}__{11}⋅S_{yx}__{12}⋅\n",
       "────────────────────────────────────── + ─────────────────────────────────────\n",
       "                                                                              \n",
       "\n",
       "                                                                              \n",
       "S_{yx}__{2\\sigma}⋅S_{yy}__{\\alpha\\alpha}⋅S_{xx}__{\\sigma1}   1911613193⋅S_{yx}\n",
       "────────────────────────────────────────────────────────── - ─────────────────\n",
       "      6408849479                                                              \n",
       "\n",
       "                                                                              \n",
       "__{11}⋅S_{yy}__{1\\alpha}⋅S_{yx}__{21}⋅S_{yx}__{\\alpha2}⋅S_{xx}__{\\sigma\\sigma}\n",
       "──────────────────────────────────────────────────────────────────────────────\n",
       "                          6032157699                                          \n",
       "\n",
       "                                                                              \n",
       "   467081471⋅S_{yx}__{11}⋅S_{yy}__{1\\alpha}⋅S_{yx}__{21}⋅S_{yx}__{\\alpha\\sigma\n",
       " + ───────────────────────────────────────────────────────────────────────────\n",
       "                                             893133190                        \n",
       "\n",
       "                                                                              \n",
       "}⋅S_{xx}__{\\sigma2}   715862253⋅S_{yx}__{11}⋅S_{yy}__{1\\alpha}⋅S_{yx}__{22}⋅S_\n",
       "─────────────────── - ────────────────────────────────────────────────────────\n",
       "                                                                3307298168    \n",
       "\n",
       "                                                                              \n",
       "{yx}__{\\alpha1}⋅S_{xx}__{\\sigma\\sigma}   3697006500⋅S_{yx}__{11}⋅S_{yy}__{1\\al\n",
       "────────────────────────────────────── - ─────────────────────────────────────\n",
       "                                                                              \n",
       "\n",
       "                                                                              \n",
       "pha}⋅S_{yx}__{22}⋅S_{yx}__{\\alpha\\sigma}⋅S_{xx}__{\\sigma1}   8063809747⋅S_{yx}\n",
       "────────────────────────────────────────────────────────── + ─────────────────\n",
       "      6641221871                                                              \n",
       "\n",
       "                                                                              \n",
       "__{11}⋅S_{yy}__{1\\alpha}⋅S_{yx}__{2\\sigma}⋅S_{yx}__{\\alpha1}⋅S_{xx}__{\\sigma2}\n",
       "──────────────────────────────────────────────────────────────────────────────\n",
       "                          6427765692                                          \n",
       "\n",
       "                                                                              \n",
       "   5175657694⋅S_{yx}__{11}⋅S_{yy}__{1\\alpha}⋅S_{yx}__{2\\sigma}⋅S_{yx}__{\\alpha\n",
       " - ───────────────────────────────────────────────────────────────────────────\n",
       "                                              8374913051                      \n",
       "\n",
       "                                                                              \n",
       "2}⋅S_{xx}__{\\sigma1}   3205501756⋅S_{yx}__{11}⋅S_{yx}__{1\\sigma}⋅S_{yx}__{21}⋅\n",
       "──────────────────── - ───────────────────────────────────────────────────────\n",
       "                                                                  8536929165  \n",
       "\n",
       "                                                                              \n",
       "S_{yx}__{\\alpha2}⋅S_{xy}__{\\sigma\\alpha}   1087667405⋅S_{yx}__{11}⋅S_{yx}__{1\\\n",
       "──────────────────────────────────────── + ───────────────────────────────────\n",
       "                                                                              \n",
       "\n",
       "                                                                              \n",
       "sigma}⋅S_{yx}__{21}⋅S_{yy}__{\\alpha\\alpha}⋅S_{xx}__{\\sigma2}   2945711097⋅S_{y\n",
       "──────────────────────────────────────────────────────────── - ───────────────\n",
       "        6408849479                                                            \n",
       "\n",
       "                                                                              \n",
       "x}__{11}⋅S_{yx}__{1\\sigma}⋅S_{yx}__{22}⋅S_{yx}__{\\alpha1}⋅S_{xy}__{\\sigma\\alph\n",
       "──────────────────────────────────────────────────────────────────────────────\n",
       "                            9785984809                                        \n",
       "\n",
       "                                                                              \n",
       "a}   3094062569⋅S_{yx}__{11}⋅S_{yx}__{1\\sigma}⋅S_{yx}__{22}⋅S_{yy}__{\\alpha\\al\n",
       "── - ─────────────────────────────────────────────────────────────────────────\n",
       "                                                9179205255                    \n",
       "\n",
       "                                                                              \n",
       "pha}⋅S_{xx}__{\\sigma1}   9103932543⋅S_{yx}__{11}⋅S_{yx}__{1\\sigma}⋅S_{yy}__{2\\\n",
       "────────────────────── - ─────────────────────────────────────────────────────\n",
       "                                                                    8937532142\n",
       "\n",
       "                                                                              \n",
       "alpha}⋅S_{yx}__{\\alpha1}⋅S_{xx}__{\\sigma2}   1647336291⋅S_{yx}__{11}⋅S_{yx}__{\n",
       "────────────────────────────────────────── + ─────────────────────────────────\n",
       "                                                                              \n",
       "\n",
       "                                                                              \n",
       "1\\sigma}⋅S_{yy}__{2\\alpha}⋅S_{yx}__{\\alpha2}⋅S_{xx}__{\\sigma1}   4284700060⋅S_\n",
       "────────────────────────────────────────────────────────────── + ─────────────\n",
       "          8335890484                                                          \n",
       "\n",
       "                                                                              \n",
       "{yx}__{12}⋅S_{yy}__{1\\alpha}⋅S_{yx}__{21}⋅S_{yx}__{\\alpha1}⋅S_{xx}__{\\sigma\\si\n",
       "──────────────────────────────────────────────────────────────────────────────\n",
       "                              8033516677                                      \n",
       "\n",
       "                                                                              \n",
       "gma}   277262785⋅S_{yx}__{12}⋅S_{yy}__{1\\alpha}⋅S_{yx}__{21}⋅S_{yx}__{\\alpha\\s\n",
       "──── + ───────────────────────────────────────────────────────────────────────\n",
       "                                                 8225895784                   \n",
       "\n",
       "                                                                              \n",
       "igma}⋅S_{xx}__{\\sigma1}   2288863501⋅S_{yx}__{12}⋅S_{yy}__{1\\alpha}⋅S_{yx}__{2\n",
       "─────────────────────── - ────────────────────────────────────────────────────\n",
       "                                                                     359583273\n",
       "\n",
       "                                                                              \n",
       "\\sigma}⋅S_{yx}__{\\alpha1}⋅S_{xx}__{\\sigma1}   980129799⋅S_{yx}__{12}⋅S_{yx}__{\n",
       "─────────────────────────────────────────── + ────────────────────────────────\n",
       "9                                                                             \n",
       "\n",
       "                                                                              \n",
       "1\\sigma}⋅S_{yx}__{21}⋅S_{yx}__{\\alpha1}⋅S_{xy}__{\\sigma\\alpha}   1618045988⋅S_\n",
       "────────────────────────────────────────────────────────────── + ─────────────\n",
       "          1448825045                                                          \n",
       "\n",
       "                                                                              \n",
       "{yx}__{12}⋅S_{yx}__{1\\sigma}⋅S_{yx}__{21}⋅S_{yy}__{\\alpha\\alpha}⋅S_{xx}__{\\sig\n",
       "──────────────────────────────────────────────────────────────────────────────\n",
       "                              9668075855                                      \n",
       "\n",
       "                                                                              \n",
       "ma1}   7826983521⋅S_{yx}__{12}⋅S_{yx}__{1\\sigma}⋅S_{yy}__{2\\alpha}⋅S_{yx}__{\\a\n",
       "──── + ───────────────────────────────────────────────────────────────────────\n",
       "                                                  9533493710                  \n",
       "\n",
       "                                                                              \n",
       "lpha1}⋅S_{xx}__{\\sigma1}   969177983⋅S_{yy}__{1\\alpha}⋅S_{yx}__{1\\sigma}⋅S_{yx\n",
       "──────────────────────── - ───────────────────────────────────────────────────\n",
       "                                                                     410826206\n",
       "\n",
       "                                                                              \n",
       "}__{21}⋅S_{yx}__{\\alpha1}⋅S_{xx}__{\\sigma2}   655838109⋅S_{yy}__{1\\alpha}⋅S_{y\n",
       "─────────────────────────────────────────── + ────────────────────────────────\n",
       "4                                                                             \n",
       "\n",
       "                                                                              \n",
       "x}__{1\\sigma}⋅S_{yx}__{21}⋅S_{yx}__{\\alpha2}⋅S_{xx}__{\\sigma1}   636698932⋅S_{\n",
       "────────────────────────────────────────────────────────────── - ─────────────\n",
       "          1560123811                                                          \n",
       "\n",
       "                                                                              \n",
       "yy}__{1\\alpha}⋅S_{yx}__{1\\sigma}⋅S_{yx}__{22}⋅S_{yx}__{\\alpha1}⋅S_{xx}__{\\sigm\n",
       "──────────────────────────────────────────────────────────────────────────────\n",
       "                             3451575101                                       \n",
       "\n",
       "   ⎞\n",
       "a1}⎟\n",
       "───⎟\n",
       "   ⎠"
      ]
     },
     "metadata": {},
     "output_type": "display_data"
    }
   ],
   "source": [
    "p=['d','u','u']\n",
    "n=['d','d','u']\n",
    "Kp=['sb','u']\n",
    "K0=['sb','d']\n",
    "Kb0=['db','s']\n",
    "Km=['ub','s']\n",
    "eta=[['ub','u'],['db','d'],['sb','s']]\n",
    "Lambda0=['s','d','u']\n",
    "Xi0=['s','s','u']\n",
    "Xim=['s','s','d']\n",
    "pip=['db','u']\n",
    "pi0=[['ub','u'],['db','d']]\n",
    "pim=['ub','d']\n",
    "Sigmap=['s','u','u']\n",
    "Sigma0=['s','d','u']\n",
    "Sigmam=['s','d','d']\n",
    "\n",
    "\n",
    "#position=['y\\'','y\\'','y\\'','y','y','x','x','x\\'','x\\'','x\\'']\n",
    "position=['y','y','y','y','y','x','x','x','x','x']\n",
    "#spin=['1','2','1','\\\\alpha','\\\\beta','\\\\sigma','\\\\rho','1','2','1']\n",
    "spin=['1','2','1','\\\\alpha','\\\\alpha','\\\\sigma','\\\\sigma','1','2','1']\n",
    "#spin=['1','2','1','\\\\alpha','\\\\beta','\\\\beta','\\\\alpha','1','2','1']\n",
    "#spin=['1','2','1','1','1','1','1','1','2','1']\n",
    "color=['c','b','a','i','j','j\\'','i\\'','a\\'','b\\'','c\\'']\n",
    "diquark=[[1,2],[7,8]]\n",
    "\n",
    "#color1=['a','b','c']\n",
    "#color2=['a\\'','b\\'','c\\'']\n",
    "color1=['0','1','2']\n",
    "color2=['0','1','2']\n",
    "\n",
    "\n",
    "def depth(L): return isinstance(L, list) and max(map(depth, L))+1\n",
    "\n",
    "\n",
    "def add(baryon,meson):\n",
    "    if depth(meson) != 1:\n",
    "        output=[]\n",
    "        for m in meson:\n",
    "            output.append(add(baryon,m))\n",
    "        return output\n",
    "    else:\n",
    "        return baryon+meson\n",
    "\n",
    "#epsilon_tensor=symbols('\\epsilon_{abc}\\epsilon_{a\\'b\\'c\\'}')*symbols('\\gamma_5^{\\\\alpha\\\\beta}')*symbols('\\gamma_5^{\\\\sigma\\\\rho}')\n",
    "epsilon_tensor=symbols('\\gamma_5^{\\\\alpha\\\\alpha}')*symbols('\\gamma_5^{\\\\sigma\\\\sigma}')\n",
    "OVERALL_one=[-1/2/np.sqrt(2)/np.sqrt(3), -1/2/np.sqrt(2), -1/2/np.sqrt(2), 1/2/np.sqrt(2), 1/2/np.sqrt(2), 1/2*np.sqrt(3/2)/np.sqrt(3), 1/2*np.sqrt(3/2)/np.sqrt(3)/np.sqrt(2), 1/2*np.sqrt(3/2)/np.sqrt(3)]\n",
    "#OVERALL_one=[-1/2/np.sqrt(2)/np.sqrt(3), -1/2/np.sqrt(2),           1/2/np.sqrt(2),           1/2/np.sqrt(2),           -1/2/np.sqrt(2),            1/2*np.sqrt(3/2)/np.sqrt(3), -1/2*np.sqrt(3/2)/np.sqrt(3)/np.sqrt(3), 1/2*np.sqrt(3/2)/np.sqrt(3)]\n",
    "OVERALL_eight=[-1/np.sqrt(5)/np.sqrt(3), -1/np.sqrt(10)/np.sqrt(2), 1/np.sqrt(10)/np.sqrt(2), 1/np.sqrt(10)/np.sqrt(2), -1/np.sqrt(10)/np.sqrt(2), -1/np.sqrt(3/5)/np.sqrt(3),    1/np.sqrt(3/5)/np.sqrt(3)/np.sqrt(3),  -1/np.sqrt(3/5)/np.sqrt(3)]\n",
    "#OVERALL=[symbols('-1/2/\\sqrt(2)'), symbols('-1/2/\\sqrt(2)'), symbols('-1/2/\\sqrt(2)'), symbols('1/2/\\sqrt(2)'), symbols('1/2/\\sqrt(2)'), symbols('1/2\\sqrt(3/2)/\\sqrt(3)'), symbols('1/2*np.sqrt(3/2)/\\sqrt(3)'), symbols('1/2*np.sqrt(3/2)/\\sqrt(3)')]\n",
    "Q=[add(Lambda0,eta),add(p,Km),add(n,Kb0),add(Xi0,K0),add(Xim,Kp),add(Sigmam,pip),add(Sigma0,pi0),add(Sigmap,pim)]\n",
    "#OVERALL_eight_reverse=deepcopy(OVERALL_eight)\n",
    "OVERALL_eight.reverse()\n",
    "\n",
    "QUARK=[]\n",
    "for q in Q:\n",
    "    if depth(q) != 1:\n",
    "        for qq in q:\n",
    "            QUARK.append(qq)\n",
    "    else:\n",
    "        QUARK.append(q)\n",
    "\n",
    "#display(QUARK)    \n",
    "ANTIQUARK=[]\n",
    "for quark in QUARK:\n",
    "    quark_reverse=deepcopy(quark)\n",
    "    quark_reverse.reverse()\n",
    "    antiquark=[]\n",
    "    for q in quark_reverse:\n",
    "        antiquark.append(anti[q])\n",
    "        \n",
    "    ANTIQUARK.append(antiquark)\n",
    "\n",
    "#display(ANTIQUARK)    \n",
    "\n",
    "PRINT=0\n",
    "PRINT2=0\n",
    "for quark, coeff in zip(QUARK, OVERALL_one):\n",
    "    for antiquark, coeff_reverse in zip(ANTIQUARK, OVERALL_eight):\n",
    "        Overall=coeff*coeff_reverse*epsilon_tensor\n",
    "        #print(quark+antiquark)\n",
    "        output=[]\n",
    "        OUTPUT=[]\n",
    "        contraction(quark+antiquark,0,output,OUTPUT)\n",
    "        PRINT+=print_propagator_with_diquark_color(OUTPUT,quark+antiquark,spin,color,position,Overall,diquark,color1,color2)\n",
    "        \n",
    "        # for ab, alpha_beta in enumerate(['1','2','3','4']): \n",
    "        #     spin[3]=alpha_beta\n",
    "        #     spin[4]=alpha_beta\n",
    "        #     for sr, sigma_rho in enumerate(['1','2','3','4']): \n",
    "        #         spin[5]=sigma_rho\n",
    "        #         spin[6]=sigma_rho\n",
    "        #         PRINT2+=gamma5(ab,ab)*gamma5(sr,sr)*print_propagator_with_diquark_color(OUTPUT,quark+antiquark,spin,color,position,Overall,diquark, color1, color2)\n",
    "                \n",
    "display(nsimplify(simplify(PRINT),tolerance=1e-10))\n",
    "#display(nsimplify(simplify(PRINT2),tolerance=1e-10))\n",
    "# #print(len(nsimplify(simplify(PRINT),tolerance=1e-10).args))\n",
    "# #print((PRINT).args)\n",
    "# #for term in nsimplify(simplify(PRINT),tolerance=1e-10).args:\n",
    "# #    print(term)"
   ]
  },
  {
   "cell_type": "code",
   "execution_count": 88,
   "id": "2523058f-4f5f-474b-9247-f3cdfe2c3f55",
   "metadata": {},
   "outputs": [
    {
     "data": {
      "image/png": "[encoded data removed]",
      "text/latex": [
       "$\\displaystyle \\gamma_5^{\\alpha\\alpha} \\gamma_5^{\\sigma\\sigma} \\left(- \\frac{3107329311 Tr[S_{xx}\\gamma_{5}] Tr[S_{yx}S_{yx}S_{yy}\\gamma_{5}S_{yx}]}{8736737494} + \\frac{1612629033 Tr[S_{xx}\\gamma_{5}] Tr[S_{yx}S_{yx}] Tr[S_{yx}] Tr[S_{yy}\\gamma_{5}]}{7853388950} + \\frac{2740987473 Tr[S_{xx}\\gamma_{5}] Tr[S_{yx}S_{yy}\\gamma_{5}S_{yx}] Tr[S_{yx}]}{5417152603} - \\frac{1612629033 Tr[S_{xx}\\gamma_{5}] Tr[S_{yx}]^{3} Tr[S_{yy}\\gamma_{5}]}{7853388950} - \\frac{6267609709 Tr[S_{xx}\\gamma_{5}] Tr[S_{yx}] Tr[S_{yy}\\gamma_{5}S_{yx}S_{yx}]}{8811177584} + \\frac{3846482909 Tr[S_{xx}\\gamma_{5}] Tr[S_{yy}\\gamma_{5}S_{yx}S_{yx}S_{yx}]}{6856424027} + \\frac{1016381479 Tr[S_{xy}\\gamma_{5}S_{yx}\\gamma_{5}] Tr[S_{yx}S_{yx}S_{yx}]}{7041697446} + \\frac{Tr[S_{xy}\\gamma_{5}S_{yx}\\gamma_{5}] Tr[S_{yx}S_{yx}] Tr[S_{yx}]}{4} - \\frac{3718953931 Tr[S_{xy}\\gamma_{5}S_{yx}\\gamma_{5}] Tr[S_{yx}]^{3}}{9430889267} - \\frac{480134526 Tr[S_{yx}S_{yx}S_{yx}\\gamma_{5}S_{xx}] Tr[S_{yy}\\gamma_{5}]}{1663234787} + \\frac{2632760885 Tr[S_{yx}S_{yx}S_{yx}\\gamma_{5}S_{xy}\\gamma_{5}S_{yx}]}{4085996252} + \\frac{Tr[S_{yx}S_{yx}S_{yy}\\gamma_{5}S_{yx}\\gamma_{5}S_{xx}]}{2} + \\frac{Tr[S_{yx}S_{yx}\\gamma_{5}S_{xx}S_{yy}\\gamma_{5}S_{yx}]}{2} + \\frac{Tr[S_{yx}S_{yx}\\gamma_{5}S_{xx}] Tr[S_{yy}\\gamma_{5}S_{yx}]}{4} - \\frac{3718953931 Tr[S_{yx}S_{yx}\\gamma_{5}S_{xy}\\gamma_{5}S_{yx}S_{yx}]}{9430889267} - \\frac{7586374639 Tr[S_{yx}S_{yx}\\gamma_{5}S_{xy}\\gamma_{5}S_{yx}] Tr[S_{yx}]}{7041697446} - \\frac{480134526 Tr[S_{yx}S_{yx}] Tr[S_{yx}\\gamma_{5}S_{xx}] Tr[S_{yy}\\gamma_{5}]}{1663234787} + \\frac{2234292951 Tr[S_{yx}S_{yx}] Tr[S_{yx}\\gamma_{5}S_{xy}\\gamma_{5}S_{yx}]}{4147755869} - \\frac{3718953931 Tr[S_{yx}S_{yx}] Tr[S_{yy}\\gamma_{5}S_{yx}\\gamma_{5}S_{xx}]}{9430889267} - \\frac{Tr[S_{yx}S_{yy}\\gamma_{5}S_{yx}S_{yx}\\gamma_{5}S_{xx}]}{4} - \\frac{2592194429 Tr[S_{yx}S_{yy}\\gamma_{5}S_{yx}\\gamma_{5}S_{xx}] Tr[S_{yx}]}{5619021699} - \\frac{4064815313 Tr[S_{yx}S_{yy}\\gamma_{5}S_{yx}] Tr[S_{yx}\\gamma_{5}S_{xx}]}{8811177584} - \\frac{1016381479 Tr[S_{yx}\\gamma_{5}S_{xx}S_{yx}S_{yx}] Tr[S_{yy}\\gamma_{5}]}{7041697446} + \\frac{920603702 Tr[S_{yx}\\gamma_{5}S_{xx}S_{yx}S_{yy}\\gamma_{5}S_{yx}]}{8712686983} + \\frac{Tr[S_{yx}\\gamma_{5}S_{xx}S_{yx}] Tr[S_{yx}] Tr[S_{yy}\\gamma_{5}]}{12} - \\frac{Tr[S_{yx}\\gamma_{5}S_{xx}S_{yx}] Tr[S_{yy}\\gamma_{5}S_{yx}]}{4} - \\frac{536816177 Tr[S_{yx}\\gamma_{5}S_{xx}S_{yy}\\gamma_{5}S_{yx}] Tr[S_{yx}]}{3571141046} + \\frac{5957420125 Tr[S_{yx}\\gamma_{5}S_{xx}] Tr[S_{yx}]^{2} Tr[S_{yy}\\gamma_{5}]}{9332463538} + \\frac{2982686071 Tr[S_{yx}\\gamma_{5}S_{xx}] Tr[S_{yy}\\gamma_{5}S_{yx}S_{yx}]}{4749564156} + \\frac{1016381479 Tr[S_{yx}\\gamma_{5}S_{xy}\\gamma_{5}S_{yx}S_{yx}S_{yx}]}{7041697446} + \\frac{4854296347 Tr[S_{yx}\\gamma_{5}S_{xy}\\gamma_{5}S_{yx}S_{yx}] Tr[S_{yx}]}{6155001133} - \\frac{2632760885 Tr[S_{yx}\\gamma_{5}S_{xy}\\gamma_{5}S_{yx}] Tr[S_{yx}]^{2}}{4085996252} + \\frac{1016381479 Tr[S_{yx}]^{2} Tr[S_{yy}\\gamma_{5}S_{yx}\\gamma_{5}S_{xx}]}{7041697446} + \\frac{2085038555 Tr[S_{yx}] Tr[S_{yy}\\gamma_{5}S_{yx}S_{yx}\\gamma_{5}S_{xx}]}{4749564156} + \\frac{6051927986 Tr[S_{yx}] Tr[S_{yy}\\gamma_{5}S_{yx}\\gamma_{5}S_{xx}S_{yx}]}{9992245943} - \\frac{3670782683 Tr[S_{yy}\\gamma_{5}S_{yx}S_{yx}S_{yx}\\gamma_{5}S_{xx}]}{9308731877} - \\frac{5 Tr[S_{yy}\\gamma_{5}S_{yx}S_{yx}\\gamma_{5}S_{xx}S_{yx}]}{12} - \\frac{3718953931 Tr[S_{yy}\\gamma_{5}S_{yx}\\gamma_{5}S_{xx}S_{yx}S_{yx}]}{9430889267}\\right)$"
      ],
      "text/plain": [
       "                                                  ⎛                           \n",
       "                                                  ⎜  3107329311⋅Tr[S_{xx}\\gamm\n",
       "\\gamma_5__{\\alpha\\alpha}⋅\\gamma_5__{\\sigma\\sigma}⋅⎜- ─────────────────────────\n",
       "                                                  ⎝                           \n",
       "\n",
       "                                                                              \n",
       "a_{5}]⋅Tr[S_{yx}S_{yx}S_{yy}\\gamma_{5}S_{yx}]   1612629033⋅Tr[S_{xx}\\gamma_{5}\n",
       "───────────────────────────────────────────── + ──────────────────────────────\n",
       "     8736737494                                                               \n",
       "\n",
       "                                                                              \n",
       "]⋅Tr[S_{yx}S_{yx}]⋅Tr[S_{yx}]⋅Tr[S_{yy}\\gamma_{5}]   2740987473⋅Tr[S_{xx}\\gamm\n",
       "────────────────────────────────────────────────── + ─────────────────────────\n",
       "     7853388950                                                               \n",
       "\n",
       "                                                                              \n",
       "a_{5}]⋅Tr[S_{yx}S_{yy}\\gamma_{5}S_{yx}]⋅Tr[S_{yx}]   1612629033⋅Tr[S_{xx}\\gamm\n",
       "────────────────────────────────────────────────── - ─────────────────────────\n",
       "        5417152603                                                            \n",
       "\n",
       "                 3                                                            \n",
       "a_{5}]⋅Tr[S_{yx}] ⋅Tr[S_{yy}\\gamma_{5}]   6267609709⋅Tr[S_{xx}\\gamma_{5}]⋅Tr[S\n",
       "─────────────────────────────────────── - ────────────────────────────────────\n",
       "  7853388950                                                               881\n",
       "\n",
       "                                                                              \n",
       "_{yx}]⋅Tr[S_{yy}\\gamma_{5}S_{yx}S_{yx}]   3846482909⋅Tr[S_{xx}\\gamma_{5}]⋅Tr[S\n",
       "─────────────────────────────────────── + ────────────────────────────────────\n",
       "1177584                                                                 685642\n",
       "\n",
       "                                                                              \n",
       "_{yy}\\gamma_{5}S_{yx}S_{yx}S_{yx}]   1016381479⋅Tr[S_{xy}\\gamma_{5}S_{yx}\\gamm\n",
       "────────────────────────────────── + ─────────────────────────────────────────\n",
       "4027                                                               7041697446 \n",
       "\n",
       "                                                                              \n",
       "a_{5}]⋅Tr[S_{yx}S_{yx}S_{yx}]   Tr[S_{xy}\\gamma_{5}S_{yx}\\gamma_{5}]⋅Tr[S_{yx}\n",
       "───────────────────────────── + ──────────────────────────────────────────────\n",
       "                                                               4              \n",
       "\n",
       "                                                                              \n",
       "S_{yx}]⋅Tr[S_{yx}]   3718953931⋅Tr[S_{xy}\\gamma_{5}S_{yx}\\gamma_{5}]⋅Tr[S_{yx}\n",
       "────────────────── - ─────────────────────────────────────────────────────────\n",
       "                                              9430889267                      \n",
       "\n",
       " 3                                                                            \n",
       "]    480134526⋅Tr[S_{yx}S_{yx}S_{yx}\\gamma_{5}S_{xx}]⋅Tr[S_{yy}\\gamma_{5}]   2\n",
       "── - ───────────────────────────────────────────────────────────────────── + ─\n",
       "                                   1663234787                                 \n",
       "\n",
       "                                                                              \n",
       "632760885⋅Tr[S_{yx}S_{yx}S_{yx}\\gamma_{5}S_{xy}\\gamma_{5}S_{yx}]   Tr[S_{yx}S_\n",
       "──────────────────────────────────────────────────────────────── + ───────────\n",
       "                           4085996252                                         \n",
       "\n",
       "                                                                              \n",
       "{yx}S_{yy}\\gamma_{5}S_{yx}\\gamma_{5}S_{xx}]   Tr[S_{yx}S_{yx}\\gamma_{5}S_{xx}S\n",
       "─────────────────────────────────────────── + ────────────────────────────────\n",
       "               2                                                        2     \n",
       "\n",
       "                                                                              \n",
       "_{yy}\\gamma_{5}S_{yx}]   Tr[S_{yx}S_{yx}\\gamma_{5}S_{xx}]⋅Tr[S_{yy}\\gamma_{5}S\n",
       "────────────────────── + ─────────────────────────────────────────────────────\n",
       "                                                      4                       \n",
       "\n",
       "                                                                              \n",
       "_{yx}]   3718953931⋅Tr[S_{yx}S_{yx}\\gamma_{5}S_{xy}\\gamma_{5}S_{yx}S_{yx}]   7\n",
       "────── - ───────────────────────────────────────────────────────────────── - ─\n",
       "                                     9430889267                               \n",
       "\n",
       "                                                                              \n",
       "586374639⋅Tr[S_{yx}S_{yx}\\gamma_{5}S_{xy}\\gamma_{5}S_{yx}]⋅Tr[S_{yx}]   480134\n",
       "───────────────────────────────────────────────────────────────────── - ──────\n",
       "                             7041697446                                       \n",
       "\n",
       "                                                                              \n",
       "526⋅Tr[S_{yx}S_{yx}]⋅Tr[S_{yx}\\gamma_{5}S_{xx}]⋅Tr[S_{yy}\\gamma_{5}]   2234292\n",
       "──────────────────────────────────────────────────────────────────── + ───────\n",
       "                          1663234787                                          \n",
       "\n",
       "                                                                              \n",
       "951⋅Tr[S_{yx}S_{yx}]⋅Tr[S_{yx}\\gamma_{5}S_{xy}\\gamma_{5}S_{yx}]   3718953931⋅T\n",
       "─────────────────────────────────────────────────────────────── - ────────────\n",
       "                       4147755869                                             \n",
       "\n",
       "                                                                              \n",
       "r[S_{yx}S_{yx}]⋅Tr[S_{yy}\\gamma_{5}S_{yx}\\gamma_{5}S_{xx}]   Tr[S_{yx}S_{yy}\\g\n",
       "────────────────────────────────────────────────────────── - ─────────────────\n",
       "                  9430889267                                                  \n",
       "\n",
       "                                                                              \n",
       "amma_{5}S_{yx}S_{yx}\\gamma_{5}S_{xx}]   2592194429⋅Tr[S_{yx}S_{yy}\\gamma_{5}S_\n",
       "───────────────────────────────────── - ──────────────────────────────────────\n",
       "         4                                                            56190216\n",
       "\n",
       "                                                                              \n",
       "{yx}\\gamma_{5}S_{xx}]⋅Tr[S_{yx}]   4064815313⋅Tr[S_{yx}S_{yy}\\gamma_{5}S_{yx}]\n",
       "──────────────────────────────── - ───────────────────────────────────────────\n",
       "99                                                               8811177584   \n",
       "\n",
       "                                                                              \n",
       "⋅Tr[S_{yx}\\gamma_{5}S_{xx}]   1016381479⋅Tr[S_{yx}\\gamma_{5}S_{xx}S_{yx}S_{yx}\n",
       "─────────────────────────── - ────────────────────────────────────────────────\n",
       "                                                            7041697446        \n",
       "\n",
       "                                                                              \n",
       "]⋅Tr[S_{yy}\\gamma_{5}]   920603702⋅Tr[S_{yx}\\gamma_{5}S_{xx}S_{yx}S_{yy}\\gamma\n",
       "────────────────────── + ─────────────────────────────────────────────────────\n",
       "                                                    8712686983                \n",
       "\n",
       "                                                                              \n",
       "_{5}S_{yx}]   Tr[S_{yx}\\gamma_{5}S_{xx}S_{yx}]⋅Tr[S_{yx}]⋅Tr[S_{yy}\\gamma_{5}]\n",
       "─────────── + ────────────────────────────────────────────────────────────────\n",
       "                                             12                               \n",
       "\n",
       "                                                                              \n",
       "   Tr[S_{yx}\\gamma_{5}S_{xx}S_{yx}]⋅Tr[S_{yy}\\gamma_{5}S_{yx}]   536816177⋅Tr[\n",
       " - ─────────────────────────────────────────────────────────── - ─────────────\n",
       "                                4                                             \n",
       "\n",
       "                                                                              \n",
       "S_{yx}\\gamma_{5}S_{xx}S_{yy}\\gamma_{5}S_{yx}]⋅Tr[S_{yx}]   5957420125⋅Tr[S_{yx\n",
       "──────────────────────────────────────────────────────── + ───────────────────\n",
       "                 3571141046                                                   \n",
       "\n",
       "                             2                                                \n",
       "}\\gamma_{5}S_{xx}]⋅Tr[S_{yx}] ⋅Tr[S_{yy}\\gamma_{5}]   2982686071⋅Tr[S_{yx}\\gam\n",
       "─────────────────────────────────────────────────── + ────────────────────────\n",
       "           9332463538                                                         \n",
       "\n",
       "                                                                              \n",
       "ma_{5}S_{xx}]⋅Tr[S_{yy}\\gamma_{5}S_{yx}S_{yx}]   1016381479⋅Tr[S_{yx}\\gamma_{5\n",
       "────────────────────────────────────────────── + ─────────────────────────────\n",
       "      4749564156                                                             7\n",
       "\n",
       "                                                                              \n",
       "}S_{xy}\\gamma_{5}S_{yx}S_{yx}S_{yx}]   4854296347⋅Tr[S_{yx}\\gamma_{5}S_{xy}\\ga\n",
       "──────────────────────────────────── + ───────────────────────────────────────\n",
       "041697446                                                            615500113\n",
       "\n",
       "                                                                              \n",
       "mma_{5}S_{yx}S_{yx}]⋅Tr[S_{yx}]   2632760885⋅Tr[S_{yx}\\gamma_{5}S_{xy}\\gamma_{\n",
       "─────────────────────────────── - ────────────────────────────────────────────\n",
       "3                                                             4085996252      \n",
       "\n",
       "                    2                        2                                \n",
       "5}S_{yx}]⋅Tr[S_{yx}]    1016381479⋅Tr[S_{yx}] ⋅Tr[S_{yy}\\gamma_{5}S_{yx}\\gamma\n",
       "───────────────────── + ──────────────────────────────────────────────────────\n",
       "                                                    7041697446                \n",
       "\n",
       "                                                                              \n",
       "_{5}S_{xx}]   2085038555⋅Tr[S_{yx}]⋅Tr[S_{yy}\\gamma_{5}S_{yx}S_{yx}\\gamma_{5}S\n",
       "─────────── + ────────────────────────────────────────────────────────────────\n",
       "                                            4749564156                        \n",
       "\n",
       "                                                                              \n",
       "_{xx}]   6051927986⋅Tr[S_{yx}]⋅Tr[S_{yy}\\gamma_{5}S_{yx}\\gamma_{5}S_{xx}S_{yx}\n",
       "────── + ─────────────────────────────────────────────────────────────────────\n",
       "                                       9992245943                             \n",
       "\n",
       "                                                                              \n",
       "]   3670782683⋅Tr[S_{yy}\\gamma_{5}S_{yx}S_{yx}S_{yx}\\gamma_{5}S_{xx}]   5⋅Tr[S\n",
       "─ - ───────────────────────────────────────────────────────────────── - ──────\n",
       "                                9308731877                                    \n",
       "\n",
       "                                                                              \n",
       "_{yy}\\gamma_{5}S_{yx}S_{yx}\\gamma_{5}S_{xx}S_{yx}]   3718953931⋅Tr[S_{yy}\\gamm\n",
       "────────────────────────────────────────────────── - ─────────────────────────\n",
       "                     12                                                       \n",
       "\n",
       "                                        ⎞\n",
       "a_{5}S_{yx}\\gamma_{5}S_{xx}S_{yx}S_{yx}]⎟\n",
       "────────────────────────────────────────⎟\n",
       "   9430889267                           ⎠"
      ]
     },
     "metadata": {},
     "output_type": "display_data"
    }
   ],
   "source": [
    "p=['d','u','u']\n",
    "n=['d','d','u']\n",
    "Kp=['sb','u']\n",
    "K0=['sb','d']\n",
    "Kb0=['db','s']\n",
    "Km=['ub','s']\n",
    "eta=[['ub','u'],['db','d'],['sb','s']]\n",
    "Lambda0=['s','d','u']\n",
    "Xi0=['s','s','u']\n",
    "Xim=['s','s','d']\n",
    "pip=['db','u']\n",
    "pi0=[['ub','u'],['db','d']]\n",
    "pim=['ub','d']\n",
    "Sigmap=['s','u','u']\n",
    "Sigma0=['s','d','u']\n",
    "Sigmam=['s','d','d']\n",
    "\n",
    "\n",
    "#position=['y\\'','y\\'','y\\'','y','y','x','x','x\\'','x\\'','x\\'']\n",
    "position=['y','y','y','y','y','x','x','x','x','x']\n",
    "#spin=['1','2','1','\\\\alpha','\\\\beta','\\\\sigma','\\\\rho','1','2','1']\n",
    "spin=['1','2','1','\\\\alpha','\\\\alpha','\\\\sigma','\\\\sigma','1','2','1']\n",
    "#spin=['1','2','1','\\\\alpha','\\\\beta','\\\\beta','\\\\alpha','1','2','1']\n",
    "#spin=['1','2','1','1','1','1','1','1','2','1']\n",
    "color=['c','b','a','i','j','j\\'','i\\'','a\\'','b\\'','c\\'']\n",
    "diquark=[[1,2],[7,8]]\n",
    "\n",
    "#color1=['a','b','c']\n",
    "#color2=['a\\'','b\\'','c\\'']\n",
    "color1=['0','1','2']\n",
    "color2=['0','1','2']\n",
    "\n",
    "\n",
    "def depth(L): return isinstance(L, list) and max(map(depth, L))+1\n",
    "\n",
    "\n",
    "def add(baryon,meson):\n",
    "    if depth(meson) != 1:\n",
    "        output=[]\n",
    "        for m in meson:\n",
    "            output.append(add(baryon,m))\n",
    "        return output\n",
    "    else:\n",
    "        return baryon+meson\n",
    "\n",
    "#epsilon_tensor=symbols('\\epsilon_{abc}\\epsilon_{a\\'b\\'c\\'}')*symbols('\\gamma_5^{\\\\alpha\\\\beta}')*symbols('\\gamma_5^{\\\\sigma\\\\rho}')\n",
    "epsilon_tensor=symbols('\\gamma_5^{\\\\alpha\\\\alpha}')*symbols('\\gamma_5^{\\\\sigma\\\\sigma}')\n",
    "#OVERALL_one=[-1/2/np.sqrt(2)/np.sqrt(3), -1/2/np.sqrt(2), -1/2/np.sqrt(2), 1/2/np.sqrt(2), 1/2/np.sqrt(2), 1/2*np.sqrt(3/2)/np.sqrt(3), 1/2*np.sqrt(3/2)/np.sqrt(3)/np.sqrt(2), 1/2*np.sqrt(3/2)/np.sqrt(3)]\n",
    "OVERALL_one=[-1/2/np.sqrt(2)/np.sqrt(3), -1/2/np.sqrt(2),           1/2/np.sqrt(2),           1/2/np.sqrt(2),           -1/2/np.sqrt(2),            1/2*np.sqrt(3/2)/np.sqrt(3), -1/2*np.sqrt(3/2)/np.sqrt(3)/np.sqrt(3), 1/2*np.sqrt(3/2)/np.sqrt(3)]\n",
    "OVERALL_eight=[-1/2/np.sqrt(2)/np.sqrt(3), -1/2/np.sqrt(2),           1/2/np.sqrt(2),           1/2/np.sqrt(2),           -1/2/np.sqrt(2),            1/2*np.sqrt(3/2)/np.sqrt(3), -1/2*np.sqrt(3/2)/np.sqrt(3)/np.sqrt(3), 1/2*np.sqrt(3/2)/np.sqrt(3)]\n",
    "#OVERALL=[symbols('-1/2/\\sqrt(2)'), symbols('-1/2/\\sqrt(2)'), symbols('-1/2/\\sqrt(2)'), symbols('1/2/\\sqrt(2)'), symbols('1/2/\\sqrt(2)'), symbols('1/2\\sqrt(3/2)/\\sqrt(3)'), symbols('1/2*np.sqrt(3/2)/\\sqrt(3)'), symbols('1/2*np.sqrt(3/2)/\\sqrt(3)')]\n",
    "Q=[add(Lambda0,eta),add(p,Km),add(n,Kb0),add(Xi0,K0),add(Xim,Kp),add(Sigmam,pip),add(Sigma0,pi0),add(Sigmap,pim)]\n",
    "#OVERALL_eight_reverse=deepcopy(OVERALL_eight)\n",
    "#OVERALL_eight=deepcopy(OVERALL_one)\n",
    "OVERALL_eight.reverse()\n",
    "\n",
    "QUARK=[]\n",
    "for q in Q:\n",
    "    if depth(q) != 1:\n",
    "        for qq in q:\n",
    "            QUARK.append(qq)\n",
    "    else:\n",
    "        QUARK.append(q)\n",
    "\n",
    "#display(QUARK)    \n",
    "ANTIQUARK=[]\n",
    "for quark in QUARK:\n",
    "    quark_reverse=deepcopy(quark)\n",
    "    quark_reverse.reverse()\n",
    "    antiquark=[]\n",
    "    for q in quark_reverse:\n",
    "        antiquark.append(anti[q])\n",
    "        \n",
    "    ANTIQUARK.append(antiquark)\n",
    "\n",
    "#display(ANTIQUARK)    \n",
    "\n",
    "PRINT=0\n",
    "for quark, coeff in zip(QUARK, OVERALL_one):\n",
    "    for antiquark, coeff_reverse in zip(ANTIQUARK, OVERALL_eight):\n",
    "        Overall=coeff*coeff_reverse*epsilon_tensor\n",
    "        #print(quark+antiquark)\n",
    "        output=[]\n",
    "        OUTPUT=[]\n",
    "        contraction(quark+antiquark,0,output,OUTPUT)\n",
    "        PRINT+=print_Trace_color(OUTPUT,quark+antiquark,spin,color,position,Overall,diquark,spin_pair,color1,color2)\n",
    "        \n",
    "#display(simplify(PRINT))\n",
    "display(nsimplify(simplify(PRINT),tolerance=1e-10))\n",
    "#print(len(nsimplify(simplify(PRINT),tolerance=1e-10).args))\n",
    "#print((PRINT).args)\n",
    "#for term in nsimplify(simplify(PRINT),tolerance=1e-10).args:\n",
    "#    print(term)"
   ]
  },
  {
   "cell_type": "code",
   "execution_count": null,
   "id": "e0d583e1-ef57-4dc2-9d23-59a5b74d7ec8",
   "metadata": {},
   "outputs": [],
   "source": [
    "p=['d','u','u']\n",
    "n=['d','d','u']\n",
    "Kp=['sb','u']\n",
    "K0=['sb','d']\n",
    "Kb0=['db','s']\n",
    "Km=['ub','s']\n",
    "eta=[['ub','u'],['db','d'],['sb','s']]\n",
    "Lambda0=['s','d','u']\n",
    "Xi0=['s','s','u']\n",
    "Xim=['s','s','d']\n",
    "pip=['db','u']\n",
    "pi0=[['ub','u'],['db','d']]\n",
    "pim=['ub','d']\n",
    "Sigmap=['s','u','u']\n",
    "Sigma0=['s','d','u']\n",
    "Sigmam=['s','d','d']\n",
    "\n",
    "\n",
    "#position=['y\\'','y\\'','y\\'','y','y','x','x','x\\'','x\\'','x\\'']\n",
    "position=['y','y','y','y','y','x','x','x','x','x']\n",
    "#spin=['1','2','1','\\\\alpha','\\\\beta','\\\\sigma','\\\\rho','1','2','1']\n",
    "spin=['1','2','1','\\\\alpha','\\\\alpha','\\\\sigma','\\\\sigma','1','2','1']\n",
    "#spin=['1','2','1','\\\\alpha','\\\\beta','\\\\beta','\\\\alpha','1','2','1']\n",
    "#spin=['1','2','1','1','1','1','1','1','2','1']\n",
    "color=['c','b','a','i','j','j\\'','i\\'','a\\'','b\\'','c\\'']\n",
    "diquark=[[1,2],[7,8]]\n",
    "\n",
    "#color1=['a','b','c']\n",
    "#color2=['a\\'','b\\'','c\\'']\n",
    "color1=['0','1','2']\n",
    "color2=['0','1','2']\n",
    "\n",
    "\n",
    "def depth(L): return isinstance(L, list) and max(map(depth, L))+1\n",
    "\n",
    "\n",
    "def add(baryon,meson):\n",
    "    if depth(meson) != 1:\n",
    "        output=[]\n",
    "        for m in meson:\n",
    "            output.append(add(baryon,m))\n",
    "        return output\n",
    "    else:\n",
    "        return baryon+meson\n",
    "\n",
    "#epsilon_tensor=symbols('\\epsilon_{abc}\\epsilon_{a\\'b\\'c\\'}')*symbols('\\gamma_5^{\\\\alpha\\\\beta}')*symbols('\\gamma_5^{\\\\sigma\\\\rho}')\n",
    "epsilon_tensor=symbols('\\gamma_5^{\\\\alpha\\\\alpha}')*symbols('\\gamma_5^{\\\\sigma\\\\sigma}')\n",
    "#OVERALL_one=[-1/2/np.sqrt(2)/np.sqrt(3), -1/2/np.sqrt(2), -1/2/np.sqrt(2), 1/2/np.sqrt(2), 1/2/np.sqrt(2), 1/2*np.sqrt(3/2)/np.sqrt(3), 1/2*np.sqrt(3/2)/np.sqrt(3)/np.sqrt(2), 1/2*np.sqrt(3/2)/np.sqrt(3)]\n",
    "OVERALL_one=[-1/2/np.sqrt(2)/np.sqrt(3), -1/2/np.sqrt(2),           1/2/np.sqrt(2),           1/2/np.sqrt(2),           -1/2/np.sqrt(2),            1/2*np.sqrt(3/2)/np.sqrt(3), -1/2*np.sqrt(3/2)/np.sqrt(3)/np.sqrt(3), 1/2*np.sqrt(3/2)/np.sqrt(3)]\n",
    "OVERALL_eight=[-1/np.sqrt(5)/np.sqrt(3), -1/np.sqrt(10)/np.sqrt(2), 1/np.sqrt(10)/np.sqrt(2), 1/np.sqrt(10)/np.sqrt(2), -1/np.sqrt(10)/np.sqrt(2), -1/np.sqrt(3/5)/np.sqrt(3),    1/np.sqrt(3/5)/np.sqrt(3)/np.sqrt(3),  -1/np.sqrt(3/5)/np.sqrt(3)]\n",
    "#OVERALL=[symbols('-1/2/\\sqrt(2)'), symbols('-1/2/\\sqrt(2)'), symbols('-1/2/\\sqrt(2)'), symbols('1/2/\\sqrt(2)'), symbols('1/2/\\sqrt(2)'), symbols('1/2\\sqrt(3/2)/\\sqrt(3)'), symbols('1/2*np.sqrt(3/2)/\\sqrt(3)'), symbols('1/2*np.sqrt(3/2)/\\sqrt(3)')]\n",
    "Q=[add(Lambda0,eta),add(p,Km),add(n,Kb0),add(Xi0,K0),add(Xim,Kp),add(Sigmam,pip),add(Sigma0,pi0),add(Sigmap,pim)]\n",
    "#OVERALL_eight_reverse=deepcopy(OVERALL_eight)\n",
    "OVERALL_one=deepcopy(OVERALL_eight)\n",
    "OVERALL_eight.reverse()\n",
    "\n",
    "QUARK=[]\n",
    "for q in Q:\n",
    "    if depth(q) != 1:\n",
    "        for qq in q:\n",
    "            QUARK.append(qq)\n",
    "    else:\n",
    "        QUARK.append(q)\n",
    "\n",
    "#display(QUARK)    \n",
    "ANTIQUARK=[]\n",
    "for quark in QUARK:\n",
    "    quark_reverse=deepcopy(quark)\n",
    "    quark_reverse.reverse()\n",
    "    antiquark=[]\n",
    "    for q in quark_reverse:\n",
    "        antiquark.append(anti[q])\n",
    "        \n",
    "    ANTIQUARK.append(antiquark)\n",
    "\n",
    "#display(ANTIQUARK)    \n",
    "\n",
    "PRINT=0\n",
    "for quark, coeff in zip(QUARK, OVERALL_one):\n",
    "    for antiquark, coeff_reverse in zip(ANTIQUARK, OVERALL_eight):\n",
    "        Overall=coeff*coeff_reverse*epsilon_tensor\n",
    "        #print(quark+antiquark)\n",
    "        output=[]\n",
    "        OUTPUT=[]\n",
    "        contraction(quark+antiquark,0,output,OUTPUT)\n",
    "        #PRINT+=print_Trace_color(OUTPUT,quark+antiquark,spin,color,position,Overall,diquark,spin_pair,color1,color2)\n",
    "        \n",
    "        for a in ['0','1','2']:\n",
    "            color[2]=a\n",
    "            for b in ['0','1','2']:\n",
    "                if a==b: continue\n",
    "                color[1]=b\n",
    "                for c in ['0','1','2']:\n",
    "                    if c==a or c==b: continue\n",
    "                    color[0]=c\n",
    "                    for aa in ['0','1','2']:\n",
    "                        color[7]=aa\n",
    "                        for bb in ['0','1','2']:\n",
    "                            if aa==bb: continue\n",
    "                            color[8]=bb\n",
    "                            for cc in ['0','1','2']:\n",
    "                                if cc==aa or cc==bb: continue\n",
    "                                color[9]=cc\n",
    "                                #print(color)\n",
    "                                perm1=Permutation(color[:3])\n",
    "                                perm2=Permutation(color[7:])\n",
    "\n",
    "                                sign1=perm1.signature()\n",
    "                                sign2=perm2.signature()\n",
    "                                for i in ['0','1','2']:\n",
    "                                    color[3]=i\n",
    "                                    for j in ['0','1','2']:\n",
    "                                        color[4]=j\n",
    "                                        for jj in ['0','1','2']:\n",
    "                                            color[5]=jj\n",
    "                                            for ii in ['0','1','2']:\n",
    "                                                color[6]=ii\n",
    "\n",
    "                                                PRINT+=print_propagator_with_diquark_color(OUTPUT,quark+antiquark,spin,color,position,Overall,diquark, color1, color2)\n",
    "\n",
    "#display(simplify(PRINT))\n",
    "display(nsimplify(simplify(PRINT),tolerance=1e-10))\n",
    "#print(len(nsimplify(simplify(PRINT),tolerance=1e-10).args))\n",
    "#print((PRINT).args)\n",
    "#for term in nsimplify(simplify(PRINT),tolerance=1e-10).args:\n",
    "#    print(term)"
   ]
  },
  {
   "cell_type": "code",
   "execution_count": null,
   "id": "9e9c97bb-7443-4852-9e63-c016780e5790",
   "metadata": {},
   "outputs": [],
   "source": []
  }
 ],
 "metadata": {
  "kernelspec": {
   "display_name": "Python 3 (ipykernel)",
   "language": "python",
   "name": "python3"
  },
  "language_info": {
   "codemirror_mode": {
    "name": "ipython",
    "version": 3
   },
   "file_extension": ".py",
   "mimetype": "text/x-python",
   "name": "python",
   "nbconvert_exporter": "python",
   "pygments_lexer": "ipython3",
   "version": "3.10.6"
  },
  "widgets": {
   "application/vnd.jupyter.widget-state+json": {
    "state": {},
    "version_major": 2,
    "version_minor": 0
   }
  }
 },
 "nbformat": 4,
 "nbformat_minor": 5
}
