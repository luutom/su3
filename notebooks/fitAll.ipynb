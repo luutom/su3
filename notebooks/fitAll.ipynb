{
 "cells": [
  {
   "cell_type": "code",
   "execution_count": 1,
   "id": "behind-street",
   "metadata": {},
   "outputs": [],
   "source": [
    "%matplotlib inline\n",
    "import sys\n",
    "import os\n",
    "import numpy as np\n",
    "import h5py as h5\n",
    "import matplotlib.pyplot as plt\n",
    "import matplotlib.patches as patches\n",
    "from scipy.optimize import curve_fit"
   ]
  },
  {
   "cell_type": "code",
   "execution_count": 2,
   "id": "centered-workplace",
   "metadata": {},
   "outputs": [],
   "source": [
    "beta=3.6  # set the parameters here\n",
    "nx=32\n",
    "nt=64\n",
    "ms=-0.013\n",
    "mc=0.25"
   ]
  },
  {
   "cell_type": "markdown",
   "id": "broke-undergraduate",
   "metadata": {},
   "source": [
    "Now load in the data from the hdf5 file"
   ]
  },
  {
   "cell_type": "code",
   "execution_count": 3,
   "id": "governmental-distributor",
   "metadata": {},
   "outputs": [],
   "source": [
    "with h5.File('correlators.h5', 'r') as h5f:\n",
    "    qG1q_sh = h5f[f\"beta{beta}/ms{ms}/mc{mc}/nx{nx}/nt{nt}/SHELL_SHELL/q_g15_qbar\"][()]  # data for pion\n",
    "    qG1q_pt = h5f[f\"beta{beta}/ms{ms}/mc{mc}/nx{nx}/nt{nt}/POINT_SHELL/q_g15_qbar\"][()]\n",
    "    QG2q_sh = h5f[f\"beta{beta}/ms{ms}/mc{mc}/nx{nx}/nt{nt}/SHELL_SHELL/Q_g15_qbar\"][()]  # data for D-mesion\n",
    "    QG2q_pt = h5f[f\"beta{beta}/ms{ms}/mc{mc}/nx{nx}/nt{nt}/POINT_SHELL/Q_g15_qbar\"][()]\n",
    "    r6_sh = h5f[f\"beta{beta}/ms{ms}/mc{mc}/nx{nx}/nt{nt}/SHELL_SHELL/r6_g15g15\"][()]     # 6 rep.\n",
    "    r6_pt = h5f[f\"beta{beta}/ms{ms}/mc{mc}/nx{nx}/nt{nt}/POINT_SHELL/r6_g15g15\"][()]\n",
    "    r15_sh = h5f[f\"beta{beta}/ms{ms}/mc{mc}/nx{nx}/nt{nt}/SHELL_SHELL/r15_g15g15\"][()]   # 15 rep.\n",
    "    r15_pt = h5f[f\"beta{beta}/ms{ms}/mc{mc}/nx{nx}/nt{nt}/POINT_SHELL/r15_g15g15\"][()]"
   ]
  },
  {
   "cell_type": "markdown",
   "id": "binding-contemporary",
   "metadata": {},
   "source": [
    "# Plotting the correlators"
   ]
  },
  {
   "cell_type": "code",
   "execution_count": 4,
   "id": "photographic-liberia",
   "metadata": {},
   "outputs": [
    {
     "data": {
      "image/png": "[encoded data removed]",
      "text/plain": [
       "<Figure size 1080x360 with 2 Axes>"
      ]
     },
     "metadata": {
      "needs_background": "light"
     },
     "output_type": "display_data"
    }
   ],
   "source": [
    "qG1q_sh_avg = np.mean(qG1q_sh, axis=0)  # these are the mean values of the correlators\n",
    "QG2q_sh_avg = np.mean(QG2q_sh, axis=0)\n",
    "r6_sh_avg = np.mean(r6_sh, axis=0)\n",
    "r15_sh_avg = np.mean(r15_sh, axis=0)\n",
    "\n",
    "qG1q_pt_avg = np.mean(qG1q_pt, axis=0)\n",
    "QG2q_pt_avg = np.mean(QG2q_pt, axis=0)\n",
    "r6_pt_avg = np.mean(r6_pt, axis=0)\n",
    "r15_pt_avg = np.mean(r15_pt, axis=0)\n",
    "\n",
    "CFGS = len(qG1q_sh) # number of configurations\n",
    "NBS = 4*CFGS  # number of bootstrap samples\n",
    "samples = np.random.randint(0, CFGS, [NBS, CFGS])\n",
    "\n",
    "# this calculates the bootstrap error per timeslice for each correlator\n",
    "Rerr_qG1q_sh = np.std(np.real(np.array([np.mean(np.array([qG1q_sh[cfg] for cfg in samples[sample]]), axis=0) for sample in range(NBS) ] )), axis=0)\n",
    "Ierr_qG1q_sh = np.std(np.imag(np.array([np.mean(np.array([qG1q_sh[cfg] for cfg in samples[sample]]), axis=0) for sample in range(NBS) ] )), axis=0)\n",
    "\n",
    "Rerr_QG2q_sh = np.std(np.real(np.array([np.mean(np.array([QG2q_sh[cfg] for cfg in samples[sample]]), axis=0) for sample in range(NBS) ] )), axis=0)\n",
    "Ierr_QG2q_sh = np.std(np.imag(np.array([np.mean(np.array([QG2q_sh[cfg] for cfg in samples[sample]]), axis=0) for sample in range(NBS) ] )), axis=0)\n",
    "\n",
    "Rerr_r15_sh = np.std(np.real(np.array([np.mean(np.array([r15_sh[cfg] for cfg in samples[sample]]), axis=0) for sample in range(NBS) ] )), axis=0)\n",
    "Ierr_r15_sh = np.std(np.imag(np.array([np.mean(np.array([r15_sh[cfg] for cfg in samples[sample]]), axis=0) for sample in range(NBS) ] )), axis=0)\n",
    "\n",
    "Rerr_r6_sh = np.std(np.real(np.array([np.mean(np.array([r6_sh[cfg] for cfg in samples[sample]]), axis=0) for sample in range(NBS) ] )), axis=0)\n",
    "Ierr_r6_sh = np.std(np.imag(np.array([np.mean(np.array([r6_sh[cfg] for cfg in samples[sample]]), axis=0) for sample in range(NBS) ] )), axis=0)\n",
    "\n",
    "Rerr_qG1q_pt = np.std(np.real(np.array([np.mean(np.array([qG1q_pt[cfg] for cfg in samples[sample]]), axis=0) for sample in range(NBS) ] )), axis=0)\n",
    "Ierr_qG1q_pt = np.std(np.imag(np.array([np.mean(np.array([qG1q_pt[cfg] for cfg in samples[sample]]), axis=0) for sample in range(NBS) ] )), axis=0)\n",
    "\n",
    "Rerr_QG2q_pt = np.std(np.real(np.array([np.mean(np.array([QG2q_pt[cfg] for cfg in samples[sample]]), axis=0) for sample in range(NBS) ] )), axis=0)\n",
    "Ierr_QG2q_pt = np.std(np.imag(np.array([np.mean(np.array([QG2q_pt[cfg] for cfg in samples[sample]]), axis=0) for sample in range(NBS) ] )), axis=0)\n",
    "\n",
    "Rerr_r15_pt = np.std(np.real(np.array([np.mean(np.array([r15_pt[cfg] for cfg in samples[sample]]), axis=0) for sample in range(NBS) ] )), axis=0)\n",
    "Ierr_r15_pt = np.std(np.imag(np.array([np.mean(np.array([r15_pt[cfg] for cfg in samples[sample]]), axis=0) for sample in range(NBS) ] )), axis=0)\n",
    "\n",
    "Rerr_r6_pt = np.std(np.real(np.array([np.mean(np.array([r6_pt[cfg] for cfg in samples[sample]]), axis=0) for sample in range(NBS) ] )), axis=0)\n",
    "Ierr_r6_pt = np.std(np.imag(np.array([np.mean(np.array([r6_pt[cfg] for cfg in samples[sample]]), axis=0) for sample in range(NBS) ] )), axis=0)\n",
    "\n",
    "fig, axs = plt.subplots(nrows=1, ncols=2, sharey=True,figsize=(15,5))\n",
    "ax = axs[0]\n",
    "ax.errorbar([t for t in range(nt)], np.real(qG1q_sh_avg),yerr=Rerr_qG1q_sh , fmt='o', markersize='2',label=r'$\\pi$')\n",
    "ax.errorbar([t for t in range(nt)], np.real(QG2q_sh_avg),yerr=Rerr_QG2q_sh , fmt='o', markersize='2',label=r'$D$')\n",
    "ax.errorbar([t for t in range(nt)], np.real(r6_sh_avg),yerr=Rerr_r6_sh , fmt='ko', markersize='2',label=r'$[6]$')\n",
    "ax.errorbar([t for t in range(nt)], np.real(r15_sh_avg),yerr=Rerr_r15_sh , fmt='o', markersize='2',label=r'$[15]$')\n",
    "ax.set_yscale('log')\n",
    "ax.grid('True')\n",
    "ax.set_xlabel(r'$t/\\delta$')\n",
    "ax.set_ylabel(r'$C(t)$')\n",
    "ax.set_title('sh_sh')\n",
    "ax.legend(loc=\"best\")\n",
    "\n",
    "ax = axs[1]\n",
    "ax.errorbar([t for t in range(nt)], np.real(qG1q_pt_avg),yerr=Rerr_qG1q_pt , fmt='o', markersize='2',label=r'$\\pi$')\n",
    "ax.errorbar([t for t in range(nt)], np.real(QG2q_pt_avg),yerr=Rerr_QG2q_pt , fmt='o', markersize='2',label=r'$D$')\n",
    "ax.errorbar([t for t in range(nt)], np.real(r6_pt_avg),yerr=Rerr_r6_pt , fmt='ko', markersize='2',label=r'$[6]$')\n",
    "ax.errorbar([t for t in range(nt)], np.real(r15_pt_avg),yerr=Rerr_r15_pt , fmt='o', markersize='2',label=r'$[15]$')\n",
    "ax.set_yscale('log')\n",
    "ax.grid('True')\n",
    "ax.set_xlabel(r'$t/\\delta$')\n",
    "ax.set_title('pt_sh')\n",
    "ax.legend(loc='best');"
   ]
  },
  {
   "cell_type": "markdown",
   "id": "intellectual-gauge",
   "metadata": {},
   "source": [
    "# Fitting the correlators\n",
    "\n",
    "So for these fits I will try to fit the correlators directly with cosh functions.\n",
    "\n",
    "## Fitting just the single meson correlators"
   ]
  },
  {
   "cell_type": "code",
   "execution_count": 7,
   "id": "improving-velvet",
   "metadata": {},
   "outputs": [],
   "source": [
    "def mesonCosh1state(t,Acoeff, mass):\n",
    "    return Acoeff*np.cosh(mass*(t-nt/2))\n",
    "\n",
    "def mesonCosh2state(t,Acoeff, Bcoeff, mass1, mass2):\n",
    "    return Acoeff*np.cosh(mass1*(t-nt/2)) + Bcoeff*np.cosh(mass2*(t-nt/2))"
   ]
  },
  {
   "cell_type": "markdown",
   "id": "english-covering",
   "metadata": {},
   "source": [
    "### $\\pi$-correlator"
   ]
  },
  {
   "cell_type": "code",
   "execution_count": 11,
   "id": "sixth-occasions",
   "metadata": {},
   "outputs": [],
   "source": [
    "tmin = 10\n",
    "tdat = [t for t in range(tmin,nt-tmin)]\n",
    "piCorr = [np.real(qG1q_sh_avg[t]) for t in tdat]"
   ]
  },
  {
   "cell_type": "code",
   "execution_count": 12,
   "id": "curious-factory",
   "metadata": {},
   "outputs": [],
   "source": [
    "popt, pcov = curve_fit(mesonCosh1state, tdat, piCorr)"
   ]
  },
  {
   "cell_type": "code",
   "execution_count": 13,
   "id": "secure-society",
   "metadata": {},
   "outputs": [
    {
     "data": {
      "text/plain": [
       "array([1.40633157e-06, 1.70046659e-01])"
      ]
     },
     "execution_count": 13,
     "metadata": {},
     "output_type": "execute_result"
    }
   ],
   "source": [
    "popt"
   ]
  },
  {
   "cell_type": "code",
   "execution_count": 31,
   "id": "changed-dryer",
   "metadata": {},
   "outputs": [
    {
     "data": {
      "text/plain": [
       "array([[ 1.47173344e-16, -5.36514023e-12],\n",
       "       [-5.36514023e-12,  2.01241053e-07]])"
      ]
     },
     "execution_count": 31,
     "metadata": {},
     "output_type": "execute_result"
    }
   ],
   "source": [
    "pcov"
   ]
  },
  {
   "cell_type": "code",
   "execution_count": 40,
   "id": "interracial-exemption",
   "metadata": {},
   "outputs": [
    {
     "data": {
      "image/png": "[encoded data removed]",
      "text/plain": [
       "<Figure size 576x432 with 1 Axes>"
      ]
     },
     "metadata": {
      "needs_background": "light"
     },
     "output_type": "display_data"
    }
   ],
   "source": [
    "plt.figure(figsize=(8, 6))\n",
    "plt.errorbar([t for t in range(nt)], np.real(qG1q_sh_avg),yerr=Rerr_qG1q_sh , fmt='.')\n",
    "plt.plot(tdat, mesonCosh1state(np.array(tdat), *popt), 'r--')\n",
    "plt.yscale('log')\n",
    "plt.grid();"
   ]
  },
  {
   "cell_type": "markdown",
   "id": "entertaining-evaluation",
   "metadata": {},
   "source": [
    "Let me now put everything under the bootstrap"
   ]
  },
  {
   "cell_type": "code",
   "execution_count": 213,
   "id": "baking-draft",
   "metadata": {},
   "outputs": [
    {
     "name": "stdout",
     "output_type": "stream",
     "text": [
      "m_pi = 0.16720770539424776 +/- 0.0002535982089044744\n",
      "A_pi = 1.4735026554258443e-06 +/- 1.034377082154709e-08\n"
     ]
    }
   ],
   "source": [
    "tmin = 10\n",
    "tdat = [t for t in range(tmin,nt-tmin)]\n",
    "\n",
    "NBS = 200\n",
    "CFGS = len(qG1q_sh) # number of configurations\n",
    "samples = np.random.randint(0, CFGS, [NBS, CFGS])\n",
    "\n",
    "m0pi = []\n",
    "Api = []\n",
    "for bs in range(len(samples)):\n",
    "    corr = np.array([np.real(qG1q_sh[cfg]) for cfg in samples[bs]])\n",
    "    popt, pcov = curve_fit(mesonCosh1state, tdat, \n",
    "                           np.mean(corr,axis=0)[tmin:nt-tmin],sigma=np.std(corr,axis=0)[tmin:nt-tmin])\n",
    "    Api.append(popt[0])\n",
    "    m0pi.append(popt[1])\n",
    "print(r'm_pi = {} +/- {}'.format(np.mean(m0pi),np.std(m0pi)))\n",
    "print(r'A_pi = {} +/- {}'.format(np.mean(Api),np.std(Api)))"
   ]
  },
  {
   "cell_type": "code",
   "execution_count": 214,
   "id": "adopted-audit",
   "metadata": {},
   "outputs": [
    {
     "data": {
      "image/png": "[encoded data removed]",
      "text/plain": [
       "<Figure size 576x432 with 1 Axes>"
      ]
     },
     "metadata": {
      "needs_background": "light"
     },
     "output_type": "display_data"
    }
   ],
   "source": [
    "plt.figure(figsize=(8, 6))\n",
    "plt.errorbar([t for t in range(nt)], np.real(qG1q_sh_avg),yerr=Rerr_qG1q_sh , fmt='.')\n",
    "plt.plot(tdat, mesonCosh1state(np.array(tdat),np.mean(Api),np.mean(m0pi) ), 'r--')\n",
    "plt.yscale('log')\n",
    "plt.grid();"
   ]
  },
  {
   "cell_type": "code",
   "execution_count": 215,
   "id": "discrete-moore",
   "metadata": {},
   "outputs": [
    {
     "name": "stdout",
     "output_type": "stream",
     "text": [
      "m_pi = 0.1662798053882868 +/- 0.0002763914554640078\n",
      "A_pi = 1.4825915801931806e-06 +/- 1.0851211727582783e-08\n",
      "e_pi = 0.6114571016832671 +/- 0.0032515070233989185\n",
      "B_pi = 3.112025292353275e-12 +/- 2.9682729732342844e-13\n"
     ]
    }
   ],
   "source": [
    "tmin = 4\n",
    "tdat = [t for t in range(tmin,nt-tmin)]\n",
    "\n",
    "NBS = 200\n",
    "CFGS = len(qG1q_sh) # number of configurations\n",
    "samples = np.random.randint(0, CFGS, [NBS, CFGS])\n",
    "\n",
    "m0pi = []\n",
    "Api = []\n",
    "m1pi = []\n",
    "Bpi = []\n",
    "for bs in range(len(samples)):\n",
    "    corr = np.array([np.real(qG1q_sh[cfg]) for cfg in samples[bs]])\n",
    "    popt, pcov = curve_fit(mesonCosh2state, tdat, \n",
    "                           np.mean(corr,axis=0)[tmin:nt-tmin],sigma=np.std(corr,axis=0)[tmin:nt-tmin],\n",
    "                           p0=[1.4e-6,1.e-11,.17,.50])\n",
    "    Api.append(popt[0])\n",
    "    Bpi.append(popt[1])\n",
    "    m0pi.append(popt[2])\n",
    "    m1pi.append(popt[3])\n",
    "print(r'm_pi = {} +/- {}'.format(np.mean(m0pi),np.std(m0pi)))\n",
    "print(r'A_pi = {} +/- {}'.format(np.mean(Api),np.std(Api)))\n",
    "print(r'e_pi = {} +/- {}'.format(np.mean(m1pi),np.std(m1pi)))\n",
    "print(r'B_pi = {} +/- {}'.format(np.mean(Bpi),np.std(Bpi)))"
   ]
  },
  {
   "cell_type": "code",
   "execution_count": 216,
   "id": "becoming-dancing",
   "metadata": {},
   "outputs": [
    {
     "data": {
      "image/png": "[encoded data removed]",
      "text/plain": [
       "<Figure size 576x432 with 1 Axes>"
      ]
     },
     "metadata": {
      "needs_background": "light"
     },
     "output_type": "display_data"
    }
   ],
   "source": [
    "plt.figure(figsize=(8, 6))\n",
    "plt.errorbar([t for t in range(nt)], np.real(qG1q_sh_avg),yerr=Rerr_qG1q_sh , fmt='.')\n",
    "plt.plot(tdat, mesonCosh2state(np.array(tdat),np.mean(Api),np.mean(Bpi),np.mean(m0pi),np.mean(m1pi) ), 'r--')\n",
    "plt.yscale('log')\n",
    "plt.grid();"
   ]
  },
  {
   "cell_type": "markdown",
   "id": "breeding-adventure",
   "metadata": {},
   "source": [
    "### D-meson fits"
   ]
  },
  {
   "cell_type": "code",
   "execution_count": 229,
   "id": "impaired-kruger",
   "metadata": {},
   "outputs": [
    {
     "name": "stdout",
     "output_type": "stream",
     "text": [
      "m_D = 0.5119061491884139 +/- 0.0002472582715639224\n",
      "A_D = 1.830256304734183e-11 +/- 9.328594390454871e-14\n"
     ]
    }
   ],
   "source": [
    "tmin = 15\n",
    "tdat = [t for t in range(tmin,nt-tmin)]\n",
    "\n",
    "NBS = 200\n",
    "CFGS = len(QG2q_sh) # number of configurations\n",
    "samples = np.random.randint(0, CFGS, [NBS, CFGS])\n",
    "\n",
    "m0D = []\n",
    "AD = []\n",
    "for bs in range(len(samples)):\n",
    "    corr = np.array([np.real(QG2q_sh[cfg]) for cfg in samples[bs]])\n",
    "    popt, pcov = curve_fit(mesonCosh1state, tdat, \n",
    "                           np.mean(corr,axis=0)[tmin:nt-tmin],sigma=np.std(corr,axis=0)[tmin:nt-tmin])\n",
    "    AD.append(popt[0])\n",
    "    m0D.append(popt[1])\n",
    "print(r'm_D = {} +/- {}'.format(np.mean(m0D),np.std(m0D)))\n",
    "print(r'A_D = {} +/- {}'.format(np.mean(AD),np.std(AD)))"
   ]
  },
  {
   "cell_type": "code",
   "execution_count": 230,
   "id": "inclusive-awareness",
   "metadata": {},
   "outputs": [
    {
     "data": {
      "image/png": "[encoded data removed]",
      "text/plain": [
       "<Figure size 576x432 with 1 Axes>"
      ]
     },
     "metadata": {
      "needs_background": "light"
     },
     "output_type": "display_data"
    }
   ],
   "source": [
    "plt.figure(figsize=(8, 6))\n",
    "plt.errorbar([t for t in range(nt)], np.real(QG2q_sh_avg),yerr=Rerr_QG2q_sh , fmt='.')\n",
    "plt.plot(tdat, mesonCosh1state(np.array(tdat),np.mean(AD),np.mean(m0D) ), 'r--')\n",
    "plt.yscale('log')\n",
    "plt.grid();"
   ]
  },
  {
   "cell_type": "code",
   "execution_count": 233,
   "id": "intended-collins",
   "metadata": {},
   "outputs": [
    {
     "name": "stdout",
     "output_type": "stream",
     "text": [
      "m_pi = 0.5111275148524341 +/- 0.00028348284087254704\n",
      "A_pi = 1.8348408245753184e-11 +/- 9.958817781212067e-14\n",
      "e_pi = 0.8384282361268831 +/- 0.0021465938067783794\n",
      "B_pi = 1.6421751651591837e-15 +/- 1.0171861340292638e-16\n"
     ]
    }
   ],
   "source": [
    "tmin = 5\n",
    "tdat = [t for t in range(tmin,nt-tmin)]\n",
    "\n",
    "NBS = 200\n",
    "CFGS = len(QG2q_sh) # number of configurations\n",
    "samples = np.random.randint(0, CFGS, [NBS, CFGS])\n",
    "\n",
    "m0pi = []\n",
    "Api = []\n",
    "m1pi = []\n",
    "Bpi = []\n",
    "for bs in range(len(samples)):\n",
    "    corr = np.array([np.real(QG2q_sh[cfg]) for cfg in samples[bs]])\n",
    "    popt, pcov = curve_fit(mesonCosh2state, tdat, \n",
    "                           np.mean(corr,axis=0)[tmin:nt-tmin],sigma=np.std(corr,axis=0)[tmin:nt-tmin],\n",
    "                           p0=[1.4e-11,1.e-16,.53,.9])\n",
    "    Api.append(popt[0])\n",
    "    Bpi.append(popt[1])\n",
    "    m0pi.append(popt[2])\n",
    "    m1pi.append(popt[3])\n",
    "print(r'm_pi = {} +/- {}'.format(np.mean(m0pi),np.std(m0pi)))\n",
    "print(r'A_pi = {} +/- {}'.format(np.mean(Api),np.std(Api)))\n",
    "print(r'e_pi = {} +/- {}'.format(np.mean(m1pi),np.std(m1pi)))\n",
    "print(r'B_pi = {} +/- {}'.format(np.mean(Bpi),np.std(Bpi)))"
   ]
  },
  {
   "cell_type": "code",
   "execution_count": 234,
   "id": "lonely-patio",
   "metadata": {},
   "outputs": [
    {
     "data": {
      "image/png": "[encoded data removed]",
      "text/plain": [
       "<Figure size 576x432 with 1 Axes>"
      ]
     },
     "metadata": {
      "needs_background": "light"
     },
     "output_type": "display_data"
    }
   ],
   "source": [
    "plt.figure(figsize=(8, 6))\n",
    "plt.errorbar([t for t in range(nt)], np.real(QG2q_sh_avg),yerr=Rerr_QG2q_sh , fmt='.')\n",
    "plt.plot(tdat, mesonCosh2state(np.array(tdat),np.mean(Api),np.mean(Bpi),np.mean(m0pi),np.mean(m1pi) ), 'r--')\n",
    "plt.yscale('log')\n",
    "plt.grid();"
   ]
  },
  {
   "cell_type": "markdown",
   "id": "pleased-journey",
   "metadata": {},
   "source": [
    "### $[6]$ and $[15]$ fits"
   ]
  },
  {
   "cell_type": "code",
   "execution_count": 268,
   "id": "wrapped-hearts",
   "metadata": {},
   "outputs": [],
   "source": [
    "def su3Cosh0state(t, B, mpi,mD,delta):\n",
    "    return B*np.cosh((mpi+mD+delta)*(t-nt/2))\n",
    "\n",
    "def su3Cosh1state(t, A, B, mpi,mD,delta):\n",
    "    return A*np.exp(-(mpi+mD)*nt/2)*np.cosh((mD-mpi)*(t-nt/2)) + B*np.cosh((mpi+mD+delta)*(t-nt/2))\n",
    "\n",
    "def su3Cosh2state(t, A, B, C, mpi, mD, delta, e1):\n",
    "    return A*np.exp(-(mpi+mD)*nt/2)*np.cosh((mD-mpi)*(t-nt/2)) + B*np.cosh((mpi+mD+delta)*(t-nt/2)) + C*np.cosh(e1*(t-nt/2))"
   ]
  },
  {
   "cell_type": "code",
   "execution_count": 240,
   "id": "enclosed-offense",
   "metadata": {},
   "outputs": [
    {
     "name": "stderr",
     "output_type": "stream",
     "text": [
      "/usr/local/lib/python3.9/site-packages/scipy/optimize/minpack.py:828: OptimizeWarning: Covariance of the parameters could not be estimated\n",
      "  warnings.warn('Covariance of the parameters could not be estimated',\n"
     ]
    },
    {
     "name": "stdout",
     "output_type": "stream",
     "text": [
      "m_pi = -0.1585606395105432 +/- 0.21636141076010937\n",
      "m_D = 1.1818295491166027 +/- 0.22936992823759733\n",
      "B = 2.2875780807425902e-17 +/- 5.171335322129071e-19\n",
      "BE = -0.3413829078260723 +/- 0.2105856938638518\n"
     ]
    }
   ],
   "source": [
    "tmin = 5\n",
    "tdat = [t for t in range(tmin,nt-tmin)]\n",
    "\n",
    "NBS = 200\n",
    "CFGS = len(r6_sh) # number of configurations\n",
    "samples = np.random.randint(0, CFGS, [NBS, CFGS])\n",
    "\n",
    "mD = []\n",
    "mpi = []\n",
    "delta = []\n",
    "B = []\n",
    "\n",
    "for bs in range(len(samples)):\n",
    "    corr = np.array([np.real(r6_sh[cfg]) for cfg in samples[bs]])\n",
    "    popt, pcov = curve_fit(su3Cosh0state, tdat, \n",
    "                           np.mean(corr,axis=0)[tmin:nt-tmin],\n",
    "                           sigma=np.std(corr,axis=0)[tmin:nt-tmin], \n",
    "                           p0 = [1e-17,.17,.53,-.05])\n",
    "    B.append(popt[0])\n",
    "    mpi.append(popt[1])\n",
    "    mD.append(popt[2])\n",
    "    delta.append(popt[3])\n",
    "print(r'm_pi = {} +/- {}'.format(np.mean(mpi),np.std(mpi)))\n",
    "print(r'm_D = {} +/- {}'.format(np.mean(mD),np.std(mD)))\n",
    "print(r'B = {} +/- {}'.format(np.mean(B),np.std(B)))\n",
    "print(r'BE = {} +/- {}'.format(np.mean(delta),np.std(delta)))"
   ]
  },
  {
   "cell_type": "code",
   "execution_count": 241,
   "id": "german-structure",
   "metadata": {},
   "outputs": [
    {
     "data": {
      "image/png": "[encoded data removed]",
      "text/plain": [
       "<Figure size 576x432 with 1 Axes>"
      ]
     },
     "metadata": {
      "needs_background": "light"
     },
     "output_type": "display_data"
    }
   ],
   "source": [
    "plt.figure(figsize=(8, 6))\n",
    "plt.errorbar([t for t in range(nt)], np.real(r6_sh_avg),yerr=Rerr_r6_sh , fmt='.')\n",
    "plt.plot(tdat, su3Cosh0state(np.array(tdat),np.mean(B),np.mean(mpi),np.mean(mD),np.mean(delta) ), 'r--')\n",
    "plt.yscale('log')\n",
    "plt.grid();"
   ]
  },
  {
   "cell_type": "code",
   "execution_count": 300,
   "id": "violent-venice",
   "metadata": {},
   "outputs": [],
   "source": [
    "MPI = 0.1662798053882868\n",
    "MD = 0.5119061491884139\n",
    "def su3Cosh1statefixed(t, A, B,delta):\n",
    "    return A*np.exp(-(MPI+MD)*nt/2)*np.cosh((MD-MPI)*(t-nt/2)) + B*np.cosh((MD+MPI+delta)*(t-nt/2))"
   ]
  },
  {
   "cell_type": "code",
   "execution_count": 336,
   "id": "lesbian-incidence",
   "metadata": {},
   "outputs": [
    {
     "name": "stdout",
     "output_type": "stream",
     "text": [
      "A = 4.7976946405028844e-08 +/- 8.997938530757354e-10\n",
      "B = 2.470550875014241e-17 +/- 3.754212333990987e-19\n",
      "BE = -0.010878281583031134 +/- 0.0012687453928425672\n"
     ]
    }
   ],
   "source": [
    "tmin = 24\n",
    "tdat = [t for t in range(tmin,nt-tmin)]\n",
    "\n",
    "NBS = 200\n",
    "CFGS = len(r6_sh) # number of configurations\n",
    "samples = np.random.randint(0, CFGS, [NBS, CFGS])\n",
    "\n",
    "mD = []\n",
    "mpi = []\n",
    "delta = []\n",
    "A = []\n",
    "B = []\n",
    "\n",
    "for bs in range(len(samples)):\n",
    "    corr = np.array([np.real(r6_sh[cfg]) for cfg in samples[bs]])\n",
    "    try:\n",
    "        popt, pcov = curve_fit(su3Cosh1statefixed, tdat, np.mean(corr,axis=0)[tmin:nt-tmin],\n",
    "                               sigma=np.std(corr,axis=0)[tmin:nt-tmin], \n",
    "                               p0 = [1e-7, 1e-17,-.05])\n",
    "        A.append(popt[0])\n",
    "        B.append(popt[1])\n",
    "        delta.append(popt[2])\n",
    "    except:\n",
    "        print('# Attempted fit failed')\n",
    "print(r'A = {} +/- {}'.format(np.mean(A),np.std(A)))\n",
    "print(r'B = {} +/- {}'.format(np.mean(B),np.std(B)))\n",
    "print(r'BE = {} +/- {}'.format(np.mean(delta),np.std(delta)))"
   ]
  },
  {
   "cell_type": "code",
   "execution_count": 337,
   "id": "amazing-directory",
   "metadata": {},
   "outputs": [
    {
     "data": {
      "image/png": "[encoded data removed]",
      "text/plain": [
       "<Figure size 576x432 with 1 Axes>"
      ]
     },
     "metadata": {
      "needs_background": "light"
     },
     "output_type": "display_data"
    }
   ],
   "source": [
    "plt.figure(figsize=(8, 6))\n",
    "plt.errorbar([t for t in range(nt)], np.real(r6_sh_avg),yerr=Rerr_r6_sh , fmt='.')\n",
    "plt.plot(tdat, su3Cosh1statefixed(np.array(tdat),np.mean(A),np.mean(B),np.mean(delta) ), 'r--')\n",
    "plt.yscale('log')\n",
    "plt.grid();"
   ]
  },
  {
   "cell_type": "code",
   "execution_count": 349,
   "id": "removable-grammar",
   "metadata": {
    "scrolled": false
   },
   "outputs": [
    {
     "name": "stderr",
     "output_type": "stream",
     "text": [
      "<ipython-input-268-606b5bdd9d73>:5: RuntimeWarning: overflow encountered in exp\n",
      "  return A*np.exp(-(mpi+mD)*nt/2)*np.cosh((mD-mpi)*(t-nt/2)) + B*np.cosh((mpi+mD+delta)*(t-nt/2))\n"
     ]
    },
    {
     "name": "stdout",
     "output_type": "stream",
     "text": [
      "m_pi = 0.17130566184441903 +/- 0.008144103845901555\n",
      "m_D = 0.5234279725248343 +/- 0.009267171383676363\n",
      "A = 9.270291366079123e-08 +/- 3.7569485813923544e-08\n",
      "B = 2.4102736665601307e-17 +/- 5.390428602163524e-19\n",
      "BE = -0.024477172681293388 +/- 0.013834025694367697\n"
     ]
    }
   ],
   "source": [
    "tmin = 20\n",
    "tdat = [t for t in range(tmin,nt-tmin)]\n",
    "\n",
    "NBS = 400\n",
    "CFGS = len(r6_sh) # number of configurations\n",
    "samples = np.random.randint(0, CFGS, [NBS, CFGS])\n",
    "\n",
    "mD = []\n",
    "mpi = []\n",
    "delta = []\n",
    "A = []\n",
    "B = []\n",
    "\n",
    "for bs in range(len(samples)):\n",
    "    corr = np.array([np.real(r6_sh[cfg]) for cfg in samples[bs]])\n",
    "    try:\n",
    "        popt, pcov = curve_fit(su3Cosh1state, tdat, np.mean(corr,axis=0)[tmin:nt-tmin],\n",
    "                               sigma=np.std(corr,axis=0)[tmin:nt-tmin],\n",
    "                               p0 = [1e-7, 1.4e-17,.166,.511,-.05])\n",
    "        A.append(popt[0])\n",
    "        B.append(popt[1])\n",
    "        mpi.append(popt[2])\n",
    "        mD.append(popt[3])\n",
    "        delta.append(popt[4])\n",
    "    except:\n",
    "        print('# Attempted fit failed')\n",
    "print(r'm_pi = {} +/- {}'.format(np.mean(mpi),np.std(mpi)))\n",
    "print(r'm_D = {} +/- {}'.format(np.mean(mD),np.std(mD)))\n",
    "print(r'A = {} +/- {}'.format(np.mean(A),np.std(A)))\n",
    "print(r'B = {} +/- {}'.format(np.mean(B),np.std(B)))\n",
    "print(r'BE = {} +/- {}'.format(np.mean(delta),np.std(delta)))"
   ]
  },
  {
   "cell_type": "code",
   "execution_count": 350,
   "id": "known-bottom",
   "metadata": {},
   "outputs": [
    {
     "data": {
      "image/png": "[encoded data removed]",
      "text/plain": [
       "<Figure size 576x432 with 1 Axes>"
      ]
     },
     "metadata": {
      "needs_background": "light"
     },
     "output_type": "display_data"
    }
   ],
   "source": [
    "plt.figure(figsize=(8, 6))\n",
    "plt.errorbar([t for t in range(nt)], np.real(r6_sh_avg),yerr=Rerr_r6_sh , fmt='.')\n",
    "plt.plot(tdat, su3Cosh1state(np.array(tdat),np.mean(A),np.mean(B),np.mean(mpi),np.mean(mD),np.mean(delta) ), 'r--')\n",
    "plt.yscale('log')\n",
    "plt.grid();"
   ]
  },
  {
   "cell_type": "code",
   "execution_count": 373,
   "id": "crucial-saturn",
   "metadata": {
    "scrolled": false
   },
   "outputs": [
    {
     "name": "stderr",
     "output_type": "stream",
     "text": [
      "<ipython-input-268-606b5bdd9d73>:8: RuntimeWarning: overflow encountered in exp\n",
      "  return A*np.exp(-(mpi+mD)*nt/2)*np.cosh((mD-mpi)*(t-nt/2)) + B*np.cosh((mpi+mD+delta)*(t-nt/2)) + C*np.cosh(e1*(t-nt/2))\n"
     ]
    },
    {
     "name": "stdout",
     "output_type": "stream",
     "text": [
      "m_pi = 0.15962852685814677 +/- 0.005482569705039576\n",
      "m_D = 0.5503087152050319 +/- 0.005421169846666522\n",
      "e1 = 1.095755575025879 +/- 0.00734457406270186\n",
      "A = 1.573117917324804e-07 +/- 6.209530225827445e-08\n",
      "B = 2.238145995469741e-17 +/- 3.445772572998621e-19\n",
      "C = 2.1424259854015654e-22 +/- 4.274222798897404e-23\n",
      "BE = -0.03453997781996907 +/- 0.009643611938752236\n"
     ]
    }
   ],
   "source": [
    "tmin = 6\n",
    "tdat = [t for t in range(tmin,nt-tmin)]\n",
    "\n",
    "NBS = 400\n",
    "CFGS = len(r6_sh) # number of configurations\n",
    "samples = np.random.randint(0, CFGS, [NBS, CFGS])\n",
    "\n",
    "mD = []\n",
    "mpi = []\n",
    "delta = []\n",
    "A = []\n",
    "B = []\n",
    "C = []\n",
    "e1 = []\n",
    "\n",
    "for bs in range(len(samples)):\n",
    "    corr = np.array([np.real(r6_sh[cfg]) for cfg in samples[bs]])\n",
    "    try:\n",
    "        popt, pcov = curve_fit(su3Cosh2state, tdat, np.mean(corr,axis=0)[tmin:nt-tmin],\n",
    "                               sigma=np.std(corr,axis=0)[tmin:nt-tmin],\n",
    "                               p0 = [2e-7, 2.e-17,1e-23,.166,.511,-.1,1.2])\n",
    "        A.append(popt[0])\n",
    "        B.append(popt[1])\n",
    "        C.append(popt[2])\n",
    "        mpi.append(popt[3])\n",
    "        mD.append(popt[4])\n",
    "        delta.append(popt[5])\n",
    "        e1.append(popt[6])\n",
    "    except:\n",
    "        print('# Attempted fit failed')\n",
    "print(r'm_pi = {} +/- {}'.format(np.mean(mpi),np.std(mpi)))\n",
    "print(r'm_D = {} +/- {}'.format(np.mean(mD),np.std(mD)))\n",
    "print(r'e1 = {} +/- {}'.format(np.mean(e1),np.std(e1)))\n",
    "print(r'A = {} +/- {}'.format(np.mean(A),np.std(A)))\n",
    "print(r'B = {} +/- {}'.format(np.mean(B),np.std(B)))\n",
    "print(r'C = {} +/- {}'.format(np.mean(C),np.std(C)))\n",
    "print(r'BE = {} +/- {}'.format(np.mean(delta),np.std(delta)))"
   ]
  },
  {
   "cell_type": "code",
   "execution_count": 370,
   "id": "short-assignment",
   "metadata": {},
   "outputs": [
    {
     "data": {
      "image/png": "[encoded data removed]",
      "text/plain": [
       "<Figure size 576x432 with 1 Axes>"
      ]
     },
     "metadata": {
      "needs_background": "light"
     },
     "output_type": "display_data"
    }
   ],
   "source": [
    "plt.figure(figsize=(8, 6))\n",
    "plt.errorbar([t for t in range(nt)], np.real(r6_sh_avg),yerr=Rerr_r6_sh , fmt='.')\n",
    "plt.plot(tdat, su3Cosh2state(np.array(tdat),np.mean(A),np.mean(B),\n",
    "                             np.mean(C),np.mean(mpi),np.mean(mD),np.mean(delta),np.mean(e1)), 'r--')\n",
    "plt.yscale('log')\n",
    "plt.grid();"
   ]
  },
  {
   "cell_type": "code",
   "execution_count": null,
   "id": "rough-found",
   "metadata": {},
   "outputs": [],
   "source": []
  }
 ],
 "metadata": {
  "kernelspec": {
   "display_name": "Python 3",
   "language": "python",
   "name": "python3"
  },
  "language_info": {
   "codemirror_mode": {
    "name": "ipython",
    "version": 3
   },
   "file_extension": ".py",
   "mimetype": "text/x-python",
   "name": "python",
   "nbconvert_exporter": "python",
   "pygments_lexer": "ipython3",
   "version": "3.9.7"
  }
 },
 "nbformat": 4,
 "nbformat_minor": 5
}
