{
 "cells": [
  {
   "cell_type": "code",
   "execution_count": 4,
   "metadata": {},
   "outputs": [],
   "source": [
    "%matplotlib inline\n",
    "import sys\n",
    "import os\n",
    "import numpy as np\n",
    "import h5py as h5\n",
    "import matplotlib.pyplot as plt\n",
    "import matplotlib.patches as patches\n",
    "from scipy.optimize import curve_fit"
   ]
  },
  {
   "cell_type": "code",
   "execution_count": 3,
   "metadata": {},
   "outputs": [],
   "source": [
    "beta=3.6  # set the parameters here\n",
    "nx=32\n",
    "nt=64\n",
    "ms=-0.013\n",
    "mc=0.25"
   ]
  },
  {
   "cell_type": "markdown",
   "metadata": {},
   "source": [
    "With the desired parameters set above, we now load in relevant correlators from *correlators.h5* file"
   ]
  },
  {
   "cell_type": "code",
   "execution_count": 262,
   "metadata": {},
   "outputs": [],
   "source": [
    "with h5.File('correlators.h5', 'r') as h5f:\n",
    "    qG1q_sh = h5f[f\"beta{beta}/ms{ms}/mc{mc}/nx{nx}/nt{nt}/SHELL_SHELL/q_g15_qbar\"][()]  # data for pion\n",
    "    qG1q_pt = h5f[f\"beta{beta}/ms{ms}/mc{mc}/nx{nx}/nt{nt}/POINT_SHELL/q_g15_qbar\"][()]\n",
    "    QG2q_sh = h5f[f\"beta{beta}/ms{ms}/mc{mc}/nx{nx}/nt{nt}/SHELL_SHELL/Q_g15_qbar\"][()]  # data for D-mesion\n",
    "    QG2q_pt = h5f[f\"beta{beta}/ms{ms}/mc{mc}/nx{nx}/nt{nt}/POINT_SHELL/Q_g15_qbar\"][()]\n",
    "    r6_sh = h5f[f\"beta{beta}/ms{ms}/mc{mc}/nx{nx}/nt{nt}/SHELL_SHELL/r6_g15g15\"][()]     # 6 rep.\n",
    "    r6_pt = h5f[f\"beta{beta}/ms{ms}/mc{mc}/nx{nx}/nt{nt}/POINT_SHELL/r6_g15g15\"][()]\n",
    "    r15_sh = h5f[f\"beta{beta}/ms{ms}/mc{mc}/nx{nx}/nt{nt}/SHELL_SHELL/r15_g15g15\"][()]   # 15 rep.\n",
    "    r15_pt = h5f[f\"beta{beta}/ms{ms}/mc{mc}/nx{nx}/nt{nt}/POINT_SHELL/r15_g15g15\"][()]\n",
    "    r6_P0_sh = h5f[f\"beta{beta}/ms{ms}/mc{mc}/nx{nx}/nt{nt}/SHELL_SHELL/r6_P0_g15g15\"][()]     # 6 rep.\n",
    "    r6_P0_pt = h5f[f\"beta{beta}/ms{ms}/mc{mc}/nx{nx}/nt{nt}/POINT_SHELL/r6_P0_g15g15\"][()]\n",
    "    r15_P0_sh = h5f[f\"beta{beta}/ms{ms}/mc{mc}/nx{nx}/nt{nt}/SHELL_SHELL/r15_P0_g15g15\"][()]   # 15 rep.\n",
    "    r15_P0_pt = h5f[f\"beta{beta}/ms{ms}/mc{mc}/nx{nx}/nt{nt}/POINT_SHELL/r15_P0_g15g15\"][()]"
   ]
  },
  {
   "cell_type": "code",
   "execution_count": 10,
   "metadata": {},
   "outputs": [
    {
     "name": "stdout",
     "output_type": "stream",
     "text": [
      "# of configurations =  246\n"
     ]
    }
   ],
   "source": [
    "numCfg = len(qG1q_sh)\n",
    "print(\"# of configurations = \",numCfg)"
   ]
  },
  {
   "cell_type": "markdown",
   "metadata": {},
   "source": [
    "# Correlators"
   ]
  },
  {
   "cell_type": "markdown",
   "metadata": {},
   "source": [
    "Now that I have the correlators, let's bootstrap to get errors"
   ]
  },
  {
   "cell_type": "code",
   "execution_count": 263,
   "metadata": {},
   "outputs": [],
   "source": [
    "tau = np.array([t for t in range(64)])\n",
    "\n",
    "for i in range(r6_sh.shape[0]):\n",
    "    r6_sh[i] -= 1.7e-17*np.cosh((.508-.166)*(tau-32))\n",
    "    r15_sh[i] -= 1.07e-17*np.cosh((.508-.166)*(tau-32))\n",
    "    r6_P0_sh[i] -= 6.95e-22*np.cosh((.508-.166)*(tau-32))\n",
    "    r15_P0_sh[i] -= 2.85e-22*np.cosh((.508-.166)*(tau-32))"
   ]
  },
  {
   "cell_type": "code",
   "execution_count": 71,
   "metadata": {},
   "outputs": [],
   "source": [
    "\n",
    "qG1q_sh_avg = np.mean(qG1q_sh, axis=0)  # these are the mean values of the correlators\n",
    "QG2q_sh_avg = np.mean(QG2q_sh, axis=0)\n",
    "r6_sh_avg = np.mean(r6_sh, axis=0)\n",
    "r15_sh_avg = np.mean(r15_sh, axis=0)\n",
    "r6_P0_sh_avg = np.mean(r6_P0_sh, axis=0)\n",
    "r15_P0_sh_avg = np.mean(r15_P0_sh, axis=0)\n",
    "\n",
    "qG1q_pt_avg = np.mean(qG1q_pt, axis=0)\n",
    "QG2q_pt_avg = np.mean(QG2q_pt, axis=0)\n",
    "r6_pt_avg = np.mean(r6_pt, axis=0)\n",
    "r15_pt_avg = np.mean(r15_pt, axis=0)\n",
    "r6_P0_pt_avg = np.mean(r6_P0_pt, axis=0)\n",
    "r15_P0_pt_avg = np.mean(r15_P0_pt, axis=0)\n",
    "\n",
    "CFGS = len(qG1q_sh) # number of configurations\n",
    "NBS = 4*CFGS  # number of bootstrap samples\n",
    "samples = np.random.randint(0, CFGS, [NBS, CFGS])\n",
    "\n",
    "# this calculates the bootstrap error per timeslice for each correlator\n",
    "Rerr_qG1q_sh = np.std(np.real(np.array([np.mean(np.array([qG1q_sh[cfg] for cfg in samples[sample]]), axis=0) for sample in range(NBS) ] )), axis=0)\n",
    "Ierr_qG1q_sh = np.std(np.imag(np.array([np.mean(np.array([qG1q_sh[cfg] for cfg in samples[sample]]), axis=0) for sample in range(NBS) ] )), axis=0)\n",
    "\n",
    "Rerr_QG2q_sh = np.std(np.real(np.array([np.mean(np.array([QG2q_sh[cfg] for cfg in samples[sample]]), axis=0) for sample in range(NBS) ] )), axis=0)\n",
    "Ierr_QG2q_sh = np.std(np.imag(np.array([np.mean(np.array([QG2q_sh[cfg] for cfg in samples[sample]]), axis=0) for sample in range(NBS) ] )), axis=0)\n",
    "\n",
    "Rerr_r15_sh = np.std(np.real(np.array([np.mean(np.array([r15_sh[cfg] for cfg in samples[sample]]), axis=0) for sample in range(NBS) ] )), axis=0)\n",
    "Ierr_r15_sh = np.std(np.imag(np.array([np.mean(np.array([r15_sh[cfg] for cfg in samples[sample]]), axis=0) for sample in range(NBS) ] )), axis=0)\n",
    "\n",
    "Rerr_r6_sh = np.std(np.real(np.array([np.mean(np.array([r6_sh[cfg] for cfg in samples[sample]]), axis=0) for sample in range(NBS) ] )), axis=0)\n",
    "Ierr_r6_sh = np.std(np.imag(np.array([np.mean(np.array([r6_sh[cfg] for cfg in samples[sample]]), axis=0) for sample in range(NBS) ])), axis=0)\n",
    "\n",
    "Rerr_P0_r15_sh = np.std(np.real(np.array([np.mean(np.array([r15_P0_sh[cfg] for cfg in samples[sample]]), axis=0) for sample in range(NBS) ] )), axis=0)\n",
    "Ierr_P0_r15_sh = np.std(np.imag(np.array([np.mean(np.array([r15_P0_sh[cfg] for cfg in samples[sample]]), axis=0) for sample in range(NBS) ] )), axis=0)\n",
    "\n",
    "Rerr_P0_r6_sh = np.std(np.real(np.array([np.mean(np.array([r6_P0_sh[cfg] for cfg in samples[sample]]), axis=0) for sample in range(NBS) ] )), axis=0)\n",
    "Ierr_P0_r6_sh = np.std(np.imag(np.array([np.mean(np.array([r6_P0_sh[cfg] for cfg in samples[sample]]), axis=0) for sample in range(NBS) ])), axis=0)\n",
    "\n",
    "Rerr_qG1q_pt = np.std(np.real(np.array([np.mean(np.array([qG1q_pt[cfg] for cfg in samples[sample]]), axis=0) for sample in range(NBS) ] )), axis=0)\n",
    "Ierr_qG1q_pt = np.std(np.imag(np.array([np.mean(np.array([qG1q_pt[cfg] for cfg in samples[sample]]), axis=0) for sample in range(NBS) ] )), axis=0)\n",
    "\n",
    "Rerr_QG2q_pt = np.std(np.real(np.array([np.mean(np.array([QG2q_pt[cfg] for cfg in samples[sample]]), axis=0) for sample in range(NBS) ] )), axis=0)\n",
    "Ierr_QG2q_pt = np.std(np.imag(np.array([np.mean(np.array([QG2q_pt[cfg] for cfg in samples[sample]]), axis=0) for sample in range(NBS) ] )), axis=0)\n",
    "\n",
    "Rerr_r15_pt = np.std(np.real(np.array([np.mean(np.array([r15_pt[cfg] for cfg in samples[sample]]), axis=0) for sample in range(NBS) ] )), axis=0)\n",
    "Ierr_r15_pt = np.std(np.imag(np.array([np.mean(np.array([r15_pt[cfg] for cfg in samples[sample]]), axis=0) for sample in range(NBS) ] )), axis=0)\n",
    "\n",
    "Rerr_r6_pt = np.std(np.real(np.array([np.mean(np.array([r6_pt[cfg] for cfg in samples[sample]]), axis=0) for sample in range(NBS) ] )), axis=0)\n",
    "Ierr_r6_pt = np.std(np.imag(np.array([np.mean(np.array([r6_pt[cfg] for cfg in samples[sample]]), axis=0) for sample in range(NBS) ] )), axis=0)\n",
    "\n",
    "Rerr_P0_r15_pt = np.std(np.real(np.array([np.mean(np.array([r15_P0_pt[cfg] for cfg in samples[sample]]), axis=0) for sample in range(NBS) ] )), axis=0)\n",
    "Ierr_P0_r15_pt = np.std(np.imag(np.array([np.mean(np.array([r15_P0_pt[cfg] for cfg in samples[sample]]), axis=0) for sample in range(NBS) ] )), axis=0)\n",
    "\n",
    "Rerr_P0_r6_pt = np.std(np.real(np.array([np.mean(np.array([r6_P0_pt[cfg] for cfg in samples[sample]]), axis=0) for sample in range(NBS) ] )), axis=0)\n",
    "Ierr_P0_r6_pt = np.std(np.imag(np.array([np.mean(np.array([r6_P0_pt[cfg] for cfg in samples[sample]]), axis=0) for sample in range(NBS) ] )), axis=0)"
   ]
  },
  {
   "cell_type": "markdown",
   "metadata": {},
   "source": [
    "Let's take a quick look at the correlators"
   ]
  },
  {
   "cell_type": "code",
   "execution_count": 64,
   "metadata": {
    "scrolled": false
   },
   "outputs": [
    {
     "data": {
      "image/png": "[encoded data removed]",
      "text/plain": [
       "<Figure size 1080x360 with 2 Axes>"
      ]
     },
     "metadata": {
      "needs_background": "light"
     },
     "output_type": "display_data"
    }
   ],
   "source": [
    "fig, axs = plt.subplots(nrows=1, ncols=2, sharey=True,figsize=(15,5))\n",
    "ax = axs[0]\n",
    "ax.errorbar([t for t in range(nt)], np.real(qG1q_sh_avg),yerr=Rerr_qG1q_sh , fmt='o', markersize='2',label=r'$\\pi$')\n",
    "ax.errorbar([t for t in range(nt)], np.real(QG2q_sh_avg),yerr=Rerr_QG2q_sh , fmt='o', markersize='2',label=r'$D$')\n",
    "ax.errorbar([t for t in range(nt)], np.real(r6_sh_avg),yerr=Rerr_r6_sh , fmt='ko', markersize='2',label=r'$[6]$')\n",
    "ax.errorbar([t for t in range(nt)], np.real(r15_sh_avg),yerr=Rerr_r15_sh , fmt='o', markersize='2',label=r'$[15]$')\n",
    "ax.errorbar([t for t in range(nt)], np.real(r6_P0_sh_avg),yerr=Rerr_P0_r6_sh , fmt='ko', markersize='2',label=r'$[6]$ (local)')\n",
    "ax.errorbar([t for t in range(nt)], np.real(r15_P0_sh_avg),yerr=Rerr_P0_r15_sh , fmt='o', markersize='2',label=r'$[15]$ (local)')\n",
    "ax.set_yscale('log')\n",
    "ax.grid('True')\n",
    "ax.set_xlabel(r'$t/\\delta$')\n",
    "ax.set_ylabel(r'$C(t)$')\n",
    "ax.set_title('sh_sh')\n",
    "ax.legend(loc=\"best\")\n",
    "\n",
    "ax = axs[1]\n",
    "ax.errorbar([t for t in range(nt)], np.real(qG1q_pt_avg),yerr=Rerr_qG1q_pt , fmt='o', markersize='2',label=r'$\\pi$')\n",
    "ax.errorbar([t for t in range(nt)], np.real(QG2q_pt_avg),yerr=Rerr_QG2q_pt , fmt='o', markersize='2',label=r'$D$')\n",
    "ax.errorbar([t for t in range(nt)], np.real(r6_pt_avg),yerr=Rerr_r6_pt , fmt='ko', markersize='2',label=r'$[6]$')\n",
    "ax.errorbar([t for t in range(nt)], np.real(r15_pt_avg),yerr=Rerr_r15_pt , fmt='o', markersize='2',label=r'$[15]$')\n",
    "ax.errorbar([t for t in range(nt)], np.real(r6_P0_pt_avg),yerr=Rerr_P0_r6_pt , fmt='ko', markersize='2',label=r'$[6]$ (local)')\n",
    "ax.errorbar([t for t in range(nt)], np.real(r15_P0_pt_avg),yerr=Rerr_P0_r15_pt , fmt='o', markersize='2',label=r'$[15]$ (local)')\n",
    "ax.set_yscale('log')\n",
    "ax.grid('True')\n",
    "ax.set_xlabel(r'$t/\\delta$')\n",
    "ax.set_title('pt_sh')\n",
    "ax.legend(loc='best');"
   ]
  },
  {
   "cell_type": "markdown",
   "metadata": {},
   "source": [
    "# Standard Cosh Effective Masses"
   ]
  },
  {
   "cell_type": "code",
   "execution_count": 7,
   "metadata": {},
   "outputs": [],
   "source": [
    "# this routine folds the correlator in half by averaging the early and late times.  \n",
    "# assumes that the correlators are symmetric about $\\beta/2$\n",
    "def foldCorrelators(corr):\n",
    "    nt=len(corr[0])\n",
    "    foldedCorr=[]\n",
    "    for cfg in range(len(corr)):\n",
    "        cc=[corr[cfg][0]]\n",
    "        for t in range(1,int(nt/2)+1):\n",
    "            cc.append(.5*(corr[cfg][t]+corr[cfg][nt-t]))\n",
    "        foldedCorr.append(cc)\n",
    "    return np.array(foldedCorr)\n",
    "        "
   ]
  },
  {
   "cell_type": "markdown",
   "metadata": {},
   "source": [
    "I now fold the correlators in half and just take the real parts (the imaginary parts are much smaller than the real part (in some cases they are zero), and must vanish in the limit of infinite statistics, so I ignore it)"
   ]
  },
  {
   "cell_type": "code",
   "execution_count": 264,
   "metadata": {},
   "outputs": [],
   "source": [
    "qG1q_sh_folded = np.real(foldCorrelators(qG1q_sh))\n",
    "QG2q_sh_folded = np.real(foldCorrelators(QG2q_sh))\n",
    "r6_sh_folded = np.real(foldCorrelators(r6_sh))\n",
    "r15_sh_folded = np.real(foldCorrelators(r15_sh))\n",
    "r6_P0_sh_folded = np.real(foldCorrelators(r6_P0_sh))\n",
    "r15_P0_sh_folded = np.real(foldCorrelators(r15_P0_sh))\n",
    "\n",
    "qG1q_pt_folded = np.real(foldCorrelators(qG1q_pt))\n",
    "QG2q_pt_folded = np.real(foldCorrelators(QG2q_pt))\n",
    "r6_pt_folded = np.real(foldCorrelators(r6_pt))\n",
    "r15_pt_folded = np.real(foldCorrelators(r15_pt))\n",
    "r6_P0_pt_folded = np.real(foldCorrelators(r6_P0_pt))\n",
    "r15_P0_pt_folded = np.real(foldCorrelators(r15_P0_pt))"
   ]
  },
  {
   "cell_type": "markdown",
   "metadata": {},
   "source": [
    "Now I build the arrays of effective Cosh masses, which are calculated as\n",
    "\\begin{equation}\n",
    "E(t)=\\frac{1}{\\delta J}\\cosh^{-1}\\left(\\frac{C\\left(t+\\delta J\\right)+C\\left(t-\\delta J\\right)}{2C\\left(t\\right)}\\right)\n",
    "\\end{equation}\n",
    "where $\\delta J$ is some parameter that can be varied to investigate systematics."
   ]
  },
  {
   "cell_type": "code",
   "execution_count": 265,
   "metadata": {},
   "outputs": [
    {
     "name": "stderr",
     "output_type": "stream",
     "text": [
      "<ipython-input-265-c25c3a8cf333>:61: RuntimeWarning: invalid value encountered in arccosh\n",
      "  effM.append( np.arccosh((r6_P0_pt_folded[cfg][t+deltaJ]+r6_P0_pt_folded[cfg][t-deltaJ])/(2*r6_P0_pt_folded[cfg][t]))/deltaJ )\n"
     ]
    }
   ],
   "source": [
    "deltaJ = 1  # here I set delta J\n",
    "\n",
    "effM_qG1q_sh = []\n",
    "effM_QG2q_sh = []\n",
    "effM_r6_sh = []\n",
    "effM_r15_sh = []\n",
    "effM_P0_r6_sh = []\n",
    "effM_P0_r15_sh = []\n",
    "\n",
    "effM_qG1q_pt = []\n",
    "effM_QG2q_pt = []\n",
    "effM_r6_pt = []\n",
    "effM_r15_pt = []\n",
    "effM_P0_r6_pt = []\n",
    "effM_P0_r15_pt = []\n",
    "\n",
    "for cfg in range(numCfg):\n",
    "    effM = []\n",
    "    for t in range(deltaJ,int(nt/2)+1-deltaJ):\n",
    "        effM.append( np.arccosh((qG1q_sh_folded[cfg][t+deltaJ]+qG1q_sh_folded[cfg][t-deltaJ])/(2*qG1q_sh_folded[cfg][t]))/deltaJ )\n",
    "    effM_qG1q_sh.append(np.array(effM))\n",
    "    effM = []\n",
    "    for t in range(deltaJ,int(nt/2)+1-deltaJ):\n",
    "        effM.append( np.arccosh((QG2q_sh_folded[cfg][t+deltaJ]+QG2q_sh_folded[cfg][t-deltaJ])/(2*QG2q_sh_folded[cfg][t]))/deltaJ )\n",
    "    effM_QG2q_sh.append(np.array(effM))\n",
    "    effM = []\n",
    "    for t in range(deltaJ,int(nt/2)+1-deltaJ):\n",
    "        effM.append( np.arccosh((r6_sh_folded[cfg][t+deltaJ]+r6_sh_folded[cfg][t-deltaJ])/(2*r6_sh_folded[cfg][t]))/deltaJ )\n",
    "    effM_r6_sh.append(np.array(effM))\n",
    "    effM = []\n",
    "    for t in range(deltaJ,int(nt/2)+1-deltaJ):\n",
    "        effM.append( np.arccosh((r15_sh_folded[cfg][t+deltaJ]+r15_sh_folded[cfg][t-deltaJ])/(2*r15_sh_folded[cfg][t]))/deltaJ )\n",
    "    effM_r15_sh.append(np.array(effM))\n",
    "    effM = []\n",
    "    for t in range(deltaJ,int(nt/2)+1-deltaJ):\n",
    "        effM.append( np.arccosh((r6_P0_sh_folded[cfg][t+deltaJ]+r6_P0_sh_folded[cfg][t-deltaJ])/(2*r6_P0_sh_folded[cfg][t]))/deltaJ )\n",
    "    effM_P0_r6_sh.append(np.array(effM))\n",
    "    effM = []\n",
    "    for t in range(deltaJ,int(nt/2)+1-deltaJ):\n",
    "        effM.append( np.arccosh((r15_P0_sh_folded[cfg][t+deltaJ]+r15_P0_sh_folded[cfg][t-deltaJ])/(2*r15_P0_sh_folded[cfg][t]))/deltaJ )\n",
    "    effM_P0_r15_sh.append(np.array(effM))\n",
    "    \n",
    "    effM = []\n",
    "    for t in range(deltaJ,int(nt/2)+1-deltaJ):\n",
    "        effM.append( np.arccosh((qG1q_pt_folded[cfg][t+deltaJ]+qG1q_pt_folded[cfg][t-deltaJ])/(2*qG1q_pt_folded[cfg][t]))/deltaJ )\n",
    "    effM_qG1q_pt.append(np.array(effM))\n",
    "    effM = []\n",
    "    for t in range(deltaJ,int(nt/2)+1-deltaJ):\n",
    "        effM.append( np.arccosh((QG2q_pt_folded[cfg][t+deltaJ]+QG2q_pt_folded[cfg][t-deltaJ])/(2*QG2q_pt_folded[cfg][t]))/deltaJ )\n",
    "    effM_QG2q_pt.append(np.array(effM))\n",
    "    effM = []\n",
    "    for t in range(deltaJ,int(nt/2)+1-deltaJ):\n",
    "        effM.append( np.arccosh((r6_pt_folded[cfg][t+deltaJ]+r6_pt_folded[cfg][t-deltaJ])/(2*r6_pt_folded[cfg][t]))/deltaJ )\n",
    "    effM_r6_pt.append(np.array(effM))\n",
    "    effM = []\n",
    "    for t in range(deltaJ,int(nt/2)+1-deltaJ):\n",
    "        effM.append( np.arccosh((r15_pt_folded[cfg][t+deltaJ]+r15_pt_folded[cfg][t-deltaJ])/(2*r15_pt_folded[cfg][t]))/deltaJ )\n",
    "    effM_r15_pt.append(np.array(effM))\n",
    "    effM = []\n",
    "    for t in range(deltaJ,int(nt/2)+1-deltaJ):\n",
    "        effM.append( np.arccosh((r6_P0_pt_folded[cfg][t+deltaJ]+r6_P0_pt_folded[cfg][t-deltaJ])/(2*r6_P0_pt_folded[cfg][t]))/deltaJ )\n",
    "    effM_P0_r6_pt.append(np.array(effM))\n",
    "    effM = []\n",
    "    for t in range(deltaJ,int(nt/2)+1-deltaJ):\n",
    "        effM.append( np.arccosh((r15_P0_pt_folded[cfg][t+deltaJ]+r15_P0_pt_folded[cfg][t-deltaJ])/(2*r15_P0_pt_folded[cfg][t]))/deltaJ )\n",
    "    effM_P0_r15_pt.append(np.array(effM))\n",
    "\n"
   ]
  },
  {
   "cell_type": "markdown",
   "metadata": {},
   "source": [
    "Now I bootstrap the simple effective Cosh masses"
   ]
  },
  {
   "cell_type": "code",
   "execution_count": 266,
   "metadata": {},
   "outputs": [],
   "source": [
    "effM_qG1q_sh_avg = np.mean(effM_qG1q_sh, axis=0)\n",
    "effM_QG2q_sh_avg = np.mean(effM_QG2q_sh, axis=0)\n",
    "effM_r6_sh_avg = np.mean(effM_r6_sh, axis=0)\n",
    "effM_r15_sh_avg = np.mean(effM_r15_sh, axis=0)\n",
    "effM_P0_r6_sh_avg = np.mean(effM_P0_r6_sh, axis=0)\n",
    "effM_P0_r15_sh_avg = np.mean(effM_P0_r15_sh, axis=0)\n",
    "\n",
    "effM_qG1q_pt_avg = np.mean(effM_qG1q_pt, axis=0)\n",
    "effM_QG2q_pt_avg = np.mean(effM_QG2q_pt, axis=0)\n",
    "effM_r6_pt_avg = np.mean(effM_r6_pt, axis=0)\n",
    "effM_r15_pt_avg = np.mean(effM_r15_pt, axis=0)\n",
    "effM_P0_r6_pt_avg = np.mean(effM_P0_r6_pt, axis=0)\n",
    "effM_P0_r15_pt_avg = np.mean(effM_P0_r15_pt, axis=0)\n",
    "\n",
    "CFGS = numCfg\n",
    "NBS = 4*CFGS\n",
    "samples = np.random.randint(0, CFGS, [NBS, CFGS])\n",
    "\n",
    "effM_Rerr_qG1q_sh = np.std(np.real(np.array([np.mean(np.array([effM_qG1q_sh[cfg] for cfg in samples[sample]]), axis=0) for sample in range(NBS) ] )), axis=0)\n",
    "effM_Ierr_qG1q_sh = np.std(np.imag(np.array([np.mean(np.array([effM_qG1q_sh[cfg] for cfg in samples[sample]]), axis=0) for sample in range(NBS) ] )), axis=0)\n",
    "\n",
    "effM_Rerr_QG2q_sh = np.std(np.real(np.array([np.mean(np.array([effM_QG2q_sh[cfg] for cfg in samples[sample]]), axis=0) for sample in range(NBS) ] )), axis=0)\n",
    "effM_Ierr_QG2q_sh = np.std(np.imag(np.array([np.mean(np.array([effM_QG2q_sh[cfg] for cfg in samples[sample]]), axis=0) for sample in range(NBS) ] )), axis=0)\n",
    "\n",
    "effM_Rerr_r15_sh = np.std(np.real(np.array([np.mean(np.array([effM_r15_sh[cfg] for cfg in samples[sample]]), axis=0) for sample in range(NBS) ] )), axis=0)\n",
    "effM_Ierr_r15_sh = np.std(np.imag(np.array([np.mean(np.array([effM_r15_sh[cfg] for cfg in samples[sample]]), axis=0) for sample in range(NBS) ] )), axis=0)\n",
    "\n",
    "effM_Rerr_r6_sh = np.std(np.real(np.array([np.mean(np.array([effM_r6_sh[cfg] for cfg in samples[sample]]), axis=0) for sample in range(NBS) ] )), axis=0)\n",
    "effM_Ierr_r6_sh = np.std(np.imag(np.array([np.mean(np.array([effM_r6_sh[cfg] for cfg in samples[sample]]), axis=0) for sample in range(NBS) ] )), axis=0)\n",
    "\n",
    "effM_P0_Rerr_r15_sh = np.std(np.real(np.array([np.mean(np.array([effM_P0_r15_sh[cfg] for cfg in samples[sample]]), axis=0) for sample in range(NBS) ] )), axis=0)\n",
    "effM_P0_Ierr_r15_sh = np.std(np.imag(np.array([np.mean(np.array([effM_P0_r15_sh[cfg] for cfg in samples[sample]]), axis=0) for sample in range(NBS) ] )), axis=0)\n",
    "\n",
    "effM_P0_Rerr_r6_sh = np.std(np.real(np.array([np.mean(np.array([effM_P0_r6_sh[cfg] for cfg in samples[sample]]), axis=0) for sample in range(NBS) ] )), axis=0)\n",
    "effM_P0_Ierr_r6_sh = np.std(np.imag(np.array([np.mean(np.array([effM_P0_r6_sh[cfg] for cfg in samples[sample]]), axis=0) for sample in range(NBS) ] )), axis=0)\n",
    "\n",
    "effM_Rerr_qG1q_pt = np.std(np.real(np.array([np.mean(np.array([effM_qG1q_pt[cfg] for cfg in samples[sample]]), axis=0) for sample in range(NBS) ] )), axis=0)\n",
    "effM_Ierr_qG1q_pt = np.std(np.imag(np.array([np.mean(np.array([effM_qG1q_pt[cfg] for cfg in samples[sample]]), axis=0) for sample in range(NBS) ] )), axis=0)\n",
    "\n",
    "effM_Rerr_QG2q_pt = np.std(np.real(np.array([np.mean(np.array([effM_QG2q_pt[cfg] for cfg in samples[sample]]), axis=0) for sample in range(NBS) ] )), axis=0)\n",
    "effM_Ierr_QG2q_pt = np.std(np.imag(np.array([np.mean(np.array([effM_QG2q_pt[cfg] for cfg in samples[sample]]), axis=0) for sample in range(NBS) ] )), axis=0)\n",
    "\n",
    "effM_Rerr_r15_pt = np.std(np.real(np.array([np.mean(np.array([effM_r15_pt[cfg] for cfg in samples[sample]]), axis=0) for sample in range(NBS) ] )), axis=0)\n",
    "effM_Ierr_r15_pt = np.std(np.imag(np.array([np.mean(np.array([effM_r15_pt[cfg] for cfg in samples[sample]]), axis=0) for sample in range(NBS) ] )), axis=0)\n",
    "\n",
    "effM_Rerr_r6_pt = np.std(np.real(np.array([np.mean(np.array([effM_r6_pt[cfg] for cfg in samples[sample]]), axis=0) for sample in range(NBS) ] )), axis=0)\n",
    "effM_Ierr_r6_pt = np.std(np.imag(np.array([np.mean(np.array([effM_r6_pt[cfg] for cfg in samples[sample]]), axis=0) for sample in range(NBS) ] )), axis=0)\n",
    "\n",
    "effM_P0_Rerr_r15_pt = np.std(np.real(np.array([np.mean(np.array([effM_P0_r15_pt[cfg] for cfg in samples[sample]]), axis=0) for sample in range(NBS) ] )), axis=0)\n",
    "effM_P0_Ierr_r15_pt = np.std(np.imag(np.array([np.mean(np.array([effM_P0_r15_pt[cfg] for cfg in samples[sample]]), axis=0) for sample in range(NBS) ] )), axis=0)\n",
    "\n",
    "effM_P0_Rerr_r6_pt = np.std(np.real(np.array([np.mean(np.array([effM_P0_r6_pt[cfg] for cfg in samples[sample]]), axis=0) for sample in range(NBS) ] )), axis=0)\n",
    "effM_P0_Ierr_r6_pt = np.std(np.imag(np.array([np.mean(np.array([effM_P0_r6_pt[cfg] for cfg in samples[sample]]), axis=0) for sample in range(NBS) ] )), axis=0)"
   ]
  },
  {
   "cell_type": "markdown",
   "metadata": {},
   "source": [
    "Now we plot the cosh effective masses:"
   ]
  },
  {
   "cell_type": "code",
   "execution_count": 267,
   "metadata": {},
   "outputs": [
    {
     "data": {
      "image/png": "[encoded data removed]",
      "text/plain": [
       "<Figure size 1080x360 with 2 Axes>"
      ]
     },
     "metadata": {
      "needs_background": "light"
     },
     "output_type": "display_data"
    }
   ],
   "source": [
    "tmax = len(effM_qG1q_sh_avg)+1\n",
    "fig, axs = plt.subplots(nrows=1, ncols=2, sharey=True,figsize=(15,5))\n",
    "ax = axs[0]\n",
    "ax.errorbar([t for t in range(deltaJ,tmax)], np.real(effM_qG1q_sh_avg),yerr=effM_Rerr_qG1q_sh , fmt='o', markersize='2',label=r'$\\pi$')\n",
    "ax.errorbar([t for t in range(deltaJ,tmax)], np.real(effM_QG2q_sh_avg),yerr=effM_Rerr_QG2q_sh , fmt='o', markersize='2',label=r'$D$')\n",
    "ax.errorbar([t for t in range(deltaJ,tmax)], np.real(effM_r6_sh_avg),yerr=effM_Rerr_r6_sh , fmt='ko', markersize='2',label=r'$[6]$')\n",
    "ax.errorbar([t for t in range(deltaJ,tmax)], np.real(effM_r15_sh_avg),yerr=effM_Rerr_r15_sh , fmt='o', markersize='2',label=r'$[15]$')\n",
    "ax.errorbar([t for t in range(deltaJ,tmax)], np.real(effM_P0_r6_sh_avg),yerr=effM_P0_Rerr_r6_sh , fmt='ro', markersize='2',label=r'$[6]$ (local)')\n",
    "ax.errorbar([t for t in range(deltaJ,tmax)], np.real(effM_P0_r15_sh_avg),yerr=effM_P0_Rerr_r15_sh , fmt='bo', markersize='2',label=r'$[15]$ (local)')\n",
    "ax.grid('True')\n",
    "ax.set_xlabel(r'$t/\\delta$')\n",
    "ax.set_ylabel(r'$m_{\\operatorname{eff}}(t)$')\n",
    "ax.set_title('sh_sh')\n",
    "ax.legend(loc=\"best\")\n",
    "ax.set_ylim(.1,1)\n",
    "\n",
    "ax = axs[1]\n",
    "ax.errorbar([t for t in range(deltaJ,tmax)], np.real(effM_qG1q_pt_avg),yerr=effM_Rerr_qG1q_pt , fmt='o', markersize='2',label=r'$\\pi$')\n",
    "ax.errorbar([t for t in range(deltaJ,tmax)], np.real(effM_QG2q_pt_avg),yerr=effM_Rerr_QG2q_pt , fmt='o', markersize='2',label=r'$D$')\n",
    "ax.errorbar([t for t in range(deltaJ,tmax)], np.real(effM_r6_pt_avg),yerr=effM_Rerr_r6_pt , fmt='ko', markersize='2',label=r'$[6]$')\n",
    "ax.errorbar([t for t in range(deltaJ,tmax)], np.real(effM_r15_pt_avg),yerr=effM_Rerr_r15_pt , fmt='o', markersize='2',label=r'$[15]$')\n",
    "ax.errorbar([t for t in range(deltaJ,tmax)], np.real(effM_P0_r6_pt_avg),yerr=effM_P0_Rerr_r6_pt , fmt='ro', markersize='2',label=r'$[6]$ (local)')\n",
    "ax.errorbar([t for t in range(deltaJ,tmax)], np.real(effM_P0_r15_pt_avg),yerr=effM_P0_Rerr_r15_pt , fmt='bo', markersize='2',label=r'$[15]$ (local)')\n",
    "ax.grid('True')\n",
    "ax.set_xlabel(r'$t/\\delta$')\n",
    "ax.set_title('pt_sh')\n",
    "ax.legend(loc='best');"
   ]
  },
  {
   "cell_type": "code",
   "execution_count": 276,
   "metadata": {},
   "outputs": [
    {
     "data": {
      "image/png": "[encoded data removed]",
      "text/plain": [
       "<Figure size 720x504 with 1 Axes>"
      ]
     },
     "metadata": {
      "needs_background": "light"
     },
     "output_type": "display_data"
    }
   ],
   "source": [
    "tmax = len(effM_qG1q_sh_avg)+1\n",
    "fig, axs = plt.subplots(nrows=1, ncols=1, sharey=True,figsize=(10,7))\n",
    "ax = axs\n",
    "ax.errorbar([t for t in range(deltaJ,tmax)], np.real(effM_qG1q_sh_avg),yerr=effM_Rerr_qG1q_sh , fmt='o', markersize='2',label=r'$\\pi$')\n",
    "ax.errorbar([t for t in range(deltaJ,tmax)], np.real(effM_QG2q_sh_avg),yerr=effM_Rerr_QG2q_sh , fmt='o', markersize='2',label=r'$D$')\n",
    "ax.errorbar([t for t in range(deltaJ,tmax)], np.real(effM_r6_sh_avg),yerr=effM_Rerr_r6_sh , fmt='ko', markersize='2',label=r'$[6]$ (non-local)')\n",
    "ax.errorbar([t for t in range(deltaJ,tmax)], np.real(effM_r15_sh_avg),yerr=effM_Rerr_r15_sh , fmt='o', markersize='2',label=r'$[15]$ (non-local)')\n",
    "ax.errorbar([t for t in range(deltaJ,tmax)], np.real(effM_P0_r6_sh_avg),yerr=effM_P0_Rerr_r6_sh , fmt='ro', markersize='2',label=r'$[6]$ (local)')\n",
    "ax.errorbar([t for t in range(deltaJ,tmax)], np.real(effM_P0_r15_sh_avg),yerr=effM_P0_Rerr_r15_sh , fmt='bo', markersize='2',label=r'$[15]$ (local)')\n",
    "ax.grid('True')\n",
    "ax.set_xlabel(r'$t/\\delta$')\n",
    "ax.set_ylabel(r'$m_{\\operatorname{eff}}(t)$')\n",
    "ax.set_title('sh_sh')\n",
    "ax.legend(loc=\"best\")\n",
    "ax.set_ylim(0,1);"
   ]
  },
  {
   "cell_type": "markdown",
   "metadata": {},
   "source": [
    "Now I do a first attempt at getting the energy shifts by calculating, for example,\n",
    "\\begin{equation}\n",
    "\\Delta E_6(t)=E_6(t)-\\left(E_\\pi(t)+E_D(t)\\right)\n",
    "\\end{equation}"
   ]
  },
  {
   "cell_type": "code",
   "execution_count": 12,
   "metadata": {},
   "outputs": [],
   "source": [
    "be6_sh = []\n",
    "be15_sh = []\n",
    "be6_pt = []\n",
    "be15_pt = []\n",
    "\n",
    "for cfg in range(numCfg):\n",
    "    be = [ effM_r15_sh[cfg][t]-effM_qG1q_sh[cfg][t]-effM_QG2q_sh[cfg][t] for t in range(len(effM_r15_sh[cfg])) ]\n",
    "    be15_sh.append(np.array(be))\n",
    "    be = [ effM_r6_sh[cfg][t]-effM_qG1q_sh[cfg][t]-effM_QG2q_sh[cfg][t] for t in range(len(effM_r6_sh[cfg])) ]\n",
    "    be6_sh.append(np.array(be))\n",
    "    be = [ effM_r15_pt[cfg][t]-effM_qG1q_pt[cfg][t]-effM_QG2q_pt[cfg][t] for t in range(len(effM_r15_pt[cfg])) ]\n",
    "    be15_pt.append(np.array(be))\n",
    "    be = [ effM_r6_pt[cfg][t]-effM_qG1q_pt[cfg][t]-effM_QG2q_pt[cfg][t] for t in range(len(effM_r6_pt[cfg])) ]\n",
    "    be6_pt.append(np.array(be))\n",
    "\n",
    "be6_sh = np.array(be6_sh)\n",
    "be15_sh = np.array(be15_sh)\n",
    "be6_pt = np.array(be6_pt)\n",
    "be15_pt = np.array(be15_pt)"
   ]
  },
  {
   "cell_type": "markdown",
   "metadata": {},
   "source": [
    "And then I bootstrap the energies"
   ]
  },
  {
   "cell_type": "code",
   "execution_count": 13,
   "metadata": {},
   "outputs": [],
   "source": [
    "be6_sh_avg = np.mean(be6_sh, axis=0)\n",
    "be15_sh_avg = np.mean(be15_sh, axis=0)\n",
    "be6_pt_avg = np.mean(be6_pt, axis=0)\n",
    "be15_pt_avg = np.mean(be15_pt, axis=0)\n",
    "\n",
    "CFGS = numCfg\n",
    "NBS = 4*CFGS\n",
    "samples = np.random.randint(0, CFGS, [NBS, CFGS])\n",
    "\n",
    "be15_Rerr_sh = np.std(np.real(np.array([np.mean(np.array([be15_sh[cfg] for cfg in samples[sample]]), axis=0) for sample in range(NBS) ] )), axis=0)\n",
    "be6_Rerr_sh = np.std(np.real(np.array([np.mean(np.array([be6_sh[cfg] for cfg in samples[sample]]), axis=0) for sample in range(NBS) ] )), axis=0)\n",
    "be15_Rerr_pt = np.std(np.real(np.array([np.mean(np.array([be15_pt[cfg] for cfg in samples[sample]]), axis=0) for sample in range(NBS) ] )), axis=0)\n",
    "be6_Rerr_pt = np.std(np.real(np.array([np.mean(np.array([be6_pt[cfg] for cfg in samples[sample]]), axis=0) for sample in range(NBS) ] )), axis=0)\n"
   ]
  },
  {
   "cell_type": "markdown",
   "metadata": {},
   "source": [
    "And here is the plot of the energy differences:"
   ]
  },
  {
   "cell_type": "code",
   "execution_count": 14,
   "metadata": {
    "scrolled": false
   },
   "outputs": [
    {
     "data": {
      "image/png": "[encoded data removed]",
      "text/plain": [
       "<Figure size 1080x360 with 2 Axes>"
      ]
     },
     "metadata": {
      "needs_background": "light"
     },
     "output_type": "display_data"
    }
   ],
   "source": [
    "tmax = len(effM_qG1q_sh_avg)+1\n",
    "fig, axs = plt.subplots(nrows=1, ncols=2, sharey=True,figsize=(15,5))\n",
    "ax = axs[0]\n",
    "ax.errorbar([t for t in range(deltaJ,tmax)], np.real(be6_sh_avg),yerr=be6_Rerr_sh , fmt='ko', markersize='2',label=r'$m_{[6]}-m_\\pi-m_D$')\n",
    "ax.errorbar([t for t in range(deltaJ,tmax)], np.real(be15_sh_avg),yerr=be15_Rerr_sh , fmt='ro', markersize='2',label=r'$m_{[15]}-m_\\pi-m_D$')\n",
    "ax.grid('True')\n",
    "ax.set_xlabel(r'$t/\\delta$')\n",
    "ax.set_ylabel(r'$a\\Delta E(t)$')\n",
    "ax.set_title('sh_sh')\n",
    "ax.legend(loc=\"upper right\")\n",
    "ax.set_ylim(-.025,.01)\n",
    "\n",
    "ax = axs[1]\n",
    "ax.errorbar([t for t in range(deltaJ,tmax)], np.real(be6_pt_avg),yerr=be6_Rerr_pt , fmt='ko', markersize='2',label=r'$m_{[6]}-m_\\pi-m_D$')\n",
    "ax.errorbar([t for t in range(deltaJ,tmax)], np.real(be15_pt_avg),yerr=be15_Rerr_pt , fmt='ro', markersize='2',label=r'$m_{[15]}-m_\\pi-m_D$')\n",
    "ax.grid('True')\n",
    "ax.set_xlabel(r'$t/\\delta$')\n",
    "ax.set_title('pt_sh')\n",
    "ax.legend(loc='upper right');"
   ]
  },
  {
   "cell_type": "markdown",
   "metadata": {},
   "source": [
    "# Matrix Prony\n",
    "\n",
    "The methods used here are taken from \n",
    "\n",
    "    @article{Beane:2009kya,\n",
    "    author = \"Beane, Silas R. and Detmold, William and Luu, Thomas C. and Orginos, Kostas and Parreno, Assumpta and Savage, Martin J. and Torok, Aaron and Walker-Loud, Andre\",\n",
    "    title = \"{High Statistics Analysis using Anisotropic Clover Lattices: (I) Single Hadron Correlation Functions}\",\n",
    "    eprint = \"0903.2990\",\n",
    "    archivePrefix = \"arXiv\",\n",
    "    primaryClass = \"hep-lat\",\n",
    "    reportNumber = \"UNH-09-01, JLAB-THY-09-960, NT@UW-09-08, ICCUB-09-18, ATHENA-PUB-09-012\",\n",
    "    doi = \"10.1103/PhysRevD.79.114502\",\n",
    "    journal = \"Phys. Rev. D\",\n",
    "    volume = \"79\",\n",
    "    pages = \"114502\",\n",
    "    year = \"2009\"\n",
    "    }\n"
   ]
  },
  {
   "cell_type": "markdown",
   "metadata": {},
   "source": [
    "## 2-exp Prony applied to a single correlator\n",
    "\n",
    "For a detailed description, look at section IV.C.2 of the paper cited above. The idea is to determine the $C$ values of the following equations (eq.16 of the paper)\n",
    "\\begin{align}\n",
    "G(t+2 n)+C_{1} G(t+n)+C_{0} G(t) &=0 \\\\\n",
    "G\\left(t+2 n+q_{1}\\right)+C_{1} G\\left(t+n+q_{1}\\right)+C_{0} G\\left(t+q_{1}\\right) &=0\n",
    "\\end{align}\n",
    "where $G(t)$ is the correlator.  The routine\n",
    "\n",
    "    def calcCs(corr,t0,n,q1)\n",
    "    \n",
    "does this.  Once the $C$s are obtained, one extracts the energies from the following equation (eq.17 of the paper):\n",
    "\\begin{equation}\n",
    "\\left(e^{-n \\alpha}\\right)^{2}+C_{1}\\left(e^{-n \\alpha}\\right)+C_{0}=0\n",
    "\\end{equation}\n",
    "The routine\n",
    "\n",
    "    def calcEnergies(corr,t0,n,q1)\n",
    "    \n",
    "does exactly this.  \n",
    "\n",
    "The energies extracted in this manner represent the 2-exp fit to the correlator $G(t)$ in the time window $[t_0,t_0+2n+q_1]$."
   ]
  },
  {
   "cell_type": "code",
   "execution_count": 7,
   "metadata": {},
   "outputs": [],
   "source": [
    "def calcCs(corr,t0,n,q1):\n",
    "    V=np.array([corr[t0+2*n],corr[t0+2*n+q1]])\n",
    "    C=np.matrix([[corr[t0],corr[t0+n]],[corr[t0+q1],corr[t0+n+q1]]])\n",
    "    return -np.linalg.inv(C)@V\n",
    "\n",
    "def calcEnergies(corr,t0,n,q1):\n",
    "    Cs=calcCs(corr,t0,n,q1)\n",
    "    return -np.log(.5*np.array([-Cs[0,1]+np.sqrt(Cs[0,1]*Cs[0,1]-4.*Cs[0,0]),\n",
    "                                -Cs[0,1]-np.sqrt(Cs[0,1]*Cs[0,1]-4.*Cs[0,0])]))/n"
   ]
  },
  {
   "cell_type": "markdown",
   "metadata": {},
   "source": [
    "Here's a test calculation:"
   ]
  },
  {
   "cell_type": "code",
   "execution_count": 16,
   "metadata": {},
   "outputs": [
    {
     "data": {
      "text/plain": [
       "array([0.60082427+1.12325780e-21j, 4.90692988-2.99287167e-21j])"
      ]
     },
     "execution_count": 16,
     "metadata": {},
     "output_type": "execute_result"
    }
   ],
   "source": [
    "calcEnergies(qG1q_sh_avg,0,1,1)"
   ]
  },
  {
   "cell_type": "markdown",
   "metadata": {},
   "source": [
    "Now I want to compare all the different methods up to this point:"
   ]
  },
  {
   "cell_type": "code",
   "execution_count": 17,
   "metadata": {},
   "outputs": [],
   "source": [
    "ee=[ calcEnergies(qG1q_sh_avg,t,1,1) for t in range(len(qG1q_sh_avg)-3) ]\n",
    "e0=[ min(np.real(ee[t][0]),np.real(ee[t][1])) for t in range(len(ee))]\n",
    "e1=[ max(np.real(ee[t][0]),np.real(ee[t][1])) for t in range(len(ee))]\n",
    "effMCosh = [np.arccosh(np.real((qG1q_sh_avg[t+1]+qG1q_sh_avg[t-1])/(2*qG1q_sh_avg[t]))) \n",
    "        for t in range(1,len(qG1q_sh_avg)-1)]\n",
    "effMExp = [-np.log(np.real((qG1q_sh_avg[t+1])/(qG1q_sh_avg[t]))) \n",
    "        for t in range(0,len(qG1q_sh_avg)-1)]"
   ]
  },
  {
   "cell_type": "code",
   "execution_count": 19,
   "metadata": {},
   "outputs": [
    {
     "data": {
      "image/png": "[encoded data removed]",
      "text/plain": [
       "<Figure size 432x288 with 1 Axes>"
      ]
     },
     "metadata": {
      "needs_background": "light"
     },
     "output_type": "display_data"
    }
   ],
   "source": [
    "plt.ylim((.08,.26))\n",
    "plt.grid(\"True\")\n",
    "plt.plot([t for t in range(len(e1))],e1,'bo',label='2exp MP (e1)')\n",
    "plt.plot([t for t in range(len(e0))],e0,'ko',label='2exp MP (e0)')\n",
    "plt.plot([t for t in range(1,len(effMCosh)+1)],effMCosh,'ro',label='cosh effM')\n",
    "plt.plot([t+.5 for t in range(len(effMExp))],effMExp,'go',label='exp effM')\n",
    "plt.legend(loc='best')\n",
    "plt.xlabel(r'$t/\\delta$')\n",
    "plt.ylabel(r'$aE(t)$');"
   ]
  },
  {
   "cell_type": "markdown",
   "metadata": {},
   "source": [
    "## Matrix Prony applied to 2-correlators\n",
    "\n",
    "This method is discussed in detail in section IV.D of the paper cited above.  Given the matrices (eq.26 of paper)\n",
    "\\begin{equation}\n",
    "M=\\left[\\sum_{\\tau=t}^{t+t_{W}} y\\left(\\tau+t_{J}\\right) y(\\tau)^{T}\\right]^{-1} \\quad, \\quad V=\\left[\\sum_{\\tau=t}^{t+t_{W}} y(\\tau) y(\\tau)^{T}\\right]^{-1}\n",
    "\\end{equation}\n",
    "where\n",
    "\\begin{equation}\n",
    "y(t)=\\begin{pmatrix}\n",
    "G_0(t)\\\\\n",
    "G_1(t)\\\\\n",
    "\\end{pmatrix}\n",
    "\\end{equation}\n",
    "contains the two correlators (e.g. sh-pt and pt-pt), we solve the following eigenvalue problem (eq.24)\n",
    "\\begin{equation}\n",
    "M q=\\lambda V q\n",
    "\\end{equation}\n",
    "where $\\lambda$ and $q$ are the eigenvalues and eigenvectors, respectively.  The energies are related to the eigenvalues $\\lambda$ via\n",
    "\\begin{equation}\n",
    "\\lambda_{n}=\\exp \\left(m_{n} t_{J}\\right)\n",
    "\\end{equation}"
   ]
  },
  {
   "cell_type": "markdown",
   "metadata": {},
   "source": [
    "The routine that calculates the matrices M and V is given by\n",
    "\n",
    "    def calcMandV(corr_pt,corr_sh,t,tj,tw)\n",
    "\n",
    "and the routine that determines the energy eigenvalues is\n",
    "\n",
    "    def calcEigs(M,invV,tj)\n",
    "    "
   ]
  },
  {
   "cell_type": "code",
   "execution_count": 30,
   "metadata": {},
   "outputs": [],
   "source": [
    "def calcMandV(corr_pt,corr_sh,t,tj,tw):\n",
    "    V = np.matrix([[0.0,0.0],[0.0,0.0]])\n",
    "    M = np.matrix([[0.0,0.0],[0.0,0.0]])\n",
    "    for tau in range(t,t+tw):\n",
    "        V += np.matrix([[corr_pt[tau]*corr_pt[tau],corr_pt[tau]*corr_sh[tau]],\n",
    "                        [corr_sh[tau]*corr_pt[tau],corr_sh[tau]*corr_sh[tau]]])\n",
    "        M += np.matrix([[corr_pt[tau+tj]*corr_pt[tau],corr_pt[tau+tj]*corr_sh[tau]],\n",
    "                        [corr_sh[tau+tj]*corr_pt[tau],corr_sh[tau+tj]*corr_sh[tau]]])\n",
    "    M = np.linalg.inv(M)  # returns the inverse of M\n",
    "    return M,V\n",
    "    \n",
    "def calcEigs(M,invV,tj):\n",
    "    eigenValues, eigenVectors = np.linalg.eig(M@invV)\n",
    "    #print(eigenVectors)\n",
    "    idx = eigenValues.argsort()[::-1]   \n",
    "    eigenValues = eigenValues[idx]\n",
    "    eigenVectors = eigenVectors[:,idx]\n",
    "\n",
    "    return np.log(eigenValues)/tj\n",
    "\n",
    "def matrixPronyEnergies(corr_pt,corr_sh,t,tj,tw):\n",
    "    M, invV = calcMandV(corr_pt,corr_sh,t,tj,tw)\n",
    "    return calcEigs(M,invV,tj)\n",
    "\n",
    "def calcEigSys(M,invV):\n",
    "    eigenValues, eigenVectors = np.linalg.eig(M@invV)\n",
    "    #print(eigenVectors)\n",
    "    idx = eigenValues.argsort()[::-1]   \n",
    "    eigenValues = eigenValues[idx]\n",
    "    eigenVectors = eigenVectors[:,idx]\n",
    "\n",
    "    return eigenValues,invV@eigenVectors\n",
    "\n",
    "def fitEffM(x, c):\n",
    "    return c"
   ]
  },
  {
   "cell_type": "markdown",
   "metadata": {},
   "source": [
    "Once the matrix $M$ and $V$ are determined, as well as the eigenvalues and eigenvectors $\\lambda$ and $q$, the coefficients $C_n$ can be determined in the following equation\n",
    "\\begin{equation}\n",
    "y(t)=\\sum_{n=1}^{N} C_{n} q_{n} \\lambda_{n}^{t}\n",
    "\\end{equation}\n",
    "With these coefficients, one can construct linear combinations of the correlators where one combination has the ground state as the dominant contribution, and the other has the excited state being dominant."
   ]
  },
  {
   "cell_type": "markdown",
   "metadata": {},
   "source": [
    "So now I'll try to do this with all the correlators:"
   ]
  },
  {
   "cell_type": "code",
   "execution_count": 31,
   "metadata": {},
   "outputs": [],
   "source": [
    "# fold the correlators again (just in case I didn't do this earlier)\n",
    "qG1q_sh_folded_avg = np.real(np.mean(qG1q_sh_folded,axis=0))\n",
    "QG2q_sh_folded_avg = np.real(np.mean(QG2q_sh_folded,axis=0))\n",
    "r6_sh_folded_avg = np.real(np.mean(r6_sh_folded,axis=0))\n",
    "r15_sh_folded_avg = np.real(np.mean(r15_sh_folded,axis=0))\n",
    "\n",
    "qG1q_pt_folded_avg = np.real(np.mean(qG1q_pt_folded,axis=0))\n",
    "QG2q_pt_folded_avg = np.real(np.mean(QG2q_pt_folded,axis=0))\n",
    "r6_pt_folded_avg = np.real(np.mean(r6_pt_folded,axis=0))\n",
    "r15_pt_folded_avg = np.real(np.mean(r15_pt_folded,axis=0))"
   ]
  },
  {
   "cell_type": "markdown",
   "metadata": {},
   "source": [
    "Let's bootstrap the whole Matrix-Prony multi-correlator process.  Let's do the qG1q case first"
   ]
  },
  {
   "cell_type": "code",
   "execution_count": 32,
   "metadata": {
    "scrolled": false
   },
   "outputs": [
    {
     "name": "stderr",
     "output_type": "stream",
     "text": [
      "<ipython-input-32-e2caf4bcb10b>:41: RuntimeWarning: invalid value encountered in arccosh\n",
      "  eM = [np.arccosh((corrRotated[t+1]+corrRotated[t-1])/(2*corrRotated[t]))\n"
     ]
    },
    {
     "name": "stdout",
     "output_type": "stream",
     "text": [
      "matrix prony energy:  0.16631462606329764 +/- 0.00037264505523209224\n",
      "cosh energy        :  0.16662469198426463 +/- 0.0003508581950573111\n"
     ]
    },
    {
     "name": "stderr",
     "output_type": "stream",
     "text": [
      "<ipython-input-32-e2caf4bcb10b>:55: RuntimeWarning: Mean of empty slice\n",
      "  effM_avg = np.nanmean(np.array(effMCosh), axis=0)\n",
      "/usr/local/lib/python3.8/site-packages/numpy/lib/nanfunctions.py:1664: RuntimeWarning: Degrees of freedom <= 0 for slice.\n",
      "  var = nanvar(a, axis=axis, dtype=dtype, out=out, ddof=ddof,\n"
     ]
    },
    {
     "data": {
      "image/png": "[encoded data removed]",
      "text/plain": [
       "<Figure size 1080x360 with 2 Axes>"
      ]
     },
     "metadata": {
      "needs_background": "light"
     },
     "output_type": "display_data"
    }
   ],
   "source": [
    "corr_pt=qG1q_pt_folded\n",
    "corr_sh=qG1q_sh_folded\n",
    "effMcorr_avg = effM_qG1q_sh_avg\n",
    "effMcorr_err = effM_Rerr_qG1q_sh\n",
    "t0=8;tj=2;tw=23\n",
    "t0=9;tj=1;tw=10\n",
    "\n",
    "# fit window\n",
    "tmin=10; tmax=t0+15\n",
    "\n",
    "CFGS = numCfg\n",
    "NBS = 4*CFGS\n",
    "samples = np.random.randint(0, CFGS, [NBS, CFGS])\n",
    "\n",
    "effM = []\n",
    "effMCosh = []\n",
    "\n",
    "effMConst_fit = []\n",
    "\n",
    "corr0 = []\n",
    "corr1 = []\n",
    "\n",
    "for sample in range(NBS):\n",
    "    # first generate a bootstrap ensemble\n",
    "    bscorr_pt_avg = np.nanmean(np.array([corr_pt[cfg] for cfg in samples[sample]]), axis = 0)\n",
    "    bscorr_sh_avg = np.nanmean(np.array([corr_sh[cfg] for cfg in samples[sample]]), axis = 0)\n",
    "    # now get the energies and coefficients\n",
    "    M, invV = calcMandV(bscorr_pt_avg,bscorr_sh_avg,t0,tj,tw)\n",
    "    lam, q = calcEigSys(M,invV)\n",
    "    c=np.array([corr_pt[t0],corr_sh[t0]])\n",
    "    m=np.matrix([[lam[0]*q[0,0],lam[1]*q[0,1]],\n",
    "                 [lam[0]*q[1,0],lam[1]*q[1,1]]])\n",
    "    cs=np.linalg.inv(m)@c\n",
    "    alpha1=cs[0,0]*q[0,0];beta1=cs[0,1]*q[0,1]\n",
    "    alpha2=cs[0,0]*q[1,0];beta2=cs[0,1]*q[1,1]\n",
    "    effM.append(np.log(lam[1])/tj)\n",
    "    # now rotate the corelators and calculate Cosh effective mass\n",
    "    corrRotated=alpha2*bscorr_pt_avg-alpha1*bscorr_sh_avg\n",
    "    corr0.append(corrRotated)\n",
    "    corr1.append(-beta2*bscorr_pt_avg+beta1*bscorr_sh_avg)\n",
    "    eM = [np.arccosh((corrRotated[t+1]+corrRotated[t-1])/(2*corrRotated[t])) \n",
    "        for t in range(1,len(corrRotated)-1)]\n",
    "    effMCosh.append(eM)\n",
    "    # now fit effective mass\n",
    "    effMConst_fit.append(np.nanmean(np.array([eM[t] for t in range(tmin,tmax+1)])))\n",
    "\n",
    "# ok, now calculate bootstrap errors and means\n",
    "effM_fit_avg = np.nanmean(np.array(effM))\n",
    "effM_fit_err = np.nanstd(np.array(effM))\n",
    "print(\"matrix prony energy: \", effM_fit_avg,\"+/-\",effM_fit_err)\n",
    "effMConst_fit_avg = np.nanmean(np.array(effMConst_fit))\n",
    "effMConst_fit_err = np.nanstd(np.array(effMConst_fit))\n",
    "print(\"cosh energy        : \",effMConst_fit_avg,\"+/-\",effMConst_fit_err)                         \n",
    "                         \n",
    "effM_avg = np.nanmean(np.array(effMCosh), axis=0)\n",
    "effM_err = np.nanstd(np.array(effMCosh), axis=0)\n",
    "\n",
    "\n",
    "fig, ax = plt.subplots(1,2,sharex=True,figsize=(15,5))\n",
    "\n",
    "ax[0].grid(\"True\")\n",
    "ax[0].set_yscale('log')\n",
    "ax[0].set_ylim(1e-9,1e-3)\n",
    "ax[0].errorbar([t for t in range(len(corr0[0]))], np.nanmean(corr0, axis=0),yerr=np.nanstd(corr0, axis=0) , \n",
    "             fmt='ko', markersize='3',label=r'$C_0(t)$')\n",
    "ax[0].errorbar([t for t in range(len(corr1[0]))], np.nanmean(corr1, axis=0),yerr=np.nanstd(corr1, axis=0) , \n",
    "             fmt='bo', markersize='3',label=r'$C_1(t)$')\n",
    "ax[0].set_xlabel(r'$t/\\delta$')\n",
    "ax[0].set_ylabel(r'$C_{\\pm}(t)$')\n",
    "\n",
    "ax[1].set_yscale('linear')\n",
    "ax[1].grid(\"True\")\n",
    "ax[1].set_xlabel(r'$t/\\delta$')\n",
    "ax[1].set_ylabel(r'$M_{\\operatorname{eff}}(t)$')\n",
    "ax[1].set_ylim(effM_fit_avg-100*effM_fit_err,effM_fit_avg+100*effM_fit_err)\n",
    "ax[1].errorbar([t for t in range(1,len(effM_avg)+1)], effM_avg,yerr=effM_err , \n",
    "             fmt='ko', markersize='3',label=r'cosh')\n",
    "ax[1].errorbar([t for t in range(1,len(effMcorr_avg)+1)], np.real(effMcorr_avg),yerr=effMcorr_err , \n",
    "         fmt='go', markersize='3',label=r'matrix prony')\n",
    "ax[1].add_patch(patches.Rectangle((t0,effM_fit_avg-effM_fit_err), tw+tj, 2*effM_fit_err,\n",
    "                               fill='True',facecolor='red',alpha=.5))\n",
    "ax[1].plot([t0,t0+tw+tj],[effM_fit_avg,effM_fit_avg],'k-')\n",
    "                         \n",
    "ax[1].add_patch(patches.Rectangle((tmin,effMConst_fit_avg-effMConst_fit_err), tmax-tmin, 2*effMConst_fit_err,\n",
    "                               fill='True',facecolor='blue',alpha=.5))\n",
    "ax[1].plot([tmin,tmax],[effMConst_fit_avg,effMConst_fit_avg],'k-');\n",
    "\n"
   ]
  },
  {
   "cell_type": "code",
   "execution_count": 34,
   "metadata": {},
   "outputs": [
    {
     "name": "stderr",
     "output_type": "stream",
     "text": [
      "<ipython-input-34-f9ec8f867178>:41: RuntimeWarning: invalid value encountered in arccosh\n",
      "  eM = [np.arccosh((corrRotated[t+1]+corrRotated[t-1])/(2*corrRotated[t]))\n"
     ]
    },
    {
     "name": "stdout",
     "output_type": "stream",
     "text": [
      "matrix prony energy:  0.5088298972564864 +/- 0.002137957997368639\n",
      "cosh energy        :  0.5095879257316815 +/- 0.001149071210530232\n"
     ]
    },
    {
     "name": "stderr",
     "output_type": "stream",
     "text": [
      "<ipython-input-34-f9ec8f867178>:55: RuntimeWarning: Mean of empty slice\n",
      "  effM_avg = np.nanmean(np.array(effMCosh), axis=0)\n"
     ]
    },
    {
     "data": {
      "text/plain": [
       "[<matplotlib.lines.Line2D at 0x11b9199d0>]"
      ]
     },
     "execution_count": 34,
     "metadata": {},
     "output_type": "execute_result"
    },
    {
     "data": {
      "image/png": "[encoded data removed]",
      "text/plain": [
       "<Figure size 1080x360 with 2 Axes>"
      ]
     },
     "metadata": {
      "needs_background": "light"
     },
     "output_type": "display_data"
    }
   ],
   "source": [
    "corr_pt=QG2q_pt_folded\n",
    "corr_sh=QG2q_sh_folded\n",
    "effMcorr_avg = effM_QG2q_sh_avg\n",
    "effMcorr_err = effM_Rerr_QG2q_sh\n",
    "t0=15;tj=2;tw=16\n",
    "t0=12;tj=1;tw=10\n",
    "\n",
    "# fit window\n",
    "tmin=12; tmax=tmin+10\n",
    "\n",
    "CFGS = numCfg\n",
    "NBS = 4*CFGS\n",
    "samples = np.random.randint(0, CFGS, [NBS, CFGS])\n",
    "\n",
    "effM = []\n",
    "effMCosh = []\n",
    "\n",
    "effMConst_fit = []\n",
    "\n",
    "corr0 = []\n",
    "corr1 = []\n",
    "\n",
    "for sample in range(NBS):\n",
    "    # first generate a bootstrap ensemble\n",
    "    bscorr_pt_avg = np.mean(np.array([corr_pt[cfg] for cfg in samples[sample]]), axis = 0)\n",
    "    bscorr_sh_avg = np.mean(np.array([corr_sh[cfg] for cfg in samples[sample]]), axis = 0)\n",
    "    # now get the energies and coefficients\n",
    "    M, invV = calcMandV(bscorr_pt_avg,bscorr_sh_avg,t0,tj,tw)\n",
    "    lam, q = calcEigSys(M,invV)\n",
    "    c=np.array([corr_pt[t0],corr_sh[t0]])\n",
    "    m=np.matrix([[lam[0]*q[0,0],lam[1]*q[0,1]],\n",
    "                 [lam[0]*q[1,0],lam[1]*q[1,1]]])\n",
    "    cs=np.linalg.inv(m)@c\n",
    "    alpha1=cs[0,0]*q[0,0];beta1=cs[0,1]*q[0,1]\n",
    "    alpha2=cs[0,0]*q[1,0];beta2=cs[0,1]*q[1,1]\n",
    "    effM.append(np.log(lam[1])/tj)\n",
    "    # now rotate the corelators and calculate Cosh effective mass\n",
    "    corrRotated=alpha2*bscorr_pt_avg-alpha1*bscorr_sh_avg\n",
    "    corr0.append(corrRotated)\n",
    "    corr1.append(-beta2*bscorr_pt_avg+beta1*bscorr_sh_avg)\n",
    "    eM = [np.arccosh((corrRotated[t+1]+corrRotated[t-1])/(2*corrRotated[t])) \n",
    "        for t in range(1,len(corrRotated)-1)]\n",
    "    effMCosh.append(eM)\n",
    "    # now fit effective mass\n",
    "    effMConst_fit.append(np.nanmean(np.array([eM[t] for t in range(tmin,tmax+1)])))\n",
    "\n",
    "# ok, now calculate bootstrap errors and means\n",
    "effM_fit_avg = np.nanmean(np.array(effM))\n",
    "effM_fit_err = np.nanstd(np.array(effM))\n",
    "print(\"matrix prony energy: \", effM_fit_avg,\"+/-\",effM_fit_err)\n",
    "effMConst_fit_avg = np.nanmean(np.array(effMConst_fit))\n",
    "effMConst_fit_err = np.nanstd(np.array(effMConst_fit))\n",
    "print(\"cosh energy        : \",effMConst_fit_avg,\"+/-\",effMConst_fit_err)                         \n",
    "                         \n",
    "effM_avg = np.nanmean(np.array(effMCosh), axis=0)\n",
    "effM_err = np.nanstd(np.array(effMCosh), axis=0)\n",
    "\n",
    "\n",
    "fig, ax = plt.subplots(1,2,sharex=True,figsize=(15,5))\n",
    "\n",
    "ax[0].grid(\"True\")\n",
    "ax[0].set_yscale('log')\n",
    "#ax[0].set_ylim(1e-9,1e-3)\n",
    "ax[0].errorbar([t for t in range(len(corr0[0]))], np.nanmean(corr0, axis=0),yerr=np.nanstd(corr0, axis=0) , \n",
    "             fmt='ko', markersize='3',label=r'$C_0(t)$')\n",
    "ax[0].errorbar([t for t in range(len(corr1[0]))], np.nanmean(corr1, axis=0),yerr=np.nanstd(corr1, axis=0) , \n",
    "             fmt='bo', markersize='3',label=r'$C_1(t)$')\n",
    "ax[0].set_xlabel(r'$t/\\delta$')\n",
    "ax[0].set_ylabel(r'$C_{\\pm}(t)$')\n",
    "\n",
    "ax[1].set_yscale('linear')\n",
    "ax[1].grid(\"True\")\n",
    "ax[1].set_xlabel(r'$t/\\delta$')\n",
    "ax[1].set_ylabel(r'$M_{\\operatorname{eff}}(t)$')\n",
    "ax[1].set_ylim(effM_fit_avg-20*effM_fit_err,effM_fit_avg+20*effM_fit_err)\n",
    "ax[1].errorbar([t for t in range(1,len(effM_avg)+1)], effM_avg,yerr=effM_err , \n",
    "             fmt='ko', markersize='3',label=r'cosh')\n",
    "ax[1].errorbar([t for t in range(1,len(effMcorr_avg)+1)], np.real(effMcorr_avg),yerr=effMcorr_err , \n",
    "         fmt='go', markersize='3',label=r'matrix prony')\n",
    "ax[1].add_patch(patches.Rectangle((t0,effM_fit_avg-effM_fit_err), tw+tj, 2*effM_fit_err,\n",
    "                               fill='True',facecolor='red',alpha=.5))\n",
    "ax[1].plot([t0,t0+tw+tj],[effM_fit_avg,effM_fit_avg],'k-')\n",
    "                         \n",
    "ax[1].add_patch(patches.Rectangle((tmin,effMConst_fit_avg-effMConst_fit_err), tmax-tmin, 2*effMConst_fit_err,\n",
    "                               fill='True',facecolor='blue',alpha=.5))\n",
    "ax[1].plot([tmin,tmax],[effMConst_fit_avg,effMConst_fit_avg],'k-')"
   ]
  },
  {
   "cell_type": "code",
   "execution_count": 15,
   "metadata": {},
   "outputs": [
    {
     "ename": "NameError",
     "evalue": "name 'effM_r6_sh_avg' is not defined",
     "output_type": "error",
     "traceback": [
      "\u001b[0;31m---------------------------------------------------------------------------\u001b[0m",
      "\u001b[0;31mNameError\u001b[0m                                 Traceback (most recent call last)",
      "\u001b[0;32m<ipython-input-15-c3abb0e5b413>\u001b[0m in \u001b[0;36m<module>\u001b[0;34m\u001b[0m\n\u001b[1;32m      1\u001b[0m \u001b[0mcorr_pt\u001b[0m\u001b[0;34m=\u001b[0m\u001b[0mr6_pt_folded\u001b[0m\u001b[0;34m\u001b[0m\u001b[0;34m\u001b[0m\u001b[0m\n\u001b[1;32m      2\u001b[0m \u001b[0mcorr_sh\u001b[0m\u001b[0;34m=\u001b[0m\u001b[0mr6_sh_folded\u001b[0m\u001b[0;34m\u001b[0m\u001b[0;34m\u001b[0m\u001b[0m\n\u001b[0;32m----> 3\u001b[0;31m \u001b[0meffMcorr_avg\u001b[0m \u001b[0;34m=\u001b[0m \u001b[0meffM_r6_sh_avg\u001b[0m\u001b[0;34m\u001b[0m\u001b[0;34m\u001b[0m\u001b[0m\n\u001b[0m\u001b[1;32m      4\u001b[0m \u001b[0meffMcorr_err\u001b[0m \u001b[0;34m=\u001b[0m \u001b[0meffM_Rerr_r6_sh\u001b[0m\u001b[0;34m\u001b[0m\u001b[0;34m\u001b[0m\u001b[0m\n\u001b[1;32m      5\u001b[0m \u001b[0mt0\u001b[0m\u001b[0;34m=\u001b[0m\u001b[0;36m10\u001b[0m\u001b[0;34m;\u001b[0m\u001b[0mtj\u001b[0m\u001b[0;34m=\u001b[0m\u001b[0;36m1\u001b[0m\u001b[0;34m;\u001b[0m\u001b[0mtw\u001b[0m\u001b[0;34m=\u001b[0m\u001b[0;36m10\u001b[0m\u001b[0;34m\u001b[0m\u001b[0;34m\u001b[0m\u001b[0m\n",
      "\u001b[0;31mNameError\u001b[0m: name 'effM_r6_sh_avg' is not defined"
     ]
    }
   ],
   "source": [
    "corr_pt=r6_pt_folded\n",
    "corr_sh=r6_sh_folded\n",
    "effMcorr_avg = effM_r6_sh_avg\n",
    "effMcorr_err = effM_Rerr_r6_sh\n",
    "t0=10;tj=1;tw=10\n",
    "\n",
    "# fit window\n",
    "tmin=10; tmax=tmin+10\n",
    "\n",
    "CFGS = numCfg\n",
    "NBS = 4*CFGS\n",
    "samples = np.random.randint(0, CFGS, [NBS, CFGS])\n",
    "\n",
    "effM = []\n",
    "effMCosh = []\n",
    "\n",
    "effMConst_fit = []\n",
    "\n",
    "corr0 = []\n",
    "corr1 = []\n",
    "\n",
    "for sample in range(NBS):\n",
    "    # first generate a bootstrap ensemble\n",
    "    bscorr_pt_avg = np.mean(np.array([corr_pt[cfg] for cfg in samples[sample]]), axis = 0)\n",
    "    bscorr_sh_avg = np.mean(np.array([corr_sh[cfg] for cfg in samples[sample]]), axis = 0)\n",
    "    # now get the energies and coefficients\n",
    "    M, invV = calcMandV(bscorr_pt_avg,bscorr_sh_avg,t0,tj,tw)\n",
    "    lam, q = calcEigSys(M,invV)\n",
    "    c=np.array([corr_pt[t0],corr_sh[t0]])\n",
    "    m=np.matrix([[lam[0]*q[0,0],lam[1]*q[0,1]],\n",
    "                 [lam[0]*q[1,0],lam[1]*q[1,1]]])\n",
    "    cs=np.linalg.inv(m)@c\n",
    "    alpha1=cs[0,0]*q[0,0];beta1=cs[0,1]*q[0,1]\n",
    "    alpha2=cs[0,0]*q[1,0];beta2=cs[0,1]*q[1,1]\n",
    "    effM.append(np.log(lam[1])/tj)\n",
    "    # now rotate the corelators and calculate Cosh effective mass\n",
    "    corrRotated=alpha2*bscorr_pt_avg-alpha1*bscorr_sh_avg\n",
    "    corr0.append(corrRotated)\n",
    "    corr1.append(-beta2*bscorr_pt_avg+beta1*bscorr_sh_avg)\n",
    "    eM = [np.arccosh((corrRotated[t+1]+corrRotated[t-1])/(2*corrRotated[t])) \n",
    "        for t in range(1,len(corrRotated)-1)]\n",
    "    effMCosh.append(eM)\n",
    "    # now fit effective mass\n",
    "    effMConst_fit.append(np.nanmean(np.array([eM[t] for t in range(tmin,tmax+1)])))\n",
    "\n",
    "# ok, now calculate bootstrap errors and means\n",
    "effM_fit_avg = np.nanmean(np.array(effM))\n",
    "effM_fit_err = np.nanstd(np.array(effM))\n",
    "print(\"matrix prony energy: \", effM_fit_avg,\"+/-\",effM_fit_err)\n",
    "effMConst_fit_avg = np.nanmean(np.array(effMConst_fit))\n",
    "effMConst_fit_err = np.nanstd(np.array(effMConst_fit))\n",
    "print(\"cosh energy        : \",effMConst_fit_avg,\"+/-\",effMConst_fit_err)                         \n",
    "                         \n",
    "effM_avg = np.nanmean(np.array(effMCosh), axis=0)\n",
    "effM_err = np.nanstd(np.array(effMCosh), axis=0)\n",
    "\n",
    "\n",
    "fig, ax = plt.subplots(1,2,sharex=True,figsize=(15,5))\n",
    "\n",
    "ax[0].grid(\"True\")\n",
    "ax[0].set_yscale('log')\n",
    "ax[0].set_ylim(1e-18,1e-7)\n",
    "ax[0].errorbar([t for t in range(len(corr0[0]))], np.nanmean(corr0, axis=0),yerr=np.nanstd(corr0, axis=0) , \n",
    "             fmt='ko', markersize='3',label=r'$C_0(t)$')\n",
    "ax[0].errorbar([t for t in range(len(corr1[0]))], np.nanmean(corr1, axis=0),yerr=np.nanstd(corr1, axis=0) , \n",
    "             fmt='bo', markersize='3',label=r'$C_1(t)$')\n",
    "ax[0].set_xlabel(r'$t/\\delta$')\n",
    "ax[0].set_ylabel(r'$C_{\\pm}(t)$')\n",
    "\n",
    "ax[1].set_yscale('linear')\n",
    "ax[1].grid(\"True\")\n",
    "ax[1].set_xlabel(r'$t/\\delta$')\n",
    "ax[1].set_ylabel(r'$M_{\\operatorname{eff}}(t)$')\n",
    "ax[1].set_ylim(effM_fit_avg-20*effM_fit_err,effM_fit_avg+20*effM_fit_err)\n",
    "ax[1].errorbar([t for t in range(1,len(effM_avg)+1)], effM_avg,yerr=effM_err , \n",
    "             fmt='ko', markersize='3',label=r'cosh')\n",
    "ax[1].errorbar([t for t in range(1,len(effMcorr_avg)+1)], np.real(effMcorr_avg),yerr=effMcorr_err , \n",
    "         fmt='go', markersize='3',label=r'matrix prony')\n",
    "ax[1].add_patch(patches.Rectangle((t0,effM_fit_avg-effM_fit_err), tw+tj, 2*effM_fit_err,\n",
    "                               fill='True',facecolor='red',alpha=.5))\n",
    "ax[1].plot([t0,t0+tw+tj],[effM_fit_avg,effM_fit_avg],'k-')\n",
    "                         \n",
    "ax[1].add_patch(patches.Rectangle((tmin,effMConst_fit_avg-effMConst_fit_err), tmax-tmin, 2*effMConst_fit_err,\n",
    "                               fill='True',facecolor='blue',alpha=.5))\n",
    "ax[1].plot([tmin,tmax],[effMConst_fit_avg,effMConst_fit_avg],'k-')"
   ]
  },
  {
   "cell_type": "code",
   "execution_count": 24,
   "metadata": {},
   "outputs": [
    {
     "name": "stderr",
     "output_type": "stream",
     "text": [
      "<ipython-input-24-b743fcf5360d>:40: RuntimeWarning: invalid value encountered in arccosh\n",
      "  eM = [np.arccosh((corrRotated[t+1]+corrRotated[t-1])/(2*corrRotated[t]))\n"
     ]
    },
    {
     "name": "stdout",
     "output_type": "stream",
     "text": [
      "matrix prony energy:  0.6693009421572035 +/- 0.013818395744958722\n",
      "cosh energy        :  0.6705297312140138 +/- 0.0064993363595578935\n"
     ]
    },
    {
     "data": {
      "text/plain": [
       "[<matplotlib.lines.Line2D at 0x11f2ae520>]"
      ]
     },
     "execution_count": 24,
     "metadata": {},
     "output_type": "execute_result"
    },
    {
     "data": {
      "image/png": "[encoded data removed]",
      "text/plain": [
       "<Figure size 1080x360 with 2 Axes>"
      ]
     },
     "metadata": {
      "needs_background": "light"
     },
     "output_type": "display_data"
    }
   ],
   "source": [
    "corr_pt=r15_pt_folded\n",
    "corr_sh=r15_sh_folded\n",
    "effMcorr_avg = effM_r15_sh_avg\n",
    "effMcorr_err = effM_Rerr_r15_sh\n",
    "t0=12;tj=1;tw=10\n",
    "\n",
    "# fit window\n",
    "tmin=12; tmax=tmin+10\n",
    "\n",
    "CFGS = numCfg\n",
    "NBS = 4*CFGS\n",
    "samples = np.random.randint(0, CFGS, [NBS, CFGS])\n",
    "\n",
    "effM = []\n",
    "effMCosh = []\n",
    "\n",
    "effMConst_fit = []\n",
    "\n",
    "corr0 = []\n",
    "corr1 = []\n",
    "\n",
    "for sample in range(NBS):\n",
    "    # first generate a bootstrap ensemble\n",
    "    bscorr_pt_avg = np.mean(np.array([corr_pt[cfg] for cfg in samples[sample]]), axis = 0)\n",
    "    bscorr_sh_avg = np.mean(np.array([corr_sh[cfg] for cfg in samples[sample]]), axis = 0)\n",
    "    # now get the energies and coefficients\n",
    "    M, invV = calcMandV(bscorr_pt_avg,bscorr_sh_avg,t0,tj,tw)\n",
    "    lam, q = calcEigSys(M,invV)\n",
    "    c=np.array([corr_pt[t0],corr_sh[t0]])\n",
    "    m=np.matrix([[lam[0]*q[0,0],lam[1]*q[0,1]],\n",
    "                 [lam[0]*q[1,0],lam[1]*q[1,1]]])\n",
    "    cs=np.linalg.inv(m)@c\n",
    "    alpha1=cs[0,0]*q[0,0];beta1=cs[0,1]*q[0,1]\n",
    "    alpha2=cs[0,0]*q[1,0];beta2=cs[0,1]*q[1,1]\n",
    "    effM.append(np.log(lam[1])/tj)\n",
    "    # now rotate the corelators and calculate Cosh effective mass\n",
    "    corrRotated=alpha2*bscorr_pt_avg-alpha1*bscorr_sh_avg\n",
    "    corr0.append(corrRotated)\n",
    "    corr1.append(-beta2*bscorr_pt_avg+beta1*bscorr_sh_avg)\n",
    "    eM = [np.arccosh((corrRotated[t+1]+corrRotated[t-1])/(2*corrRotated[t])) \n",
    "        for t in range(1,len(corrRotated)-1)]\n",
    "    effMCosh.append(eM)\n",
    "    # now fit effective mass\n",
    "    effMConst_fit.append(np.nanmean(np.array([eM[t] for t in range(tmin,tmax+1)])))\n",
    "\n",
    "# ok, now calculate bootstrap errors and means\n",
    "effM_fit_avg = np.nanmean(np.array(effM))\n",
    "effM_fit_err = np.nanstd(np.array(effM))\n",
    "print(\"matrix prony energy: \", effM_fit_avg,\"+/-\",effM_fit_err)\n",
    "effMConst_fit_avg = np.nanmean(np.array(effMConst_fit))\n",
    "effMConst_fit_err = np.nanstd(np.array(effMConst_fit))\n",
    "print(\"cosh energy        : \",effMConst_fit_avg,\"+/-\",effMConst_fit_err)                         \n",
    "                         \n",
    "effM_avg = np.nanmean(np.array(effMCosh), axis=0)\n",
    "effM_err = np.nanstd(np.array(effMCosh), axis=0)\n",
    "\n",
    "\n",
    "fig, ax = plt.subplots(1,2,sharex=True,figsize=(15,5))\n",
    "\n",
    "ax[0].grid(\"True\")\n",
    "ax[0].set_yscale('log')\n",
    "ax[0].set_ylim(1e-19,1e-9)\n",
    "ax[0].errorbar([t for t in range(len(corr0[0]))], np.nanmean(corr0, axis=0),yerr=np.nanstd(corr0, axis=0) , \n",
    "             fmt='ko', markersize='3',label=r'$C_0(t)$')\n",
    "ax[0].errorbar([t for t in range(len(corr1[0]))], np.nanmean(corr1, axis=0),yerr=np.nanstd(corr1, axis=0) , \n",
    "             fmt='bo', markersize='3',label=r'$C_1(t)$')\n",
    "ax[0].set_xlabel(r'$t/\\delta$')\n",
    "ax[0].set_ylabel(r'$C_{\\pm}(t)$')\n",
    "\n",
    "ax[1].set_yscale('linear')\n",
    "ax[1].grid(\"True\")\n",
    "ax[1].set_xlabel(r'$t/\\delta$')\n",
    "ax[1].set_ylabel(r'$M_{\\operatorname{eff}}(t)$')\n",
    "ax[1].set_ylim(effM_fit_avg-20*effM_fit_err,effM_fit_avg+20*effM_fit_err)\n",
    "ax[1].errorbar([t for t in range(1,len(effM_avg)+1)], effM_avg,yerr=effM_err , \n",
    "             fmt='ko', markersize='3',label=r'cosh')\n",
    "ax[1].errorbar([t for t in range(1,len(effMcorr_avg)+1)], np.real(effMcorr_avg),yerr=effMcorr_err , \n",
    "         fmt='go', markersize='3',label=r'matrix prony')\n",
    "ax[1].add_patch(patches.Rectangle((t0,effM_fit_avg-effM_fit_err), tw+tj, 2*effM_fit_err,\n",
    "                               fill='True',facecolor='red',alpha=.5))\n",
    "ax[1].plot([t0,t0+tw+tj],[effM_fit_avg,effM_fit_avg],'k-')\n",
    "                         \n",
    "ax[1].add_patch(patches.Rectangle((tmin,effMConst_fit_avg-effMConst_fit_err), tmax-tmin, 2*effMConst_fit_err,\n",
    "                               fill='True',facecolor='blue',alpha=.5))\n",
    "ax[1].plot([tmin,tmax],[effMConst_fit_avg,effMConst_fit_avg],'k-')"
   ]
  },
  {
   "cell_type": "code",
   "execution_count": 25,
   "metadata": {
    "scrolled": true
   },
   "outputs": [
    {
     "name": "stdout",
     "output_type": "stream",
     "text": [
      "[0.49510457 0.16140536]\n",
      "[0.81553838 0.51155904]\n",
      "[0.90978817 0.66355733]\n",
      "[0.92769278 0.6724065 ]\n"
     ]
    }
   ],
   "source": [
    "t0=12;tj=1;tw=10\n",
    "print(matrixPronyEnergies(qG1q_pt_folded_avg,qG1q_sh_folded_avg,t0,tj,tw))\n",
    "print(matrixPronyEnergies(QG2q_pt_folded_avg,QG2q_sh_folded_avg,t0,tj,tw))\n",
    "print(matrixPronyEnergies(r6_pt_folded_avg,r6_sh_folded_avg,t0,tj,tw))\n",
    "print(matrixPronyEnergies(r15_pt_folded_avg,r15_sh_folded_avg,t0,tj,tw))"
   ]
  },
  {
   "cell_type": "markdown",
   "metadata": {},
   "source": [
    "Ok, let's get binding energies!"
   ]
  },
  {
   "cell_type": "code",
   "execution_count": 19,
   "metadata": {},
   "outputs": [
    {
     "name": "stderr",
     "output_type": "stream",
     "text": [
      "<ipython-input-19-62808b48de01>:55: RuntimeWarning: invalid value encountered in arccosh\n",
      "  effMCosh_qq.append([np.arccosh(np.real((corrRotated[t+1]+corrRotated[t-1])/(2*corrRotated[t])))\n",
      "<ipython-input-19-62808b48de01>:73: RuntimeWarning: invalid value encountered in arccosh\n",
      "  effMCosh_Qq.append([np.arccosh(np.real((corrRotated[t+1]+corrRotated[t-1])/(2*corrRotated[t])))\n",
      "<ipython-input-19-62808b48de01>:91: RuntimeWarning: invalid value encountered in arccosh\n",
      "  effMCosh_r6.append([np.arccosh(np.real((corrRotated[t+1]+corrRotated[t-1])/(2*corrRotated[t])))\n",
      "<ipython-input-19-62808b48de01>:109: RuntimeWarning: invalid value encountered in arccosh\n",
      "  effMCosh_r15.append([np.arccosh(np.real((corrRotated[t+1]+corrRotated[t-1])/(2*corrRotated[t])))\n"
     ]
    },
    {
     "name": "stdout",
     "output_type": "stream",
     "text": [
      "$\\Delta E_{[6]}$ =  -0.010948829837137289 +/- 0.003032590647450631\n",
      "$\\Delta E_{[15]}$ =  0.009628874891361792 +/- 0.0017663763706290496\n"
     ]
    },
    {
     "name": "stderr",
     "output_type": "stream",
     "text": [
      "<ipython-input-19-62808b48de01>:126: RuntimeWarning: Mean of empty slice\n",
      "  deltaE_r6_avg = np.nanmean(np.array(deltaE_r6), axis=0)\n",
      "<ipython-input-19-62808b48de01>:128: RuntimeWarning: Mean of empty slice\n",
      "  deltaE_r15_avg = np.nanmean(np.array(deltaE_r15), axis=0)\n"
     ]
    },
    {
     "data": {
      "text/plain": [
       "<matplotlib.legend.Legend at 0x11f5e4d00>"
      ]
     },
     "execution_count": 19,
     "metadata": {},
     "output_type": "execute_result"
    },
    {
     "data": {
      "image/png": "[encoded data removed]",
      "text/plain": [
       "<Figure size 504x360 with 1 Axes>"
      ]
     },
     "metadata": {
      "needs_background": "light"
     },
     "output_type": "display_data"
    }
   ],
   "source": [
    "t0=9;tj=1;tw=10\n",
    "\n",
    "corr_qq_pt=qG1q_pt_folded\n",
    "corr_qq_sh=qG1q_sh_folded\n",
    "#t0_qq=8;tj_qq=2;tw_qq=23\n",
    "t0_qq=t0;tj_qq=tj;tw_qq=tw\n",
    "\n",
    "corr_Qq_pt=QG2q_pt_folded\n",
    "corr_Qq_sh=QG2q_sh_folded\n",
    "#t0_Qq=15;tj_Qq=2;tw_Qq=16\n",
    "t0_Qq=t0;tj_Qq=tj;tw_Qq=tw\n",
    "\n",
    "corr_r6_sh=r6_sh_folded\n",
    "corr_r6_pt=r6_pt_folded\n",
    "#t0_r6=10;tj_r6=1;tw_r6=10\n",
    "t0_r6=t0;tj_r6=tj;tw_r6=tw\n",
    "\n",
    "corr_r15_sh=r15_sh_folded\n",
    "corr_r15_pt=r15_pt_folded\n",
    "#t0_r15=10;tj_r15=2;tw_r15=5\n",
    "t0_r15=t0;tj_r15=tj;tw_r15=tw\n",
    "\n",
    "CFGS = numCfg\n",
    "NBS = 4*CFGS\n",
    "samples = np.random.randint(0, CFGS, [NBS, CFGS])\n",
    "\n",
    "effM_qq = []\n",
    "effMCosh_qq = []\n",
    "effM_Qq = []\n",
    "effMCosh_Qq = []\n",
    "effM_r6 = []\n",
    "effMCosh_r6 = []\n",
    "effM_r15 = []\n",
    "effMCosh_r15 = []\n",
    "\n",
    "deltaE_r6 = []\n",
    "deltaE_r15 = []\n",
    "\n",
    "for sample in range(NBS):\n",
    "    # first generate a bootstrap ensemble\n",
    "    bscorr_pt_avg = np.nanmean(np.array([corr_qq_pt[cfg] for cfg in samples[sample]]), axis = 0)\n",
    "    bscorr_sh_avg = np.nanmean(np.array([corr_qq_sh[cfg] for cfg in samples[sample]]), axis = 0)\n",
    "    # now get the energies and coefficients\n",
    "    M, invV = calcMandV(bscorr_pt_avg,bscorr_sh_avg,t0_qq,tj_qq,tw_qq)\n",
    "    lam, q = calcEigSys(M,invV)\n",
    "    c=np.array([corr_pt[t0_qq],corr_sh[t0_qq]])\n",
    "    m=np.matrix([[lam[0]*q[0,0],lam[1]*q[0,1]],\n",
    "                 [lam[0]*q[1,0],lam[1]*q[1,1]]])\n",
    "    cs=np.linalg.inv(m)@c\n",
    "    alpha1=cs[0,0]*q[0,0];beta1=cs[0,1]*q[0,1]\n",
    "    alpha2=cs[0,0]*q[1,0];beta2=cs[0,1]*q[1,1]\n",
    "    effM_qq.append(np.log(lam[1])/tj_qq)\n",
    "    # now rotate the corelators and calculate Cosh effective mass\n",
    "    corrRotated=alpha2*bscorr_pt_avg-alpha1*bscorr_sh_avg\n",
    "    effMCosh_qq.append([np.arccosh(np.real((corrRotated[t+1]+corrRotated[t-1])/(2*corrRotated[t]))) \n",
    "        for t in range(1,len(corrRotated)-1)])\n",
    "    \n",
    "    # first generate a bootstrap ensemble\n",
    "    bscorr_pt_avg = np.nanmean(np.array([corr_Qq_pt[cfg] for cfg in samples[sample]]), axis = 0)\n",
    "    bscorr_sh_avg = np.nanmean(np.array([corr_Qq_sh[cfg] for cfg in samples[sample]]), axis = 0)\n",
    "    # now get the energies and coefficients\n",
    "    M, invV = calcMandV(bscorr_pt_avg,bscorr_sh_avg,t0_Qq,tj_Qq,tw_Qq)\n",
    "    lam, q = calcEigSys(M,invV)\n",
    "    c=np.array([corr_pt[t0_Qq],corr_sh[t0_Qq]])\n",
    "    m=np.matrix([[lam[0]*q[0,0],lam[1]*q[0,1]],\n",
    "                 [lam[0]*q[1,0],lam[1]*q[1,1]]])\n",
    "    cs=np.linalg.inv(m)@c\n",
    "    alpha1=cs[0,0]*q[0,0];beta1=cs[0,1]*q[0,1]\n",
    "    alpha2=cs[0,0]*q[1,0];beta2=cs[0,1]*q[1,1]\n",
    "    effM_Qq.append(np.log(lam[1])/tj_Qq)\n",
    "    # now rotate the corelators and calculate Cosh effective mass\n",
    "    corrRotated=alpha2*bscorr_pt_avg-alpha1*bscorr_sh_avg\n",
    "    effMCosh_Qq.append([np.arccosh(np.real((corrRotated[t+1]+corrRotated[t-1])/(2*corrRotated[t]))) \n",
    "        for t in range(1,len(corrRotated)-1)])\n",
    "    \n",
    "    # first generate a bootstrap ensemble\n",
    "    bscorr_pt_avg = np.nanmean(np.array([corr_r6_pt[cfg] for cfg in samples[sample]]), axis = 0)\n",
    "    bscorr_sh_avg = np.nanmean(np.array([corr_r6_sh[cfg] for cfg in samples[sample]]), axis = 0)\n",
    "    # now get the energies and coefficients\n",
    "    M, invV = calcMandV(bscorr_pt_avg,bscorr_sh_avg,t0_r6,tj_r6,tw_r6)\n",
    "    lam, q = calcEigSys(M,invV)\n",
    "    c=np.array([corr_pt[t0_r6],corr_sh[t0_r6]])\n",
    "    m=np.matrix([[lam[0]*q[0,0],lam[1]*q[0,1]],\n",
    "                 [lam[0]*q[1,0],lam[1]*q[1,1]]])\n",
    "    cs=np.linalg.inv(m)@c\n",
    "    alpha1=cs[0,0]*q[0,0];beta1=cs[0,1]*q[0,1]\n",
    "    alpha2=cs[0,0]*q[1,0];beta2=cs[0,1]*q[1,1]\n",
    "    effM_r6.append(np.log(lam[1])/tj_r6)\n",
    "    # now rotate the corelators and calculate Cosh effective mass\n",
    "    corrRotated=alpha2*bscorr_pt_avg-alpha1*bscorr_sh_avg\n",
    "    effMCosh_r6.append([np.arccosh(np.real((corrRotated[t+1]+corrRotated[t-1])/(2*corrRotated[t]))) \n",
    "        for t in range(1,len(corrRotated)-1)])\n",
    "    \n",
    "    # first generate a bootstrap ensemble\n",
    "    bscorr_pt_avg = np.nanmean(np.array([corr_r15_pt[cfg] for cfg in samples[sample]]), axis = 0)\n",
    "    bscorr_sh_avg = np.nanmean(np.array([corr_r15_sh[cfg] for cfg in samples[sample]]), axis = 0)\n",
    "    # now get the energies and coefficients\n",
    "    M, invV = calcMandV(bscorr_pt_avg,bscorr_sh_avg,t0_r15,tj_r15,tw_r15)\n",
    "    lam, q = calcEigSys(M,invV)\n",
    "    c=np.array([corr_pt[t0_r15],corr_sh[t0_r15]])\n",
    "    m=np.matrix([[lam[0]*q[0,0],lam[1]*q[0,1]],\n",
    "                 [lam[0]*q[1,0],lam[1]*q[1,1]]])\n",
    "    cs=np.linalg.inv(m)@c\n",
    "    alpha1=cs[0,0]*q[0,0];beta1=cs[0,1]*q[0,1]\n",
    "    alpha2=cs[0,0]*q[1,0];beta2=cs[0,1]*q[1,1]\n",
    "    effM_r15.append(np.log(lam[1])/tj_r15)\n",
    "    # now rotate the corelators and calculate Cosh effective mass\n",
    "    corrRotated=alpha2*bscorr_pt_avg-alpha1*bscorr_sh_avg\n",
    "    effMCosh_r15.append([np.arccosh(np.real((corrRotated[t+1]+corrRotated[t-1])/(2*corrRotated[t]))) \n",
    "        for t in range(1,len(corrRotated)-1)])\n",
    "    \n",
    "    # no calculate change in energies\n",
    "    deltaE_r15.append(np.array(effMCosh_r15[len(effMCosh_r15)-1])-np.array(effMCosh_Qq[len(effMCosh_Qq)-1])\n",
    "                      -effMCosh_qq[len(effMCosh_qq)-1])\n",
    "    deltaE_r6.append(np.array(effMCosh_r6[len(effMCosh_r6)-1])-np.array(effMCosh_Qq[len(effMCosh_Qq)-1])\n",
    "                      -effMCosh_qq[len(effMCosh_qq)-1])\n",
    "    \n",
    "\n",
    "# ok, now calculate bootstrap errors and means\n",
    "deltaE_r6_fit_avg = np.nanmean(np.array(effM_r6)-np.array(effM_qq)-np.array(effM_Qq))\n",
    "deltaE_r6_fit_err = np.nanstd(np.array(effM_r6)-np.array(effM_qq)-np.array(effM_Qq))\n",
    "deltaE_r15_fit_avg = np.nanmean(np.array(effM_r15)-np.array(effM_qq)-np.array(effM_Qq))\n",
    "deltaE_r15_fit_err = np.nanstd(np.array(effM_r15)-np.array(effM_qq)-np.array(effM_Qq))\n",
    "print(r'$\\Delta E_{[6]}$ = ', deltaE_r6_fit_avg,\"+/-\",deltaE_r6_fit_err)\n",
    "print(r'$\\Delta E_{[15]}$ = ', deltaE_r15_fit_avg,\"+/-\",deltaE_r15_fit_err)\n",
    "deltaE_r6_avg = np.nanmean(np.array(deltaE_r6), axis=0)\n",
    "deltaE_r6_err = np.nanstd(np.array(deltaE_r6), axis=0)\n",
    "deltaE_r15_avg = np.nanmean(np.array(deltaE_r15), axis=0)\n",
    "deltaE_r15_err = np.nanstd(np.array(deltaE_r15), axis=0)\n",
    "\n",
    "fig, ax = plt.subplots(figsize=(7,5))\n",
    "\n",
    "ax.grid(\"True\")\n",
    "ax.set_xlabel(r'$t/a$')\n",
    "ax.set_ylabel(r'$a\\Delta E(t)$')\n",
    "#ax.set_ylim(effM_fit_avg-20*effM_fit_err,effM_fit_avg+20*effM_fit_err)\n",
    "ax.set_ylim(-.05,.1)\n",
    "ax.errorbar([t for t in range(1,len(deltaE_r6_avg)+1)], deltaE_r6_avg,yerr=deltaE_r6_err , \n",
    "             fmt='ko', markersize='3',label=r'$m_{[6]}-m_\\pi-m_D$')\n",
    "ax.plot([t0,t0+tw+tj],[deltaE_r6_fit_avg,deltaE_r6_fit_avg],'k-')\n",
    "ax.errorbar([t for t in range(1,len(deltaE_r15_avg)+1)], deltaE_r15_avg,yerr=deltaE_r15_err  , \n",
    "         fmt='bo', markersize='3',label=r'$m_{[15]}-m_\\pi-m_D$')\n",
    "ax.plot([t0,t0+tw+tj],[deltaE_r15_fit_avg,deltaE_r15_fit_avg],'k-')\n",
    "ax.add_patch(patches.Rectangle((t0,deltaE_r6_fit_avg-deltaE_r6_fit_err), tw+tj, 2*deltaE_r6_fit_err,\n",
    "                               fill='True',facecolor='red',alpha=.5))\n",
    "ax.add_patch(patches.Rectangle((t0,deltaE_r15_fit_avg-deltaE_r15_fit_err), tw+tj, 2*deltaE_r15_fit_err,\n",
    "                               fill='True',facecolor='red',alpha=.5))\n",
    "ax.legend(loc='upper right')\n",
    "#ax.set_title(rf'$\\Delta E_6=-52.7\\pm 28.6$ MeV    $m_\\pi\\sim 604$ MeV');\n",
    "#plt.savefig(\"deltaE6_ms-0.013_nx48_nt64.v2.pdf\");"
   ]
  },
  {
   "cell_type": "markdown",
   "metadata": {},
   "source": [
    "$\\frac{C_6(t)}{C_\\pi(t)C_D(t)}\\to \\mathcal{A}\\exp\\left(-(m_6-m_\\pi-m_D)t\\right)$"
   ]
  },
  {
   "cell_type": "code",
   "execution_count": 28,
   "metadata": {},
   "outputs": [
    {
     "data": {
      "image/png": "[encoded data removed]",
      "text/plain": [
       "<Figure size 1080x360 with 2 Axes>"
      ]
     },
     "metadata": {
      "needs_background": "light"
     },
     "output_type": "display_data"
    }
   ],
   "source": [
    "fig, axs = plt.subplots(nrows=1, ncols=2,figsize=(15,5))\n",
    "ax = axs[0]\n",
    "ax.errorbar([t for t in range(nt)], np.real(qG1q_sh_avg),yerr=Rerr_qG1q_sh , fmt='o', markersize='2',label=r'$\\pi$')\n",
    "ax.errorbar([t for t in range(nt)], np.real(QG2q_sh_avg),yerr=Rerr_QG2q_sh , fmt='o', markersize='2',label=r'$D$')\n",
    "ax.errorbar([t for t in range(nt)], np.real(r6_sh_avg),yerr=Rerr_r6_sh , fmt='ko', markersize='2',label=r'$[6]$')\n",
    "ax.errorbar([t for t in range(nt)], np.real(r15_sh_avg),yerr=Rerr_r15_sh , fmt='o', markersize='2',label=r'$[15]$')\n",
    "ax.set_yscale('log')\n",
    "ax.grid('True')\n",
    "ax.set_xlabel(r'$t/a$')\n",
    "ax.set_ylabel(r'$C(t)$')\n",
    "#ax.set_title('sh_sh')\n",
    "ax.legend(loc=\"best\")\n",
    "\n",
    "ax = axs[1]\n",
    "ax.grid(\"True\")\n",
    "ax.set_xlabel(r'$t/a$')\n",
    "ax.set_ylabel(r'$a\\Delta E(t)$')\n",
    "#ax.set_ylim(effM_fit_avg-20*effM_fit_err,effM_fit_avg+20*effM_fit_err)\n",
    "ax.set_ylim(-.05,.05)\n",
    "ax.errorbar([t for t in range(1,len(deltaE_r6_avg)+1)], deltaE_r6_avg,yerr=deltaE_r6_err , \n",
    "             fmt='ko', markersize='3',label=r'$m_{[6]}-m_\\pi-m_D$')\n",
    "ax.plot([t0,t0+tw+tj],[deltaE_r6_fit_avg,deltaE_r6_fit_avg],'k-')\n",
    "ax.errorbar([t for t in range(1,len(deltaE_r15_avg)+1)], deltaE_r15_avg,yerr=deltaE_r15_err  , \n",
    "         fmt='bo', markersize='3',label=r'$m_{[15]}-m_\\pi-m_D$')\n",
    "#ax.plot([t0,t0+tw+tj],[deltaE_r15_fit_avg,deltaE_r15_fit_avg],'k-')\n",
    "ax.add_patch(patches.Rectangle((t0,deltaE_r6_fit_avg-deltaE_r6_fit_err), tw+tj, 2*deltaE_r6_fit_err,\n",
    "                               fill='True',facecolor='red',alpha=.5))\n",
    "#ax.add_patch(patches.Rectangle((t0,deltaE_r15_fit_avg-deltaE_r15_fit_err), tw+tj, 2*deltaE_r15_fit_err,\n",
    "#                               fill='True',facecolor='red',alpha=.5))\n",
    "ax.legend(loc='best')\n",
    "plt.savefig('statusReportPlot.pdf');"
   ]
  },
  {
   "cell_type": "code",
   "execution_count": null,
   "metadata": {},
   "outputs": [],
   "source": []
  }
 ],
 "metadata": {
  "kernelspec": {
   "display_name": "Python 3 (ipykernel)",
   "language": "python",
   "name": "python3"
  },
  "language_info": {
   "codemirror_mode": {
    "name": "ipython",
    "version": 3
   },
   "file_extension": ".py",
   "mimetype": "text/x-python",
   "name": "python",
   "nbconvert_exporter": "python",
   "pygments_lexer": "ipython3",
   "version": "3.9.7"
  }
 },
 "nbformat": 4,
 "nbformat_minor": 4
}
